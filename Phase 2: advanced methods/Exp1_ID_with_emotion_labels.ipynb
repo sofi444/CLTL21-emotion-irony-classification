{
  "nbformat": 4,
  "nbformat_minor": 0,
  "metadata": {
    "colab": {
      "name": "Exp1-ID_with_emotion_labels.ipynb",
      "provenance": [],
      "collapsed_sections": [
        "9HQJ-hzxYywD",
        "CF44-09--ftL",
        "fSBZh9C8xF9B",
        "nU5Mzpo15Qfu",
        "YFN47ZM3fTUb",
        "x780FVL3dFej",
        "Ow0ABg0xZNib",
        "THZ5X3_8ZNic"
      ],
      "toc_visible": true
    },
    "kernelspec": {
      "name": "python3",
      "display_name": "Python 3"
    },
    "language_info": {
      "name": "python"
    },
    "accelerator": "GPU",
    "widgets": {
      "application/vnd.jupyter.widget-state+json": {
        "3e3c9f004d9542ff8fcc3470f049fda8": {
          "model_module": "@jupyter-widgets/controls",
          "model_name": "HBoxModel",
          "state": {
            "_view_name": "HBoxView",
            "_dom_classes": [],
            "_model_name": "HBoxModel",
            "_view_module": "@jupyter-widgets/controls",
            "_model_module_version": "1.5.0",
            "_view_count": null,
            "_view_module_version": "1.5.0",
            "box_style": "",
            "layout": "IPY_MODEL_09258281d96a4fc29f4a977f753b9a49",
            "_model_module": "@jupyter-widgets/controls",
            "children": [
              "IPY_MODEL_b36a7e85f9c24269ae50cdcc46e896bb",
              "IPY_MODEL_701bcccf2144411cb35f6e8b01cf1540"
            ]
          }
        },
        "09258281d96a4fc29f4a977f753b9a49": {
          "model_module": "@jupyter-widgets/base",
          "model_name": "LayoutModel",
          "state": {
            "_view_name": "LayoutView",
            "grid_template_rows": null,
            "right": null,
            "justify_content": null,
            "_view_module": "@jupyter-widgets/base",
            "overflow": null,
            "_model_module_version": "1.2.0",
            "_view_count": null,
            "flex_flow": null,
            "width": null,
            "min_width": null,
            "border": null,
            "align_items": null,
            "bottom": null,
            "_model_module": "@jupyter-widgets/base",
            "top": null,
            "grid_column": null,
            "overflow_y": null,
            "overflow_x": null,
            "grid_auto_flow": null,
            "grid_area": null,
            "grid_template_columns": null,
            "flex": null,
            "_model_name": "LayoutModel",
            "justify_items": null,
            "grid_row": null,
            "max_height": null,
            "align_content": null,
            "visibility": null,
            "align_self": null,
            "height": null,
            "min_height": null,
            "padding": null,
            "grid_auto_rows": null,
            "grid_gap": null,
            "max_width": null,
            "order": null,
            "_view_module_version": "1.2.0",
            "grid_template_areas": null,
            "object_position": null,
            "object_fit": null,
            "grid_auto_columns": null,
            "margin": null,
            "display": null,
            "left": null
          }
        },
        "b36a7e85f9c24269ae50cdcc46e896bb": {
          "model_module": "@jupyter-widgets/controls",
          "model_name": "FloatProgressModel",
          "state": {
            "_view_name": "ProgressView",
            "style": "IPY_MODEL_2e2e2775e9bc43ce963aa18cf099e3e2",
            "_dom_classes": [],
            "description": "Downloading: 100%",
            "_model_name": "FloatProgressModel",
            "bar_style": "success",
            "max": 898823,
            "_view_module": "@jupyter-widgets/controls",
            "_model_module_version": "1.5.0",
            "value": 898823,
            "_view_count": null,
            "_view_module_version": "1.5.0",
            "orientation": "horizontal",
            "min": 0,
            "description_tooltip": null,
            "_model_module": "@jupyter-widgets/controls",
            "layout": "IPY_MODEL_e78075fccbbd4b6da9fe84c89b9dadad"
          }
        },
        "701bcccf2144411cb35f6e8b01cf1540": {
          "model_module": "@jupyter-widgets/controls",
          "model_name": "HTMLModel",
          "state": {
            "_view_name": "HTMLView",
            "style": "IPY_MODEL_ce14fa7eba3c4c28b2de7dea62695f99",
            "_dom_classes": [],
            "description": "",
            "_model_name": "HTMLModel",
            "placeholder": "​",
            "_view_module": "@jupyter-widgets/controls",
            "_model_module_version": "1.5.0",
            "value": " 899k/899k [00:00&lt;00:00, 2.93MB/s]",
            "_view_count": null,
            "_view_module_version": "1.5.0",
            "description_tooltip": null,
            "_model_module": "@jupyter-widgets/controls",
            "layout": "IPY_MODEL_911ad274a5164ff99404b14663cd29a6"
          }
        },
        "2e2e2775e9bc43ce963aa18cf099e3e2": {
          "model_module": "@jupyter-widgets/controls",
          "model_name": "ProgressStyleModel",
          "state": {
            "_view_name": "StyleView",
            "_model_name": "ProgressStyleModel",
            "description_width": "initial",
            "_view_module": "@jupyter-widgets/base",
            "_model_module_version": "1.5.0",
            "_view_count": null,
            "_view_module_version": "1.2.0",
            "bar_color": null,
            "_model_module": "@jupyter-widgets/controls"
          }
        },
        "e78075fccbbd4b6da9fe84c89b9dadad": {
          "model_module": "@jupyter-widgets/base",
          "model_name": "LayoutModel",
          "state": {
            "_view_name": "LayoutView",
            "grid_template_rows": null,
            "right": null,
            "justify_content": null,
            "_view_module": "@jupyter-widgets/base",
            "overflow": null,
            "_model_module_version": "1.2.0",
            "_view_count": null,
            "flex_flow": null,
            "width": null,
            "min_width": null,
            "border": null,
            "align_items": null,
            "bottom": null,
            "_model_module": "@jupyter-widgets/base",
            "top": null,
            "grid_column": null,
            "overflow_y": null,
            "overflow_x": null,
            "grid_auto_flow": null,
            "grid_area": null,
            "grid_template_columns": null,
            "flex": null,
            "_model_name": "LayoutModel",
            "justify_items": null,
            "grid_row": null,
            "max_height": null,
            "align_content": null,
            "visibility": null,
            "align_self": null,
            "height": null,
            "min_height": null,
            "padding": null,
            "grid_auto_rows": null,
            "grid_gap": null,
            "max_width": null,
            "order": null,
            "_view_module_version": "1.2.0",
            "grid_template_areas": null,
            "object_position": null,
            "object_fit": null,
            "grid_auto_columns": null,
            "margin": null,
            "display": null,
            "left": null
          }
        },
        "ce14fa7eba3c4c28b2de7dea62695f99": {
          "model_module": "@jupyter-widgets/controls",
          "model_name": "DescriptionStyleModel",
          "state": {
            "_view_name": "StyleView",
            "_model_name": "DescriptionStyleModel",
            "description_width": "",
            "_view_module": "@jupyter-widgets/base",
            "_model_module_version": "1.5.0",
            "_view_count": null,
            "_view_module_version": "1.2.0",
            "_model_module": "@jupyter-widgets/controls"
          }
        },
        "911ad274a5164ff99404b14663cd29a6": {
          "model_module": "@jupyter-widgets/base",
          "model_name": "LayoutModel",
          "state": {
            "_view_name": "LayoutView",
            "grid_template_rows": null,
            "right": null,
            "justify_content": null,
            "_view_module": "@jupyter-widgets/base",
            "overflow": null,
            "_model_module_version": "1.2.0",
            "_view_count": null,
            "flex_flow": null,
            "width": null,
            "min_width": null,
            "border": null,
            "align_items": null,
            "bottom": null,
            "_model_module": "@jupyter-widgets/base",
            "top": null,
            "grid_column": null,
            "overflow_y": null,
            "overflow_x": null,
            "grid_auto_flow": null,
            "grid_area": null,
            "grid_template_columns": null,
            "flex": null,
            "_model_name": "LayoutModel",
            "justify_items": null,
            "grid_row": null,
            "max_height": null,
            "align_content": null,
            "visibility": null,
            "align_self": null,
            "height": null,
            "min_height": null,
            "padding": null,
            "grid_auto_rows": null,
            "grid_gap": null,
            "max_width": null,
            "order": null,
            "_view_module_version": "1.2.0",
            "grid_template_areas": null,
            "object_position": null,
            "object_fit": null,
            "grid_auto_columns": null,
            "margin": null,
            "display": null,
            "left": null
          }
        },
        "6434ee3eda994ec8bd56e599fc6ff739": {
          "model_module": "@jupyter-widgets/controls",
          "model_name": "HBoxModel",
          "state": {
            "_view_name": "HBoxView",
            "_dom_classes": [],
            "_model_name": "HBoxModel",
            "_view_module": "@jupyter-widgets/controls",
            "_model_module_version": "1.5.0",
            "_view_count": null,
            "_view_module_version": "1.5.0",
            "box_style": "",
            "layout": "IPY_MODEL_ec501e51bc804757ba3890ce12421b7f",
            "_model_module": "@jupyter-widgets/controls",
            "children": [
              "IPY_MODEL_079a01dcde72464487c91077937e888e",
              "IPY_MODEL_240b6c0514da4b339c6f0a9f4adce61b"
            ]
          }
        },
        "ec501e51bc804757ba3890ce12421b7f": {
          "model_module": "@jupyter-widgets/base",
          "model_name": "LayoutModel",
          "state": {
            "_view_name": "LayoutView",
            "grid_template_rows": null,
            "right": null,
            "justify_content": null,
            "_view_module": "@jupyter-widgets/base",
            "overflow": null,
            "_model_module_version": "1.2.0",
            "_view_count": null,
            "flex_flow": null,
            "width": null,
            "min_width": null,
            "border": null,
            "align_items": null,
            "bottom": null,
            "_model_module": "@jupyter-widgets/base",
            "top": null,
            "grid_column": null,
            "overflow_y": null,
            "overflow_x": null,
            "grid_auto_flow": null,
            "grid_area": null,
            "grid_template_columns": null,
            "flex": null,
            "_model_name": "LayoutModel",
            "justify_items": null,
            "grid_row": null,
            "max_height": null,
            "align_content": null,
            "visibility": null,
            "align_self": null,
            "height": null,
            "min_height": null,
            "padding": null,
            "grid_auto_rows": null,
            "grid_gap": null,
            "max_width": null,
            "order": null,
            "_view_module_version": "1.2.0",
            "grid_template_areas": null,
            "object_position": null,
            "object_fit": null,
            "grid_auto_columns": null,
            "margin": null,
            "display": null,
            "left": null
          }
        },
        "079a01dcde72464487c91077937e888e": {
          "model_module": "@jupyter-widgets/controls",
          "model_name": "FloatProgressModel",
          "state": {
            "_view_name": "ProgressView",
            "style": "IPY_MODEL_3ce91dca47574e01a4532eb4454624bc",
            "_dom_classes": [],
            "description": "Downloading: 100%",
            "_model_name": "FloatProgressModel",
            "bar_style": "success",
            "max": 456318,
            "_view_module": "@jupyter-widgets/controls",
            "_model_module_version": "1.5.0",
            "value": 456318,
            "_view_count": null,
            "_view_module_version": "1.5.0",
            "orientation": "horizontal",
            "min": 0,
            "description_tooltip": null,
            "_model_module": "@jupyter-widgets/controls",
            "layout": "IPY_MODEL_44b15858016948858b1f281d0399f032"
          }
        },
        "240b6c0514da4b339c6f0a9f4adce61b": {
          "model_module": "@jupyter-widgets/controls",
          "model_name": "HTMLModel",
          "state": {
            "_view_name": "HTMLView",
            "style": "IPY_MODEL_7115cb8fa9ec40f0a39104cd4df2b954",
            "_dom_classes": [],
            "description": "",
            "_model_name": "HTMLModel",
            "placeholder": "​",
            "_view_module": "@jupyter-widgets/controls",
            "_model_module_version": "1.5.0",
            "value": " 456k/456k [00:00&lt;00:00, 599kB/s]",
            "_view_count": null,
            "_view_module_version": "1.5.0",
            "description_tooltip": null,
            "_model_module": "@jupyter-widgets/controls",
            "layout": "IPY_MODEL_19f5bf48f4bb4df39fd16e1bb27b1d64"
          }
        },
        "3ce91dca47574e01a4532eb4454624bc": {
          "model_module": "@jupyter-widgets/controls",
          "model_name": "ProgressStyleModel",
          "state": {
            "_view_name": "StyleView",
            "_model_name": "ProgressStyleModel",
            "description_width": "initial",
            "_view_module": "@jupyter-widgets/base",
            "_model_module_version": "1.5.0",
            "_view_count": null,
            "_view_module_version": "1.2.0",
            "bar_color": null,
            "_model_module": "@jupyter-widgets/controls"
          }
        },
        "44b15858016948858b1f281d0399f032": {
          "model_module": "@jupyter-widgets/base",
          "model_name": "LayoutModel",
          "state": {
            "_view_name": "LayoutView",
            "grid_template_rows": null,
            "right": null,
            "justify_content": null,
            "_view_module": "@jupyter-widgets/base",
            "overflow": null,
            "_model_module_version": "1.2.0",
            "_view_count": null,
            "flex_flow": null,
            "width": null,
            "min_width": null,
            "border": null,
            "align_items": null,
            "bottom": null,
            "_model_module": "@jupyter-widgets/base",
            "top": null,
            "grid_column": null,
            "overflow_y": null,
            "overflow_x": null,
            "grid_auto_flow": null,
            "grid_area": null,
            "grid_template_columns": null,
            "flex": null,
            "_model_name": "LayoutModel",
            "justify_items": null,
            "grid_row": null,
            "max_height": null,
            "align_content": null,
            "visibility": null,
            "align_self": null,
            "height": null,
            "min_height": null,
            "padding": null,
            "grid_auto_rows": null,
            "grid_gap": null,
            "max_width": null,
            "order": null,
            "_view_module_version": "1.2.0",
            "grid_template_areas": null,
            "object_position": null,
            "object_fit": null,
            "grid_auto_columns": null,
            "margin": null,
            "display": null,
            "left": null
          }
        },
        "7115cb8fa9ec40f0a39104cd4df2b954": {
          "model_module": "@jupyter-widgets/controls",
          "model_name": "DescriptionStyleModel",
          "state": {
            "_view_name": "StyleView",
            "_model_name": "DescriptionStyleModel",
            "description_width": "",
            "_view_module": "@jupyter-widgets/base",
            "_model_module_version": "1.5.0",
            "_view_count": null,
            "_view_module_version": "1.2.0",
            "_model_module": "@jupyter-widgets/controls"
          }
        },
        "19f5bf48f4bb4df39fd16e1bb27b1d64": {
          "model_module": "@jupyter-widgets/base",
          "model_name": "LayoutModel",
          "state": {
            "_view_name": "LayoutView",
            "grid_template_rows": null,
            "right": null,
            "justify_content": null,
            "_view_module": "@jupyter-widgets/base",
            "overflow": null,
            "_model_module_version": "1.2.0",
            "_view_count": null,
            "flex_flow": null,
            "width": null,
            "min_width": null,
            "border": null,
            "align_items": null,
            "bottom": null,
            "_model_module": "@jupyter-widgets/base",
            "top": null,
            "grid_column": null,
            "overflow_y": null,
            "overflow_x": null,
            "grid_auto_flow": null,
            "grid_area": null,
            "grid_template_columns": null,
            "flex": null,
            "_model_name": "LayoutModel",
            "justify_items": null,
            "grid_row": null,
            "max_height": null,
            "align_content": null,
            "visibility": null,
            "align_self": null,
            "height": null,
            "min_height": null,
            "padding": null,
            "grid_auto_rows": null,
            "grid_gap": null,
            "max_width": null,
            "order": null,
            "_view_module_version": "1.2.0",
            "grid_template_areas": null,
            "object_position": null,
            "object_fit": null,
            "grid_auto_columns": null,
            "margin": null,
            "display": null,
            "left": null
          }
        },
        "974401e83f1e4e48b4122d3517dcb703": {
          "model_module": "@jupyter-widgets/controls",
          "model_name": "HBoxModel",
          "state": {
            "_view_name": "HBoxView",
            "_dom_classes": [],
            "_model_name": "HBoxModel",
            "_view_module": "@jupyter-widgets/controls",
            "_model_module_version": "1.5.0",
            "_view_count": null,
            "_view_module_version": "1.5.0",
            "box_style": "",
            "layout": "IPY_MODEL_bf71fcf259e447bf8801559f09d97cd5",
            "_model_module": "@jupyter-widgets/controls",
            "children": [
              "IPY_MODEL_6f2f3350562040b083fd6163a6c8234c",
              "IPY_MODEL_a2be8c4037694c2cbe9becc6d54e312a"
            ]
          }
        },
        "bf71fcf259e447bf8801559f09d97cd5": {
          "model_module": "@jupyter-widgets/base",
          "model_name": "LayoutModel",
          "state": {
            "_view_name": "LayoutView",
            "grid_template_rows": null,
            "right": null,
            "justify_content": null,
            "_view_module": "@jupyter-widgets/base",
            "overflow": null,
            "_model_module_version": "1.2.0",
            "_view_count": null,
            "flex_flow": null,
            "width": null,
            "min_width": null,
            "border": null,
            "align_items": null,
            "bottom": null,
            "_model_module": "@jupyter-widgets/base",
            "top": null,
            "grid_column": null,
            "overflow_y": null,
            "overflow_x": null,
            "grid_auto_flow": null,
            "grid_area": null,
            "grid_template_columns": null,
            "flex": null,
            "_model_name": "LayoutModel",
            "justify_items": null,
            "grid_row": null,
            "max_height": null,
            "align_content": null,
            "visibility": null,
            "align_self": null,
            "height": null,
            "min_height": null,
            "padding": null,
            "grid_auto_rows": null,
            "grid_gap": null,
            "max_width": null,
            "order": null,
            "_view_module_version": "1.2.0",
            "grid_template_areas": null,
            "object_position": null,
            "object_fit": null,
            "grid_auto_columns": null,
            "margin": null,
            "display": null,
            "left": null
          }
        },
        "6f2f3350562040b083fd6163a6c8234c": {
          "model_module": "@jupyter-widgets/controls",
          "model_name": "FloatProgressModel",
          "state": {
            "_view_name": "ProgressView",
            "style": "IPY_MODEL_097566b3d92e47999da8cad0bf9d2487",
            "_dom_classes": [],
            "description": "Downloading: 100%",
            "_model_name": "FloatProgressModel",
            "bar_style": "success",
            "max": 1355863,
            "_view_module": "@jupyter-widgets/controls",
            "_model_module_version": "1.5.0",
            "value": 1355863,
            "_view_count": null,
            "_view_module_version": "1.5.0",
            "orientation": "horizontal",
            "min": 0,
            "description_tooltip": null,
            "_model_module": "@jupyter-widgets/controls",
            "layout": "IPY_MODEL_a0b9ff913d0b4b32b3420038dcc4b1a7"
          }
        },
        "a2be8c4037694c2cbe9becc6d54e312a": {
          "model_module": "@jupyter-widgets/controls",
          "model_name": "HTMLModel",
          "state": {
            "_view_name": "HTMLView",
            "style": "IPY_MODEL_1a45418e59a542b294d8b829799e9693",
            "_dom_classes": [],
            "description": "",
            "_model_name": "HTMLModel",
            "placeholder": "​",
            "_view_module": "@jupyter-widgets/controls",
            "_model_module_version": "1.5.0",
            "value": " 1.36M/1.36M [00:00&lt;00:00, 4.00MB/s]",
            "_view_count": null,
            "_view_module_version": "1.5.0",
            "description_tooltip": null,
            "_model_module": "@jupyter-widgets/controls",
            "layout": "IPY_MODEL_0c5a073fdeef4d6daec9b2d9147588ab"
          }
        },
        "097566b3d92e47999da8cad0bf9d2487": {
          "model_module": "@jupyter-widgets/controls",
          "model_name": "ProgressStyleModel",
          "state": {
            "_view_name": "StyleView",
            "_model_name": "ProgressStyleModel",
            "description_width": "initial",
            "_view_module": "@jupyter-widgets/base",
            "_model_module_version": "1.5.0",
            "_view_count": null,
            "_view_module_version": "1.2.0",
            "bar_color": null,
            "_model_module": "@jupyter-widgets/controls"
          }
        },
        "a0b9ff913d0b4b32b3420038dcc4b1a7": {
          "model_module": "@jupyter-widgets/base",
          "model_name": "LayoutModel",
          "state": {
            "_view_name": "LayoutView",
            "grid_template_rows": null,
            "right": null,
            "justify_content": null,
            "_view_module": "@jupyter-widgets/base",
            "overflow": null,
            "_model_module_version": "1.2.0",
            "_view_count": null,
            "flex_flow": null,
            "width": null,
            "min_width": null,
            "border": null,
            "align_items": null,
            "bottom": null,
            "_model_module": "@jupyter-widgets/base",
            "top": null,
            "grid_column": null,
            "overflow_y": null,
            "overflow_x": null,
            "grid_auto_flow": null,
            "grid_area": null,
            "grid_template_columns": null,
            "flex": null,
            "_model_name": "LayoutModel",
            "justify_items": null,
            "grid_row": null,
            "max_height": null,
            "align_content": null,
            "visibility": null,
            "align_self": null,
            "height": null,
            "min_height": null,
            "padding": null,
            "grid_auto_rows": null,
            "grid_gap": null,
            "max_width": null,
            "order": null,
            "_view_module_version": "1.2.0",
            "grid_template_areas": null,
            "object_position": null,
            "object_fit": null,
            "grid_auto_columns": null,
            "margin": null,
            "display": null,
            "left": null
          }
        },
        "1a45418e59a542b294d8b829799e9693": {
          "model_module": "@jupyter-widgets/controls",
          "model_name": "DescriptionStyleModel",
          "state": {
            "_view_name": "StyleView",
            "_model_name": "DescriptionStyleModel",
            "description_width": "",
            "_view_module": "@jupyter-widgets/base",
            "_model_module_version": "1.5.0",
            "_view_count": null,
            "_view_module_version": "1.2.0",
            "_model_module": "@jupyter-widgets/controls"
          }
        },
        "0c5a073fdeef4d6daec9b2d9147588ab": {
          "model_module": "@jupyter-widgets/base",
          "model_name": "LayoutModel",
          "state": {
            "_view_name": "LayoutView",
            "grid_template_rows": null,
            "right": null,
            "justify_content": null,
            "_view_module": "@jupyter-widgets/base",
            "overflow": null,
            "_model_module_version": "1.2.0",
            "_view_count": null,
            "flex_flow": null,
            "width": null,
            "min_width": null,
            "border": null,
            "align_items": null,
            "bottom": null,
            "_model_module": "@jupyter-widgets/base",
            "top": null,
            "grid_column": null,
            "overflow_y": null,
            "overflow_x": null,
            "grid_auto_flow": null,
            "grid_area": null,
            "grid_template_columns": null,
            "flex": null,
            "_model_name": "LayoutModel",
            "justify_items": null,
            "grid_row": null,
            "max_height": null,
            "align_content": null,
            "visibility": null,
            "align_self": null,
            "height": null,
            "min_height": null,
            "padding": null,
            "grid_auto_rows": null,
            "grid_gap": null,
            "max_width": null,
            "order": null,
            "_view_module_version": "1.2.0",
            "grid_template_areas": null,
            "object_position": null,
            "object_fit": null,
            "grid_auto_columns": null,
            "margin": null,
            "display": null,
            "left": null
          }
        },
        "7d2deca1b85d48e3a008a4dcfe660879": {
          "model_module": "@jupyter-widgets/controls",
          "model_name": "HBoxModel",
          "state": {
            "_view_name": "HBoxView",
            "_dom_classes": [],
            "_model_name": "HBoxModel",
            "_view_module": "@jupyter-widgets/controls",
            "_model_module_version": "1.5.0",
            "_view_count": null,
            "_view_module_version": "1.5.0",
            "box_style": "",
            "layout": "IPY_MODEL_f714689aec85419cb8670b2dd3c5581e",
            "_model_module": "@jupyter-widgets/controls",
            "children": [
              "IPY_MODEL_6a9469e01b7a43adabc35a38ab09b614",
              "IPY_MODEL_43df2450b4b34f0297dbd7293321e9d8"
            ]
          }
        },
        "f714689aec85419cb8670b2dd3c5581e": {
          "model_module": "@jupyter-widgets/base",
          "model_name": "LayoutModel",
          "state": {
            "_view_name": "LayoutView",
            "grid_template_rows": null,
            "right": null,
            "justify_content": null,
            "_view_module": "@jupyter-widgets/base",
            "overflow": null,
            "_model_module_version": "1.2.0",
            "_view_count": null,
            "flex_flow": null,
            "width": null,
            "min_width": null,
            "border": null,
            "align_items": null,
            "bottom": null,
            "_model_module": "@jupyter-widgets/base",
            "top": null,
            "grid_column": null,
            "overflow_y": null,
            "overflow_x": null,
            "grid_auto_flow": null,
            "grid_area": null,
            "grid_template_columns": null,
            "flex": null,
            "_model_name": "LayoutModel",
            "justify_items": null,
            "grid_row": null,
            "max_height": null,
            "align_content": null,
            "visibility": null,
            "align_self": null,
            "height": null,
            "min_height": null,
            "padding": null,
            "grid_auto_rows": null,
            "grid_gap": null,
            "max_width": null,
            "order": null,
            "_view_module_version": "1.2.0",
            "grid_template_areas": null,
            "object_position": null,
            "object_fit": null,
            "grid_auto_columns": null,
            "margin": null,
            "display": null,
            "left": null
          }
        },
        "6a9469e01b7a43adabc35a38ab09b614": {
          "model_module": "@jupyter-widgets/controls",
          "model_name": "FloatProgressModel",
          "state": {
            "_view_name": "ProgressView",
            "style": "IPY_MODEL_987962e25869422d9a3e1e3e8f5a8a1b",
            "_dom_classes": [],
            "description": "Downloading: 100%",
            "_model_name": "FloatProgressModel",
            "bar_style": "success",
            "max": 898823,
            "_view_module": "@jupyter-widgets/controls",
            "_model_module_version": "1.5.0",
            "value": 898823,
            "_view_count": null,
            "_view_module_version": "1.5.0",
            "orientation": "horizontal",
            "min": 0,
            "description_tooltip": null,
            "_model_module": "@jupyter-widgets/controls",
            "layout": "IPY_MODEL_e3e93e49181b4583b9ed8796ed9155ef"
          }
        },
        "43df2450b4b34f0297dbd7293321e9d8": {
          "model_module": "@jupyter-widgets/controls",
          "model_name": "HTMLModel",
          "state": {
            "_view_name": "HTMLView",
            "style": "IPY_MODEL_2606a1a389394523ae021cb76342445f",
            "_dom_classes": [],
            "description": "",
            "_model_name": "HTMLModel",
            "placeholder": "​",
            "_view_module": "@jupyter-widgets/controls",
            "_model_module_version": "1.5.0",
            "value": " 899k/899k [00:00&lt;00:00, 1.16MB/s]",
            "_view_count": null,
            "_view_module_version": "1.5.0",
            "description_tooltip": null,
            "_model_module": "@jupyter-widgets/controls",
            "layout": "IPY_MODEL_4f6258a85b914ac3be275b93366f8565"
          }
        },
        "987962e25869422d9a3e1e3e8f5a8a1b": {
          "model_module": "@jupyter-widgets/controls",
          "model_name": "ProgressStyleModel",
          "state": {
            "_view_name": "StyleView",
            "_model_name": "ProgressStyleModel",
            "description_width": "initial",
            "_view_module": "@jupyter-widgets/base",
            "_model_module_version": "1.5.0",
            "_view_count": null,
            "_view_module_version": "1.2.0",
            "bar_color": null,
            "_model_module": "@jupyter-widgets/controls"
          }
        },
        "e3e93e49181b4583b9ed8796ed9155ef": {
          "model_module": "@jupyter-widgets/base",
          "model_name": "LayoutModel",
          "state": {
            "_view_name": "LayoutView",
            "grid_template_rows": null,
            "right": null,
            "justify_content": null,
            "_view_module": "@jupyter-widgets/base",
            "overflow": null,
            "_model_module_version": "1.2.0",
            "_view_count": null,
            "flex_flow": null,
            "width": null,
            "min_width": null,
            "border": null,
            "align_items": null,
            "bottom": null,
            "_model_module": "@jupyter-widgets/base",
            "top": null,
            "grid_column": null,
            "overflow_y": null,
            "overflow_x": null,
            "grid_auto_flow": null,
            "grid_area": null,
            "grid_template_columns": null,
            "flex": null,
            "_model_name": "LayoutModel",
            "justify_items": null,
            "grid_row": null,
            "max_height": null,
            "align_content": null,
            "visibility": null,
            "align_self": null,
            "height": null,
            "min_height": null,
            "padding": null,
            "grid_auto_rows": null,
            "grid_gap": null,
            "max_width": null,
            "order": null,
            "_view_module_version": "1.2.0",
            "grid_template_areas": null,
            "object_position": null,
            "object_fit": null,
            "grid_auto_columns": null,
            "margin": null,
            "display": null,
            "left": null
          }
        },
        "2606a1a389394523ae021cb76342445f": {
          "model_module": "@jupyter-widgets/controls",
          "model_name": "DescriptionStyleModel",
          "state": {
            "_view_name": "StyleView",
            "_model_name": "DescriptionStyleModel",
            "description_width": "",
            "_view_module": "@jupyter-widgets/base",
            "_model_module_version": "1.5.0",
            "_view_count": null,
            "_view_module_version": "1.2.0",
            "_model_module": "@jupyter-widgets/controls"
          }
        },
        "4f6258a85b914ac3be275b93366f8565": {
          "model_module": "@jupyter-widgets/base",
          "model_name": "LayoutModel",
          "state": {
            "_view_name": "LayoutView",
            "grid_template_rows": null,
            "right": null,
            "justify_content": null,
            "_view_module": "@jupyter-widgets/base",
            "overflow": null,
            "_model_module_version": "1.2.0",
            "_view_count": null,
            "flex_flow": null,
            "width": null,
            "min_width": null,
            "border": null,
            "align_items": null,
            "bottom": null,
            "_model_module": "@jupyter-widgets/base",
            "top": null,
            "grid_column": null,
            "overflow_y": null,
            "overflow_x": null,
            "grid_auto_flow": null,
            "grid_area": null,
            "grid_template_columns": null,
            "flex": null,
            "_model_name": "LayoutModel",
            "justify_items": null,
            "grid_row": null,
            "max_height": null,
            "align_content": null,
            "visibility": null,
            "align_self": null,
            "height": null,
            "min_height": null,
            "padding": null,
            "grid_auto_rows": null,
            "grid_gap": null,
            "max_width": null,
            "order": null,
            "_view_module_version": "1.2.0",
            "grid_template_areas": null,
            "object_position": null,
            "object_fit": null,
            "grid_auto_columns": null,
            "margin": null,
            "display": null,
            "left": null
          }
        },
        "cf3f1a43ef6841a69e72ebfe07d6a65d": {
          "model_module": "@jupyter-widgets/controls",
          "model_name": "HBoxModel",
          "state": {
            "_view_name": "HBoxView",
            "_dom_classes": [],
            "_model_name": "HBoxModel",
            "_view_module": "@jupyter-widgets/controls",
            "_model_module_version": "1.5.0",
            "_view_count": null,
            "_view_module_version": "1.5.0",
            "box_style": "",
            "layout": "IPY_MODEL_75e25979b278494898ad1444f95dfa31",
            "_model_module": "@jupyter-widgets/controls",
            "children": [
              "IPY_MODEL_5ea7767e4db649a2bd315cd4cc3235ce",
              "IPY_MODEL_6a0e6fdf0c8242b6bcca113b2c4abec7"
            ]
          }
        },
        "75e25979b278494898ad1444f95dfa31": {
          "model_module": "@jupyter-widgets/base",
          "model_name": "LayoutModel",
          "state": {
            "_view_name": "LayoutView",
            "grid_template_rows": null,
            "right": null,
            "justify_content": null,
            "_view_module": "@jupyter-widgets/base",
            "overflow": null,
            "_model_module_version": "1.2.0",
            "_view_count": null,
            "flex_flow": null,
            "width": null,
            "min_width": null,
            "border": null,
            "align_items": null,
            "bottom": null,
            "_model_module": "@jupyter-widgets/base",
            "top": null,
            "grid_column": null,
            "overflow_y": null,
            "overflow_x": null,
            "grid_auto_flow": null,
            "grid_area": null,
            "grid_template_columns": null,
            "flex": null,
            "_model_name": "LayoutModel",
            "justify_items": null,
            "grid_row": null,
            "max_height": null,
            "align_content": null,
            "visibility": null,
            "align_self": null,
            "height": null,
            "min_height": null,
            "padding": null,
            "grid_auto_rows": null,
            "grid_gap": null,
            "max_width": null,
            "order": null,
            "_view_module_version": "1.2.0",
            "grid_template_areas": null,
            "object_position": null,
            "object_fit": null,
            "grid_auto_columns": null,
            "margin": null,
            "display": null,
            "left": null
          }
        },
        "5ea7767e4db649a2bd315cd4cc3235ce": {
          "model_module": "@jupyter-widgets/controls",
          "model_name": "FloatProgressModel",
          "state": {
            "_view_name": "ProgressView",
            "style": "IPY_MODEL_0ab5362722ff442d91850a9292d9a4fe",
            "_dom_classes": [],
            "description": "Downloading: 100%",
            "_model_name": "FloatProgressModel",
            "bar_style": "success",
            "max": 456318,
            "_view_module": "@jupyter-widgets/controls",
            "_model_module_version": "1.5.0",
            "value": 456318,
            "_view_count": null,
            "_view_module_version": "1.5.0",
            "orientation": "horizontal",
            "min": 0,
            "description_tooltip": null,
            "_model_module": "@jupyter-widgets/controls",
            "layout": "IPY_MODEL_deccd95855f6426e96d105023772f8ce"
          }
        },
        "6a0e6fdf0c8242b6bcca113b2c4abec7": {
          "model_module": "@jupyter-widgets/controls",
          "model_name": "HTMLModel",
          "state": {
            "_view_name": "HTMLView",
            "style": "IPY_MODEL_bbe511748f4d4d2c9e6a8d27aff391f2",
            "_dom_classes": [],
            "description": "",
            "_model_name": "HTMLModel",
            "placeholder": "​",
            "_view_module": "@jupyter-widgets/controls",
            "_model_module_version": "1.5.0",
            "value": " 456k/456k [00:01&lt;00:00, 419kB/s]",
            "_view_count": null,
            "_view_module_version": "1.5.0",
            "description_tooltip": null,
            "_model_module": "@jupyter-widgets/controls",
            "layout": "IPY_MODEL_5b36e71fda194d2caf5f8acebd328602"
          }
        },
        "0ab5362722ff442d91850a9292d9a4fe": {
          "model_module": "@jupyter-widgets/controls",
          "model_name": "ProgressStyleModel",
          "state": {
            "_view_name": "StyleView",
            "_model_name": "ProgressStyleModel",
            "description_width": "initial",
            "_view_module": "@jupyter-widgets/base",
            "_model_module_version": "1.5.0",
            "_view_count": null,
            "_view_module_version": "1.2.0",
            "bar_color": null,
            "_model_module": "@jupyter-widgets/controls"
          }
        },
        "deccd95855f6426e96d105023772f8ce": {
          "model_module": "@jupyter-widgets/base",
          "model_name": "LayoutModel",
          "state": {
            "_view_name": "LayoutView",
            "grid_template_rows": null,
            "right": null,
            "justify_content": null,
            "_view_module": "@jupyter-widgets/base",
            "overflow": null,
            "_model_module_version": "1.2.0",
            "_view_count": null,
            "flex_flow": null,
            "width": null,
            "min_width": null,
            "border": null,
            "align_items": null,
            "bottom": null,
            "_model_module": "@jupyter-widgets/base",
            "top": null,
            "grid_column": null,
            "overflow_y": null,
            "overflow_x": null,
            "grid_auto_flow": null,
            "grid_area": null,
            "grid_template_columns": null,
            "flex": null,
            "_model_name": "LayoutModel",
            "justify_items": null,
            "grid_row": null,
            "max_height": null,
            "align_content": null,
            "visibility": null,
            "align_self": null,
            "height": null,
            "min_height": null,
            "padding": null,
            "grid_auto_rows": null,
            "grid_gap": null,
            "max_width": null,
            "order": null,
            "_view_module_version": "1.2.0",
            "grid_template_areas": null,
            "object_position": null,
            "object_fit": null,
            "grid_auto_columns": null,
            "margin": null,
            "display": null,
            "left": null
          }
        },
        "bbe511748f4d4d2c9e6a8d27aff391f2": {
          "model_module": "@jupyter-widgets/controls",
          "model_name": "DescriptionStyleModel",
          "state": {
            "_view_name": "StyleView",
            "_model_name": "DescriptionStyleModel",
            "description_width": "",
            "_view_module": "@jupyter-widgets/base",
            "_model_module_version": "1.5.0",
            "_view_count": null,
            "_view_module_version": "1.2.0",
            "_model_module": "@jupyter-widgets/controls"
          }
        },
        "5b36e71fda194d2caf5f8acebd328602": {
          "model_module": "@jupyter-widgets/base",
          "model_name": "LayoutModel",
          "state": {
            "_view_name": "LayoutView",
            "grid_template_rows": null,
            "right": null,
            "justify_content": null,
            "_view_module": "@jupyter-widgets/base",
            "overflow": null,
            "_model_module_version": "1.2.0",
            "_view_count": null,
            "flex_flow": null,
            "width": null,
            "min_width": null,
            "border": null,
            "align_items": null,
            "bottom": null,
            "_model_module": "@jupyter-widgets/base",
            "top": null,
            "grid_column": null,
            "overflow_y": null,
            "overflow_x": null,
            "grid_auto_flow": null,
            "grid_area": null,
            "grid_template_columns": null,
            "flex": null,
            "_model_name": "LayoutModel",
            "justify_items": null,
            "grid_row": null,
            "max_height": null,
            "align_content": null,
            "visibility": null,
            "align_self": null,
            "height": null,
            "min_height": null,
            "padding": null,
            "grid_auto_rows": null,
            "grid_gap": null,
            "max_width": null,
            "order": null,
            "_view_module_version": "1.2.0",
            "grid_template_areas": null,
            "object_position": null,
            "object_fit": null,
            "grid_auto_columns": null,
            "margin": null,
            "display": null,
            "left": null
          }
        },
        "be4e1feadfac40a5ba70897b9b13c815": {
          "model_module": "@jupyter-widgets/controls",
          "model_name": "HBoxModel",
          "state": {
            "_view_name": "HBoxView",
            "_dom_classes": [],
            "_model_name": "HBoxModel",
            "_view_module": "@jupyter-widgets/controls",
            "_model_module_version": "1.5.0",
            "_view_count": null,
            "_view_module_version": "1.5.0",
            "box_style": "",
            "layout": "IPY_MODEL_b2abe608c2d14ec5aca9a565059e73fb",
            "_model_module": "@jupyter-widgets/controls",
            "children": [
              "IPY_MODEL_80bf45aa8b4c4ddaa3f05924c924aa52",
              "IPY_MODEL_9deeb3d7b43a4307b55126c3c67758e3"
            ]
          }
        },
        "b2abe608c2d14ec5aca9a565059e73fb": {
          "model_module": "@jupyter-widgets/base",
          "model_name": "LayoutModel",
          "state": {
            "_view_name": "LayoutView",
            "grid_template_rows": null,
            "right": null,
            "justify_content": null,
            "_view_module": "@jupyter-widgets/base",
            "overflow": null,
            "_model_module_version": "1.2.0",
            "_view_count": null,
            "flex_flow": null,
            "width": null,
            "min_width": null,
            "border": null,
            "align_items": null,
            "bottom": null,
            "_model_module": "@jupyter-widgets/base",
            "top": null,
            "grid_column": null,
            "overflow_y": null,
            "overflow_x": null,
            "grid_auto_flow": null,
            "grid_area": null,
            "grid_template_columns": null,
            "flex": null,
            "_model_name": "LayoutModel",
            "justify_items": null,
            "grid_row": null,
            "max_height": null,
            "align_content": null,
            "visibility": null,
            "align_self": null,
            "height": null,
            "min_height": null,
            "padding": null,
            "grid_auto_rows": null,
            "grid_gap": null,
            "max_width": null,
            "order": null,
            "_view_module_version": "1.2.0",
            "grid_template_areas": null,
            "object_position": null,
            "object_fit": null,
            "grid_auto_columns": null,
            "margin": null,
            "display": null,
            "left": null
          }
        },
        "80bf45aa8b4c4ddaa3f05924c924aa52": {
          "model_module": "@jupyter-widgets/controls",
          "model_name": "FloatProgressModel",
          "state": {
            "_view_name": "ProgressView",
            "style": "IPY_MODEL_598049cb1d8e4614a74d4e6bf1068ca4",
            "_dom_classes": [],
            "description": "Downloading: 100%",
            "_model_name": "FloatProgressModel",
            "bar_style": "success",
            "max": 1355863,
            "_view_module": "@jupyter-widgets/controls",
            "_model_module_version": "1.5.0",
            "value": 1355863,
            "_view_count": null,
            "_view_module_version": "1.5.0",
            "orientation": "horizontal",
            "min": 0,
            "description_tooltip": null,
            "_model_module": "@jupyter-widgets/controls",
            "layout": "IPY_MODEL_99647a228cc0425c8b85476cd28e0b36"
          }
        },
        "9deeb3d7b43a4307b55126c3c67758e3": {
          "model_module": "@jupyter-widgets/controls",
          "model_name": "HTMLModel",
          "state": {
            "_view_name": "HTMLView",
            "style": "IPY_MODEL_b62d0de9a19644458e4f70852014fd14",
            "_dom_classes": [],
            "description": "",
            "_model_name": "HTMLModel",
            "placeholder": "​",
            "_view_module": "@jupyter-widgets/controls",
            "_model_module_version": "1.5.0",
            "value": " 1.36M/1.36M [00:00&lt;00:00, 3.71MB/s]",
            "_view_count": null,
            "_view_module_version": "1.5.0",
            "description_tooltip": null,
            "_model_module": "@jupyter-widgets/controls",
            "layout": "IPY_MODEL_a8ae9f46eb5848599543c61943791cc5"
          }
        },
        "598049cb1d8e4614a74d4e6bf1068ca4": {
          "model_module": "@jupyter-widgets/controls",
          "model_name": "ProgressStyleModel",
          "state": {
            "_view_name": "StyleView",
            "_model_name": "ProgressStyleModel",
            "description_width": "initial",
            "_view_module": "@jupyter-widgets/base",
            "_model_module_version": "1.5.0",
            "_view_count": null,
            "_view_module_version": "1.2.0",
            "bar_color": null,
            "_model_module": "@jupyter-widgets/controls"
          }
        },
        "99647a228cc0425c8b85476cd28e0b36": {
          "model_module": "@jupyter-widgets/base",
          "model_name": "LayoutModel",
          "state": {
            "_view_name": "LayoutView",
            "grid_template_rows": null,
            "right": null,
            "justify_content": null,
            "_view_module": "@jupyter-widgets/base",
            "overflow": null,
            "_model_module_version": "1.2.0",
            "_view_count": null,
            "flex_flow": null,
            "width": null,
            "min_width": null,
            "border": null,
            "align_items": null,
            "bottom": null,
            "_model_module": "@jupyter-widgets/base",
            "top": null,
            "grid_column": null,
            "overflow_y": null,
            "overflow_x": null,
            "grid_auto_flow": null,
            "grid_area": null,
            "grid_template_columns": null,
            "flex": null,
            "_model_name": "LayoutModel",
            "justify_items": null,
            "grid_row": null,
            "max_height": null,
            "align_content": null,
            "visibility": null,
            "align_self": null,
            "height": null,
            "min_height": null,
            "padding": null,
            "grid_auto_rows": null,
            "grid_gap": null,
            "max_width": null,
            "order": null,
            "_view_module_version": "1.2.0",
            "grid_template_areas": null,
            "object_position": null,
            "object_fit": null,
            "grid_auto_columns": null,
            "margin": null,
            "display": null,
            "left": null
          }
        },
        "b62d0de9a19644458e4f70852014fd14": {
          "model_module": "@jupyter-widgets/controls",
          "model_name": "DescriptionStyleModel",
          "state": {
            "_view_name": "StyleView",
            "_model_name": "DescriptionStyleModel",
            "description_width": "",
            "_view_module": "@jupyter-widgets/base",
            "_model_module_version": "1.5.0",
            "_view_count": null,
            "_view_module_version": "1.2.0",
            "_model_module": "@jupyter-widgets/controls"
          }
        },
        "a8ae9f46eb5848599543c61943791cc5": {
          "model_module": "@jupyter-widgets/base",
          "model_name": "LayoutModel",
          "state": {
            "_view_name": "LayoutView",
            "grid_template_rows": null,
            "right": null,
            "justify_content": null,
            "_view_module": "@jupyter-widgets/base",
            "overflow": null,
            "_model_module_version": "1.2.0",
            "_view_count": null,
            "flex_flow": null,
            "width": null,
            "min_width": null,
            "border": null,
            "align_items": null,
            "bottom": null,
            "_model_module": "@jupyter-widgets/base",
            "top": null,
            "grid_column": null,
            "overflow_y": null,
            "overflow_x": null,
            "grid_auto_flow": null,
            "grid_area": null,
            "grid_template_columns": null,
            "flex": null,
            "_model_name": "LayoutModel",
            "justify_items": null,
            "grid_row": null,
            "max_height": null,
            "align_content": null,
            "visibility": null,
            "align_self": null,
            "height": null,
            "min_height": null,
            "padding": null,
            "grid_auto_rows": null,
            "grid_gap": null,
            "max_width": null,
            "order": null,
            "_view_module_version": "1.2.0",
            "grid_template_areas": null,
            "object_position": null,
            "object_fit": null,
            "grid_auto_columns": null,
            "margin": null,
            "display": null,
            "left": null
          }
        }
      }
    }
  },
  "cells": [
    {
      "cell_type": "markdown",
      "metadata": {
        "id": "nnZUCAY3gJdy"
      },
      "source": [
        "###This notebook:\n",
        "+ Exp1: **do emotion labels help the detection of irony?**\n",
        "+ predictors (models): RoBERTa-base trained on ISEAR dataset (EC) and SemEval 2018-Tweets (ID)\n",
        "+ RE-TRAIN\n",
        "+ remove all emojis\n",
        "+ new_x_test: each tweet has emotion label appended to it"
      ]
    },
    {
      "cell_type": "markdown",
      "metadata": {
        "id": "rsA6CWMAT0uI"
      },
      "source": [
        "###Check Requirements/imports"
      ]
    },
    {
      "cell_type": "code",
      "metadata": {
        "id": "YtoMyb5pI2t5"
      },
      "source": [
        "from google.colab import drive\n",
        "drive.mount('/content/drive')"
      ],
      "execution_count": null,
      "outputs": []
    },
    {
      "cell_type": "code",
      "metadata": {
        "colab": {
          "base_uri": "https://localhost:8080/"
        },
        "id": "8_nz4p-OPXku",
        "outputId": "e05174fb-2e58-456f-cf2c-42ca9eb0de80"
      },
      "source": [
        "import tensorflow as tf\n",
        "print(tf.version.VERSION)"
      ],
      "execution_count": null,
      "outputs": [
        {
          "output_type": "stream",
          "text": [
            "2.5.0\n"
          ],
          "name": "stdout"
        }
      ]
    },
    {
      "cell_type": "code",
      "metadata": {
        "id": "-M7RCXHz8hWP"
      },
      "source": [
        "!pip3 install -q ktrain "
      ],
      "execution_count": null,
      "outputs": []
    },
    {
      "cell_type": "code",
      "metadata": {
        "id": "QXNvcp3lzRUV"
      },
      "source": [
        "pip install -U sklearn"
      ],
      "execution_count": null,
      "outputs": []
    },
    {
      "cell_type": "code",
      "metadata": {
        "id": "Y8p1iY_PIjju"
      },
      "source": [
        "pip install parse_version"
      ],
      "execution_count": null,
      "outputs": []
    },
    {
      "cell_type": "code",
      "metadata": {
        "colab": {
          "base_uri": "https://localhost:8080/"
        },
        "id": "5JVnyWxljMXa",
        "outputId": "5aa17071-f9e6-4f89-985d-af30812ae272"
      },
      "source": [
        "import os\n",
        "\n",
        "import numpy as np\n",
        "import pandas as pd\n",
        "\n",
        "import tensorflow as tf\n",
        "import tensorflow_hub as hub\n",
        "\n",
        "from keras.utils import np_utils\n",
        "\n",
        "from sklearn.model_selection import train_test_split\n",
        "from sklearn.preprocessing import LabelEncoder\n",
        "\n",
        "import matplotlib.pyplot as plt\n",
        "\n",
        "gpus = tf.config.experimental.list_physical_devices('GPU')\n",
        "if gpus:\n",
        "  try:\n",
        "    # Currently, memory growth needs to be the same across GPUs\n",
        "    for gpu in gpus:\n",
        "      tf.config.experimental.set_memory_growth(gpu, True)\n",
        "    logical_gpus = tf.config.experimental.list_logical_devices('GPU')\n",
        "    print(len(gpus), \"Physical GPUs,\", len(logical_gpus), \"Logical GPUs\")\n",
        "  except RuntimeError as e:\n",
        "    # Memory growth must be set before GPUs have been initialized\n",
        "    print(e)\n",
        "\n",
        "print(\"Version: \", tf.__version__)\n",
        "print(\"Eager mode: \", tf.executing_eagerly())\n",
        "print(\"Hub version: \", hub.__version__)\n",
        "print(\"GPU is\", \"available\" if tf.config.list_physical_devices('GPU') else \"NOT AVAILABLE\")"
      ],
      "execution_count": null,
      "outputs": [
        {
          "output_type": "stream",
          "text": [
            "1 Physical GPUs, 1 Logical GPUs\n",
            "Version:  2.5.0\n",
            "Eager mode:  True\n",
            "Hub version:  0.12.0\n",
            "GPU is available\n"
          ],
          "name": "stdout"
        }
      ]
    },
    {
      "cell_type": "code",
      "metadata": {
        "id": "_5_UMGx7sI67"
      },
      "source": [
        "!pip3 install -U emojis"
      ],
      "execution_count": null,
      "outputs": []
    },
    {
      "cell_type": "markdown",
      "metadata": {
        "id": "sd4ODXu3HPth"
      },
      "source": [
        "emojiS library: https://emojis.readthedocs.io/en/latest/api.html#module-emojis\n",
        "\n",
        "emojis cheat sheet: https://www.webfx.com/tools/emoji-cheat-sheet/"
      ]
    },
    {
      "cell_type": "code",
      "metadata": {
        "id": "CYa80vPv1WYq"
      },
      "source": [
        "pip install contractions"
      ],
      "execution_count": null,
      "outputs": []
    },
    {
      "cell_type": "code",
      "metadata": {
        "id": "D-w3Pesk__N7"
      },
      "source": [
        "pip install git+https://github.com/amaiya/eli5@tfkeras_0_10_1"
      ],
      "execution_count": null,
      "outputs": []
    },
    {
      "cell_type": "code",
      "metadata": {
        "id": "Epevrtazib-N"
      },
      "source": [
        "import ktrain"
      ],
      "execution_count": null,
      "outputs": []
    },
    {
      "cell_type": "markdown",
      "metadata": {
        "id": "Ex6H4bqQ4UUh"
      },
      "source": [
        "###Load irony data (SemEval tweets)"
      ]
    },
    {
      "cell_type": "code",
      "metadata": {
        "id": "zAcBtc5jrNjm"
      },
      "source": [
        "# Load train data\n",
        "train_path = '/content/drive/MyDrive/TeamLab/data/semeval_taskA_corrected.csv'\n",
        "\n",
        "df_train = pd.read_csv(train_path, header=0, names=['index',\n",
        "                                                    'irony_label',\n",
        "                                                    'tweet'])\n",
        "                                                "
      ],
      "execution_count": null,
      "outputs": []
    },
    {
      "cell_type": "code",
      "metadata": {
        "colab": {
          "base_uri": "https://localhost:8080/",
          "height": 205
        },
        "id": "BZudUweLsJsA",
        "outputId": "091a4dd0-e40b-4f5f-bcec-c3d8e199cbec"
      },
      "source": [
        "df_train.head()"
      ],
      "execution_count": null,
      "outputs": [
        {
          "output_type": "execute_result",
          "data": {
            "text/html": [
              "<div>\n",
              "<style scoped>\n",
              "    .dataframe tbody tr th:only-of-type {\n",
              "        vertical-align: middle;\n",
              "    }\n",
              "\n",
              "    .dataframe tbody tr th {\n",
              "        vertical-align: top;\n",
              "    }\n",
              "\n",
              "    .dataframe thead th {\n",
              "        text-align: right;\n",
              "    }\n",
              "</style>\n",
              "<table border=\"1\" class=\"dataframe\">\n",
              "  <thead>\n",
              "    <tr style=\"text-align: right;\">\n",
              "      <th></th>\n",
              "      <th>index</th>\n",
              "      <th>irony_label</th>\n",
              "      <th>tweet</th>\n",
              "    </tr>\n",
              "  </thead>\n",
              "  <tbody>\n",
              "    <tr>\n",
              "      <th>0</th>\n",
              "      <td>1</td>\n",
              "      <td>1</td>\n",
              "      <td>Sweet United Nations video. Just in time for C...</td>\n",
              "    </tr>\n",
              "    <tr>\n",
              "      <th>1</th>\n",
              "      <td>2</td>\n",
              "      <td>1</td>\n",
              "      <td>@mrdahl87 We are rumored to have talked to Erv...</td>\n",
              "    </tr>\n",
              "    <tr>\n",
              "      <th>2</th>\n",
              "      <td>3</td>\n",
              "      <td>1</td>\n",
              "      <td>Hey there! Nice to see you Minnesota/ND Winter...</td>\n",
              "    </tr>\n",
              "    <tr>\n",
              "      <th>3</th>\n",
              "      <td>4</td>\n",
              "      <td>0</td>\n",
              "      <td>3 episodes left I'm dying over here</td>\n",
              "    </tr>\n",
              "    <tr>\n",
              "      <th>4</th>\n",
              "      <td>5</td>\n",
              "      <td>1</td>\n",
              "      <td>I can't breathe! was chosen as the most notabl...</td>\n",
              "    </tr>\n",
              "  </tbody>\n",
              "</table>\n",
              "</div>"
            ],
            "text/plain": [
              "   index  irony_label                                              tweet\n",
              "0      1            1  Sweet United Nations video. Just in time for C...\n",
              "1      2            1  @mrdahl87 We are rumored to have talked to Erv...\n",
              "2      3            1  Hey there! Nice to see you Minnesota/ND Winter...\n",
              "3      4            0                3 episodes left I'm dying over here\n",
              "4      5            1  I can't breathe! was chosen as the most notabl..."
            ]
          },
          "metadata": {
            "tags": []
          },
          "execution_count": 13
        }
      ]
    },
    {
      "cell_type": "code",
      "metadata": {
        "colab": {
          "base_uri": "https://localhost:8080/"
        },
        "id": "Hhan_Km_scxz",
        "outputId": "9fc80c71-e20c-43a6-d43d-d741f0572c96"
      },
      "source": [
        "# Check if dataset is balanced\n",
        "\n",
        "# Classes are 1 and 0. Tweet can either be ironic or non-ironic -> binary classification\n",
        "classes = df_train.irony_label.unique()\n",
        "\n",
        "print((df_train.irony_label == 0).sum())\n",
        "print((df_train.irony_label == 1).sum())\n",
        "\n",
        "# => Balanced"
      ],
      "execution_count": null,
      "outputs": [
        {
          "output_type": "stream",
          "text": [
            "1923\n",
            "1911\n"
          ],
          "name": "stdout"
        }
      ]
    },
    {
      "cell_type": "code",
      "metadata": {
        "colab": {
          "base_uri": "https://localhost:8080/",
          "height": 242
        },
        "id": "uyP21KPctkwj",
        "outputId": "4bf9f165-b84f-40e2-9ab1-23bfb2e05e7d"
      },
      "source": [
        "# Load test data\n",
        "test_path = '/content/drive/MyDrive/TeamLab/data/semeval_taskA_test.csv'\n",
        "\n",
        "df_test = pd.read_csv(test_path, sep='\\t', header=0, names=['index',\n",
        "                                                            'irony_label',\n",
        "                                                            'tweet'])\n",
        "\n",
        "print((df_test.irony_label == 0).sum())\n",
        "print((df_test.irony_label == 1).sum())\n",
        "\n",
        "df_test.head()"
      ],
      "execution_count": null,
      "outputs": [
        {
          "output_type": "stream",
          "text": [
            "473\n",
            "311\n"
          ],
          "name": "stdout"
        },
        {
          "output_type": "execute_result",
          "data": {
            "text/html": [
              "<div>\n",
              "<style scoped>\n",
              "    .dataframe tbody tr th:only-of-type {\n",
              "        vertical-align: middle;\n",
              "    }\n",
              "\n",
              "    .dataframe tbody tr th {\n",
              "        vertical-align: top;\n",
              "    }\n",
              "\n",
              "    .dataframe thead th {\n",
              "        text-align: right;\n",
              "    }\n",
              "</style>\n",
              "<table border=\"1\" class=\"dataframe\">\n",
              "  <thead>\n",
              "    <tr style=\"text-align: right;\">\n",
              "      <th></th>\n",
              "      <th>index</th>\n",
              "      <th>irony_label</th>\n",
              "      <th>tweet</th>\n",
              "    </tr>\n",
              "  </thead>\n",
              "  <tbody>\n",
              "    <tr>\n",
              "      <th>0</th>\n",
              "      <td>1</td>\n",
              "      <td>0</td>\n",
              "      <td>@Callisto1947 Can U Help?||More conservatives ...</td>\n",
              "    </tr>\n",
              "    <tr>\n",
              "      <th>1</th>\n",
              "      <td>2</td>\n",
              "      <td>1</td>\n",
              "      <td>Just walked in to #Starbucks and asked for a \"...</td>\n",
              "    </tr>\n",
              "    <tr>\n",
              "      <th>2</th>\n",
              "      <td>3</td>\n",
              "      <td>0</td>\n",
              "      <td>#NOT GONNA WIN http://t.co/Mc9ebqjAqj</td>\n",
              "    </tr>\n",
              "    <tr>\n",
              "      <th>3</th>\n",
              "      <td>4</td>\n",
              "      <td>0</td>\n",
              "      <td>@mickymantell He is exactly that sort of perso...</td>\n",
              "    </tr>\n",
              "    <tr>\n",
              "      <th>4</th>\n",
              "      <td>5</td>\n",
              "      <td>1</td>\n",
              "      <td>So much #sarcasm at work mate 10/10 #boring 10...</td>\n",
              "    </tr>\n",
              "  </tbody>\n",
              "</table>\n",
              "</div>"
            ],
            "text/plain": [
              "   index  irony_label                                              tweet\n",
              "0      1            0  @Callisto1947 Can U Help?||More conservatives ...\n",
              "1      2            1  Just walked in to #Starbucks and asked for a \"...\n",
              "2      3            0              #NOT GONNA WIN http://t.co/Mc9ebqjAqj\n",
              "3      4            0  @mickymantell He is exactly that sort of perso...\n",
              "4      5            1  So much #sarcasm at work mate 10/10 #boring 10..."
            ]
          },
          "metadata": {
            "tags": []
          },
          "execution_count": 15
        }
      ]
    },
    {
      "cell_type": "code",
      "metadata": {
        "id": "ERcod8R_t1iG"
      },
      "source": [
        "x_train = df_train['tweet'].to_numpy()\n",
        "y_train = df_train['irony_label'].to_numpy()\n",
        "\n",
        "x_test = df_test['tweet'].to_numpy()\n",
        "y_test = df_test['irony_label'].to_numpy()"
      ],
      "execution_count": null,
      "outputs": []
    },
    {
      "cell_type": "markdown",
      "metadata": {
        "id": "I2rUez8ST_vZ"
      },
      "source": [
        "###Normalisation of input"
      ]
    },
    {
      "cell_type": "markdown",
      "metadata": {
        "id": "bN7SF1FIehwQ"
      },
      "source": [
        "Normalise:\n",
        "+ hashtags\n",
        "+ tagged users\n",
        "+ emoji \n",
        "+ urls "
      ]
    },
    {
      "cell_type": "code",
      "metadata": {
        "id": "DdeAu-6VdSzP"
      },
      "source": [
        "import emojis\n",
        "from nltk.tokenize import TweetTokenizer\n",
        "import re\n",
        "import contractions\n",
        "import numpy as np\n",
        "\n",
        "\n",
        "def normalise_tweet(tweet):\n",
        "    norm_tweet = re.sub(\"&\", \"and\", tweet)\n",
        "    norm_tweet = re.sub(r\"[<>]\", \"\", norm_tweet)\n",
        "    norm_tweet = re.sub(\"http:.*\", \"url\", norm_tweet)\n",
        "    norm_tweet = re.sub(\"@\", \" @\", norm_tweet)\n",
        "    norm_tweet = re.sub(\"#\", \" \", norm_tweet)\n",
        "    \n",
        "    norm_tweet = re.sub(r\"[-'()/_;:{}=~|,\\[\\]]\", \" \", norm_tweet)\n",
        "    norm_tweet = re.sub(r\"\\\\n\", \"\", norm_tweet)\n",
        "\n",
        "    norm_tweet = contractions.fix(norm_tweet)\n",
        "\n",
        "    tokenizer = TweetTokenizer()\n",
        "    tweet_tokens = tokenizer.tokenize(norm_tweet)\n",
        "    final_tweet_list = []\n",
        "\n",
        "    for token in tweet_tokens:        \n",
        "        if token.startswith(\"@\"):\n",
        "            # then token is a user tag\n",
        "            tag_token = \"tagged_user\"\n",
        "            if final_tweet_list.count(tag_token) < 3:\n",
        "                final_tweet_list.append(tag_token)\n",
        "        elif emojis.count(token) == 1:\n",
        "            # then token is an emoji\n",
        "            emoji_token = '' # remove all emojis\n",
        "            #if final_tweet_list.count(emoji_token) < 2:\n",
        "            final_tweet_list.append(emoji_token)\n",
        "        else:\n",
        "            final_tweet_list.append(token)\n",
        "    \n",
        "    final_tweet = ' '.join(final_tweet_list)\n",
        "    \n",
        "    return final_tweet.strip()\n",
        "\n",
        "# check normalisation    \n",
        "#return tweet_tokens, final_tweet.strip()"
      ],
      "execution_count": null,
      "outputs": []
    },
    {
      "cell_type": "code",
      "metadata": {
        "id": "8jbMJYIjfo24"
      },
      "source": [
        "x_train_norm = []\n",
        "for tweet in x_train:\n",
        "    x_train_norm.append(normalise_tweet(tweet))\n",
        "\n",
        "x_test_norm = []\n",
        "for tweet in x_test:\n",
        "    x_test_norm.append(normalise_tweet(tweet))\n",
        "\n",
        "x_train_norm = np.array(x_train_norm)\n",
        "x_test_norm = np.array(x_test_norm)"
      ],
      "execution_count": null,
      "outputs": []
    },
    {
      "cell_type": "code",
      "metadata": {
        "id": "8m0cb8dhCru4"
      },
      "source": [
        "x_train_norm[50:100]"
      ],
      "execution_count": null,
      "outputs": []
    },
    {
      "cell_type": "code",
      "metadata": {
        "colab": {
          "base_uri": "https://localhost:8080/"
        },
        "id": "79QK8pfYvikz",
        "outputId": "1db079ae-1c13-48f3-dcf5-72991139267e"
      },
      "source": [
        "# Check sentence lengths\n",
        "\n",
        "from statistics import mean\n",
        "\n",
        "seq_len = []\n",
        "\n",
        "idx = 0\n",
        "for tweet in x_train_norm:\n",
        "    if len(tweet.split()) > 35:\n",
        "        print(idx, tweet)\n",
        "    seq_len.append(len(tweet.split()))\n",
        "    idx += 1\n",
        "\n",
        "print(max(seq_len))\n",
        "print(mean(seq_len))"
      ],
      "execution_count": null,
      "outputs": [
        {
          "output_type": "stream",
          "text": [
            "888 This time change is crazy . everyone is all up here like woohoo its 11am let us live life ! and I m like it is 5am and I have not slept at all yet .\n",
            "948 Kyle it won t let me tagged_user you ? But yeah we are grown ass men with fast cars . Who gives af lol . And bring it to my room hooah ? See ya in a bit .\n",
            "39\n",
            "15.220918101199791\n"
          ],
          "name": "stdout"
        }
      ]
    },
    {
      "cell_type": "markdown",
      "metadata": {
        "id": "acJdG2a3Xbvq"
      },
      "source": [
        "#1) Irony detection with ISEAR emotion labels\n",
        "\n",
        "Assign emotion label to SemEval tweets\n",
        "\n",
        "ISEAR labels: joy, sadness, fear, guilt, shame, anger, disgust"
      ]
    },
    {
      "cell_type": "markdown",
      "metadata": {
        "id": "9HQJ-hzxYywD"
      },
      "source": [
        "###Load pre-trained emotion classifier (EC_RoBERTa_nonorm)"
      ]
    },
    {
      "cell_type": "code",
      "metadata": {
        "colab": {
          "base_uri": "https://localhost:8080/",
          "height": 35
        },
        "id": "XvGWylJ40367",
        "outputId": "a43406d2-578b-469f-e6be-9cc3343fbb8b"
      },
      "source": [
        "pwd"
      ],
      "execution_count": null,
      "outputs": [
        {
          "output_type": "execute_result",
          "data": {
            "application/vnd.google.colaboratory.intrinsic+json": {
              "type": "string"
            },
            "text/plain": [
              "'/content'"
            ]
          },
          "metadata": {
            "tags": []
          },
          "execution_count": 21
        }
      ]
    },
    {
      "cell_type": "code",
      "metadata": {
        "id": "GR2pDDH7y5H0"
      },
      "source": [
        "import ktrain\n",
        "from ktrain import text\n",
        "\n",
        "emotion_predictor = ktrain.load_predictor('/content/drive/MyDrive/TeamLab/my_models/EC_RoBERTa_nonorm')"
      ],
      "execution_count": null,
      "outputs": []
    },
    {
      "cell_type": "code",
      "metadata": {
        "colab": {
          "base_uri": "https://localhost:8080/"
        },
        "id": "I43IO5Ue7l2J",
        "outputId": "243f23b8-fcbc-4255-c4e9-9d230d05fe54"
      },
      "source": [
        "emotion_predictor"
      ],
      "execution_count": null,
      "outputs": [
        {
          "output_type": "execute_result",
          "data": {
            "text/plain": [
              "<ktrain.text.predictor.TextPredictor at 0x7faa25a98d10>"
            ]
          },
          "metadata": {
            "tags": []
          },
          "execution_count": 23
        }
      ]
    },
    {
      "cell_type": "code",
      "metadata": {
        "id": "mEOxrTFQ1H-L",
        "colab": {
          "base_uri": "https://localhost:8080/",
          "height": 167,
          "referenced_widgets": [
            "3e3c9f004d9542ff8fcc3470f049fda8",
            "09258281d96a4fc29f4a977f753b9a49",
            "b36a7e85f9c24269ae50cdcc46e896bb",
            "701bcccf2144411cb35f6e8b01cf1540",
            "2e2e2775e9bc43ce963aa18cf099e3e2",
            "e78075fccbbd4b6da9fe84c89b9dadad",
            "ce14fa7eba3c4c28b2de7dea62695f99",
            "911ad274a5164ff99404b14663cd29a6",
            "6434ee3eda994ec8bd56e599fc6ff739",
            "ec501e51bc804757ba3890ce12421b7f",
            "079a01dcde72464487c91077937e888e",
            "240b6c0514da4b339c6f0a9f4adce61b",
            "3ce91dca47574e01a4532eb4454624bc",
            "44b15858016948858b1f281d0399f032",
            "7115cb8fa9ec40f0a39104cd4df2b954",
            "19f5bf48f4bb4df39fd16e1bb27b1d64",
            "974401e83f1e4e48b4122d3517dcb703",
            "bf71fcf259e447bf8801559f09d97cd5",
            "6f2f3350562040b083fd6163a6c8234c",
            "a2be8c4037694c2cbe9becc6d54e312a",
            "097566b3d92e47999da8cad0bf9d2487",
            "a0b9ff913d0b4b32b3420038dcc4b1a7",
            "1a45418e59a542b294d8b829799e9693",
            "0c5a073fdeef4d6daec9b2d9147588ab"
          ]
        },
        "outputId": "f216f309-98de-484d-ca4a-0fc865f69f22"
      },
      "source": [
        "y_pred_emotion_test = emotion_predictor.predict(x_test_norm)"
      ],
      "execution_count": null,
      "outputs": [
        {
          "output_type": "display_data",
          "data": {
            "application/vnd.jupyter.widget-view+json": {
              "model_id": "3e3c9f004d9542ff8fcc3470f049fda8",
              "version_minor": 0,
              "version_major": 2
            },
            "text/plain": [
              "HBox(children=(FloatProgress(value=0.0, description='Downloading', max=898823.0, style=ProgressStyle(descripti…"
            ]
          },
          "metadata": {
            "tags": []
          }
        },
        {
          "output_type": "stream",
          "text": [
            "\n"
          ],
          "name": "stdout"
        },
        {
          "output_type": "display_data",
          "data": {
            "application/vnd.jupyter.widget-view+json": {
              "model_id": "6434ee3eda994ec8bd56e599fc6ff739",
              "version_minor": 0,
              "version_major": 2
            },
            "text/plain": [
              "HBox(children=(FloatProgress(value=0.0, description='Downloading', max=456318.0, style=ProgressStyle(descripti…"
            ]
          },
          "metadata": {
            "tags": []
          }
        },
        {
          "output_type": "stream",
          "text": [
            "\n"
          ],
          "name": "stdout"
        },
        {
          "output_type": "display_data",
          "data": {
            "application/vnd.jupyter.widget-view+json": {
              "model_id": "974401e83f1e4e48b4122d3517dcb703",
              "version_minor": 0,
              "version_major": 2
            },
            "text/plain": [
              "HBox(children=(FloatProgress(value=0.0, description='Downloading', max=1355863.0, style=ProgressStyle(descript…"
            ]
          },
          "metadata": {
            "tags": []
          }
        },
        {
          "output_type": "stream",
          "text": [
            "\n"
          ],
          "name": "stdout"
        }
      ]
    },
    {
      "cell_type": "code",
      "metadata": {
        "id": "T04UsVUuvTf-"
      },
      "source": [
        "y_pred_emotion_train = emotion_predictor.predict(x_train_norm)"
      ],
      "execution_count": null,
      "outputs": []
    },
    {
      "cell_type": "code",
      "metadata": {
        "colab": {
          "base_uri": "https://localhost:8080/"
        },
        "id": "uxNVKHMC8C4C",
        "outputId": "417ebb8f-7961-4d0d-e39a-f40b75c3efc3"
      },
      "source": [
        "print(x_test_norm[1], y_pred_emotion_test[1])\n",
        "print(x_test_norm[10], y_pred_emotion_test[10])\n",
        "print(x_test_norm[100], y_pred_emotion_test[100])\n",
        "print(x_test_norm[200], y_pred_emotion_test[200])\n",
        "print(x_test_norm[300], y_pred_emotion_test[300])"
      ],
      "execution_count": null,
      "outputs": [
        {
          "output_type": "stream",
          "text": [
            "Just walked in to Starbucks and asked for a \" tall blonde \" Hahahaha irony shame\n",
            "Most important thing I ve learned in school url joy\n",
            "I just wrote a 13 page paper ... I was awfully tired when I was writing it and now I can t sleep . irony fear\n",
            "Agree with that ... we are not mind readers haha Repost 9gag ⁰You may think we are but we are ... url shame\n",
            "tagged_user hold on a minute . Are you saying All blonde white women look the same ? ? sarcasm anger\n"
          ],
          "name": "stdout"
        }
      ]
    },
    {
      "cell_type": "code",
      "metadata": {
        "colab": {
          "base_uri": "https://localhost:8080/"
        },
        "id": "RyerVCaQjZgp",
        "outputId": "0593e308-5635-4ed6-e71d-5b8d35ec5612"
      },
      "source": [
        "# append labels\n",
        "\n",
        "new_x_train = []\n",
        "\n",
        "idx = 0\n",
        "for tweet in x_train_norm:\n",
        "    tweet_lst = tweet.split()\n",
        "    tweet_lst.append(y_pred_emotion_train[idx])\n",
        "    new_x_train.append(' '.join(tweet_lst))\n",
        "    idx += 1\n",
        "\n",
        "\n",
        "new_x_test = []\n",
        "\n",
        "idx = 0\n",
        "for tweet in x_test_norm:\n",
        "    tweet_lst = tweet.split()\n",
        "    tweet_lst.append(y_pred_emotion_test[idx])\n",
        "    new_x_test.append(' '.join(tweet_lst))\n",
        "    idx += 1\n",
        "\n",
        "\n",
        "new_x_test[:5]"
      ],
      "execution_count": null,
      "outputs": [
        {
          "output_type": "execute_result",
          "data": {
            "text/plain": [
              "['tagged_user Can you Help ? More conservatives needed on TSU + get paid 4 posting stuff like this ! YOU $ can go to url shame',\n",
              " 'Just walked in to Starbucks and asked for a \" tall blonde \" Hahahaha irony shame',\n",
              " 'NOT going to WIN url sadness',\n",
              " 'tagged_user He is exactly that sort of person . Weirdo ! fear',\n",
              " 'So much sarcasm at work mate 10 10 boring 100 % dead mate full on shit absolutely sleeping mate can t handle the sarcasm anger']"
            ]
          },
          "metadata": {
            "tags": []
          },
          "execution_count": 36
        }
      ]
    },
    {
      "cell_type": "markdown",
      "metadata": {
        "id": "CF44-09--ftL"
      },
      "source": [
        "###Set up irony detector"
      ]
    },
    {
      "cell_type": "code",
      "metadata": {
        "colab": {
          "base_uri": "https://localhost:8080/",
          "height": 254
        },
        "id": "M00inrBI7wFQ",
        "outputId": "32322b8e-f938-49ca-ace6-3360e5eb245b"
      },
      "source": [
        "import ktrain\n",
        "from ktrain import text\n",
        "\n",
        "\n",
        "categories = [0, 1]\n",
        "\n",
        "MODEL_NAME = 'roberta-base'\n",
        "\n",
        "# Transormer is a wrapper to the Hugging Face transformers library for text classification.\n",
        "t = text.Transformer(MODEL_NAME, maxlen=100, class_names=categories)\n",
        "\n",
        "# Using normalised input data\n",
        "trn = t.preprocess_train(new_x_train, y_train)\n",
        "val = t.preprocess_test(new_x_test, y_test)\n",
        "\n",
        "model = t.get_classifier()\n",
        "learner = ktrain.get_learner(model, train_data=trn, val_data=val, batch_size=16)"
      ],
      "execution_count": null,
      "outputs": [
        {
          "output_type": "stream",
          "text": [
            "preprocessing train...\n",
            "language: en\n",
            "train sequence lengths:\n",
            "\tmean : 16\n",
            "\t95percentile : 28\n",
            "\t99percentile : 31\n"
          ],
          "name": "stdout"
        },
        {
          "output_type": "display_data",
          "data": {
            "text/html": [
              ""
            ],
            "text/plain": [
              "<IPython.core.display.HTML object>"
            ]
          },
          "metadata": {
            "tags": []
          }
        },
        {
          "output_type": "stream",
          "text": [
            "Is Multi-Label? False\n",
            "preprocessing test...\n",
            "language: en\n",
            "test sequence lengths:\n",
            "\tmean : 17\n",
            "\t95percentile : 29\n",
            "\t99percentile : 32\n"
          ],
          "name": "stdout"
        },
        {
          "output_type": "display_data",
          "data": {
            "text/html": [
              ""
            ],
            "text/plain": [
              "<IPython.core.display.HTML object>"
            ]
          },
          "metadata": {
            "tags": []
          }
        }
      ]
    },
    {
      "cell_type": "markdown",
      "metadata": {
        "id": "fSBZh9C8xF9B"
      },
      "source": [
        "###Train"
      ]
    },
    {
      "cell_type": "code",
      "metadata": {
        "id": "eXI9twirgYY_"
      },
      "source": [
        "best_lr = 5e-5"
      ],
      "execution_count": null,
      "outputs": []
    },
    {
      "cell_type": "code",
      "metadata": {
        "id": "v9cTJdxwKpol",
        "colab": {
          "base_uri": "https://localhost:8080/"
        },
        "outputId": "7eee0f7a-a25e-43df-823e-bc64d80ed068"
      },
      "source": [
        "# Train\n",
        "# Parameters: LR, epochs\n",
        "# LR==(5e-5)\n",
        "\n",
        "learner.autofit(lr=best_lr, checkpoint_folder='/my_models', verbose=1)\n",
        "\n",
        "# if epochs is None, then early_stopping and reduce_on_plateau are atomatically set to 6 and 3, respectively.\n",
        "# if lr missing, it will be estimated (initial lr)"
      ],
      "execution_count": null,
      "outputs": [
        {
          "output_type": "stream",
          "text": [
            "early_stopping automatically enabled at patience=5\n",
            "reduce_on_plateau automatically enabled at patience=2\n",
            "\n",
            "\n",
            "begin training using triangular learning rate policy with max lr of 5e-05...\n",
            "Epoch 1/1024\n",
            "240/240 [==============================] - 104s 366ms/step - loss: 0.6852 - accuracy: 0.5503 - val_loss: 0.6536 - val_accuracy: 0.6492\n",
            "Epoch 2/1024\n",
            "240/240 [==============================] - 87s 357ms/step - loss: 0.6600 - accuracy: 0.6088 - val_loss: 0.6437 - val_accuracy: 0.6709\n",
            "Epoch 3/1024\n",
            "240/240 [==============================] - 87s 357ms/step - loss: 0.5951 - accuracy: 0.6800 - val_loss: 0.6293 - val_accuracy: 0.7066\n",
            "Epoch 4/1024\n",
            "240/240 [==============================] - 87s 357ms/step - loss: 0.5233 - accuracy: 0.7420 - val_loss: 0.6034 - val_accuracy: 0.6862\n",
            "Epoch 5/1024\n",
            "240/240 [==============================] - 87s 356ms/step - loss: 0.4119 - accuracy: 0.8151 - val_loss: 0.6392 - val_accuracy: 0.7117\n",
            "Epoch 6/1024\n",
            "240/240 [==============================] - 87s 356ms/step - loss: 0.2960 - accuracy: 0.8813 - val_loss: 0.8086 - val_accuracy: 0.6798\n",
            "\n",
            "Epoch 00006: Reducing Max LR on Plateau: new max lr will be 2.5e-05 (if not early_stopping).\n",
            "Epoch 7/1024\n",
            "240/240 [==============================] - 86s 356ms/step - loss: 0.1646 - accuracy: 0.9463 - val_loss: 1.0006 - val_accuracy: 0.6747\n",
            "Epoch 8/1024\n",
            "240/240 [==============================] - 87s 356ms/step - loss: 0.0972 - accuracy: 0.9700 - val_loss: 1.1845 - val_accuracy: 0.7079\n",
            "\n",
            "Epoch 00008: Reducing Max LR on Plateau: new max lr will be 1.25e-05 (if not early_stopping).\n",
            "Epoch 9/1024\n",
            "240/240 [==============================] - 87s 356ms/step - loss: 0.0529 - accuracy: 0.9859 - val_loss: 1.2878 - val_accuracy: 0.7003\n",
            "Restoring model weights from the end of the best epoch.\n",
            "Epoch 00009: early stopping\n",
            "Weights from best epoch have been loaded into model.\n"
          ],
          "name": "stdout"
        },
        {
          "output_type": "execute_result",
          "data": {
            "text/plain": [
              "<tensorflow.python.keras.callbacks.History at 0x7fa9121c54d0>"
            ]
          },
          "metadata": {
            "tags": []
          },
          "execution_count": 39
        }
      ]
    },
    {
      "cell_type": "markdown",
      "metadata": {
        "id": "nU5Mzpo15Qfu"
      },
      "source": [
        "###Evaluate predictions"
      ]
    },
    {
      "cell_type": "code",
      "metadata": {
        "id": "NpagsGmZZSNw"
      },
      "source": [
        "# Set weights to those of the best epoch\n",
        "learner.model.load_weights('/my_models/weights-05.hdf5')"
      ],
      "execution_count": null,
      "outputs": []
    },
    {
      "cell_type": "code",
      "metadata": {
        "colab": {
          "base_uri": "https://localhost:8080/"
        },
        "id": "Ao8_HU65ZhiO",
        "outputId": "d23d0bb8-7812-4ecf-a4cb-561839855c85"
      },
      "source": [
        "learner.validate(class_names=t.get_classes())"
      ],
      "execution_count": null,
      "outputs": [
        {
          "output_type": "stream",
          "text": [
            "              precision    recall  f1-score   support\n",
            "\n",
            "           0       0.82      0.67      0.74       473\n",
            "           1       0.61      0.77      0.68       311\n",
            "\n",
            "    accuracy                           0.71       784\n",
            "   macro avg       0.71      0.72      0.71       784\n",
            "weighted avg       0.73      0.71      0.71       784\n",
            "\n"
          ],
          "name": "stdout"
        },
        {
          "output_type": "execute_result",
          "data": {
            "text/plain": [
              "array([[317, 156],\n",
              "       [ 70, 241]])"
            ]
          },
          "metadata": {
            "tags": []
          },
          "execution_count": 42
        }
      ]
    },
    {
      "cell_type": "code",
      "metadata": {
        "colab": {
          "base_uri": "https://localhost:8080/"
        },
        "id": "VLxcMrvYONHR",
        "outputId": "95fb058b-09fb-4ce6-d427-d797d20c3e0c"
      },
      "source": [
        "# the ones that we got most wrong\n",
        "learner.view_top_losses(n=5, preproc=t)"
      ],
      "execution_count": null,
      "outputs": [
        {
          "output_type": "stream",
          "text": [
            "----------\n",
            "id:618 | loss:4.64 | true:0 | pred:1)\n",
            "\n",
            "----------\n",
            "id:5 | loss:4.61 | true:0 | pred:1)\n",
            "\n",
            "----------\n",
            "id:676 | loss:4.52 | true:0 | pred:1)\n",
            "\n",
            "----------\n",
            "id:212 | loss:4.37 | true:0 | pred:1)\n",
            "\n",
            "----------\n",
            "id:169 | loss:4.33 | true:0 | pred:1)\n",
            "\n"
          ],
          "name": "stdout"
        }
      ]
    },
    {
      "cell_type": "code",
      "metadata": {
        "id": "Xdn3Opy0fATN",
        "colab": {
          "base_uri": "https://localhost:8080/"
        },
        "outputId": "dfa92004-7d19-4663-8477-fd20041e8815"
      },
      "source": [
        "# print out instance to see why...\n",
        "print(new_x_test[71])\n",
        "print(new_x_test[484])\n",
        "print(new_x_test[276])\n",
        "print(new_x_test[5])\n",
        "print(new_x_test[169])"
      ],
      "execution_count": null,
      "outputs": [
        {
          "output_type": "stream",
          "text": [
            "Getting Final Jeopardy correct on Kids Jeopardy boosts my self esteem joy\n",
            "Felicitats url joy\n",
            "I m really excited for next semester joy\n",
            "Corny jokes are my absolute favorite disgust\n",
            "And then my sister should be home from college by time I get home from babysitting . And it s payday . THIS IS A GOOD FRIDAY joy\n"
          ],
          "name": "stdout"
        }
      ]
    },
    {
      "cell_type": "markdown",
      "metadata": {
        "id": "YFN47ZM3fTUb"
      },
      "source": [
        "###Make predictions on new data"
      ]
    },
    {
      "cell_type": "code",
      "metadata": {
        "id": "6MAGrx_mOchU"
      },
      "source": [
        "predictor = ktrain.get_predictor(learner.model, preproc=t)"
      ],
      "execution_count": null,
      "outputs": []
    },
    {
      "cell_type": "code",
      "metadata": {
        "id": "HfseXcxYfjrt"
      },
      "source": [
        "test_sent = ('Cool it is raining again')"
      ],
      "execution_count": null,
      "outputs": []
    },
    {
      "cell_type": "code",
      "metadata": {
        "colab": {
          "base_uri": "https://localhost:8080/"
        },
        "id": "Cu9KTMs5OhZb",
        "outputId": "35335c25-6cdf-4c82-b920-4f797ce57039"
      },
      "source": [
        "predictor.predict(test_sent)"
      ],
      "execution_count": null,
      "outputs": [
        {
          "output_type": "execute_result",
          "data": {
            "text/plain": [
              "1"
            ]
          },
          "metadata": {
            "tags": []
          },
          "execution_count": 47
        }
      ]
    },
    {
      "cell_type": "code",
      "metadata": {
        "id": "qeLecvXROwgt",
        "colab": {
          "base_uri": "https://localhost:8080/",
          "height": 169
        },
        "outputId": "7fb19a1d-1ab7-426a-acd4-8fdd021efecd"
      },
      "source": [
        "# Ask for explanation\n",
        "predictor.explain(test_sent)"
      ],
      "execution_count": null,
      "outputs": [
        {
          "output_type": "execute_result",
          "data": {
            "text/html": [
              "\n",
              "    <style>\n",
              "    table.eli5-weights tr:hover {\n",
              "        filter: brightness(85%);\n",
              "    }\n",
              "</style>\n",
              "\n",
              "\n",
              "\n",
              "    \n",
              "\n",
              "    \n",
              "\n",
              "    \n",
              "\n",
              "    \n",
              "\n",
              "    \n",
              "\n",
              "    \n",
              "\n",
              "\n",
              "    \n",
              "\n",
              "    \n",
              "\n",
              "    \n",
              "\n",
              "    \n",
              "        \n",
              "\n",
              "    \n",
              "\n",
              "        \n",
              "\n",
              "        \n",
              "    \n",
              "        \n",
              "        \n",
              "    \n",
              "        <p style=\"margin-bottom: 0.5em; margin-top: 0em\">\n",
              "            <b>\n",
              "    \n",
              "        y=1\n",
              "    \n",
              "</b>\n",
              "\n",
              "    \n",
              "    (probability <b>0.479</b>, score <b>-0.085</b>)\n",
              "\n",
              "top features\n",
              "        </p>\n",
              "    \n",
              "    <table class=\"eli5-weights\"\n",
              "           style=\"border-collapse: collapse; border: none; margin-top: 0em; table-layout: auto; margin-bottom: 2em;\">\n",
              "        <thead>\n",
              "        <tr style=\"border: none;\">\n",
              "            \n",
              "                <th style=\"padding: 0 1em 0 0.5em; text-align: right; border: none;\" title=\"Feature contribution already accounts for the feature value (for linear models, contribution = weight * feature value), and the sum of feature contributions is equal to the score or, for some classifiers, to the probability. Feature values are shown if &quot;show_feature_values&quot; is True.\">\n",
              "                    Contribution<sup>?</sup>\n",
              "                </th>\n",
              "            \n",
              "            <th style=\"padding: 0 0.5em 0 0.5em; text-align: left; border: none;\">Feature</th>\n",
              "            \n",
              "        </tr>\n",
              "        </thead>\n",
              "        <tbody>\n",
              "        \n",
              "            <tr style=\"background-color: hsl(120, 100.00%, 81.44%); border: none;\">\n",
              "    <td style=\"padding: 0 1em 0 0.5em; text-align: right; border: none;\">\n",
              "        +0.753\n",
              "    </td>\n",
              "    <td style=\"padding: 0 0.5em 0 0.5em; text-align: left; border: none;\">\n",
              "        Highlighted in text (sum)\n",
              "    </td>\n",
              "    \n",
              "</tr>\n",
              "        \n",
              "        \n",
              "\n",
              "        \n",
              "        \n",
              "            <tr style=\"background-color: hsl(0, 100.00%, 80.00%); border: none;\">\n",
              "    <td style=\"padding: 0 1em 0 0.5em; text-align: right; border: none;\">\n",
              "        -0.838\n",
              "    </td>\n",
              "    <td style=\"padding: 0 0.5em 0 0.5em; text-align: left; border: none;\">\n",
              "        &lt;BIAS&gt;\n",
              "    </td>\n",
              "    \n",
              "</tr>\n",
              "        \n",
              "\n",
              "        </tbody>\n",
              "    </table>\n",
              "\n",
              "    \n",
              "\n",
              "\n",
              "\n",
              "    <p style=\"margin-bottom: 2.5em; margin-top:-0.5em;\">\n",
              "        <span style=\"background-color: hsl(120, 100.00%, 96.24%); opacity: 0.81\" title=\"0.029\">cool</span><span style=\"opacity: 0.80\"> </span><span style=\"background-color: hsl(120, 100.00%, 62.61%); opacity: 0.98\" title=\"0.782\">it</span><span style=\"opacity: 0.80\"> </span><span style=\"background-color: hsl(120, 100.00%, 78.26%); opacity: 0.88\" title=\"0.360\">is</span><span style=\"opacity: 0.80\"> </span><span style=\"background-color: hsl(120, 100.00%, 60.00%); opacity: 1.00\" title=\"0.861\">raining</span><span style=\"opacity: 0.80\"> </span><span style=\"background-color: hsl(120, 100.00%, 65.87%); opacity: 0.96\" title=\"0.687\">again</span>\n",
              "    </p>\n",
              "\n",
              "\n",
              "    \n",
              "\n",
              "    \n",
              "\n",
              "    \n",
              "\n",
              "    \n",
              "\n",
              "\n",
              "    \n",
              "\n",
              "    \n",
              "\n",
              "    \n",
              "\n",
              "    \n",
              "\n",
              "    \n",
              "\n",
              "    \n",
              "\n",
              "\n",
              "    \n",
              "\n",
              "    \n",
              "\n",
              "    \n",
              "\n",
              "    \n",
              "\n",
              "    \n",
              "\n",
              "    \n",
              "\n",
              "\n",
              "\n"
            ],
            "text/plain": [
              "<IPython.core.display.HTML object>"
            ]
          },
          "metadata": {
            "tags": []
          },
          "execution_count": 48
        }
      ]
    },
    {
      "cell_type": "markdown",
      "metadata": {
        "id": "x780FVL3dFej"
      },
      "source": [
        "###Save Model"
      ]
    },
    {
      "cell_type": "code",
      "metadata": {
        "id": "aewjelXlbcU1"
      },
      "source": [
        "predictor.save('/my_models/ID_RoBERTa_with-emo_noemojis')"
      ],
      "execution_count": null,
      "outputs": []
    },
    {
      "cell_type": "code",
      "metadata": {
        "id": "c6WdiWbEbtBO"
      },
      "source": [
        "# Reload to check that model has been saved correctly\n",
        "reloaded_predictor = ktrain.load_predictor('/my_models/ID_RoBERTa_with-emo_noemojis')"
      ],
      "execution_count": null,
      "outputs": []
    },
    {
      "cell_type": "code",
      "metadata": {
        "colab": {
          "base_uri": "https://localhost:8080/"
        },
        "id": "nSc0fyYrbz3w",
        "outputId": "f4a0be98-65d7-4024-9f0e-7550de2f61d4"
      },
      "source": [
        "reloaded_predictor.predict(test_sent)"
      ],
      "execution_count": null,
      "outputs": [
        {
          "output_type": "execute_result",
          "data": {
            "text/plain": [
              "1"
            ]
          },
          "metadata": {
            "tags": []
          },
          "execution_count": 51
        }
      ]
    },
    {
      "cell_type": "code",
      "metadata": {
        "colab": {
          "base_uri": "https://localhost:8080/"
        },
        "id": "Ikj-RNoLb-T1",
        "outputId": "155920e3-68a3-4438-8876-aac5d43f9b6b"
      },
      "source": [
        "# Do reloaded_predictor and original predictor give the same numbers?\n",
        "reloaded_predictor.predict_proba(test_sent)"
      ],
      "execution_count": null,
      "outputs": [
        {
          "output_type": "execute_result",
          "data": {
            "text/plain": [
              "array([0.456226, 0.543774], dtype=float32)"
            ]
          },
          "metadata": {
            "tags": []
          },
          "execution_count": 52
        }
      ]
    },
    {
      "cell_type": "code",
      "metadata": {
        "colab": {
          "base_uri": "https://localhost:8080/"
        },
        "id": "zrjAufCjfLpM",
        "outputId": "a6b32450-4bd0-43f3-de07-3cec1a4f87ef"
      },
      "source": [
        "predictor.predict_proba(test_sent)"
      ],
      "execution_count": null,
      "outputs": [
        {
          "output_type": "execute_result",
          "data": {
            "text/plain": [
              "array([0.456226, 0.543774], dtype=float32)"
            ]
          },
          "metadata": {
            "tags": []
          },
          "execution_count": 53
        }
      ]
    },
    {
      "cell_type": "code",
      "metadata": {
        "colab": {
          "base_uri": "https://localhost:8080/"
        },
        "id": "jeyAN_EDcDdD",
        "outputId": "8ed86870-528e-4fdb-f831-ec7c6efbdfb3"
      },
      "source": [
        "reloaded_predictor.get_classes()"
      ],
      "execution_count": null,
      "outputs": [
        {
          "output_type": "execute_result",
          "data": {
            "text/plain": [
              "[0, 1]"
            ]
          },
          "metadata": {
            "tags": []
          },
          "execution_count": 54
        }
      ]
    },
    {
      "cell_type": "markdown",
      "metadata": {
        "id": "QJZXUtpuSZp3"
      },
      "source": [
        "**!!!before running next cell:**\n",
        "+ keep only best weight and put it into model folder\n",
        "+ move my_models into 'content' "
      ]
    },
    {
      "cell_type": "code",
      "metadata": {
        "colab": {
          "base_uri": "https://localhost:8080/"
        },
        "id": "aacbUV3_hnaw",
        "outputId": "8ff8aa16-a72a-410e-82e0-c37853d5aef2"
      },
      "source": [
        "# Copy model files to drive - files on google colab disk space are temporary and get deleted when the session is over\n",
        "\n",
        "%cp -av \"/content/my_models/ID_RoBERTa_with-emo_noemojis\" \"/content/drive/MyDrive/TeamLab/my_models\""
      ],
      "execution_count": null,
      "outputs": [
        {
          "output_type": "stream",
          "text": [
            "'/content/my_models/ID_RoBERTa_with-emo_noemojis' -> '/content/drive/MyDrive/TeamLab/my_models/ID_RoBERTa_with-emo_noemojis'\n",
            "'/content/my_models/ID_RoBERTa_with-emo_noemojis/weights-05.hdf5' -> '/content/drive/MyDrive/TeamLab/my_models/ID_RoBERTa_with-emo_noemojis/weights-05.hdf5'\n",
            "'/content/my_models/ID_RoBERTa_with-emo_noemojis/config.json' -> '/content/drive/MyDrive/TeamLab/my_models/ID_RoBERTa_with-emo_noemojis/config.json'\n",
            "'/content/my_models/ID_RoBERTa_with-emo_noemojis/tf_model.h5' -> '/content/drive/MyDrive/TeamLab/my_models/ID_RoBERTa_with-emo_noemojis/tf_model.h5'\n",
            "'/content/my_models/ID_RoBERTa_with-emo_noemojis/tokenizer_config.json' -> '/content/drive/MyDrive/TeamLab/my_models/ID_RoBERTa_with-emo_noemojis/tokenizer_config.json'\n",
            "'/content/my_models/ID_RoBERTa_with-emo_noemojis/special_tokens_map.json' -> '/content/drive/MyDrive/TeamLab/my_models/ID_RoBERTa_with-emo_noemojis/special_tokens_map.json'\n",
            "'/content/my_models/ID_RoBERTa_with-emo_noemojis/vocab.json' -> '/content/drive/MyDrive/TeamLab/my_models/ID_RoBERTa_with-emo_noemojis/vocab.json'\n",
            "'/content/my_models/ID_RoBERTa_with-emo_noemojis/merges.txt' -> '/content/drive/MyDrive/TeamLab/my_models/ID_RoBERTa_with-emo_noemojis/merges.txt'\n",
            "'/content/my_models/ID_RoBERTa_with-emo_noemojis/tf_model.preproc' -> '/content/drive/MyDrive/TeamLab/my_models/ID_RoBERTa_with-emo_noemojis/tf_model.preproc'\n"
          ],
          "name": "stdout"
        }
      ]
    },
    {
      "cell_type": "markdown",
      "metadata": {
        "id": "e4MTNIhdYIqV"
      },
      "source": [
        "#2) Irony detection with TweetEval emotion labels\n",
        "\n",
        "Assign emotion label to SemEval tweets\n",
        "\n",
        "TweetEval labels: joy, sadness, optimism, anger\n",
        "\n",
        "__\n",
        "\n",
        "run cells up to **1)**\n",
        "\n",
        "train data: x_train_norm, y_train\n",
        "\n",
        "test data: x_test_norm, y_test"
      ]
    },
    {
      "cell_type": "markdown",
      "metadata": {
        "id": "xFYAVlm4ZNiM"
      },
      "source": [
        "###Load pre-trained emotion classifier (EC_RoBERTa_TweetEval)"
      ]
    },
    {
      "cell_type": "code",
      "metadata": {
        "colab": {
          "base_uri": "https://localhost:8080/",
          "height": 35
        },
        "id": "_FuQix1AZNiW",
        "outputId": "2fc665c5-ece9-4d74-efc6-f2224f398869"
      },
      "source": [
        "pwd"
      ],
      "execution_count": null,
      "outputs": [
        {
          "output_type": "execute_result",
          "data": {
            "application/vnd.google.colaboratory.intrinsic+json": {
              "type": "string"
            },
            "text/plain": [
              "'/content'"
            ]
          },
          "metadata": {
            "tags": []
          },
          "execution_count": 21
        }
      ]
    },
    {
      "cell_type": "code",
      "metadata": {
        "id": "CtNp-J0LZNiX"
      },
      "source": [
        "import ktrain\n",
        "from ktrain import text\n",
        "\n",
        "emotion_predictor = ktrain.load_predictor('/content/drive/MyDrive/TeamLab/my_models/EC_RoBERTa_TweetEval')"
      ],
      "execution_count": null,
      "outputs": []
    },
    {
      "cell_type": "markdown",
      "metadata": {
        "id": "HxWFCcL12PVe"
      },
      "source": [
        "###Make emotion prediction and add label to tweet"
      ]
    },
    {
      "cell_type": "code",
      "metadata": {
        "colab": {
          "base_uri": "https://localhost:8080/",
          "height": 167,
          "referenced_widgets": [
            "7d2deca1b85d48e3a008a4dcfe660879",
            "f714689aec85419cb8670b2dd3c5581e",
            "6a9469e01b7a43adabc35a38ab09b614",
            "43df2450b4b34f0297dbd7293321e9d8",
            "987962e25869422d9a3e1e3e8f5a8a1b",
            "e3e93e49181b4583b9ed8796ed9155ef",
            "2606a1a389394523ae021cb76342445f",
            "4f6258a85b914ac3be275b93366f8565",
            "cf3f1a43ef6841a69e72ebfe07d6a65d",
            "75e25979b278494898ad1444f95dfa31",
            "5ea7767e4db649a2bd315cd4cc3235ce",
            "6a0e6fdf0c8242b6bcca113b2c4abec7",
            "0ab5362722ff442d91850a9292d9a4fe",
            "deccd95855f6426e96d105023772f8ce",
            "bbe511748f4d4d2c9e6a8d27aff391f2",
            "5b36e71fda194d2caf5f8acebd328602",
            "be4e1feadfac40a5ba70897b9b13c815",
            "b2abe608c2d14ec5aca9a565059e73fb",
            "80bf45aa8b4c4ddaa3f05924c924aa52",
            "9deeb3d7b43a4307b55126c3c67758e3",
            "598049cb1d8e4614a74d4e6bf1068ca4",
            "99647a228cc0425c8b85476cd28e0b36",
            "b62d0de9a19644458e4f70852014fd14",
            "a8ae9f46eb5848599543c61943791cc5"
          ]
        },
        "id": "EgYzi9FRZtBn",
        "outputId": "244f0109-a49e-45d1-a872-fa1c0bb808aa"
      },
      "source": [
        "x_train_with_emo = []\n",
        "\n",
        "idx = 0\n",
        "for tweet in x_train_norm:\n",
        "    tweet_lst = tweet.split()\n",
        "    emo_pred = emotion_predictor.predict(tweet)\n",
        "    tweet_lst.append(emo_pred)\n",
        "    x_train_with_emo.append(' '.join(tweet_lst))\n",
        "    idx += 1"
      ],
      "execution_count": null,
      "outputs": [
        {
          "output_type": "display_data",
          "data": {
            "application/vnd.jupyter.widget-view+json": {
              "model_id": "7d2deca1b85d48e3a008a4dcfe660879",
              "version_minor": 0,
              "version_major": 2
            },
            "text/plain": [
              "HBox(children=(FloatProgress(value=0.0, description='Downloading', max=898823.0, style=ProgressStyle(descripti…"
            ]
          },
          "metadata": {
            "tags": []
          }
        },
        {
          "output_type": "stream",
          "text": [
            "\n"
          ],
          "name": "stdout"
        },
        {
          "output_type": "display_data",
          "data": {
            "application/vnd.jupyter.widget-view+json": {
              "model_id": "cf3f1a43ef6841a69e72ebfe07d6a65d",
              "version_minor": 0,
              "version_major": 2
            },
            "text/plain": [
              "HBox(children=(FloatProgress(value=0.0, description='Downloading', max=456318.0, style=ProgressStyle(descripti…"
            ]
          },
          "metadata": {
            "tags": []
          }
        },
        {
          "output_type": "stream",
          "text": [
            "\n"
          ],
          "name": "stdout"
        },
        {
          "output_type": "display_data",
          "data": {
            "application/vnd.jupyter.widget-view+json": {
              "model_id": "be4e1feadfac40a5ba70897b9b13c815",
              "version_minor": 0,
              "version_major": 2
            },
            "text/plain": [
              "HBox(children=(FloatProgress(value=0.0, description='Downloading', max=1355863.0, style=ProgressStyle(descript…"
            ]
          },
          "metadata": {
            "tags": []
          }
        },
        {
          "output_type": "stream",
          "text": [
            "\n"
          ],
          "name": "stdout"
        }
      ]
    },
    {
      "cell_type": "code",
      "metadata": {
        "colab": {
          "base_uri": "https://localhost:8080/"
        },
        "id": "fs7HjJ8Aaq9M",
        "outputId": "44911169-5910-4532-e377-ad64c6cae553"
      },
      "source": [
        "x_train_with_emo[:10]"
      ],
      "execution_count": null,
      "outputs": [
        {
          "output_type": "execute_result",
          "data": {
            "text/plain": [
              "['Sweet United Nations video . Just in time for Christmas . imagine NoReligion url joy',\n",
              " 'tagged_user We are rumored to have talked to Erv s agent ... and the Angels asked about Ed Escobar ... that s hardly nothing anger',\n",
              " 'Hey there ! Nice to see you Minnesota ND Winter Weather joy',\n",
              " '3 episodes left I m dying over here sadness',\n",
              " 'I can t breathe ! was chosen as the most notable quote of the year in an annual list released by a Yale University librarian joy',\n",
              " 'You re never too old for Footie Pajamas . url joy',\n",
              " 'Nothing makes me happier then getting on the highway and seeing break lights light up like a Christmas tree .. joy',\n",
              " '4 30 an opening my first beer now going to be a long night day joy',\n",
              " 'tagged_user Klug do you think you would support a guy who knocked out your daughter ? Rice doesn t deserve support . anger',\n",
              " 'tagged_user You are not allowed to open that until Christmas day ! joy']"
            ]
          },
          "metadata": {
            "tags": []
          },
          "execution_count": 25
        }
      ]
    },
    {
      "cell_type": "code",
      "metadata": {
        "id": "HVeAC_WGaONF"
      },
      "source": [
        "x_test_with_emo = []\n",
        "\n",
        "idx = 0\n",
        "for tweet in x_test_norm:\n",
        "    tweet_lst = tweet.split()\n",
        "    emo_pred = emotion_predictor.predict(tweet)\n",
        "    tweet_lst.append(emo_pred)\n",
        "    x_test_with_emo.append(' '.join(tweet_lst))\n",
        "    idx += 1"
      ],
      "execution_count": null,
      "outputs": []
    },
    {
      "cell_type": "code",
      "metadata": {
        "colab": {
          "base_uri": "https://localhost:8080/"
        },
        "id": "QnrwglK9avGp",
        "outputId": "8c3625e1-c390-49e3-cdf7-4fddf80acef3"
      },
      "source": [
        "x_test_with_emo[:10]"
      ],
      "execution_count": null,
      "outputs": [
        {
          "output_type": "execute_result",
          "data": {
            "text/plain": [
              "['tagged_user Can you Help ? More conservatives needed on TSU + get paid 4 posting stuff like this ! YOU $ can go to url optimism',\n",
              " 'Just walked in to Starbucks and asked for a \" tall blonde \" Hahahaha irony joy',\n",
              " 'NOT going to WIN url anger',\n",
              " 'tagged_user He is exactly that sort of person . Weirdo ! joy',\n",
              " 'So much sarcasm at work mate 10 10 boring 100 % dead mate full on shit absolutely sleeping mate can t handle the sarcasm anger',\n",
              " 'Corny jokes are my absolute favorite joy',\n",
              " 'People complain about my backround pic and all I feel is like \" hey don t blame me Albert E might have spoken those words \" sarcasm life anger',\n",
              " 'tagged_user Duncan tagged_user Darn my sock joke needs fixing ? anger',\n",
              " 'if Christian expects Fifa to sleep in my bed with me tonight he s wrong anger',\n",
              " 'People who tell people with anxiety to \" just stop worrying about it \" are my favorite kind of people not educateyourself optimism']"
            ]
          },
          "metadata": {
            "tags": []
          },
          "execution_count": 27
        }
      ]
    },
    {
      "cell_type": "markdown",
      "metadata": {
        "id": "eG7MBHL_ZNiZ"
      },
      "source": [
        "###Set up irony detector"
      ]
    },
    {
      "cell_type": "code",
      "metadata": {
        "colab": {
          "base_uri": "https://localhost:8080/"
        },
        "id": "MOq7r_YcdAai",
        "outputId": "8c4961c4-efa1-42e4-9911-61c16f882dbf"
      },
      "source": [
        "# Check max/mean length of tweets\n",
        "from statistics import mean\n",
        "\n",
        "seq_len = []\n",
        "\n",
        "idx = 0\n",
        "for tweet in x_train_with_emo:\n",
        "    if len(tweet.split()) > 35:\n",
        "        print(idx, tweet)\n",
        "    seq_len.append(len(tweet.split()))\n",
        "    idx += 1\n",
        "\n",
        "print(max(seq_len))\n",
        "print(mean(seq_len))"
      ],
      "execution_count": null,
      "outputs": [
        {
          "output_type": "stream",
          "text": [
            "888 This time change is crazy . everyone is all up here like woohoo its 11am let us live life ! and I m like it is 5am and I have not slept at all yet . joy\n",
            "948 Kyle it won t let me tagged_user you ? But yeah we are grown ass men with fast cars . Who gives af lol . And bring it to my room hooah ? See ya in a bit . joy\n",
            "2743 tagged_user ForgetMeNot oh lordy ! Eating out was the hardest or going to someone s place . Esp as I don t eat meat . * eye roll * what can we feed her ? sadness\n",
            "40\n",
            "16.220918101199793\n"
          ],
          "name": "stdout"
        }
      ]
    },
    {
      "cell_type": "code",
      "metadata": {
        "colab": {
          "base_uri": "https://localhost:8080/",
          "height": 254
        },
        "id": "i_lSuKv8ZNiZ",
        "outputId": "1c740ae0-7661-4521-8c43-59561f0e1cf4"
      },
      "source": [
        "import ktrain\n",
        "from ktrain import text\n",
        "\n",
        "\n",
        "categories = [0, 1]\n",
        "\n",
        "MODEL_NAME = 'roberta-base'\n",
        "\n",
        "# Transormer is a wrapper to the Hugging Face transformers library for text classification.\n",
        "t = text.Transformer(MODEL_NAME, maxlen=100, class_names=categories)\n",
        "\n",
        "# Using normalised input data\n",
        "trn = t.preprocess_train(x_train_with_emo, y_train)\n",
        "val = t.preprocess_test(x_test_with_emo, y_test)\n",
        "\n",
        "model = t.get_classifier()\n",
        "learner = ktrain.get_learner(model, train_data=trn, val_data=val, batch_size=16)"
      ],
      "execution_count": null,
      "outputs": [
        {
          "output_type": "stream",
          "text": [
            "preprocessing train...\n",
            "language: en\n",
            "train sequence lengths:\n",
            "\tmean : 16\n",
            "\t95percentile : 28\n",
            "\t99percentile : 31\n"
          ],
          "name": "stdout"
        },
        {
          "output_type": "display_data",
          "data": {
            "text/html": [
              ""
            ],
            "text/plain": [
              "<IPython.core.display.HTML object>"
            ]
          },
          "metadata": {
            "tags": []
          }
        },
        {
          "output_type": "stream",
          "text": [
            "Is Multi-Label? False\n",
            "preprocessing test...\n",
            "language: en\n",
            "test sequence lengths:\n",
            "\tmean : 17\n",
            "\t95percentile : 29\n",
            "\t99percentile : 32\n"
          ],
          "name": "stdout"
        },
        {
          "output_type": "display_data",
          "data": {
            "text/html": [
              ""
            ],
            "text/plain": [
              "<IPython.core.display.HTML object>"
            ]
          },
          "metadata": {
            "tags": []
          }
        }
      ]
    },
    {
      "cell_type": "markdown",
      "metadata": {
        "id": "oJRIqpVrZNia"
      },
      "source": [
        "###Train"
      ]
    },
    {
      "cell_type": "code",
      "metadata": {
        "id": "jEMNRXzzZNia"
      },
      "source": [
        "best_lr = 5e-5"
      ],
      "execution_count": null,
      "outputs": []
    },
    {
      "cell_type": "code",
      "metadata": {
        "colab": {
          "base_uri": "https://localhost:8080/"
        },
        "id": "8I9d8pz_ZNia",
        "outputId": "7c657b7e-2c98-4d8d-bacc-664cc74dd342"
      },
      "source": [
        "# Train\n",
        "# Parameters: LR, epochs\n",
        "# LR==(5e-5)\n",
        "\n",
        "learner.autofit(lr=best_lr, checkpoint_folder='/my_models', verbose=1)\n",
        "\n",
        "# if epochs is None, then early_stopping and reduce_on_plateau are atomatically set to 6 and 3, respectively.\n",
        "# if lr missing, it will be estimated (initial lr)"
      ],
      "execution_count": null,
      "outputs": [
        {
          "output_type": "stream",
          "text": [
            "early_stopping automatically enabled at patience=5\n",
            "reduce_on_plateau automatically enabled at patience=2\n",
            "\n",
            "\n",
            "begin training using triangular learning rate policy with max lr of 5e-05...\n",
            "Epoch 1/1024\n",
            "240/240 [==============================] - 97s 356ms/step - loss: 0.6717 - accuracy: 0.5858 - val_loss: 0.6201 - val_accuracy: 0.6556\n",
            "Epoch 2/1024\n",
            "240/240 [==============================] - 85s 351ms/step - loss: 0.6204 - accuracy: 0.6518 - val_loss: 0.6248 - val_accuracy: 0.6786\n",
            "Epoch 3/1024\n",
            "240/240 [==============================] - 85s 351ms/step - loss: 0.5125 - accuracy: 0.7517 - val_loss: 0.5690 - val_accuracy: 0.7130\n",
            "Epoch 4/1024\n",
            "240/240 [==============================] - 85s 350ms/step - loss: 0.3964 - accuracy: 0.8307 - val_loss: 0.6297 - val_accuracy: 0.6913\n",
            "Epoch 5/1024\n",
            "240/240 [==============================] - 85s 349ms/step - loss: 0.2803 - accuracy: 0.8855 - val_loss: 0.7112 - val_accuracy: 0.6990\n",
            "\n",
            "Epoch 00005: Reducing Max LR on Plateau: new max lr will be 2.5e-05 (if not early_stopping).\n",
            "Epoch 6/1024\n",
            "240/240 [==============================] - 85s 349ms/step - loss: 0.1448 - accuracy: 0.9491 - val_loss: 1.0944 - val_accuracy: 0.6913\n",
            "Epoch 7/1024\n",
            "240/240 [==============================] - 85s 349ms/step - loss: 0.0952 - accuracy: 0.9640 - val_loss: 1.0285 - val_accuracy: 0.7283\n",
            "\n",
            "Epoch 00007: Reducing Max LR on Plateau: new max lr will be 1.25e-05 (if not early_stopping).\n",
            "Epoch 8/1024\n",
            "240/240 [==============================] - 85s 349ms/step - loss: 0.0509 - accuracy: 0.9844 - val_loss: 1.2034 - val_accuracy: 0.7296\n",
            "Restoring model weights from the end of the best epoch.\n",
            "Epoch 00008: early stopping\n",
            "Weights from best epoch have been loaded into model.\n"
          ],
          "name": "stdout"
        },
        {
          "output_type": "execute_result",
          "data": {
            "text/plain": [
              "<tensorflow.python.keras.callbacks.History at 0x7fe7d8284e10>"
            ]
          },
          "metadata": {
            "tags": []
          },
          "execution_count": 34
        }
      ]
    },
    {
      "cell_type": "markdown",
      "metadata": {
        "id": "KPcoJsBfZNia"
      },
      "source": [
        "###Evaluate predictions"
      ]
    },
    {
      "cell_type": "code",
      "metadata": {
        "id": "DvifYtkBZNia"
      },
      "source": [
        "# Set weights to those of the best epoch\n",
        "learner.model.load_weights('/my_models/weights-07.hdf5')"
      ],
      "execution_count": null,
      "outputs": []
    },
    {
      "cell_type": "code",
      "metadata": {
        "colab": {
          "base_uri": "https://localhost:8080/"
        },
        "id": "E9qgj1cXZNia",
        "outputId": "7cc3e17d-f848-4d7e-b3c5-b79e20016a87"
      },
      "source": [
        "learner.validate(class_names=t.get_classes())"
      ],
      "execution_count": null,
      "outputs": [
        {
          "output_type": "stream",
          "text": [
            "              precision    recall  f1-score   support\n",
            "\n",
            "           0       0.81      0.72      0.76       473\n",
            "           1       0.63      0.75      0.69       311\n",
            "\n",
            "    accuracy                           0.73       784\n",
            "   macro avg       0.72      0.73      0.72       784\n",
            "weighted avg       0.74      0.73      0.73       784\n",
            "\n"
          ],
          "name": "stdout"
        },
        {
          "output_type": "execute_result",
          "data": {
            "text/plain": [
              "array([[339, 134],\n",
              "       [ 79, 232]])"
            ]
          },
          "metadata": {
            "tags": []
          },
          "execution_count": 37
        }
      ]
    },
    {
      "cell_type": "code",
      "metadata": {
        "colab": {
          "base_uri": "https://localhost:8080/"
        },
        "id": "7PhXOfX4ZNib",
        "outputId": "c92f77f6-5498-4b9a-f937-5bac6b3a9950"
      },
      "source": [
        "# the ones that we got most wrong\n",
        "learner.view_top_losses(n=5, preproc=t)"
      ],
      "execution_count": null,
      "outputs": [
        {
          "output_type": "stream",
          "text": [
            "----------\n",
            "id:618 | loss:4.42 | true:0 | pred:1)\n",
            "\n",
            "----------\n",
            "id:676 | loss:3.95 | true:0 | pred:1)\n",
            "\n",
            "----------\n",
            "id:276 | loss:3.66 | true:0 | pred:1)\n",
            "\n",
            "----------\n",
            "id:334 | loss:3.51 | true:0 | pred:1)\n",
            "\n",
            "----------\n",
            "id:700 | loss:3.51 | true:0 | pred:1)\n",
            "\n"
          ],
          "name": "stdout"
        }
      ]
    },
    {
      "cell_type": "code",
      "metadata": {
        "colab": {
          "base_uri": "https://localhost:8080/"
        },
        "id": "zKFlE-qEZNib",
        "outputId": "1c6a1558-368e-44a9-8df5-1a43da723410"
      },
      "source": [
        "# print out instance to see why...\n",
        "print(x_test_with_emo[618])\n",
        "print(x_test_with_emo[676])\n",
        "print(x_test_with_emo[276])\n",
        "print(x_test_with_emo[334])\n",
        "print(x_test_with_emo[700])"
      ],
      "execution_count": null,
      "outputs": [
        {
          "output_type": "stream",
          "text": [
            "Love it when my mans on a cleaning spree .. Saves me doing it joy\n",
            "So glad I m off work tonite joy\n",
            "I m really excited for next semester joy\n",
            "Also it s amazing how a shower and Taco Bell can make you feel like a new person . tagged_user joy\n",
            "Today was a very good day in Iceland . joy\n"
          ],
          "name": "stdout"
        }
      ]
    },
    {
      "cell_type": "markdown",
      "metadata": {
        "id": "Ow0ABg0xZNib"
      },
      "source": [
        "###Make predictions on new data"
      ]
    },
    {
      "cell_type": "code",
      "metadata": {
        "id": "avFYtQ4AZNib"
      },
      "source": [
        "predictor = ktrain.get_predictor(learner.model, preproc=t)"
      ],
      "execution_count": null,
      "outputs": []
    },
    {
      "cell_type": "code",
      "metadata": {
        "id": "HIBALU1eZNib"
      },
      "source": [
        "test_sent = ('Cool it is raining again')"
      ],
      "execution_count": null,
      "outputs": []
    },
    {
      "cell_type": "code",
      "metadata": {
        "colab": {
          "base_uri": "https://localhost:8080/"
        },
        "id": "GYIh4ywfZNib",
        "outputId": "f3789587-2725-41f4-c168-439e7419b31f"
      },
      "source": [
        "predictor.predict(test_sent)"
      ],
      "execution_count": null,
      "outputs": [
        {
          "output_type": "execute_result",
          "data": {
            "text/plain": [
              "1"
            ]
          },
          "metadata": {
            "tags": []
          },
          "execution_count": 54
        }
      ]
    },
    {
      "cell_type": "code",
      "metadata": {
        "colab": {
          "base_uri": "https://localhost:8080/",
          "height": 169
        },
        "id": "x87ZNMEnZNic",
        "outputId": "1fdf703a-d6a9-4071-c287-8274c87e2aec"
      },
      "source": [
        "# Ask for explanation\n",
        "predictor.explain(test_sent)"
      ],
      "execution_count": null,
      "outputs": [
        {
          "output_type": "execute_result",
          "data": {
            "text/html": [
              "\n",
              "    <style>\n",
              "    table.eli5-weights tr:hover {\n",
              "        filter: brightness(85%);\n",
              "    }\n",
              "</style>\n",
              "\n",
              "\n",
              "\n",
              "    \n",
              "\n",
              "    \n",
              "\n",
              "    \n",
              "\n",
              "    \n",
              "\n",
              "    \n",
              "\n",
              "    \n",
              "\n",
              "\n",
              "    \n",
              "\n",
              "    \n",
              "\n",
              "    \n",
              "\n",
              "    \n",
              "        \n",
              "\n",
              "    \n",
              "\n",
              "        \n",
              "\n",
              "        \n",
              "    \n",
              "        \n",
              "        \n",
              "    \n",
              "        <p style=\"margin-bottom: 0.5em; margin-top: 0em\">\n",
              "            <b>\n",
              "    \n",
              "        y=1\n",
              "    \n",
              "</b>\n",
              "\n",
              "    \n",
              "    (probability <b>0.538</b>, score <b>0.154</b>)\n",
              "\n",
              "top features\n",
              "        </p>\n",
              "    \n",
              "    <table class=\"eli5-weights\"\n",
              "           style=\"border-collapse: collapse; border: none; margin-top: 0em; table-layout: auto; margin-bottom: 2em;\">\n",
              "        <thead>\n",
              "        <tr style=\"border: none;\">\n",
              "            \n",
              "                <th style=\"padding: 0 1em 0 0.5em; text-align: right; border: none;\" title=\"Feature contribution already accounts for the feature value (for linear models, contribution = weight * feature value), and the sum of feature contributions is equal to the score or, for some classifiers, to the probability. Feature values are shown if &quot;show_feature_values&quot; is True.\">\n",
              "                    Contribution<sup>?</sup>\n",
              "                </th>\n",
              "            \n",
              "            <th style=\"padding: 0 0.5em 0 0.5em; text-align: left; border: none;\">Feature</th>\n",
              "            \n",
              "        </tr>\n",
              "        </thead>\n",
              "        <tbody>\n",
              "        \n",
              "            <tr style=\"background-color: hsl(120, 100.00%, 80.00%); border: none;\">\n",
              "    <td style=\"padding: 0 1em 0 0.5em; text-align: right; border: none;\">\n",
              "        +0.402\n",
              "    </td>\n",
              "    <td style=\"padding: 0 0.5em 0 0.5em; text-align: left; border: none;\">\n",
              "        Highlighted in text (sum)\n",
              "    </td>\n",
              "    \n",
              "</tr>\n",
              "        \n",
              "        \n",
              "\n",
              "        \n",
              "        \n",
              "            <tr style=\"background-color: hsl(0, 100.00%, 85.74%); border: none;\">\n",
              "    <td style=\"padding: 0 1em 0 0.5em; text-align: right; border: none;\">\n",
              "        -0.248\n",
              "    </td>\n",
              "    <td style=\"padding: 0 0.5em 0 0.5em; text-align: left; border: none;\">\n",
              "        &lt;BIAS&gt;\n",
              "    </td>\n",
              "    \n",
              "</tr>\n",
              "        \n",
              "\n",
              "        </tbody>\n",
              "    </table>\n",
              "\n",
              "    \n",
              "\n",
              "\n",
              "\n",
              "    <p style=\"margin-bottom: 2.5em; margin-top:-0.5em;\">\n",
              "        <span style=\"background-color: hsl(120, 100.00%, 70.99%); opacity: 0.93\" title=\"0.295\">cool</span><span style=\"opacity: 0.80\"> </span><span style=\"background-color: hsl(120, 100.00%, 87.36%); opacity: 0.84\" title=\"0.090\">it</span><span style=\"opacity: 0.80\"> </span><span style=\"background-color: hsl(120, 100.00%, 78.09%); opacity: 0.88\" title=\"0.198\">is</span><span style=\"opacity: 0.80\"> </span><span style=\"background-color: hsl(120, 100.00%, 83.34%); opacity: 0.86\" title=\"0.134\">raining</span><span style=\"opacity: 0.80\"> </span><span style=\"background-color: hsl(120, 100.00%, 60.00%); opacity: 1.00\" title=\"0.467\">again</span>\n",
              "    </p>\n",
              "\n",
              "\n",
              "    \n",
              "\n",
              "    \n",
              "\n",
              "    \n",
              "\n",
              "    \n",
              "\n",
              "\n",
              "    \n",
              "\n",
              "    \n",
              "\n",
              "    \n",
              "\n",
              "    \n",
              "\n",
              "    \n",
              "\n",
              "    \n",
              "\n",
              "\n",
              "    \n",
              "\n",
              "    \n",
              "\n",
              "    \n",
              "\n",
              "    \n",
              "\n",
              "    \n",
              "\n",
              "    \n",
              "\n",
              "\n",
              "\n"
            ],
            "text/plain": [
              "<IPython.core.display.HTML object>"
            ]
          },
          "metadata": {
            "tags": []
          },
          "execution_count": 55
        }
      ]
    },
    {
      "cell_type": "markdown",
      "metadata": {
        "id": "0U0WdNiMojmt"
      },
      "source": [
        "To save:\n",
        "\n",
        "\n",
        "```\n",
        "predictor.save('/my_models/ID_RoBERTa_with-emo......')\n",
        "```"
      ]
    }
  ]
}