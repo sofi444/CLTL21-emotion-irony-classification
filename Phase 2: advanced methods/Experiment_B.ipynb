{
  "nbformat": 4,
  "nbformat_minor": 0,
  "metadata": {
    "colab": {
      "name": "ExpB.ipynb",
      "provenance": [],
      "collapsed_sections": [
        "bVjTn_mh4JkO",
        "a0EN3dapM7ZF",
        "u5hksLiI5opP",
        "1AjPyuaaTL3E",
        "aJV7Ld479P3O",
        "IDeUi5J9rk_L",
        "qbUEQgUO9Tv9",
        "zcYaOq6UFYAw",
        "wa29NXjBI7Ed",
        "qAsdeoTrPJad",
        "1JiHA-NAR3MU",
        "9O_eGQ6VS7Hc",
        "aAV6W8sPS7Ho"
      ],
      "toc_visible": true
    },
    "kernelspec": {
      "name": "python3",
      "display_name": "Python 3"
    },
    "language_info": {
      "name": "python"
    },
    "accelerator": "GPU",
    "widgets": {
      "application/vnd.jupyter.widget-state+json": {
        "ffe92da4c16c4e5da9da30b101e629ec": {
          "model_module": "@jupyter-widgets/controls",
          "model_name": "HBoxModel",
          "state": {
            "_view_name": "HBoxView",
            "_dom_classes": [],
            "_model_name": "HBoxModel",
            "_view_module": "@jupyter-widgets/controls",
            "_model_module_version": "1.5.0",
            "_view_count": null,
            "_view_module_version": "1.5.0",
            "box_style": "",
            "layout": "IPY_MODEL_99f59f39578e493ba5fc8d4794fc99b0",
            "_model_module": "@jupyter-widgets/controls",
            "children": [
              "IPY_MODEL_255743a5ae5f439abdb119565f5cc120",
              "IPY_MODEL_11043f359d11432196708648e1c10971"
            ]
          }
        },
        "99f59f39578e493ba5fc8d4794fc99b0": {
          "model_module": "@jupyter-widgets/base",
          "model_name": "LayoutModel",
          "state": {
            "_view_name": "LayoutView",
            "grid_template_rows": null,
            "right": null,
            "justify_content": null,
            "_view_module": "@jupyter-widgets/base",
            "overflow": null,
            "_model_module_version": "1.2.0",
            "_view_count": null,
            "flex_flow": null,
            "width": null,
            "min_width": null,
            "border": null,
            "align_items": null,
            "bottom": null,
            "_model_module": "@jupyter-widgets/base",
            "top": null,
            "grid_column": null,
            "overflow_y": null,
            "overflow_x": null,
            "grid_auto_flow": null,
            "grid_area": null,
            "grid_template_columns": null,
            "flex": null,
            "_model_name": "LayoutModel",
            "justify_items": null,
            "grid_row": null,
            "max_height": null,
            "align_content": null,
            "visibility": null,
            "align_self": null,
            "height": null,
            "min_height": null,
            "padding": null,
            "grid_auto_rows": null,
            "grid_gap": null,
            "max_width": null,
            "order": null,
            "_view_module_version": "1.2.0",
            "grid_template_areas": null,
            "object_position": null,
            "object_fit": null,
            "grid_auto_columns": null,
            "margin": null,
            "display": null,
            "left": null
          }
        },
        "255743a5ae5f439abdb119565f5cc120": {
          "model_module": "@jupyter-widgets/controls",
          "model_name": "FloatProgressModel",
          "state": {
            "_view_name": "ProgressView",
            "style": "IPY_MODEL_e71ad7de0e14421aa1db2758dfdbe9b0",
            "_dom_classes": [],
            "description": "Downloading: 100%",
            "_model_name": "FloatProgressModel",
            "bar_style": "success",
            "max": 481,
            "_view_module": "@jupyter-widgets/controls",
            "_model_module_version": "1.5.0",
            "value": 481,
            "_view_count": null,
            "_view_module_version": "1.5.0",
            "orientation": "horizontal",
            "min": 0,
            "description_tooltip": null,
            "_model_module": "@jupyter-widgets/controls",
            "layout": "IPY_MODEL_1b905c1bc40f4fc183b1ac7a1f6643ab"
          }
        },
        "11043f359d11432196708648e1c10971": {
          "model_module": "@jupyter-widgets/controls",
          "model_name": "HTMLModel",
          "state": {
            "_view_name": "HTMLView",
            "style": "IPY_MODEL_2f6012efcde64a56b219c1ed8fededd4",
            "_dom_classes": [],
            "description": "",
            "_model_name": "HTMLModel",
            "placeholder": "​",
            "_view_module": "@jupyter-widgets/controls",
            "_model_module_version": "1.5.0",
            "value": " 481/481 [00:00&lt;00:00, 6.45kB/s]",
            "_view_count": null,
            "_view_module_version": "1.5.0",
            "description_tooltip": null,
            "_model_module": "@jupyter-widgets/controls",
            "layout": "IPY_MODEL_79ec8bc77681443eb773ee4f3eb8b01d"
          }
        },
        "e71ad7de0e14421aa1db2758dfdbe9b0": {
          "model_module": "@jupyter-widgets/controls",
          "model_name": "ProgressStyleModel",
          "state": {
            "_view_name": "StyleView",
            "_model_name": "ProgressStyleModel",
            "description_width": "initial",
            "_view_module": "@jupyter-widgets/base",
            "_model_module_version": "1.5.0",
            "_view_count": null,
            "_view_module_version": "1.2.0",
            "bar_color": null,
            "_model_module": "@jupyter-widgets/controls"
          }
        },
        "1b905c1bc40f4fc183b1ac7a1f6643ab": {
          "model_module": "@jupyter-widgets/base",
          "model_name": "LayoutModel",
          "state": {
            "_view_name": "LayoutView",
            "grid_template_rows": null,
            "right": null,
            "justify_content": null,
            "_view_module": "@jupyter-widgets/base",
            "overflow": null,
            "_model_module_version": "1.2.0",
            "_view_count": null,
            "flex_flow": null,
            "width": null,
            "min_width": null,
            "border": null,
            "align_items": null,
            "bottom": null,
            "_model_module": "@jupyter-widgets/base",
            "top": null,
            "grid_column": null,
            "overflow_y": null,
            "overflow_x": null,
            "grid_auto_flow": null,
            "grid_area": null,
            "grid_template_columns": null,
            "flex": null,
            "_model_name": "LayoutModel",
            "justify_items": null,
            "grid_row": null,
            "max_height": null,
            "align_content": null,
            "visibility": null,
            "align_self": null,
            "height": null,
            "min_height": null,
            "padding": null,
            "grid_auto_rows": null,
            "grid_gap": null,
            "max_width": null,
            "order": null,
            "_view_module_version": "1.2.0",
            "grid_template_areas": null,
            "object_position": null,
            "object_fit": null,
            "grid_auto_columns": null,
            "margin": null,
            "display": null,
            "left": null
          }
        },
        "2f6012efcde64a56b219c1ed8fededd4": {
          "model_module": "@jupyter-widgets/controls",
          "model_name": "DescriptionStyleModel",
          "state": {
            "_view_name": "StyleView",
            "_model_name": "DescriptionStyleModel",
            "description_width": "",
            "_view_module": "@jupyter-widgets/base",
            "_model_module_version": "1.5.0",
            "_view_count": null,
            "_view_module_version": "1.2.0",
            "_model_module": "@jupyter-widgets/controls"
          }
        },
        "79ec8bc77681443eb773ee4f3eb8b01d": {
          "model_module": "@jupyter-widgets/base",
          "model_name": "LayoutModel",
          "state": {
            "_view_name": "LayoutView",
            "grid_template_rows": null,
            "right": null,
            "justify_content": null,
            "_view_module": "@jupyter-widgets/base",
            "overflow": null,
            "_model_module_version": "1.2.0",
            "_view_count": null,
            "flex_flow": null,
            "width": null,
            "min_width": null,
            "border": null,
            "align_items": null,
            "bottom": null,
            "_model_module": "@jupyter-widgets/base",
            "top": null,
            "grid_column": null,
            "overflow_y": null,
            "overflow_x": null,
            "grid_auto_flow": null,
            "grid_area": null,
            "grid_template_columns": null,
            "flex": null,
            "_model_name": "LayoutModel",
            "justify_items": null,
            "grid_row": null,
            "max_height": null,
            "align_content": null,
            "visibility": null,
            "align_self": null,
            "height": null,
            "min_height": null,
            "padding": null,
            "grid_auto_rows": null,
            "grid_gap": null,
            "max_width": null,
            "order": null,
            "_view_module_version": "1.2.0",
            "grid_template_areas": null,
            "object_position": null,
            "object_fit": null,
            "grid_auto_columns": null,
            "margin": null,
            "display": null,
            "left": null
          }
        },
        "8d33da571e5941ce9c2c039fe180b6b3": {
          "model_module": "@jupyter-widgets/controls",
          "model_name": "HBoxModel",
          "state": {
            "_view_name": "HBoxView",
            "_dom_classes": [],
            "_model_name": "HBoxModel",
            "_view_module": "@jupyter-widgets/controls",
            "_model_module_version": "1.5.0",
            "_view_count": null,
            "_view_module_version": "1.5.0",
            "box_style": "",
            "layout": "IPY_MODEL_9072be2c0bc4437aa04a802226733b1b",
            "_model_module": "@jupyter-widgets/controls",
            "children": [
              "IPY_MODEL_be5cc7590101487cace51bad1070bc6f",
              "IPY_MODEL_aa52618414d34b739a52c4df6b774b18"
            ]
          }
        },
        "9072be2c0bc4437aa04a802226733b1b": {
          "model_module": "@jupyter-widgets/base",
          "model_name": "LayoutModel",
          "state": {
            "_view_name": "LayoutView",
            "grid_template_rows": null,
            "right": null,
            "justify_content": null,
            "_view_module": "@jupyter-widgets/base",
            "overflow": null,
            "_model_module_version": "1.2.0",
            "_view_count": null,
            "flex_flow": null,
            "width": null,
            "min_width": null,
            "border": null,
            "align_items": null,
            "bottom": null,
            "_model_module": "@jupyter-widgets/base",
            "top": null,
            "grid_column": null,
            "overflow_y": null,
            "overflow_x": null,
            "grid_auto_flow": null,
            "grid_area": null,
            "grid_template_columns": null,
            "flex": null,
            "_model_name": "LayoutModel",
            "justify_items": null,
            "grid_row": null,
            "max_height": null,
            "align_content": null,
            "visibility": null,
            "align_self": null,
            "height": null,
            "min_height": null,
            "padding": null,
            "grid_auto_rows": null,
            "grid_gap": null,
            "max_width": null,
            "order": null,
            "_view_module_version": "1.2.0",
            "grid_template_areas": null,
            "object_position": null,
            "object_fit": null,
            "grid_auto_columns": null,
            "margin": null,
            "display": null,
            "left": null
          }
        },
        "be5cc7590101487cace51bad1070bc6f": {
          "model_module": "@jupyter-widgets/controls",
          "model_name": "FloatProgressModel",
          "state": {
            "_view_name": "ProgressView",
            "style": "IPY_MODEL_58710812a050445795390e2a3b1a708b",
            "_dom_classes": [],
            "description": "Downloading: 100%",
            "_model_name": "FloatProgressModel",
            "bar_style": "success",
            "max": 898823,
            "_view_module": "@jupyter-widgets/controls",
            "_model_module_version": "1.5.0",
            "value": 898823,
            "_view_count": null,
            "_view_module_version": "1.5.0",
            "orientation": "horizontal",
            "min": 0,
            "description_tooltip": null,
            "_model_module": "@jupyter-widgets/controls",
            "layout": "IPY_MODEL_e5286688875e44139620f55e9e3be714"
          }
        },
        "aa52618414d34b739a52c4df6b774b18": {
          "model_module": "@jupyter-widgets/controls",
          "model_name": "HTMLModel",
          "state": {
            "_view_name": "HTMLView",
            "style": "IPY_MODEL_548353ad10bf4d2f9f6caebdc9ba64ae",
            "_dom_classes": [],
            "description": "",
            "_model_name": "HTMLModel",
            "placeholder": "​",
            "_view_module": "@jupyter-widgets/controls",
            "_model_module_version": "1.5.0",
            "value": " 899k/899k [00:00&lt;00:00, 1.67MB/s]",
            "_view_count": null,
            "_view_module_version": "1.5.0",
            "description_tooltip": null,
            "_model_module": "@jupyter-widgets/controls",
            "layout": "IPY_MODEL_c8a87f7465bf44ccb97f84578d3ca4e4"
          }
        },
        "58710812a050445795390e2a3b1a708b": {
          "model_module": "@jupyter-widgets/controls",
          "model_name": "ProgressStyleModel",
          "state": {
            "_view_name": "StyleView",
            "_model_name": "ProgressStyleModel",
            "description_width": "initial",
            "_view_module": "@jupyter-widgets/base",
            "_model_module_version": "1.5.0",
            "_view_count": null,
            "_view_module_version": "1.2.0",
            "bar_color": null,
            "_model_module": "@jupyter-widgets/controls"
          }
        },
        "e5286688875e44139620f55e9e3be714": {
          "model_module": "@jupyter-widgets/base",
          "model_name": "LayoutModel",
          "state": {
            "_view_name": "LayoutView",
            "grid_template_rows": null,
            "right": null,
            "justify_content": null,
            "_view_module": "@jupyter-widgets/base",
            "overflow": null,
            "_model_module_version": "1.2.0",
            "_view_count": null,
            "flex_flow": null,
            "width": null,
            "min_width": null,
            "border": null,
            "align_items": null,
            "bottom": null,
            "_model_module": "@jupyter-widgets/base",
            "top": null,
            "grid_column": null,
            "overflow_y": null,
            "overflow_x": null,
            "grid_auto_flow": null,
            "grid_area": null,
            "grid_template_columns": null,
            "flex": null,
            "_model_name": "LayoutModel",
            "justify_items": null,
            "grid_row": null,
            "max_height": null,
            "align_content": null,
            "visibility": null,
            "align_self": null,
            "height": null,
            "min_height": null,
            "padding": null,
            "grid_auto_rows": null,
            "grid_gap": null,
            "max_width": null,
            "order": null,
            "_view_module_version": "1.2.0",
            "grid_template_areas": null,
            "object_position": null,
            "object_fit": null,
            "grid_auto_columns": null,
            "margin": null,
            "display": null,
            "left": null
          }
        },
        "548353ad10bf4d2f9f6caebdc9ba64ae": {
          "model_module": "@jupyter-widgets/controls",
          "model_name": "DescriptionStyleModel",
          "state": {
            "_view_name": "StyleView",
            "_model_name": "DescriptionStyleModel",
            "description_width": "",
            "_view_module": "@jupyter-widgets/base",
            "_model_module_version": "1.5.0",
            "_view_count": null,
            "_view_module_version": "1.2.0",
            "_model_module": "@jupyter-widgets/controls"
          }
        },
        "c8a87f7465bf44ccb97f84578d3ca4e4": {
          "model_module": "@jupyter-widgets/base",
          "model_name": "LayoutModel",
          "state": {
            "_view_name": "LayoutView",
            "grid_template_rows": null,
            "right": null,
            "justify_content": null,
            "_view_module": "@jupyter-widgets/base",
            "overflow": null,
            "_model_module_version": "1.2.0",
            "_view_count": null,
            "flex_flow": null,
            "width": null,
            "min_width": null,
            "border": null,
            "align_items": null,
            "bottom": null,
            "_model_module": "@jupyter-widgets/base",
            "top": null,
            "grid_column": null,
            "overflow_y": null,
            "overflow_x": null,
            "grid_auto_flow": null,
            "grid_area": null,
            "grid_template_columns": null,
            "flex": null,
            "_model_name": "LayoutModel",
            "justify_items": null,
            "grid_row": null,
            "max_height": null,
            "align_content": null,
            "visibility": null,
            "align_self": null,
            "height": null,
            "min_height": null,
            "padding": null,
            "grid_auto_rows": null,
            "grid_gap": null,
            "max_width": null,
            "order": null,
            "_view_module_version": "1.2.0",
            "grid_template_areas": null,
            "object_position": null,
            "object_fit": null,
            "grid_auto_columns": null,
            "margin": null,
            "display": null,
            "left": null
          }
        },
        "3b626141cc354c41a5672b1c0f263e6b": {
          "model_module": "@jupyter-widgets/controls",
          "model_name": "HBoxModel",
          "state": {
            "_view_name": "HBoxView",
            "_dom_classes": [],
            "_model_name": "HBoxModel",
            "_view_module": "@jupyter-widgets/controls",
            "_model_module_version": "1.5.0",
            "_view_count": null,
            "_view_module_version": "1.5.0",
            "box_style": "",
            "layout": "IPY_MODEL_01758e1cb9874875a2474ab77346fc4e",
            "_model_module": "@jupyter-widgets/controls",
            "children": [
              "IPY_MODEL_10d381b8ed9c4ddca71d9f2f9b5d7424",
              "IPY_MODEL_52f2c5269b564a0682d93dd9cea09d52"
            ]
          }
        },
        "01758e1cb9874875a2474ab77346fc4e": {
          "model_module": "@jupyter-widgets/base",
          "model_name": "LayoutModel",
          "state": {
            "_view_name": "LayoutView",
            "grid_template_rows": null,
            "right": null,
            "justify_content": null,
            "_view_module": "@jupyter-widgets/base",
            "overflow": null,
            "_model_module_version": "1.2.0",
            "_view_count": null,
            "flex_flow": null,
            "width": null,
            "min_width": null,
            "border": null,
            "align_items": null,
            "bottom": null,
            "_model_module": "@jupyter-widgets/base",
            "top": null,
            "grid_column": null,
            "overflow_y": null,
            "overflow_x": null,
            "grid_auto_flow": null,
            "grid_area": null,
            "grid_template_columns": null,
            "flex": null,
            "_model_name": "LayoutModel",
            "justify_items": null,
            "grid_row": null,
            "max_height": null,
            "align_content": null,
            "visibility": null,
            "align_self": null,
            "height": null,
            "min_height": null,
            "padding": null,
            "grid_auto_rows": null,
            "grid_gap": null,
            "max_width": null,
            "order": null,
            "_view_module_version": "1.2.0",
            "grid_template_areas": null,
            "object_position": null,
            "object_fit": null,
            "grid_auto_columns": null,
            "margin": null,
            "display": null,
            "left": null
          }
        },
        "10d381b8ed9c4ddca71d9f2f9b5d7424": {
          "model_module": "@jupyter-widgets/controls",
          "model_name": "FloatProgressModel",
          "state": {
            "_view_name": "ProgressView",
            "style": "IPY_MODEL_bf95b300f332443d8dc47269fa63ba68",
            "_dom_classes": [],
            "description": "Downloading: 100%",
            "_model_name": "FloatProgressModel",
            "bar_style": "success",
            "max": 456318,
            "_view_module": "@jupyter-widgets/controls",
            "_model_module_version": "1.5.0",
            "value": 456318,
            "_view_count": null,
            "_view_module_version": "1.5.0",
            "orientation": "horizontal",
            "min": 0,
            "description_tooltip": null,
            "_model_module": "@jupyter-widgets/controls",
            "layout": "IPY_MODEL_5a7fe7ff8848426d9ce6777becf15ab4"
          }
        },
        "52f2c5269b564a0682d93dd9cea09d52": {
          "model_module": "@jupyter-widgets/controls",
          "model_name": "HTMLModel",
          "state": {
            "_view_name": "HTMLView",
            "style": "IPY_MODEL_bcd5b9925f504ed586009da40e24c596",
            "_dom_classes": [],
            "description": "",
            "_model_name": "HTMLModel",
            "placeholder": "​",
            "_view_module": "@jupyter-widgets/controls",
            "_model_module_version": "1.5.0",
            "value": " 456k/456k [00:00&lt;00:00, 1.40MB/s]",
            "_view_count": null,
            "_view_module_version": "1.5.0",
            "description_tooltip": null,
            "_model_module": "@jupyter-widgets/controls",
            "layout": "IPY_MODEL_711c31c991b54641a93cbb0d9346bbd3"
          }
        },
        "bf95b300f332443d8dc47269fa63ba68": {
          "model_module": "@jupyter-widgets/controls",
          "model_name": "ProgressStyleModel",
          "state": {
            "_view_name": "StyleView",
            "_model_name": "ProgressStyleModel",
            "description_width": "initial",
            "_view_module": "@jupyter-widgets/base",
            "_model_module_version": "1.5.0",
            "_view_count": null,
            "_view_module_version": "1.2.0",
            "bar_color": null,
            "_model_module": "@jupyter-widgets/controls"
          }
        },
        "5a7fe7ff8848426d9ce6777becf15ab4": {
          "model_module": "@jupyter-widgets/base",
          "model_name": "LayoutModel",
          "state": {
            "_view_name": "LayoutView",
            "grid_template_rows": null,
            "right": null,
            "justify_content": null,
            "_view_module": "@jupyter-widgets/base",
            "overflow": null,
            "_model_module_version": "1.2.0",
            "_view_count": null,
            "flex_flow": null,
            "width": null,
            "min_width": null,
            "border": null,
            "align_items": null,
            "bottom": null,
            "_model_module": "@jupyter-widgets/base",
            "top": null,
            "grid_column": null,
            "overflow_y": null,
            "overflow_x": null,
            "grid_auto_flow": null,
            "grid_area": null,
            "grid_template_columns": null,
            "flex": null,
            "_model_name": "LayoutModel",
            "justify_items": null,
            "grid_row": null,
            "max_height": null,
            "align_content": null,
            "visibility": null,
            "align_self": null,
            "height": null,
            "min_height": null,
            "padding": null,
            "grid_auto_rows": null,
            "grid_gap": null,
            "max_width": null,
            "order": null,
            "_view_module_version": "1.2.0",
            "grid_template_areas": null,
            "object_position": null,
            "object_fit": null,
            "grid_auto_columns": null,
            "margin": null,
            "display": null,
            "left": null
          }
        },
        "bcd5b9925f504ed586009da40e24c596": {
          "model_module": "@jupyter-widgets/controls",
          "model_name": "DescriptionStyleModel",
          "state": {
            "_view_name": "StyleView",
            "_model_name": "DescriptionStyleModel",
            "description_width": "",
            "_view_module": "@jupyter-widgets/base",
            "_model_module_version": "1.5.0",
            "_view_count": null,
            "_view_module_version": "1.2.0",
            "_model_module": "@jupyter-widgets/controls"
          }
        },
        "711c31c991b54641a93cbb0d9346bbd3": {
          "model_module": "@jupyter-widgets/base",
          "model_name": "LayoutModel",
          "state": {
            "_view_name": "LayoutView",
            "grid_template_rows": null,
            "right": null,
            "justify_content": null,
            "_view_module": "@jupyter-widgets/base",
            "overflow": null,
            "_model_module_version": "1.2.0",
            "_view_count": null,
            "flex_flow": null,
            "width": null,
            "min_width": null,
            "border": null,
            "align_items": null,
            "bottom": null,
            "_model_module": "@jupyter-widgets/base",
            "top": null,
            "grid_column": null,
            "overflow_y": null,
            "overflow_x": null,
            "grid_auto_flow": null,
            "grid_area": null,
            "grid_template_columns": null,
            "flex": null,
            "_model_name": "LayoutModel",
            "justify_items": null,
            "grid_row": null,
            "max_height": null,
            "align_content": null,
            "visibility": null,
            "align_self": null,
            "height": null,
            "min_height": null,
            "padding": null,
            "grid_auto_rows": null,
            "grid_gap": null,
            "max_width": null,
            "order": null,
            "_view_module_version": "1.2.0",
            "grid_template_areas": null,
            "object_position": null,
            "object_fit": null,
            "grid_auto_columns": null,
            "margin": null,
            "display": null,
            "left": null
          }
        },
        "10a3687c45ab4b4688ba4edcf4967025": {
          "model_module": "@jupyter-widgets/controls",
          "model_name": "HBoxModel",
          "state": {
            "_view_name": "HBoxView",
            "_dom_classes": [],
            "_model_name": "HBoxModel",
            "_view_module": "@jupyter-widgets/controls",
            "_model_module_version": "1.5.0",
            "_view_count": null,
            "_view_module_version": "1.5.0",
            "box_style": "",
            "layout": "IPY_MODEL_bae9051e58694c79a200eed5f2102f83",
            "_model_module": "@jupyter-widgets/controls",
            "children": [
              "IPY_MODEL_dcf71e1f801a4c038d9bdf9c5861b874",
              "IPY_MODEL_12d33c9be1f84638a49b4c30bedb6781"
            ]
          }
        },
        "bae9051e58694c79a200eed5f2102f83": {
          "model_module": "@jupyter-widgets/base",
          "model_name": "LayoutModel",
          "state": {
            "_view_name": "LayoutView",
            "grid_template_rows": null,
            "right": null,
            "justify_content": null,
            "_view_module": "@jupyter-widgets/base",
            "overflow": null,
            "_model_module_version": "1.2.0",
            "_view_count": null,
            "flex_flow": null,
            "width": null,
            "min_width": null,
            "border": null,
            "align_items": null,
            "bottom": null,
            "_model_module": "@jupyter-widgets/base",
            "top": null,
            "grid_column": null,
            "overflow_y": null,
            "overflow_x": null,
            "grid_auto_flow": null,
            "grid_area": null,
            "grid_template_columns": null,
            "flex": null,
            "_model_name": "LayoutModel",
            "justify_items": null,
            "grid_row": null,
            "max_height": null,
            "align_content": null,
            "visibility": null,
            "align_self": null,
            "height": null,
            "min_height": null,
            "padding": null,
            "grid_auto_rows": null,
            "grid_gap": null,
            "max_width": null,
            "order": null,
            "_view_module_version": "1.2.0",
            "grid_template_areas": null,
            "object_position": null,
            "object_fit": null,
            "grid_auto_columns": null,
            "margin": null,
            "display": null,
            "left": null
          }
        },
        "dcf71e1f801a4c038d9bdf9c5861b874": {
          "model_module": "@jupyter-widgets/controls",
          "model_name": "FloatProgressModel",
          "state": {
            "_view_name": "ProgressView",
            "style": "IPY_MODEL_ab0ecfa9d71645b693b34275ec52ab6c",
            "_dom_classes": [],
            "description": "Downloading: 100%",
            "_model_name": "FloatProgressModel",
            "bar_style": "success",
            "max": 1355863,
            "_view_module": "@jupyter-widgets/controls",
            "_model_module_version": "1.5.0",
            "value": 1355863,
            "_view_count": null,
            "_view_module_version": "1.5.0",
            "orientation": "horizontal",
            "min": 0,
            "description_tooltip": null,
            "_model_module": "@jupyter-widgets/controls",
            "layout": "IPY_MODEL_b61f1e2fbd9b47e3b19115f91945ea52"
          }
        },
        "12d33c9be1f84638a49b4c30bedb6781": {
          "model_module": "@jupyter-widgets/controls",
          "model_name": "HTMLModel",
          "state": {
            "_view_name": "HTMLView",
            "style": "IPY_MODEL_23d27639b04c46aa9bf1681f6b3b86e9",
            "_dom_classes": [],
            "description": "",
            "_model_name": "HTMLModel",
            "placeholder": "​",
            "_view_module": "@jupyter-widgets/controls",
            "_model_module_version": "1.5.0",
            "value": " 1.36M/1.36M [00:00&lt;00:00, 7.30MB/s]",
            "_view_count": null,
            "_view_module_version": "1.5.0",
            "description_tooltip": null,
            "_model_module": "@jupyter-widgets/controls",
            "layout": "IPY_MODEL_6fef3747266f42998a2fa831d9e6f4da"
          }
        },
        "ab0ecfa9d71645b693b34275ec52ab6c": {
          "model_module": "@jupyter-widgets/controls",
          "model_name": "ProgressStyleModel",
          "state": {
            "_view_name": "StyleView",
            "_model_name": "ProgressStyleModel",
            "description_width": "initial",
            "_view_module": "@jupyter-widgets/base",
            "_model_module_version": "1.5.0",
            "_view_count": null,
            "_view_module_version": "1.2.0",
            "bar_color": null,
            "_model_module": "@jupyter-widgets/controls"
          }
        },
        "b61f1e2fbd9b47e3b19115f91945ea52": {
          "model_module": "@jupyter-widgets/base",
          "model_name": "LayoutModel",
          "state": {
            "_view_name": "LayoutView",
            "grid_template_rows": null,
            "right": null,
            "justify_content": null,
            "_view_module": "@jupyter-widgets/base",
            "overflow": null,
            "_model_module_version": "1.2.0",
            "_view_count": null,
            "flex_flow": null,
            "width": null,
            "min_width": null,
            "border": null,
            "align_items": null,
            "bottom": null,
            "_model_module": "@jupyter-widgets/base",
            "top": null,
            "grid_column": null,
            "overflow_y": null,
            "overflow_x": null,
            "grid_auto_flow": null,
            "grid_area": null,
            "grid_template_columns": null,
            "flex": null,
            "_model_name": "LayoutModel",
            "justify_items": null,
            "grid_row": null,
            "max_height": null,
            "align_content": null,
            "visibility": null,
            "align_self": null,
            "height": null,
            "min_height": null,
            "padding": null,
            "grid_auto_rows": null,
            "grid_gap": null,
            "max_width": null,
            "order": null,
            "_view_module_version": "1.2.0",
            "grid_template_areas": null,
            "object_position": null,
            "object_fit": null,
            "grid_auto_columns": null,
            "margin": null,
            "display": null,
            "left": null
          }
        },
        "23d27639b04c46aa9bf1681f6b3b86e9": {
          "model_module": "@jupyter-widgets/controls",
          "model_name": "DescriptionStyleModel",
          "state": {
            "_view_name": "StyleView",
            "_model_name": "DescriptionStyleModel",
            "description_width": "",
            "_view_module": "@jupyter-widgets/base",
            "_model_module_version": "1.5.0",
            "_view_count": null,
            "_view_module_version": "1.2.0",
            "_model_module": "@jupyter-widgets/controls"
          }
        },
        "6fef3747266f42998a2fa831d9e6f4da": {
          "model_module": "@jupyter-widgets/base",
          "model_name": "LayoutModel",
          "state": {
            "_view_name": "LayoutView",
            "grid_template_rows": null,
            "right": null,
            "justify_content": null,
            "_view_module": "@jupyter-widgets/base",
            "overflow": null,
            "_model_module_version": "1.2.0",
            "_view_count": null,
            "flex_flow": null,
            "width": null,
            "min_width": null,
            "border": null,
            "align_items": null,
            "bottom": null,
            "_model_module": "@jupyter-widgets/base",
            "top": null,
            "grid_column": null,
            "overflow_y": null,
            "overflow_x": null,
            "grid_auto_flow": null,
            "grid_area": null,
            "grid_template_columns": null,
            "flex": null,
            "_model_name": "LayoutModel",
            "justify_items": null,
            "grid_row": null,
            "max_height": null,
            "align_content": null,
            "visibility": null,
            "align_self": null,
            "height": null,
            "min_height": null,
            "padding": null,
            "grid_auto_rows": null,
            "grid_gap": null,
            "max_width": null,
            "order": null,
            "_view_module_version": "1.2.0",
            "grid_template_areas": null,
            "object_position": null,
            "object_fit": null,
            "grid_auto_columns": null,
            "margin": null,
            "display": null,
            "left": null
          }
        },
        "0e1063a64e81464a8399d752a70f047f": {
          "model_module": "@jupyter-widgets/controls",
          "model_name": "HBoxModel",
          "state": {
            "_view_name": "HBoxView",
            "_dom_classes": [],
            "_model_name": "HBoxModel",
            "_view_module": "@jupyter-widgets/controls",
            "_model_module_version": "1.5.0",
            "_view_count": null,
            "_view_module_version": "1.5.0",
            "box_style": "",
            "layout": "IPY_MODEL_8f03aa987ebf40b7bd0bad105f981546",
            "_model_module": "@jupyter-widgets/controls",
            "children": [
              "IPY_MODEL_0f036168fa6145f3bef673c7c04cbe52",
              "IPY_MODEL_08b23151a68f4ee98d5f7821bf6e9cae"
            ]
          }
        },
        "8f03aa987ebf40b7bd0bad105f981546": {
          "model_module": "@jupyter-widgets/base",
          "model_name": "LayoutModel",
          "state": {
            "_view_name": "LayoutView",
            "grid_template_rows": null,
            "right": null,
            "justify_content": null,
            "_view_module": "@jupyter-widgets/base",
            "overflow": null,
            "_model_module_version": "1.2.0",
            "_view_count": null,
            "flex_flow": null,
            "width": null,
            "min_width": null,
            "border": null,
            "align_items": null,
            "bottom": null,
            "_model_module": "@jupyter-widgets/base",
            "top": null,
            "grid_column": null,
            "overflow_y": null,
            "overflow_x": null,
            "grid_auto_flow": null,
            "grid_area": null,
            "grid_template_columns": null,
            "flex": null,
            "_model_name": "LayoutModel",
            "justify_items": null,
            "grid_row": null,
            "max_height": null,
            "align_content": null,
            "visibility": null,
            "align_self": null,
            "height": null,
            "min_height": null,
            "padding": null,
            "grid_auto_rows": null,
            "grid_gap": null,
            "max_width": null,
            "order": null,
            "_view_module_version": "1.2.0",
            "grid_template_areas": null,
            "object_position": null,
            "object_fit": null,
            "grid_auto_columns": null,
            "margin": null,
            "display": null,
            "left": null
          }
        },
        "0f036168fa6145f3bef673c7c04cbe52": {
          "model_module": "@jupyter-widgets/controls",
          "model_name": "FloatProgressModel",
          "state": {
            "_view_name": "ProgressView",
            "style": "IPY_MODEL_83c127d644dc4b9ba643e2fbf688e704",
            "_dom_classes": [],
            "description": "Downloading: 100%",
            "_model_name": "FloatProgressModel",
            "bar_style": "success",
            "max": 657434796,
            "_view_module": "@jupyter-widgets/controls",
            "_model_module_version": "1.5.0",
            "value": 657434796,
            "_view_count": null,
            "_view_module_version": "1.5.0",
            "orientation": "horizontal",
            "min": 0,
            "description_tooltip": null,
            "_model_module": "@jupyter-widgets/controls",
            "layout": "IPY_MODEL_266215e9bd7043b39597ef0b9420c9a6"
          }
        },
        "08b23151a68f4ee98d5f7821bf6e9cae": {
          "model_module": "@jupyter-widgets/controls",
          "model_name": "HTMLModel",
          "state": {
            "_view_name": "HTMLView",
            "style": "IPY_MODEL_7dd7aea35e9f40819893f80b80fec738",
            "_dom_classes": [],
            "description": "",
            "_model_name": "HTMLModel",
            "placeholder": "​",
            "_view_module": "@jupyter-widgets/controls",
            "_model_module_version": "1.5.0",
            "value": " 657M/657M [01:16&lt;00:00, 8.55MB/s]",
            "_view_count": null,
            "_view_module_version": "1.5.0",
            "description_tooltip": null,
            "_model_module": "@jupyter-widgets/controls",
            "layout": "IPY_MODEL_74a45d26401345f9ac13e5826b01619d"
          }
        },
        "83c127d644dc4b9ba643e2fbf688e704": {
          "model_module": "@jupyter-widgets/controls",
          "model_name": "ProgressStyleModel",
          "state": {
            "_view_name": "StyleView",
            "_model_name": "ProgressStyleModel",
            "description_width": "initial",
            "_view_module": "@jupyter-widgets/base",
            "_model_module_version": "1.5.0",
            "_view_count": null,
            "_view_module_version": "1.2.0",
            "bar_color": null,
            "_model_module": "@jupyter-widgets/controls"
          }
        },
        "266215e9bd7043b39597ef0b9420c9a6": {
          "model_module": "@jupyter-widgets/base",
          "model_name": "LayoutModel",
          "state": {
            "_view_name": "LayoutView",
            "grid_template_rows": null,
            "right": null,
            "justify_content": null,
            "_view_module": "@jupyter-widgets/base",
            "overflow": null,
            "_model_module_version": "1.2.0",
            "_view_count": null,
            "flex_flow": null,
            "width": null,
            "min_width": null,
            "border": null,
            "align_items": null,
            "bottom": null,
            "_model_module": "@jupyter-widgets/base",
            "top": null,
            "grid_column": null,
            "overflow_y": null,
            "overflow_x": null,
            "grid_auto_flow": null,
            "grid_area": null,
            "grid_template_columns": null,
            "flex": null,
            "_model_name": "LayoutModel",
            "justify_items": null,
            "grid_row": null,
            "max_height": null,
            "align_content": null,
            "visibility": null,
            "align_self": null,
            "height": null,
            "min_height": null,
            "padding": null,
            "grid_auto_rows": null,
            "grid_gap": null,
            "max_width": null,
            "order": null,
            "_view_module_version": "1.2.0",
            "grid_template_areas": null,
            "object_position": null,
            "object_fit": null,
            "grid_auto_columns": null,
            "margin": null,
            "display": null,
            "left": null
          }
        },
        "7dd7aea35e9f40819893f80b80fec738": {
          "model_module": "@jupyter-widgets/controls",
          "model_name": "DescriptionStyleModel",
          "state": {
            "_view_name": "StyleView",
            "_model_name": "DescriptionStyleModel",
            "description_width": "",
            "_view_module": "@jupyter-widgets/base",
            "_model_module_version": "1.5.0",
            "_view_count": null,
            "_view_module_version": "1.2.0",
            "_model_module": "@jupyter-widgets/controls"
          }
        },
        "74a45d26401345f9ac13e5826b01619d": {
          "model_module": "@jupyter-widgets/base",
          "model_name": "LayoutModel",
          "state": {
            "_view_name": "LayoutView",
            "grid_template_rows": null,
            "right": null,
            "justify_content": null,
            "_view_module": "@jupyter-widgets/base",
            "overflow": null,
            "_model_module_version": "1.2.0",
            "_view_count": null,
            "flex_flow": null,
            "width": null,
            "min_width": null,
            "border": null,
            "align_items": null,
            "bottom": null,
            "_model_module": "@jupyter-widgets/base",
            "top": null,
            "grid_column": null,
            "overflow_y": null,
            "overflow_x": null,
            "grid_auto_flow": null,
            "grid_area": null,
            "grid_template_columns": null,
            "flex": null,
            "_model_name": "LayoutModel",
            "justify_items": null,
            "grid_row": null,
            "max_height": null,
            "align_content": null,
            "visibility": null,
            "align_self": null,
            "height": null,
            "min_height": null,
            "padding": null,
            "grid_auto_rows": null,
            "grid_gap": null,
            "max_width": null,
            "order": null,
            "_view_module_version": "1.2.0",
            "grid_template_areas": null,
            "object_position": null,
            "object_fit": null,
            "grid_auto_columns": null,
            "margin": null,
            "display": null,
            "left": null
          }
        }
      }
    }
  },
  "cells": [
    {
      "cell_type": "markdown",
      "metadata": {
        "id": "-aquEncVsTYe"
      },
      "source": [
        "##Feature Analysis"
      ]
    },
    {
      "cell_type": "markdown",
      "metadata": {
        "id": "Z2FrTUnKQcN1"
      },
      "source": [
        "Correlation matrix\n",
        "\n",
        "\n",
        "+ -1 indicates a perfectly negative linear correlation between two variables\n",
        "+ 0 indicates no linear correlation between two variables\n",
        "+ 1 indicates a perfectly positive linear correlation between two variables"
      ]
    },
    {
      "cell_type": "markdown",
      "metadata": {
        "id": "bVjTn_mh4JkO"
      },
      "source": [
        "###Check requirements"
      ]
    },
    {
      "cell_type": "code",
      "metadata": {
        "colab": {
          "base_uri": "https://localhost:8080/"
        },
        "id": "S_vo0qFzXCUv",
        "outputId": "88b3bf10-6ed9-403f-c6a2-626e895fcbae"
      },
      "source": [
        "! python --version"
      ],
      "execution_count": null,
      "outputs": [
        {
          "output_type": "stream",
          "text": [
            "Python 3.7.11\n"
          ],
          "name": "stdout"
        }
      ]
    },
    {
      "cell_type": "code",
      "metadata": {
        "id": "6yYx-C3VYHQX"
      },
      "source": [
        "!pip install --upgrade pip"
      ],
      "execution_count": null,
      "outputs": []
    },
    {
      "cell_type": "code",
      "metadata": {
        "id": "M7HgCwR2Xbh6"
      },
      "source": [
        "!pip install tensorflow_hub\n",
        "!pip install keras tf-models-official pydot graphviz"
      ],
      "execution_count": null,
      "outputs": []
    },
    {
      "cell_type": "code",
      "metadata": {
        "id": "KgdP3gIBT1fL"
      },
      "source": [
        "pip install contractions"
      ],
      "execution_count": null,
      "outputs": []
    },
    {
      "cell_type": "code",
      "metadata": {
        "id": "aHflf8XJgTNw"
      },
      "source": [
        "pip install emojis"
      ],
      "execution_count": null,
      "outputs": []
    },
    {
      "cell_type": "code",
      "metadata": {
        "id": "A7pnwMYDJe_m"
      },
      "source": [
        "pip install emoji"
      ],
      "execution_count": null,
      "outputs": []
    },
    {
      "cell_type": "code",
      "metadata": {
        "id": "8md4sGxUtsqr"
      },
      "source": [
        "import nltk\n",
        "nltk.download('punkt')"
      ],
      "execution_count": null,
      "outputs": []
    },
    {
      "cell_type": "code",
      "metadata": {
        "id": "HvGv0jONLSMZ"
      },
      "source": [
        "nltk.download('averaged_perceptron_tagger')"
      ],
      "execution_count": null,
      "outputs": []
    },
    {
      "cell_type": "code",
      "metadata": {
        "colab": {
          "base_uri": "https://localhost:8080/"
        },
        "id": "8_nz4p-OPXku",
        "outputId": "76150b72-ca0b-4c8c-c429-72b452f95ed0"
      },
      "source": [
        "import tensorflow as tf\n",
        "print(tf.version.VERSION)"
      ],
      "execution_count": null,
      "outputs": [
        {
          "output_type": "stream",
          "text": [
            "2.5.0\n"
          ],
          "name": "stdout"
        }
      ]
    },
    {
      "cell_type": "code",
      "metadata": {
        "id": "-M7RCXHz8hWP"
      },
      "source": [
        "!pip3 install -q ktrain "
      ],
      "execution_count": null,
      "outputs": []
    },
    {
      "cell_type": "code",
      "metadata": {
        "id": "QXNvcp3lzRUV"
      },
      "source": [
        "pip install -U sklearn"
      ],
      "execution_count": null,
      "outputs": []
    },
    {
      "cell_type": "code",
      "metadata": {
        "id": "Y8p1iY_PIjju"
      },
      "source": [
        "pip install parse_version"
      ],
      "execution_count": null,
      "outputs": []
    },
    {
      "cell_type": "code",
      "metadata": {
        "colab": {
          "base_uri": "https://localhost:8080/"
        },
        "id": "cR9P3wLsXeVh",
        "outputId": "1132ef22-e839-4258-9402-b47e92ab767e"
      },
      "source": [
        "import os\n",
        "\n",
        "import numpy as np\n",
        "import pandas as pd\n",
        "\n",
        "import tensorflow as tf\n",
        "import tensorflow_hub as hub\n",
        "\n",
        "from keras.utils import np_utils\n",
        "\n",
        "import official.nlp.bert.bert_models\n",
        "import official.nlp.bert.configs\n",
        "import official.nlp.bert.run_classifier\n",
        "import official.nlp.bert.tokenization as tokenization\n",
        "\n",
        "from official.modeling import tf_utils\n",
        "from official import nlp\n",
        "from official.nlp import bert\n",
        "\n",
        "from sklearn.model_selection import train_test_split\n",
        "from sklearn.preprocessing import LabelEncoder\n",
        "\n",
        "import matplotlib.pyplot as plt\n",
        "\n",
        "gpus = tf.config.experimental.list_physical_devices('GPU')\n",
        "if gpus:\n",
        "  try:\n",
        "    # Currently, memory growth needs to be the same across GPUs\n",
        "    for gpu in gpus:\n",
        "      tf.config.experimental.set_memory_growth(gpu, True)\n",
        "    logical_gpus = tf.config.experimental.list_logical_devices('GPU')\n",
        "    print(len(gpus), \"Physical GPUs,\", len(logical_gpus), \"Logical GPUs\")\n",
        "  except RuntimeError as e:\n",
        "    # Memory growth must be set before GPUs have been initialized\n",
        "    print(e)\n",
        "\n",
        "print(\"Version: \", tf.__version__)\n",
        "print(\"Eager mode: \", tf.executing_eagerly())\n",
        "print(\"Hub version: \", hub.__version__)\n",
        "print(\"GPU is\", \"available\" if tf.config.list_physical_devices('GPU') else \"NOT AVAILABLE\")"
      ],
      "execution_count": null,
      "outputs": [
        {
          "output_type": "stream",
          "text": [
            "1 Physical GPUs, 1 Logical GPUs\n",
            "Version:  2.5.0\n",
            "Eager mode:  True\n",
            "Hub version:  0.12.0\n",
            "GPU is available\n"
          ],
          "name": "stdout"
        }
      ]
    },
    {
      "cell_type": "markdown",
      "metadata": {
        "id": "Ex6H4bqQ4UUh"
      },
      "source": [
        "###Load data"
      ]
    },
    {
      "cell_type": "code",
      "metadata": {
        "id": "zAcBtc5jrNjm"
      },
      "source": [
        "# Load train data\n",
        "train_path = '/content/drive/MyDrive/TeamLab/data/semeval_taskA_corrected.csv'\n",
        "\n",
        "df_train = pd.read_csv(train_path, header=0, names=['index',\n",
        "                                                    'irony_label',\n",
        "                                                    'tweet'])\n",
        "                                                "
      ],
      "execution_count": null,
      "outputs": []
    },
    {
      "cell_type": "code",
      "metadata": {
        "colab": {
          "base_uri": "https://localhost:8080/",
          "height": 204
        },
        "id": "BZudUweLsJsA",
        "outputId": "9c788e15-7e3a-464c-802c-dea42f1ee542"
      },
      "source": [
        "df_train.head()"
      ],
      "execution_count": null,
      "outputs": [
        {
          "output_type": "execute_result",
          "data": {
            "text/html": [
              "<div>\n",
              "<style scoped>\n",
              "    .dataframe tbody tr th:only-of-type {\n",
              "        vertical-align: middle;\n",
              "    }\n",
              "\n",
              "    .dataframe tbody tr th {\n",
              "        vertical-align: top;\n",
              "    }\n",
              "\n",
              "    .dataframe thead th {\n",
              "        text-align: right;\n",
              "    }\n",
              "</style>\n",
              "<table border=\"1\" class=\"dataframe\">\n",
              "  <thead>\n",
              "    <tr style=\"text-align: right;\">\n",
              "      <th></th>\n",
              "      <th>index</th>\n",
              "      <th>irony_label</th>\n",
              "      <th>tweet</th>\n",
              "    </tr>\n",
              "  </thead>\n",
              "  <tbody>\n",
              "    <tr>\n",
              "      <th>0</th>\n",
              "      <td>1</td>\n",
              "      <td>1</td>\n",
              "      <td>Sweet United Nations video. Just in time for C...</td>\n",
              "    </tr>\n",
              "    <tr>\n",
              "      <th>1</th>\n",
              "      <td>2</td>\n",
              "      <td>1</td>\n",
              "      <td>@mrdahl87 We are rumored to have talked to Erv...</td>\n",
              "    </tr>\n",
              "    <tr>\n",
              "      <th>2</th>\n",
              "      <td>3</td>\n",
              "      <td>1</td>\n",
              "      <td>Hey there! Nice to see you Minnesota/ND Winter...</td>\n",
              "    </tr>\n",
              "    <tr>\n",
              "      <th>3</th>\n",
              "      <td>4</td>\n",
              "      <td>0</td>\n",
              "      <td>3 episodes left I'm dying over here</td>\n",
              "    </tr>\n",
              "    <tr>\n",
              "      <th>4</th>\n",
              "      <td>5</td>\n",
              "      <td>1</td>\n",
              "      <td>I can't breathe! was chosen as the most notabl...</td>\n",
              "    </tr>\n",
              "  </tbody>\n",
              "</table>\n",
              "</div>"
            ],
            "text/plain": [
              "   index  irony_label                                              tweet\n",
              "0      1            1  Sweet United Nations video. Just in time for C...\n",
              "1      2            1  @mrdahl87 We are rumored to have talked to Erv...\n",
              "2      3            1  Hey there! Nice to see you Minnesota/ND Winter...\n",
              "3      4            0                3 episodes left I'm dying over here\n",
              "4      5            1  I can't breathe! was chosen as the most notabl..."
            ]
          },
          "metadata": {
            "tags": []
          },
          "execution_count": 15
        }
      ]
    },
    {
      "cell_type": "code",
      "metadata": {
        "colab": {
          "base_uri": "https://localhost:8080/"
        },
        "id": "Hhan_Km_scxz",
        "outputId": "67dc65bb-1a07-43ee-b267-d5bd2c4200e9"
      },
      "source": [
        "# Check if dataset is balanced\n",
        "\n",
        "# Classes are 1 and 0. Tweet can either be ironic or non-ironic -> binary classification\n",
        "classes = df_train.irony_label.unique()\n",
        "\n",
        "print((df_train.irony_label == 0).sum())\n",
        "print((df_train.irony_label == 1).sum())\n",
        "\n",
        "# => Balanced"
      ],
      "execution_count": null,
      "outputs": [
        {
          "output_type": "stream",
          "text": [
            "1923\n",
            "1911\n"
          ],
          "name": "stdout"
        }
      ]
    },
    {
      "cell_type": "code",
      "metadata": {
        "colab": {
          "base_uri": "https://localhost:8080/",
          "height": 238
        },
        "id": "uyP21KPctkwj",
        "outputId": "eea741ac-fe44-4bd7-8919-589e3a151f5c"
      },
      "source": [
        "# Load test data\n",
        "test_path = '/content/drive/MyDrive/TeamLab/data/semeval_taskA_test.csv'\n",
        "\n",
        "df_test = pd.read_csv(test_path, sep='\\t', header=0, names=['index',\n",
        "                                                            'irony_label',\n",
        "                                                            'tweet'])\n",
        "\n",
        "print((df_test.irony_label == 0).sum())\n",
        "print((df_test.irony_label == 1).sum())\n",
        "\n",
        "df_test.head()"
      ],
      "execution_count": null,
      "outputs": [
        {
          "output_type": "stream",
          "text": [
            "473\n",
            "311\n"
          ],
          "name": "stdout"
        },
        {
          "output_type": "execute_result",
          "data": {
            "text/html": [
              "<div>\n",
              "<style scoped>\n",
              "    .dataframe tbody tr th:only-of-type {\n",
              "        vertical-align: middle;\n",
              "    }\n",
              "\n",
              "    .dataframe tbody tr th {\n",
              "        vertical-align: top;\n",
              "    }\n",
              "\n",
              "    .dataframe thead th {\n",
              "        text-align: right;\n",
              "    }\n",
              "</style>\n",
              "<table border=\"1\" class=\"dataframe\">\n",
              "  <thead>\n",
              "    <tr style=\"text-align: right;\">\n",
              "      <th></th>\n",
              "      <th>index</th>\n",
              "      <th>irony_label</th>\n",
              "      <th>tweet</th>\n",
              "    </tr>\n",
              "  </thead>\n",
              "  <tbody>\n",
              "    <tr>\n",
              "      <th>0</th>\n",
              "      <td>1</td>\n",
              "      <td>0</td>\n",
              "      <td>@Callisto1947 Can U Help?||More conservatives ...</td>\n",
              "    </tr>\n",
              "    <tr>\n",
              "      <th>1</th>\n",
              "      <td>2</td>\n",
              "      <td>1</td>\n",
              "      <td>Just walked in to #Starbucks and asked for a \"...</td>\n",
              "    </tr>\n",
              "    <tr>\n",
              "      <th>2</th>\n",
              "      <td>3</td>\n",
              "      <td>0</td>\n",
              "      <td>#NOT GONNA WIN http://t.co/Mc9ebqjAqj</td>\n",
              "    </tr>\n",
              "    <tr>\n",
              "      <th>3</th>\n",
              "      <td>4</td>\n",
              "      <td>0</td>\n",
              "      <td>@mickymantell He is exactly that sort of perso...</td>\n",
              "    </tr>\n",
              "    <tr>\n",
              "      <th>4</th>\n",
              "      <td>5</td>\n",
              "      <td>1</td>\n",
              "      <td>So much #sarcasm at work mate 10/10 #boring 10...</td>\n",
              "    </tr>\n",
              "  </tbody>\n",
              "</table>\n",
              "</div>"
            ],
            "text/plain": [
              "   index  irony_label                                              tweet\n",
              "0      1            0  @Callisto1947 Can U Help?||More conservatives ...\n",
              "1      2            1  Just walked in to #Starbucks and asked for a \"...\n",
              "2      3            0              #NOT GONNA WIN http://t.co/Mc9ebqjAqj\n",
              "3      4            0  @mickymantell He is exactly that sort of perso...\n",
              "4      5            1  So much #sarcasm at work mate 10/10 #boring 10..."
            ]
          },
          "metadata": {
            "tags": []
          },
          "execution_count": 17
        }
      ]
    },
    {
      "cell_type": "code",
      "metadata": {
        "id": "ERcod8R_t1iG"
      },
      "source": [
        "x_train = df_train['tweet'].to_numpy()\n",
        "y_train = df_train['irony_label'].to_numpy()\n",
        "\n",
        "x_test = df_test['tweet'].to_numpy()\n",
        "y_test = df_test['irony_label'].to_numpy()"
      ],
      "execution_count": null,
      "outputs": []
    },
    {
      "cell_type": "code",
      "metadata": {
        "colab": {
          "base_uri": "https://localhost:8080/"
        },
        "id": "7iDUoHvZClw6",
        "outputId": "379cfb6e-39c6-4dfb-abcd-b7240588f89e"
      },
      "source": [
        "x_train"
      ],
      "execution_count": null,
      "outputs": [
        {
          "output_type": "execute_result",
          "data": {
            "text/plain": [
              "array(['Sweet United Nations video. Just in time for Christmas. #imagine #NoReligion  http://t.co/fej2v3OUBR',\n",
              "       \"@mrdahl87 We are rumored to have talked to Erv's agent... and the Angels asked about Ed Escobar... that's hardly nothing    ;)\",\n",
              "       'Hey there! Nice to see you Minnesota/ND Winter Weather', ...,\n",
              "       \"well now that i've listened to all of into the woods, i'm going to listen to some FOB #nosurprisethere\",\n",
              "       'Hummingbirds #Are  #Experts #at #Hovering #After #All: #Background #Motion ...: If the hovering ability of the... http://t.co/E189iHBpZr',\n",
              "       'Only thing missing now is a session at the gym... Want to do every body part though and CV!  #possible'],\n",
              "      dtype=object)"
            ]
          },
          "metadata": {
            "tags": []
          },
          "execution_count": 19
        }
      ]
    },
    {
      "cell_type": "markdown",
      "metadata": {
        "id": "a0EN3dapM7ZF"
      },
      "source": [
        "###Normalisation functions"
      ]
    },
    {
      "cell_type": "code",
      "metadata": {
        "id": "60pw8bnHHU3a"
      },
      "source": [
        "import emoji\n",
        "import contractions\n",
        "import re\n",
        "\n",
        "def normalise_for_allcaps(tweet):\n",
        "\n",
        "    norm_tweet = re.sub(\"http:.*\", \"\", tweet)\n",
        "    norm_tweet = re.sub(\"@[a-zA-Z0-9]+\", \"\", norm_tweet)\n",
        "    norm_tweet = re.sub(r\"[#@!()/_;:{}=~|,\\-\\.\\?\\[\\]]\", \"\", norm_tweet)\n",
        "    norm_tweet = re.sub(\"'s\", \"\", norm_tweet)\n",
        "\n",
        "    norm_tweet = emoji.demojize(norm_tweet)\n",
        "    norm_tweet = re.sub(\":\\s?\\w{3,}\\s?:\", \"\", norm_tweet)\n",
        "    norm_tweet = re.sub(\"\\d+\", \"\", norm_tweet)\n",
        "    norm_tweet = contractions.fix(norm_tweet)\n",
        "        \n",
        "    return norm_tweet.strip()\n",
        "\n",
        "\n",
        "def normalise_for_pol(tweet):\n",
        "\n",
        "    norm_tweet = re.sub(\"http:.*\", \"\", tweet) \n",
        "    norm_tweet = re.sub(\"'s\", \"\", norm_tweet)\n",
        "    norm_tweet = re.sub(\"@[a-zA-Z0-9]+\", \"\", norm_tweet)\n",
        "\n",
        "    norm_tweet = emoji.demojize(norm_tweet)\n",
        "    norm_tweet = re.sub(r\"[#@!()/_;:{}=~|,\\-\\.\\?\\[\\]]\", \"\", norm_tweet)\n",
        "    norm_tweet = re.sub(\"\\d+\", \"\", norm_tweet)\n",
        "        \n",
        "    return norm_tweet.strip()\n",
        "\n",
        "def normalise_for_pos(tweet):\n",
        "\n",
        "    norm_tweet = re.sub(\"http:.*\", \"\", tweet)\n",
        "    norm_tweet = re.sub(\"@[a-zA-Z0-9]+\", \"\", norm_tweet)\n",
        "    norm_tweet = re.sub(r\"[#@!()/_;:{}=~|,\\-\\.\\?\\[\\]]\", \"\", norm_tweet)\n",
        "    norm_tweet = re.sub(\"'s\", \"\", norm_tweet)\n",
        "\n",
        "    norm_tweet = emoji.demojize(norm_tweet)\n",
        "    norm_tweet = re.sub(\":\\s?\\w{3,}\\s?:\", \"\", norm_tweet)\n",
        "    norm_tweet = re.sub(\"\\d+\", \"\", norm_tweet)\n",
        "    norm_tweet = contractions.fix(norm_tweet)\n",
        "    norm_tweet = norm_tweet.lower()\n",
        "\n",
        "    return norm_tweet.strip()\n",
        "\n",
        "def normalise_for_punct(tweet):\n",
        "\n",
        "    norm_tweet = re.sub(\"http:.*\", \"\", tweet)\n",
        "    norm_tweet = re.sub(\"@[a-zA-Z0-9]+\", \"\", norm_tweet)\n",
        "    norm_tweet = re.sub(r\"[#@()/_;:{}=~|,\\-\\.\\[\\]]\", \"\", norm_tweet)\n",
        "    norm_tweet = re.sub(\"'s\", \"\", norm_tweet)\n",
        "\n",
        "    norm_tweet = emoji.demojize(norm_tweet)\n",
        "    norm_tweet = re.sub(\":\\s?\\w{3,}\\s?:\", \"\", norm_tweet)\n",
        "    norm_tweet = re.sub(\"\\d+\", \"\", norm_tweet)\n",
        "    norm_tweet = contractions.fix(norm_tweet)\n",
        "    norm_tweet = norm_tweet.lower()\n",
        "\n",
        "    return norm_tweet.strip()"
      ],
      "execution_count": null,
      "outputs": []
    },
    {
      "cell_type": "markdown",
      "metadata": {
        "id": "u5hksLiI5opP"
      },
      "source": [
        "###All caps"
      ]
    },
    {
      "cell_type": "code",
      "metadata": {
        "id": "aN04CZQhH6yN"
      },
      "source": [
        "x_train_mod1 = []\n",
        "for tweet in x_train:\n",
        "    x_train_mod1.append(normalise_for_allcaps(tweet))"
      ],
      "execution_count": null,
      "outputs": []
    },
    {
      "cell_type": "code",
      "metadata": {
        "id": "fi0fvkEMGqz0"
      },
      "source": [
        "def get_all_caps(dataset):\n",
        "    all_caps = []\n",
        "\n",
        "    for tweet in dataset:\n",
        "        upper_w = 0\n",
        "        n_words = len(tweet.split())\n",
        "        for word in tweet.split():\n",
        "            if word == 'I':\n",
        "                n_words +- 1\n",
        "            if word != 'I' and word.isupper():\n",
        "                upper_w += 1\n",
        "\n",
        "        if upper_w >= round(n_words*80/100):\n",
        "            all_caps.append(1)\n",
        "        else:\n",
        "            all_caps.append(0)\n",
        "            \n",
        "    return all_caps"
      ],
      "execution_count": null,
      "outputs": []
    },
    {
      "cell_type": "code",
      "metadata": {
        "colab": {
          "base_uri": "https://localhost:8080/"
        },
        "id": "AsBJWP7ZHZO4",
        "outputId": "24fbd627-6bcc-44a2-dd7f-d1adea40a086"
      },
      "source": [
        "all_caps = get_all_caps(x_train_mod1)\n",
        "\n",
        "# Number of tweets with feature all_caps\n",
        "all_caps.count(1)"
      ],
      "execution_count": null,
      "outputs": [
        {
          "output_type": "execute_result",
          "data": {
            "text/plain": [
              "53"
            ]
          },
          "metadata": {
            "tags": []
          },
          "execution_count": 24
        }
      ]
    },
    {
      "cell_type": "code",
      "metadata": {
        "colab": {
          "base_uri": "https://localhost:8080/"
        },
        "id": "03hImHcxONwq",
        "outputId": "abba8f77-fb4d-405a-c3f9-9c056b37be90"
      },
      "source": [
        "df_feat = df_train.copy()\n",
        "\n",
        "df_feat['all_caps'] = all_caps\n",
        "df_feat.head()"
      ],
      "execution_count": null,
      "outputs": [
        {
          "output_type": "execute_result",
          "data": {
            "text/html": [
              "<div>\n",
              "<style scoped>\n",
              "    .dataframe tbody tr th:only-of-type {\n",
              "        vertical-align: middle;\n",
              "    }\n",
              "\n",
              "    .dataframe tbody tr th {\n",
              "        vertical-align: top;\n",
              "    }\n",
              "\n",
              "    .dataframe thead th {\n",
              "        text-align: right;\n",
              "    }\n",
              "</style>\n",
              "<table border=\"1\" class=\"dataframe\">\n",
              "  <thead>\n",
              "    <tr style=\"text-align: right;\">\n",
              "      <th></th>\n",
              "      <th>index</th>\n",
              "      <th>irony_label</th>\n",
              "      <th>tweet</th>\n",
              "      <th>all_caps</th>\n",
              "    </tr>\n",
              "  </thead>\n",
              "  <tbody>\n",
              "    <tr>\n",
              "      <th>0</th>\n",
              "      <td>1</td>\n",
              "      <td>1</td>\n",
              "      <td>Sweet United Nations video. Just in time for C...</td>\n",
              "      <td>0</td>\n",
              "    </tr>\n",
              "    <tr>\n",
              "      <th>1</th>\n",
              "      <td>2</td>\n",
              "      <td>1</td>\n",
              "      <td>@mrdahl87 We are rumored to have talked to Erv...</td>\n",
              "      <td>0</td>\n",
              "    </tr>\n",
              "    <tr>\n",
              "      <th>2</th>\n",
              "      <td>3</td>\n",
              "      <td>1</td>\n",
              "      <td>Hey there! Nice to see you Minnesota/ND Winter...</td>\n",
              "      <td>0</td>\n",
              "    </tr>\n",
              "    <tr>\n",
              "      <th>3</th>\n",
              "      <td>4</td>\n",
              "      <td>0</td>\n",
              "      <td>3 episodes left I'm dying over here</td>\n",
              "      <td>0</td>\n",
              "    </tr>\n",
              "    <tr>\n",
              "      <th>4</th>\n",
              "      <td>5</td>\n",
              "      <td>1</td>\n",
              "      <td>I can't breathe! was chosen as the most notabl...</td>\n",
              "      <td>0</td>\n",
              "    </tr>\n",
              "  </tbody>\n",
              "</table>\n",
              "</div>"
            ],
            "text/plain": [
              "   index  ...  all_caps\n",
              "0      1  ...         0\n",
              "1      2  ...         0\n",
              "2      3  ...         0\n",
              "3      4  ...         0\n",
              "4      5  ...         0\n",
              "\n",
              "[5 rows x 4 columns]"
            ]
          },
          "metadata": {
            "tags": []
          },
          "execution_count": 25
        }
      ]
    },
    {
      "cell_type": "code",
      "metadata": {
        "colab": {
          "base_uri": "https://localhost:8080/"
        },
        "id": "MJ7QoBMzAbvl",
        "outputId": "20b0a50e-ee5d-42e0-f5d9-fe0f8291c8ec"
      },
      "source": [
        "len(y_train) == len(all_caps)"
      ],
      "execution_count": null,
      "outputs": [
        {
          "output_type": "execute_result",
          "data": {
            "text/plain": [
              "True"
            ]
          },
          "metadata": {
            "tags": []
          },
          "execution_count": 26
        }
      ]
    },
    {
      "cell_type": "code",
      "metadata": {
        "colab": {
          "base_uri": "https://localhost:8080/"
        },
        "id": "9rvPck9BNY5y",
        "outputId": "ca05c6ee-be20-4395-c3a7-0db7346d8504"
      },
      "source": [
        "df_feat[['irony_label', 'all_caps']].corr()"
      ],
      "execution_count": null,
      "outputs": [
        {
          "output_type": "execute_result",
          "data": {
            "text/html": [
              "<div>\n",
              "<style scoped>\n",
              "    .dataframe tbody tr th:only-of-type {\n",
              "        vertical-align: middle;\n",
              "    }\n",
              "\n",
              "    .dataframe tbody tr th {\n",
              "        vertical-align: top;\n",
              "    }\n",
              "\n",
              "    .dataframe thead th {\n",
              "        text-align: right;\n",
              "    }\n",
              "</style>\n",
              "<table border=\"1\" class=\"dataframe\">\n",
              "  <thead>\n",
              "    <tr style=\"text-align: right;\">\n",
              "      <th></th>\n",
              "      <th>irony_label</th>\n",
              "      <th>all_caps</th>\n",
              "    </tr>\n",
              "  </thead>\n",
              "  <tbody>\n",
              "    <tr>\n",
              "      <th>irony_label</th>\n",
              "      <td>1.000000</td>\n",
              "      <td>-0.064412</td>\n",
              "    </tr>\n",
              "    <tr>\n",
              "      <th>all_caps</th>\n",
              "      <td>-0.064412</td>\n",
              "      <td>1.000000</td>\n",
              "    </tr>\n",
              "  </tbody>\n",
              "</table>\n",
              "</div>"
            ],
            "text/plain": [
              "             irony_label  all_caps\n",
              "irony_label     1.000000 -0.064412\n",
              "all_caps       -0.064412  1.000000"
            ]
          },
          "metadata": {
            "tags": []
          },
          "execution_count": 27
        }
      ]
    },
    {
      "cell_type": "code",
      "metadata": {
        "colab": {
          "base_uri": "https://localhost:8080/"
        },
        "id": "YYAzSSi3QsUb",
        "outputId": "3c210912-e59f-4d57-d940-2a5673c8c25f"
      },
      "source": [
        "corr_list_allcaps = []\n",
        "for i in range(len(y_train)):\n",
        "    if all_caps[i] == 1:\n",
        "        corr_list_allcaps.append(y_train[i])\n",
        "\n",
        "print(corr_list_allcaps.count(0))\n",
        "print(corr_list_allcaps.count(1))"
      ],
      "execution_count": null,
      "outputs": [
        {
          "output_type": "stream",
          "text": [
            "41\n",
            "12\n"
          ],
          "name": "stdout"
        }
      ]
    },
    {
      "cell_type": "code",
      "metadata": {
        "colab": {
          "base_uri": "https://localhost:8080/"
        },
        "id": "NPWDENYqCd0_",
        "outputId": "5ac3ce58-8172-49d8-8d60-d7b3ad4cf643"
      },
      "source": [
        "p_nonironic = round(corr_list_allcaps.count(0)*100/(corr_list_allcaps.count(0)+corr_list_allcaps.count(1)),2)\n",
        "p_ironic = round(corr_list_allcaps.count(1)*100/(corr_list_allcaps.count(0)+corr_list_allcaps.count(1)),2)\n",
        "\n",
        "print(\"Out of the tweets that contain the feature <all_caps>,\", p_ironic, \"% are ironic\")"
      ],
      "execution_count": null,
      "outputs": [
        {
          "output_type": "stream",
          "text": [
            "Out of the tweets that contain the feature <all_caps>, 22.64 % are ironic\n"
          ],
          "name": "stdout"
        }
      ]
    },
    {
      "cell_type": "markdown",
      "metadata": {
        "id": "1AjPyuaaTL3E"
      },
      "source": [
        "###Ellipsis"
      ]
    },
    {
      "cell_type": "code",
      "metadata": {
        "id": "U_5TmguLIYYo"
      },
      "source": [
        "def get_ellipsis(dataset):\n",
        "    ellipsis = []\n",
        "\n",
        "    for tweet in dataset:\n",
        "        el = int(bool(re.search(\"\\.\\.\\.+\", tweet)))\n",
        "        if el == 1:\n",
        "            ellipsis.append(1)\n",
        "        else:\n",
        "            ellipsis.append(0)\n",
        "            \n",
        "    return ellipsis"
      ],
      "execution_count": null,
      "outputs": []
    },
    {
      "cell_type": "code",
      "metadata": {
        "colab": {
          "base_uri": "https://localhost:8080/"
        },
        "id": "UXGXecutIknp",
        "outputId": "59e2a140-3fcb-473c-a453-633648406482"
      },
      "source": [
        "ellipsis = get_ellipsis(x_train)\n",
        "\n",
        "# Number of tweets with feature ellipsis\n",
        "ellipsis.count(1)"
      ],
      "execution_count": null,
      "outputs": [
        {
          "output_type": "execute_result",
          "data": {
            "text/plain": [
              "484"
            ]
          },
          "metadata": {
            "tags": []
          },
          "execution_count": 31
        }
      ]
    },
    {
      "cell_type": "code",
      "metadata": {
        "colab": {
          "base_uri": "https://localhost:8080/"
        },
        "id": "KAAhdDu3VF7n",
        "outputId": "352e67d9-bd00-48a8-a5a1-fdb59de13464"
      },
      "source": [
        "df_feat['ellipsis'] = ellipsis\n",
        "df_feat.head()"
      ],
      "execution_count": null,
      "outputs": [
        {
          "output_type": "execute_result",
          "data": {
            "text/html": [
              "<div>\n",
              "<style scoped>\n",
              "    .dataframe tbody tr th:only-of-type {\n",
              "        vertical-align: middle;\n",
              "    }\n",
              "\n",
              "    .dataframe tbody tr th {\n",
              "        vertical-align: top;\n",
              "    }\n",
              "\n",
              "    .dataframe thead th {\n",
              "        text-align: right;\n",
              "    }\n",
              "</style>\n",
              "<table border=\"1\" class=\"dataframe\">\n",
              "  <thead>\n",
              "    <tr style=\"text-align: right;\">\n",
              "      <th></th>\n",
              "      <th>index</th>\n",
              "      <th>irony_label</th>\n",
              "      <th>tweet</th>\n",
              "      <th>all_caps</th>\n",
              "      <th>ellipsis</th>\n",
              "    </tr>\n",
              "  </thead>\n",
              "  <tbody>\n",
              "    <tr>\n",
              "      <th>0</th>\n",
              "      <td>1</td>\n",
              "      <td>1</td>\n",
              "      <td>Sweet United Nations video. Just in time for C...</td>\n",
              "      <td>0</td>\n",
              "      <td>0</td>\n",
              "    </tr>\n",
              "    <tr>\n",
              "      <th>1</th>\n",
              "      <td>2</td>\n",
              "      <td>1</td>\n",
              "      <td>@mrdahl87 We are rumored to have talked to Erv...</td>\n",
              "      <td>0</td>\n",
              "      <td>1</td>\n",
              "    </tr>\n",
              "    <tr>\n",
              "      <th>2</th>\n",
              "      <td>3</td>\n",
              "      <td>1</td>\n",
              "      <td>Hey there! Nice to see you Minnesota/ND Winter...</td>\n",
              "      <td>0</td>\n",
              "      <td>0</td>\n",
              "    </tr>\n",
              "    <tr>\n",
              "      <th>3</th>\n",
              "      <td>4</td>\n",
              "      <td>0</td>\n",
              "      <td>3 episodes left I'm dying over here</td>\n",
              "      <td>0</td>\n",
              "      <td>0</td>\n",
              "    </tr>\n",
              "    <tr>\n",
              "      <th>4</th>\n",
              "      <td>5</td>\n",
              "      <td>1</td>\n",
              "      <td>I can't breathe! was chosen as the most notabl...</td>\n",
              "      <td>0</td>\n",
              "      <td>0</td>\n",
              "    </tr>\n",
              "  </tbody>\n",
              "</table>\n",
              "</div>"
            ],
            "text/plain": [
              "   index  irony_label  ... all_caps  ellipsis\n",
              "0      1            1  ...        0         0\n",
              "1      2            1  ...        0         1\n",
              "2      3            1  ...        0         0\n",
              "3      4            0  ...        0         0\n",
              "4      5            1  ...        0         0\n",
              "\n",
              "[5 rows x 5 columns]"
            ]
          },
          "metadata": {
            "tags": []
          },
          "execution_count": 32
        }
      ]
    },
    {
      "cell_type": "code",
      "metadata": {
        "colab": {
          "base_uri": "https://localhost:8080/"
        },
        "id": "YUrym35NVe2f",
        "outputId": "467f38a4-10ce-4924-8bd6-6271674f4b00"
      },
      "source": [
        "df_feat[['irony_label', 'ellipsis']].corr()"
      ],
      "execution_count": null,
      "outputs": [
        {
          "output_type": "execute_result",
          "data": {
            "text/html": [
              "<div>\n",
              "<style scoped>\n",
              "    .dataframe tbody tr th:only-of-type {\n",
              "        vertical-align: middle;\n",
              "    }\n",
              "\n",
              "    .dataframe tbody tr th {\n",
              "        vertical-align: top;\n",
              "    }\n",
              "\n",
              "    .dataframe thead th {\n",
              "        text-align: right;\n",
              "    }\n",
              "</style>\n",
              "<table border=\"1\" class=\"dataframe\">\n",
              "  <thead>\n",
              "    <tr style=\"text-align: right;\">\n",
              "      <th></th>\n",
              "      <th>irony_label</th>\n",
              "      <th>ellipsis</th>\n",
              "    </tr>\n",
              "  </thead>\n",
              "  <tbody>\n",
              "    <tr>\n",
              "      <th>irony_label</th>\n",
              "      <td>1.00000</td>\n",
              "      <td>-0.02237</td>\n",
              "    </tr>\n",
              "    <tr>\n",
              "      <th>ellipsis</th>\n",
              "      <td>-0.02237</td>\n",
              "      <td>1.00000</td>\n",
              "    </tr>\n",
              "  </tbody>\n",
              "</table>\n",
              "</div>"
            ],
            "text/plain": [
              "             irony_label  ellipsis\n",
              "irony_label      1.00000  -0.02237\n",
              "ellipsis        -0.02237   1.00000"
            ]
          },
          "metadata": {
            "tags": []
          },
          "execution_count": 33
        }
      ]
    },
    {
      "cell_type": "code",
      "metadata": {
        "colab": {
          "base_uri": "https://localhost:8080/"
        },
        "id": "lTqfi0wlVl2X",
        "outputId": "f5bdd943-ee2e-4ee3-f049-461e864375b1"
      },
      "source": [
        "corr_list_elip = []\n",
        "for i in range(len(y_train)):\n",
        "    if ellipsis[i] == 1:\n",
        "        corr_list_elip.append(y_train[i])\n",
        "\n",
        "print(corr_list_elip.count(0))\n",
        "print(corr_list_elip.count(1))"
      ],
      "execution_count": null,
      "outputs": [
        {
          "output_type": "stream",
          "text": [
            "257\n",
            "227\n"
          ],
          "name": "stdout"
        }
      ]
    },
    {
      "cell_type": "code",
      "metadata": {
        "colab": {
          "base_uri": "https://localhost:8080/"
        },
        "id": "FUtvaC3vEP6p",
        "outputId": "cbf8d31f-8f52-4e1c-962a-55ebbc45ea10"
      },
      "source": [
        "p_nonironic = round(corr_list_elip.count(0)*100/(corr_list_elip.count(0)+corr_list_elip.count(1)),2)\n",
        "p_ironic = round(corr_list_elip.count(1)*100/(corr_list_elip.count(0)+corr_list_elip.count(1)),2)\n",
        "\n",
        "print(\"Out of the tweets that contain the feature <ellipsis>,\", p_ironic, \"% are ironic\")"
      ],
      "execution_count": null,
      "outputs": [
        {
          "output_type": "stream",
          "text": [
            "Out of the tweets that contain the feature <ellipsis>, 46.9 % are ironic\n"
          ],
          "name": "stdout"
        }
      ]
    },
    {
      "cell_type": "markdown",
      "metadata": {
        "id": "aJV7Ld479P3O"
      },
      "source": [
        "###Polarity change"
      ]
    },
    {
      "cell_type": "code",
      "metadata": {
        "id": "W0tnjtCGWujn"
      },
      "source": [
        "from textblob import TextBlob"
      ],
      "execution_count": null,
      "outputs": []
    },
    {
      "cell_type": "code",
      "metadata": {
        "id": "k4oBYc1hI1pV"
      },
      "source": [
        "x_train_mod2 = []\n",
        "for tweet in x_train:\n",
        "    x_train_mod2.append(normalise_for_pol(tweet))"
      ],
      "execution_count": null,
      "outputs": []
    },
    {
      "cell_type": "code",
      "metadata": {
        "id": "EKz15UKTI5EJ"
      },
      "source": [
        "def get_pol_change(dataset):\n",
        "    polarities = []\n",
        "\n",
        "    for tweet in dataset:\n",
        "        pol_of_words = []\n",
        "        for word in tweet.split():\n",
        "            x = TextBlob(word)\n",
        "            pol_of_words.append(x.sentiment.polarity)\n",
        "        if all(p == 0.0 for p in pol_of_words):\n",
        "            polarities.append([0.0])\n",
        "        else:\n",
        "            inner = []\n",
        "            for p in pol_of_words:\n",
        "                if p != 0.0:\n",
        "                    inner.append(p)\n",
        "            polarities.append(inner)\n",
        "\n",
        "    pol_change = []\n",
        "    idx = 0\n",
        "    for lst in polarities:\n",
        "        pos = float(sum(pol > 0 for pol in lst))\n",
        "        neg = float(sum(pol < 0 for pol in lst))\n",
        "        if pos != 0.0 and neg != 0.0:\n",
        "            pol_change.append(1)\n",
        "        else:\n",
        "            pol_change.append(0)\n",
        "            \n",
        "    return pol_change"
      ],
      "execution_count": null,
      "outputs": []
    },
    {
      "cell_type": "code",
      "metadata": {
        "id": "CR8VXlExJGgx"
      },
      "source": [
        "pol_change = get_pol_change(x_train_mod2)"
      ],
      "execution_count": null,
      "outputs": []
    },
    {
      "cell_type": "code",
      "metadata": {
        "colab": {
          "base_uri": "https://localhost:8080/"
        },
        "id": "UOMPQWAIJkCN",
        "outputId": "42bff897-9cda-421c-d808-ce0e33ec10d0"
      },
      "source": [
        "print(pol_change.count(0))\n",
        "print(pol_change.count(1))"
      ],
      "execution_count": null,
      "outputs": [
        {
          "output_type": "stream",
          "text": [
            "3353\n",
            "481\n"
          ],
          "name": "stdout"
        }
      ]
    },
    {
      "cell_type": "code",
      "metadata": {
        "colab": {
          "base_uri": "https://localhost:8080/"
        },
        "id": "yeRzQXyeYW5H",
        "outputId": "dc1499cd-8829-4024-fe36-28c4f8119e8d"
      },
      "source": [
        "df_feat['pol_change'] = pol_change\n",
        "df_feat.head()"
      ],
      "execution_count": null,
      "outputs": [
        {
          "output_type": "execute_result",
          "data": {
            "text/html": [
              "<div>\n",
              "<style scoped>\n",
              "    .dataframe tbody tr th:only-of-type {\n",
              "        vertical-align: middle;\n",
              "    }\n",
              "\n",
              "    .dataframe tbody tr th {\n",
              "        vertical-align: top;\n",
              "    }\n",
              "\n",
              "    .dataframe thead th {\n",
              "        text-align: right;\n",
              "    }\n",
              "</style>\n",
              "<table border=\"1\" class=\"dataframe\">\n",
              "  <thead>\n",
              "    <tr style=\"text-align: right;\">\n",
              "      <th></th>\n",
              "      <th>index</th>\n",
              "      <th>irony_label</th>\n",
              "      <th>tweet</th>\n",
              "      <th>all_caps</th>\n",
              "      <th>ellipsis</th>\n",
              "      <th>pol_change</th>\n",
              "    </tr>\n",
              "  </thead>\n",
              "  <tbody>\n",
              "    <tr>\n",
              "      <th>0</th>\n",
              "      <td>1</td>\n",
              "      <td>1</td>\n",
              "      <td>Sweet United Nations video. Just in time for C...</td>\n",
              "      <td>0</td>\n",
              "      <td>0</td>\n",
              "      <td>0</td>\n",
              "    </tr>\n",
              "    <tr>\n",
              "      <th>1</th>\n",
              "      <td>2</td>\n",
              "      <td>1</td>\n",
              "      <td>@mrdahl87 We are rumored to have talked to Erv...</td>\n",
              "      <td>0</td>\n",
              "      <td>1</td>\n",
              "      <td>0</td>\n",
              "    </tr>\n",
              "    <tr>\n",
              "      <th>2</th>\n",
              "      <td>3</td>\n",
              "      <td>1</td>\n",
              "      <td>Hey there! Nice to see you Minnesota/ND Winter...</td>\n",
              "      <td>0</td>\n",
              "      <td>0</td>\n",
              "      <td>0</td>\n",
              "    </tr>\n",
              "    <tr>\n",
              "      <th>3</th>\n",
              "      <td>4</td>\n",
              "      <td>0</td>\n",
              "      <td>3 episodes left I'm dying over here</td>\n",
              "      <td>0</td>\n",
              "      <td>0</td>\n",
              "      <td>0</td>\n",
              "    </tr>\n",
              "    <tr>\n",
              "      <th>4</th>\n",
              "      <td>5</td>\n",
              "      <td>1</td>\n",
              "      <td>I can't breathe! was chosen as the most notabl...</td>\n",
              "      <td>0</td>\n",
              "      <td>0</td>\n",
              "      <td>0</td>\n",
              "    </tr>\n",
              "  </tbody>\n",
              "</table>\n",
              "</div>"
            ],
            "text/plain": [
              "   index  irony_label  ... ellipsis  pol_change\n",
              "0      1            1  ...        0           0\n",
              "1      2            1  ...        1           0\n",
              "2      3            1  ...        0           0\n",
              "3      4            0  ...        0           0\n",
              "4      5            1  ...        0           0\n",
              "\n",
              "[5 rows x 6 columns]"
            ]
          },
          "metadata": {
            "tags": []
          },
          "execution_count": 41
        }
      ]
    },
    {
      "cell_type": "code",
      "metadata": {
        "colab": {
          "base_uri": "https://localhost:8080/"
        },
        "id": "sO8udR-k8pyi",
        "outputId": "fba25255-811e-4cca-bdb1-c61611fa9d8c"
      },
      "source": [
        "df_feat[['irony_label', 'pol_change']].corr()"
      ],
      "execution_count": null,
      "outputs": [
        {
          "output_type": "execute_result",
          "data": {
            "text/html": [
              "<div>\n",
              "<style scoped>\n",
              "    .dataframe tbody tr th:only-of-type {\n",
              "        vertical-align: middle;\n",
              "    }\n",
              "\n",
              "    .dataframe tbody tr th {\n",
              "        vertical-align: top;\n",
              "    }\n",
              "\n",
              "    .dataframe thead th {\n",
              "        text-align: right;\n",
              "    }\n",
              "</style>\n",
              "<table border=\"1\" class=\"dataframe\">\n",
              "  <thead>\n",
              "    <tr style=\"text-align: right;\">\n",
              "      <th></th>\n",
              "      <th>irony_label</th>\n",
              "      <th>pol_change</th>\n",
              "    </tr>\n",
              "  </thead>\n",
              "  <tbody>\n",
              "    <tr>\n",
              "      <th>irony_label</th>\n",
              "      <td>1.00000</td>\n",
              "      <td>0.03662</td>\n",
              "    </tr>\n",
              "    <tr>\n",
              "      <th>pol_change</th>\n",
              "      <td>0.03662</td>\n",
              "      <td>1.00000</td>\n",
              "    </tr>\n",
              "  </tbody>\n",
              "</table>\n",
              "</div>"
            ],
            "text/plain": [
              "             irony_label  pol_change\n",
              "irony_label      1.00000     0.03662\n",
              "pol_change       0.03662     1.00000"
            ]
          },
          "metadata": {
            "tags": []
          },
          "execution_count": 42
        }
      ]
    },
    {
      "cell_type": "code",
      "metadata": {
        "colab": {
          "base_uri": "https://localhost:8080/"
        },
        "id": "VR-8yzc98wwK",
        "outputId": "4a3b82ef-5885-4329-8f5d-1daad81f2235"
      },
      "source": [
        "corr_list_pol = []\n",
        "for i in range(len(y_train)):\n",
        "    if pol_change[i] == 1:\n",
        "        corr_list_pol.append(y_train[i])\n",
        "\n",
        "print(corr_list_pol.count(0))\n",
        "print(corr_list_pol.count(1))"
      ],
      "execution_count": null,
      "outputs": [
        {
          "output_type": "stream",
          "text": [
            "218\n",
            "263\n"
          ],
          "name": "stdout"
        }
      ]
    },
    {
      "cell_type": "code",
      "metadata": {
        "colab": {
          "base_uri": "https://localhost:8080/"
        },
        "id": "aopTJqD5EpuZ",
        "outputId": "db4739fe-2ef9-47ca-fe16-2e1ba7822a2f"
      },
      "source": [
        "p_nonironic = round(corr_list_pol.count(0)*100/(corr_list_pol.count(0)+corr_list_pol.count(1)),2)\n",
        "p_ironic = round(corr_list_pol.count(1)*100/(corr_list_pol.count(0)+corr_list_pol.count(1)),2)\n",
        "\n",
        "print(\"Out of the tweets that contain the feature <polarity_change>,\", p_ironic, \"% are ironic\")"
      ],
      "execution_count": null,
      "outputs": [
        {
          "output_type": "stream",
          "text": [
            "Out of the tweets that contain the feature <polarity_change>, 54.68 % are ironic\n"
          ],
          "name": "stdout"
        }
      ]
    },
    {
      "cell_type": "markdown",
      "metadata": {
        "id": "IDeUi5J9rk_L"
      },
      "source": [
        "###Number of sentences in tweet"
      ]
    },
    {
      "cell_type": "code",
      "metadata": {
        "colab": {
          "base_uri": "https://localhost:8080/"
        },
        "id": "1-ofRmogrmCm",
        "outputId": "c6d42a93-dd57-4b2e-bc7a-6a95ea56131c"
      },
      "source": [
        "num_of_sents = []\n",
        "\n",
        "for tweet in x_train:\n",
        "    sents = nltk.sent_tokenize(tweet)\n",
        "    num_of_sents.append(len(sents))\n",
        "\n",
        "set(num_of_sents)"
      ],
      "execution_count": null,
      "outputs": [
        {
          "output_type": "execute_result",
          "data": {
            "text/plain": [
              "{1, 2, 3, 4, 5, 6, 7, 8}"
            ]
          },
          "metadata": {
            "tags": []
          },
          "execution_count": 45
        }
      ]
    },
    {
      "cell_type": "code",
      "metadata": {
        "colab": {
          "base_uri": "https://localhost:8080/"
        },
        "id": "OJPtKJEluY1G",
        "outputId": "924926d9-c2e3-4e5a-c83c-e391e00899b8"
      },
      "source": [
        "df_feat['num_of_sents'] = num_of_sents\n",
        "df_feat.head()"
      ],
      "execution_count": null,
      "outputs": [
        {
          "output_type": "execute_result",
          "data": {
            "text/html": [
              "<div>\n",
              "<style scoped>\n",
              "    .dataframe tbody tr th:only-of-type {\n",
              "        vertical-align: middle;\n",
              "    }\n",
              "\n",
              "    .dataframe tbody tr th {\n",
              "        vertical-align: top;\n",
              "    }\n",
              "\n",
              "    .dataframe thead th {\n",
              "        text-align: right;\n",
              "    }\n",
              "</style>\n",
              "<table border=\"1\" class=\"dataframe\">\n",
              "  <thead>\n",
              "    <tr style=\"text-align: right;\">\n",
              "      <th></th>\n",
              "      <th>index</th>\n",
              "      <th>irony_label</th>\n",
              "      <th>tweet</th>\n",
              "      <th>all_caps</th>\n",
              "      <th>ellipsis</th>\n",
              "      <th>pol_change</th>\n",
              "      <th>num_of_sents</th>\n",
              "    </tr>\n",
              "  </thead>\n",
              "  <tbody>\n",
              "    <tr>\n",
              "      <th>0</th>\n",
              "      <td>1</td>\n",
              "      <td>1</td>\n",
              "      <td>Sweet United Nations video. Just in time for C...</td>\n",
              "      <td>0</td>\n",
              "      <td>0</td>\n",
              "      <td>0</td>\n",
              "      <td>3</td>\n",
              "    </tr>\n",
              "    <tr>\n",
              "      <th>1</th>\n",
              "      <td>2</td>\n",
              "      <td>1</td>\n",
              "      <td>@mrdahl87 We are rumored to have talked to Erv...</td>\n",
              "      <td>0</td>\n",
              "      <td>1</td>\n",
              "      <td>0</td>\n",
              "      <td>1</td>\n",
              "    </tr>\n",
              "    <tr>\n",
              "      <th>2</th>\n",
              "      <td>3</td>\n",
              "      <td>1</td>\n",
              "      <td>Hey there! Nice to see you Minnesota/ND Winter...</td>\n",
              "      <td>0</td>\n",
              "      <td>0</td>\n",
              "      <td>0</td>\n",
              "      <td>2</td>\n",
              "    </tr>\n",
              "    <tr>\n",
              "      <th>3</th>\n",
              "      <td>4</td>\n",
              "      <td>0</td>\n",
              "      <td>3 episodes left I'm dying over here</td>\n",
              "      <td>0</td>\n",
              "      <td>0</td>\n",
              "      <td>0</td>\n",
              "      <td>1</td>\n",
              "    </tr>\n",
              "    <tr>\n",
              "      <th>4</th>\n",
              "      <td>5</td>\n",
              "      <td>1</td>\n",
              "      <td>I can't breathe! was chosen as the most notabl...</td>\n",
              "      <td>0</td>\n",
              "      <td>0</td>\n",
              "      <td>0</td>\n",
              "      <td>2</td>\n",
              "    </tr>\n",
              "  </tbody>\n",
              "</table>\n",
              "</div>"
            ],
            "text/plain": [
              "   index  irony_label  ... pol_change  num_of_sents\n",
              "0      1            1  ...          0             3\n",
              "1      2            1  ...          0             1\n",
              "2      3            1  ...          0             2\n",
              "3      4            0  ...          0             1\n",
              "4      5            1  ...          0             2\n",
              "\n",
              "[5 rows x 7 columns]"
            ]
          },
          "metadata": {
            "tags": []
          },
          "execution_count": 46
        }
      ]
    },
    {
      "cell_type": "code",
      "metadata": {
        "colab": {
          "base_uri": "https://localhost:8080/"
        },
        "id": "2ewF34ivujyT",
        "outputId": "3eb1f23a-e46f-46c2-9c3d-00c8b8b65ca2"
      },
      "source": [
        "df_feat[['irony_label', 'num_of_sents']].corr()"
      ],
      "execution_count": null,
      "outputs": [
        {
          "output_type": "execute_result",
          "data": {
            "text/html": [
              "<div>\n",
              "<style scoped>\n",
              "    .dataframe tbody tr th:only-of-type {\n",
              "        vertical-align: middle;\n",
              "    }\n",
              "\n",
              "    .dataframe tbody tr th {\n",
              "        vertical-align: top;\n",
              "    }\n",
              "\n",
              "    .dataframe thead th {\n",
              "        text-align: right;\n",
              "    }\n",
              "</style>\n",
              "<table border=\"1\" class=\"dataframe\">\n",
              "  <thead>\n",
              "    <tr style=\"text-align: right;\">\n",
              "      <th></th>\n",
              "      <th>irony_label</th>\n",
              "      <th>num_of_sents</th>\n",
              "    </tr>\n",
              "  </thead>\n",
              "  <tbody>\n",
              "    <tr>\n",
              "      <th>irony_label</th>\n",
              "      <td>1.000000</td>\n",
              "      <td>0.007899</td>\n",
              "    </tr>\n",
              "    <tr>\n",
              "      <th>num_of_sents</th>\n",
              "      <td>0.007899</td>\n",
              "      <td>1.000000</td>\n",
              "    </tr>\n",
              "  </tbody>\n",
              "</table>\n",
              "</div>"
            ],
            "text/plain": [
              "              irony_label  num_of_sents\n",
              "irony_label      1.000000      0.007899\n",
              "num_of_sents     0.007899      1.000000"
            ]
          },
          "metadata": {
            "tags": []
          },
          "execution_count": 47
        }
      ]
    },
    {
      "cell_type": "code",
      "metadata": {
        "colab": {
          "base_uri": "https://localhost:8080/"
        },
        "id": "2iKhpNn5t6pW",
        "outputId": "87dc3a43-d88b-4c4f-8636-cc9ad008fb38"
      },
      "source": [
        "df_feat['num_of_sents'].value_counts()"
      ],
      "execution_count": null,
      "outputs": [
        {
          "output_type": "execute_result",
          "data": {
            "text/plain": [
              "1    2181\n",
              "2    1179\n",
              "3     357\n",
              "4      91\n",
              "5      18\n",
              "8       3\n",
              "6       3\n",
              "7       2\n",
              "Name: num_of_sents, dtype: int64"
            ]
          },
          "metadata": {
            "tags": []
          },
          "execution_count": 48
        }
      ]
    },
    {
      "cell_type": "code",
      "metadata": {
        "colab": {
          "base_uri": "https://localhost:8080/"
        },
        "id": "H1ReSs8kw_7l",
        "outputId": "94a9444b-cf03-4262-9172-f2350172d7e7"
      },
      "source": [
        "for num in set(num_of_sents):\n",
        "    mask_feat = df_feat['num_of_sents'] == num\n",
        "    temp_df = df_feat[mask_feat]\n",
        "    mask_irony = temp_df['irony_label'] == 1\n",
        "    sliced_df = temp_df[mask_irony]\n",
        "\n",
        "    irony_count = len(sliced_df)\n",
        "\n",
        "    percentage = round(irony_count*100/len(temp_df))\n",
        "    print('Tweets that contain', num, 'sentences are ironic in', percentage, '% of the cases')"
      ],
      "execution_count": null,
      "outputs": [
        {
          "output_type": "stream",
          "text": [
            "Tweets that contain 1 sentences are ironic in 49 % of the cases\n",
            "Tweets that contain 2 sentences are ironic in 51 % of the cases\n",
            "Tweets that contain 3 sentences are ironic in 48 % of the cases\n",
            "Tweets that contain 4 sentences are ironic in 64 % of the cases\n",
            "Tweets that contain 5 sentences are ironic in 28 % of the cases\n",
            "Tweets that contain 6 sentences are ironic in 33 % of the cases\n",
            "Tweets that contain 7 sentences are ironic in 50 % of the cases\n",
            "Tweets that contain 8 sentences are ironic in 33 % of the cases\n"
          ],
          "name": "stdout"
        }
      ]
    },
    {
      "cell_type": "code",
      "metadata": {
        "colab": {
          "base_uri": "https://localhost:8080/"
        },
        "id": "cbO6R7iQ3Xax",
        "outputId": "8324894e-362d-4b42-acf2-e121a00d1b50"
      },
      "source": [
        "# consider numbers above (the following don't tell us much)\n",
        "for num in set(num_of_sents):\n",
        "    mask_irony = df_feat['irony_label'] == 1\n",
        "    temp_df = df_feat[mask_irony] #contains only (and all) the ironic tweets\n",
        "    mask_feat = temp_df['num_of_sents'] == num\n",
        "    sliced_df = temp_df[mask_feat] #only tweets that are both ironic and have num number of sentences\n",
        "\n",
        "    sents_count = len(sliced_df)\n",
        "\n",
        "    percentage = sents_count*100/len(temp_df)\n",
        "    print('Ironic tweets have', num, 'sentences in', percentage, '% of the cases')"
      ],
      "execution_count": null,
      "outputs": [
        {
          "output_type": "stream",
          "text": [
            "Ironic tweets have 1 sentences in 56.25327053898482 % of the cases\n",
            "Ironic tweets have 2 sentences in 31.39717425431711 % of the cases\n",
            "Ironic tweets have 3 sentences in 8.895866038723181 % of the cases\n",
            "Ironic tweets have 4 sentences in 3.035060177917321 % of the cases\n",
            "Ironic tweets have 5 sentences in 0.2616431187859759 % of the cases\n",
            "Ironic tweets have 6 sentences in 0.052328623757195186 % of the cases\n",
            "Ironic tweets have 7 sentences in 0.052328623757195186 % of the cases\n",
            "Ironic tweets have 8 sentences in 0.052328623757195186 % of the cases\n"
          ],
          "name": "stdout"
        }
      ]
    },
    {
      "cell_type": "markdown",
      "metadata": {
        "id": "mTAZLgHJ61XV"
      },
      "source": [
        "###Lengthening (?)\n",
        "can't find RE that works"
      ]
    },
    {
      "cell_type": "code",
      "metadata": {
        "colab": {
          "base_uri": "https://localhost:8080/"
        },
        "id": "uNh1yZ8D61XW",
        "outputId": "299f4da3-c407-40c3-b89a-ac2366a5fdef"
      },
      "source": [
        "lengthening = []\n",
        "\n",
        "for tweet in x_train:\n",
        "    le = int(bool(re.search(\"([a-zA-Z])\\1{2,}\", tweet)))\n",
        "    if le == 1:\n",
        "        lengthening.append(1)\n",
        "    else:\n",
        "        lengthening.append(0)\n",
        "\n",
        "\n",
        "# Number of tweets with feature ellipsis\n",
        "lengthening.count(1)"
      ],
      "execution_count": null,
      "outputs": [
        {
          "output_type": "execute_result",
          "data": {
            "text/plain": [
              "0"
            ]
          },
          "metadata": {
            "tags": []
          },
          "execution_count": 51
        }
      ]
    },
    {
      "cell_type": "markdown",
      "metadata": {
        "id": "qbUEQgUO9Tv9"
      },
      "source": [
        "###Laughter"
      ]
    },
    {
      "cell_type": "code",
      "metadata": {
        "id": "ycBzO-itJx5L"
      },
      "source": [
        "def get_laugh(dataset):\n",
        "    laughs = []\n",
        "\n",
        "    for tweet in dataset:\n",
        "        laugh = int(bool(re.search(r\"\\b(a*ha+h[ha]*|o?l+o+l+[ol]*)\\b\", tweet.lower())))\n",
        "        if laugh == 1:\n",
        "            laughs.append(1)\n",
        "        else:\n",
        "            laughs.append(0)\n",
        "    return laughs"
      ],
      "execution_count": null,
      "outputs": []
    },
    {
      "cell_type": "code",
      "metadata": {
        "id": "Hbc4YZcIJ_CC"
      },
      "source": [
        "laughs = get_laugh(x_train)"
      ],
      "execution_count": null,
      "outputs": []
    },
    {
      "cell_type": "code",
      "metadata": {
        "colab": {
          "base_uri": "https://localhost:8080/"
        },
        "id": "gdl0H9LxJ8gP",
        "outputId": "53e772db-80dc-44cb-e0b3-c42ba29be1c7"
      },
      "source": [
        "print(laughs.count(0))\n",
        "print(laughs.count(1))"
      ],
      "execution_count": null,
      "outputs": [
        {
          "output_type": "stream",
          "text": [
            "3700\n",
            "134\n"
          ],
          "name": "stdout"
        }
      ]
    },
    {
      "cell_type": "code",
      "metadata": {
        "colab": {
          "base_uri": "https://localhost:8080/"
        },
        "id": "DBMKjktk9xUp",
        "outputId": "1fd22659-7be0-420f-9f3f-3afda86b8c38"
      },
      "source": [
        "df_feat['laugh'] = laughs\n",
        "df_feat.head()"
      ],
      "execution_count": null,
      "outputs": [
        {
          "output_type": "execute_result",
          "data": {
            "text/html": [
              "<div>\n",
              "<style scoped>\n",
              "    .dataframe tbody tr th:only-of-type {\n",
              "        vertical-align: middle;\n",
              "    }\n",
              "\n",
              "    .dataframe tbody tr th {\n",
              "        vertical-align: top;\n",
              "    }\n",
              "\n",
              "    .dataframe thead th {\n",
              "        text-align: right;\n",
              "    }\n",
              "</style>\n",
              "<table border=\"1\" class=\"dataframe\">\n",
              "  <thead>\n",
              "    <tr style=\"text-align: right;\">\n",
              "      <th></th>\n",
              "      <th>index</th>\n",
              "      <th>irony_label</th>\n",
              "      <th>tweet</th>\n",
              "      <th>all_caps</th>\n",
              "      <th>ellipsis</th>\n",
              "      <th>pol_change</th>\n",
              "      <th>num_of_sents</th>\n",
              "      <th>laugh</th>\n",
              "    </tr>\n",
              "  </thead>\n",
              "  <tbody>\n",
              "    <tr>\n",
              "      <th>0</th>\n",
              "      <td>1</td>\n",
              "      <td>1</td>\n",
              "      <td>Sweet United Nations video. Just in time for C...</td>\n",
              "      <td>0</td>\n",
              "      <td>0</td>\n",
              "      <td>0</td>\n",
              "      <td>3</td>\n",
              "      <td>0</td>\n",
              "    </tr>\n",
              "    <tr>\n",
              "      <th>1</th>\n",
              "      <td>2</td>\n",
              "      <td>1</td>\n",
              "      <td>@mrdahl87 We are rumored to have talked to Erv...</td>\n",
              "      <td>0</td>\n",
              "      <td>1</td>\n",
              "      <td>0</td>\n",
              "      <td>1</td>\n",
              "      <td>0</td>\n",
              "    </tr>\n",
              "    <tr>\n",
              "      <th>2</th>\n",
              "      <td>3</td>\n",
              "      <td>1</td>\n",
              "      <td>Hey there! Nice to see you Minnesota/ND Winter...</td>\n",
              "      <td>0</td>\n",
              "      <td>0</td>\n",
              "      <td>0</td>\n",
              "      <td>2</td>\n",
              "      <td>0</td>\n",
              "    </tr>\n",
              "    <tr>\n",
              "      <th>3</th>\n",
              "      <td>4</td>\n",
              "      <td>0</td>\n",
              "      <td>3 episodes left I'm dying over here</td>\n",
              "      <td>0</td>\n",
              "      <td>0</td>\n",
              "      <td>0</td>\n",
              "      <td>1</td>\n",
              "      <td>0</td>\n",
              "    </tr>\n",
              "    <tr>\n",
              "      <th>4</th>\n",
              "      <td>5</td>\n",
              "      <td>1</td>\n",
              "      <td>I can't breathe! was chosen as the most notabl...</td>\n",
              "      <td>0</td>\n",
              "      <td>0</td>\n",
              "      <td>0</td>\n",
              "      <td>2</td>\n",
              "      <td>0</td>\n",
              "    </tr>\n",
              "  </tbody>\n",
              "</table>\n",
              "</div>"
            ],
            "text/plain": [
              "   index  irony_label  ... num_of_sents  laugh\n",
              "0      1            1  ...            3      0\n",
              "1      2            1  ...            1      0\n",
              "2      3            1  ...            2      0\n",
              "3      4            0  ...            1      0\n",
              "4      5            1  ...            2      0\n",
              "\n",
              "[5 rows x 8 columns]"
            ]
          },
          "metadata": {
            "tags": []
          },
          "execution_count": 56
        }
      ]
    },
    {
      "cell_type": "code",
      "metadata": {
        "colab": {
          "base_uri": "https://localhost:8080/"
        },
        "id": "hTjVkTJI9xUp",
        "outputId": "4db3d1cc-ffd2-4895-ddd1-01dc015d9bd9"
      },
      "source": [
        "df_feat[['irony_label', 'laugh']].corr()"
      ],
      "execution_count": null,
      "outputs": [
        {
          "output_type": "execute_result",
          "data": {
            "text/html": [
              "<div>\n",
              "<style scoped>\n",
              "    .dataframe tbody tr th:only-of-type {\n",
              "        vertical-align: middle;\n",
              "    }\n",
              "\n",
              "    .dataframe tbody tr th {\n",
              "        vertical-align: top;\n",
              "    }\n",
              "\n",
              "    .dataframe thead th {\n",
              "        text-align: right;\n",
              "    }\n",
              "</style>\n",
              "<table border=\"1\" class=\"dataframe\">\n",
              "  <thead>\n",
              "    <tr style=\"text-align: right;\">\n",
              "      <th></th>\n",
              "      <th>irony_label</th>\n",
              "      <th>laugh</th>\n",
              "    </tr>\n",
              "  </thead>\n",
              "  <tbody>\n",
              "    <tr>\n",
              "      <th>irony_label</th>\n",
              "      <td>1.000000</td>\n",
              "      <td>0.014798</td>\n",
              "    </tr>\n",
              "    <tr>\n",
              "      <th>laugh</th>\n",
              "      <td>0.014798</td>\n",
              "      <td>1.000000</td>\n",
              "    </tr>\n",
              "  </tbody>\n",
              "</table>\n",
              "</div>"
            ],
            "text/plain": [
              "             irony_label     laugh\n",
              "irony_label     1.000000  0.014798\n",
              "laugh           0.014798  1.000000"
            ]
          },
          "metadata": {
            "tags": []
          },
          "execution_count": 57
        }
      ]
    },
    {
      "cell_type": "code",
      "metadata": {
        "colab": {
          "base_uri": "https://localhost:8080/"
        },
        "id": "gnhb-HMJ9xUq",
        "outputId": "a5b30545-9abe-46a6-e5b0-5cd0d9dc23d6"
      },
      "source": [
        "corr_list_laugh = []\n",
        "for i in range(len(y_train)):\n",
        "    if laughs[i] == 1:\n",
        "        corr_list_laugh.append(y_train[i])\n",
        "\n",
        "print(corr_list_laugh.count(0))\n",
        "print(corr_list_laugh.count(1))"
      ],
      "execution_count": null,
      "outputs": [
        {
          "output_type": "stream",
          "text": [
            "62\n",
            "72\n"
          ],
          "name": "stdout"
        }
      ]
    },
    {
      "cell_type": "code",
      "metadata": {
        "colab": {
          "base_uri": "https://localhost:8080/"
        },
        "id": "F2lERwrpE7h6",
        "outputId": "3ba0ee22-08c2-4b62-fa58-fa2223bd42d7"
      },
      "source": [
        "p_nonironic = round(corr_list_laugh.count(0)*100/(corr_list_laugh.count(0)+corr_list_laugh.count(1)),2)\n",
        "p_ironic = round(corr_list_laugh.count(1)*100/(corr_list_laugh.count(0)+corr_list_laugh.count(1)),2)\n",
        "\n",
        "print(\"Out of the tweets that contain the feature <laugh>,\", p_ironic, \"% are ironic\")"
      ],
      "execution_count": null,
      "outputs": [
        {
          "output_type": "stream",
          "text": [
            "Out of the tweets that contain the feature <laugh>, 53.73 % are ironic\n"
          ],
          "name": "stdout"
        }
      ]
    },
    {
      "cell_type": "markdown",
      "metadata": {
        "id": "zcYaOq6UFYAw"
      },
      "source": [
        "###Emojis"
      ]
    },
    {
      "cell_type": "code",
      "metadata": {
        "id": "EKJq7xazF022"
      },
      "source": [
        "import emojis"
      ],
      "execution_count": null,
      "outputs": []
    },
    {
      "cell_type": "code",
      "metadata": {
        "id": "3ysvqHqtKXpa"
      },
      "source": [
        "def get_emojis(dataset):\n",
        "    hasemoji = []\n",
        "\n",
        "    for tweet in dataset:\n",
        "        emo = emojis.count(tweet)\n",
        "        if emo != 0:\n",
        "            hasemoji.append(1)\n",
        "        else:\n",
        "            hasemoji.append(0)\n",
        "    return hasemoji"
      ],
      "execution_count": null,
      "outputs": []
    },
    {
      "cell_type": "code",
      "metadata": {
        "colab": {
          "base_uri": "https://localhost:8080/"
        },
        "id": "A0FDaAQPKiYl",
        "outputId": "5dd3a789-c727-4dd9-aef2-9edaccb5cbc5"
      },
      "source": [
        "hasemoji = get_emojis(x_train)\n",
        "\n",
        "print(hasemoji.count(0))\n",
        "print(hasemoji.count(1))"
      ],
      "execution_count": null,
      "outputs": [
        {
          "output_type": "stream",
          "text": [
            "3433\n",
            "401\n"
          ],
          "name": "stdout"
        }
      ]
    },
    {
      "cell_type": "code",
      "metadata": {
        "colab": {
          "base_uri": "https://localhost:8080/"
        },
        "id": "paJfuDgLGGmS",
        "outputId": "cb957107-7e71-4681-8cbe-5ce348472dda"
      },
      "source": [
        "df_feat['emojis'] = hasemoji\n",
        "df_feat.head()"
      ],
      "execution_count": null,
      "outputs": [
        {
          "output_type": "execute_result",
          "data": {
            "text/html": [
              "<div>\n",
              "<style scoped>\n",
              "    .dataframe tbody tr th:only-of-type {\n",
              "        vertical-align: middle;\n",
              "    }\n",
              "\n",
              "    .dataframe tbody tr th {\n",
              "        vertical-align: top;\n",
              "    }\n",
              "\n",
              "    .dataframe thead th {\n",
              "        text-align: right;\n",
              "    }\n",
              "</style>\n",
              "<table border=\"1\" class=\"dataframe\">\n",
              "  <thead>\n",
              "    <tr style=\"text-align: right;\">\n",
              "      <th></th>\n",
              "      <th>index</th>\n",
              "      <th>irony_label</th>\n",
              "      <th>tweet</th>\n",
              "      <th>all_caps</th>\n",
              "      <th>ellipsis</th>\n",
              "      <th>pol_change</th>\n",
              "      <th>num_of_sents</th>\n",
              "      <th>laugh</th>\n",
              "      <th>emojis</th>\n",
              "    </tr>\n",
              "  </thead>\n",
              "  <tbody>\n",
              "    <tr>\n",
              "      <th>0</th>\n",
              "      <td>1</td>\n",
              "      <td>1</td>\n",
              "      <td>Sweet United Nations video. Just in time for C...</td>\n",
              "      <td>0</td>\n",
              "      <td>0</td>\n",
              "      <td>0</td>\n",
              "      <td>3</td>\n",
              "      <td>0</td>\n",
              "      <td>0</td>\n",
              "    </tr>\n",
              "    <tr>\n",
              "      <th>1</th>\n",
              "      <td>2</td>\n",
              "      <td>1</td>\n",
              "      <td>@mrdahl87 We are rumored to have talked to Erv...</td>\n",
              "      <td>0</td>\n",
              "      <td>1</td>\n",
              "      <td>0</td>\n",
              "      <td>1</td>\n",
              "      <td>0</td>\n",
              "      <td>0</td>\n",
              "    </tr>\n",
              "    <tr>\n",
              "      <th>2</th>\n",
              "      <td>3</td>\n",
              "      <td>1</td>\n",
              "      <td>Hey there! Nice to see you Minnesota/ND Winter...</td>\n",
              "      <td>0</td>\n",
              "      <td>0</td>\n",
              "      <td>0</td>\n",
              "      <td>2</td>\n",
              "      <td>0</td>\n",
              "      <td>0</td>\n",
              "    </tr>\n",
              "    <tr>\n",
              "      <th>3</th>\n",
              "      <td>4</td>\n",
              "      <td>0</td>\n",
              "      <td>3 episodes left I'm dying over here</td>\n",
              "      <td>0</td>\n",
              "      <td>0</td>\n",
              "      <td>0</td>\n",
              "      <td>1</td>\n",
              "      <td>0</td>\n",
              "      <td>0</td>\n",
              "    </tr>\n",
              "    <tr>\n",
              "      <th>4</th>\n",
              "      <td>5</td>\n",
              "      <td>1</td>\n",
              "      <td>I can't breathe! was chosen as the most notabl...</td>\n",
              "      <td>0</td>\n",
              "      <td>0</td>\n",
              "      <td>0</td>\n",
              "      <td>2</td>\n",
              "      <td>0</td>\n",
              "      <td>0</td>\n",
              "    </tr>\n",
              "  </tbody>\n",
              "</table>\n",
              "</div>"
            ],
            "text/plain": [
              "   index  irony_label  ... laugh  emojis\n",
              "0      1            1  ...     0       0\n",
              "1      2            1  ...     0       0\n",
              "2      3            1  ...     0       0\n",
              "3      4            0  ...     0       0\n",
              "4      5            1  ...     0       0\n",
              "\n",
              "[5 rows x 9 columns]"
            ]
          },
          "metadata": {
            "tags": []
          },
          "execution_count": 63
        }
      ]
    },
    {
      "cell_type": "code",
      "metadata": {
        "colab": {
          "base_uri": "https://localhost:8080/"
        },
        "id": "7m3OxGUlGGmh",
        "outputId": "c385b06c-6f11-47cd-c2c3-4369f6f8cb56"
      },
      "source": [
        "df_feat[['irony_label', 'emojis']].corr()"
      ],
      "execution_count": null,
      "outputs": [
        {
          "output_type": "execute_result",
          "data": {
            "text/html": [
              "<div>\n",
              "<style scoped>\n",
              "    .dataframe tbody tr th:only-of-type {\n",
              "        vertical-align: middle;\n",
              "    }\n",
              "\n",
              "    .dataframe tbody tr th {\n",
              "        vertical-align: top;\n",
              "    }\n",
              "\n",
              "    .dataframe thead th {\n",
              "        text-align: right;\n",
              "    }\n",
              "</style>\n",
              "<table border=\"1\" class=\"dataframe\">\n",
              "  <thead>\n",
              "    <tr style=\"text-align: right;\">\n",
              "      <th></th>\n",
              "      <th>irony_label</th>\n",
              "      <th>emojis</th>\n",
              "    </tr>\n",
              "  </thead>\n",
              "  <tbody>\n",
              "    <tr>\n",
              "      <th>irony_label</th>\n",
              "      <td>1.000000</td>\n",
              "      <td>-0.047511</td>\n",
              "    </tr>\n",
              "    <tr>\n",
              "      <th>emojis</th>\n",
              "      <td>-0.047511</td>\n",
              "      <td>1.000000</td>\n",
              "    </tr>\n",
              "  </tbody>\n",
              "</table>\n",
              "</div>"
            ],
            "text/plain": [
              "             irony_label    emojis\n",
              "irony_label     1.000000 -0.047511\n",
              "emojis         -0.047511  1.000000"
            ]
          },
          "metadata": {
            "tags": []
          },
          "execution_count": 64
        }
      ]
    },
    {
      "cell_type": "code",
      "metadata": {
        "colab": {
          "base_uri": "https://localhost:8080/"
        },
        "id": "0tCTapi-GGmh",
        "outputId": "3bfb2ae2-afcc-49ca-ac7a-fdf94e92d576"
      },
      "source": [
        "corr_list_emojis = []\n",
        "for i in range(len(y_train)):\n",
        "    if hasemoji[i] == 1:\n",
        "        corr_list_emojis.append(y_train[i])\n",
        "\n",
        "print(corr_list_emojis.count(0))\n",
        "print(corr_list_emojis.count(1))"
      ],
      "execution_count": null,
      "outputs": [
        {
          "output_type": "stream",
          "text": [
            "229\n",
            "172\n"
          ],
          "name": "stdout"
        }
      ]
    },
    {
      "cell_type": "code",
      "metadata": {
        "colab": {
          "base_uri": "https://localhost:8080/"
        },
        "id": "FhaZNk0rGGmi",
        "outputId": "9dff9a6b-329f-4e95-c602-08ac4abc892a"
      },
      "source": [
        "p_nonironic = round(corr_list_emojis.count(0)*100/(corr_list_emojis.count(0)+corr_list_emojis.count(1)),2)\n",
        "p_ironic = round(corr_list_emojis.count(1)*100/(corr_list_emojis.count(0)+corr_list_emojis.count(1)),2)\n",
        "\n",
        "print(\"Out of the tweets that contain the feature <emojis>,\", p_ironic, \"% are ironic\")"
      ],
      "execution_count": null,
      "outputs": [
        {
          "output_type": "stream",
          "text": [
            "Out of the tweets that contain the feature <emojis>, 42.89 % are ironic\n"
          ],
          "name": "stdout"
        }
      ]
    },
    {
      "cell_type": "markdown",
      "metadata": {
        "id": "wa29NXjBI7Ed"
      },
      "source": [
        "###Interjections"
      ]
    },
    {
      "cell_type": "code",
      "metadata": {
        "id": "JPTjKZXAI9II"
      },
      "source": [
        "x_train_mod3 = []\n",
        "\n",
        "for tweet in x_train:\n",
        "    x_train_mod3.append(normalise_for_pos(tweet))"
      ],
      "execution_count": null,
      "outputs": []
    },
    {
      "cell_type": "code",
      "metadata": {
        "id": "Wvvhn4MhLEAL"
      },
      "source": [
        "def convert_to_pos(dataset):\n",
        "    # A list of lists, where each inner list represents a sentece.\n",
        "    # Instead of words, it contains the POS tags of the words present in the original tweet\n",
        "    x_pos = []\n",
        "\n",
        "    for tweet in dataset:\n",
        "        words = nltk.word_tokenize(tweet)\n",
        "        words_pos = nltk.pos_tag(words)\n",
        "        pos_tweet = []\n",
        "        for i in range(len(words_pos)):\n",
        "            tag = words_pos[i][1]\n",
        "            pos_tweet.append(tag)\n",
        "        x_pos.append(pos_tweet)\n",
        "\n",
        "    return x_pos"
      ],
      "execution_count": null,
      "outputs": []
    },
    {
      "cell_type": "code",
      "metadata": {
        "id": "dQtYx2PuLarz"
      },
      "source": [
        "x_train_pos = convert_to_pos(x_train_mod3)"
      ],
      "execution_count": null,
      "outputs": []
    },
    {
      "cell_type": "code",
      "metadata": {
        "colab": {
          "base_uri": "https://localhost:8080/"
        },
        "id": "YP6x3cbfLlJL",
        "outputId": "8eec5c13-b6c4-4182-d30e-17d920120679"
      },
      "source": [
        "x_train_pos[2]"
      ],
      "execution_count": null,
      "outputs": [
        {
          "output_type": "execute_result",
          "data": {
            "text/plain": [
              "['NN', 'EX', 'JJ', 'TO', 'VB', 'PRP', 'VBP', 'JJR', 'NN']"
            ]
          },
          "metadata": {
            "tags": []
          },
          "execution_count": 70
        }
      ]
    },
    {
      "cell_type": "code",
      "metadata": {
        "colab": {
          "base_uri": "https://localhost:8080/"
        },
        "id": "eP1bgGRBLno3",
        "outputId": "b1f1f29e-4fbf-4996-d410-da192bb6dfbe"
      },
      "source": [
        "x_train_mod3[2]"
      ],
      "execution_count": null,
      "outputs": [
        {
          "output_type": "execute_result",
          "data": {
            "application/vnd.google.colaboratory.intrinsic+json": {
              "type": "string"
            },
            "text/plain": [
              "'hey there nice to see you minnesotand winter weather'"
            ]
          },
          "metadata": {
            "tags": []
          },
          "execution_count": 71
        }
      ]
    },
    {
      "cell_type": "code",
      "metadata": {
        "id": "scNU2DOCLsiO"
      },
      "source": [
        "def get_interjection(pos_data):\n",
        "    interj = []\n",
        "\n",
        "    for tweet in pos_data:\n",
        "        if 'UH' in tweet:\n",
        "            interj.append(1)\n",
        "        else:\n",
        "            interj.append(0)\n",
        "            \n",
        "    return interj"
      ],
      "execution_count": null,
      "outputs": []
    },
    {
      "cell_type": "code",
      "metadata": {
        "id": "-LiZDx2kL6M3"
      },
      "source": [
        "interj = get_interjection(x_train_pos)"
      ],
      "execution_count": null,
      "outputs": []
    },
    {
      "cell_type": "code",
      "metadata": {
        "colab": {
          "base_uri": "https://localhost:8080/"
        },
        "id": "PdbGCVKpMDIP",
        "outputId": "7de3b774-f42f-421e-b6a0-4fd75c9c7f05"
      },
      "source": [
        "print(interj.count(0))\n",
        "print(interj.count(1))"
      ],
      "execution_count": null,
      "outputs": [
        {
          "output_type": "stream",
          "text": [
            "3801\n",
            "33\n"
          ],
          "name": "stdout"
        }
      ]
    },
    {
      "cell_type": "code",
      "metadata": {
        "colab": {
          "base_uri": "https://localhost:8080/"
        },
        "id": "xIupgRXnOSVC",
        "outputId": "c996dc9e-5f46-48db-8da2-741e179fb229"
      },
      "source": [
        "df_feat['interjection'] = interj\n",
        "df_feat.head()"
      ],
      "execution_count": null,
      "outputs": [
        {
          "output_type": "execute_result",
          "data": {
            "text/html": [
              "<div>\n",
              "<style scoped>\n",
              "    .dataframe tbody tr th:only-of-type {\n",
              "        vertical-align: middle;\n",
              "    }\n",
              "\n",
              "    .dataframe tbody tr th {\n",
              "        vertical-align: top;\n",
              "    }\n",
              "\n",
              "    .dataframe thead th {\n",
              "        text-align: right;\n",
              "    }\n",
              "</style>\n",
              "<table border=\"1\" class=\"dataframe\">\n",
              "  <thead>\n",
              "    <tr style=\"text-align: right;\">\n",
              "      <th></th>\n",
              "      <th>index</th>\n",
              "      <th>irony_label</th>\n",
              "      <th>tweet</th>\n",
              "      <th>all_caps</th>\n",
              "      <th>ellipsis</th>\n",
              "      <th>pol_change</th>\n",
              "      <th>num_of_sents</th>\n",
              "      <th>laugh</th>\n",
              "      <th>emojis</th>\n",
              "      <th>interjection</th>\n",
              "    </tr>\n",
              "  </thead>\n",
              "  <tbody>\n",
              "    <tr>\n",
              "      <th>0</th>\n",
              "      <td>1</td>\n",
              "      <td>1</td>\n",
              "      <td>Sweet United Nations video. Just in time for C...</td>\n",
              "      <td>0</td>\n",
              "      <td>0</td>\n",
              "      <td>0</td>\n",
              "      <td>3</td>\n",
              "      <td>0</td>\n",
              "      <td>0</td>\n",
              "      <td>0</td>\n",
              "    </tr>\n",
              "    <tr>\n",
              "      <th>1</th>\n",
              "      <td>2</td>\n",
              "      <td>1</td>\n",
              "      <td>@mrdahl87 We are rumored to have talked to Erv...</td>\n",
              "      <td>0</td>\n",
              "      <td>1</td>\n",
              "      <td>0</td>\n",
              "      <td>1</td>\n",
              "      <td>0</td>\n",
              "      <td>0</td>\n",
              "      <td>0</td>\n",
              "    </tr>\n",
              "    <tr>\n",
              "      <th>2</th>\n",
              "      <td>3</td>\n",
              "      <td>1</td>\n",
              "      <td>Hey there! Nice to see you Minnesota/ND Winter...</td>\n",
              "      <td>0</td>\n",
              "      <td>0</td>\n",
              "      <td>0</td>\n",
              "      <td>2</td>\n",
              "      <td>0</td>\n",
              "      <td>0</td>\n",
              "      <td>0</td>\n",
              "    </tr>\n",
              "    <tr>\n",
              "      <th>3</th>\n",
              "      <td>4</td>\n",
              "      <td>0</td>\n",
              "      <td>3 episodes left I'm dying over here</td>\n",
              "      <td>0</td>\n",
              "      <td>0</td>\n",
              "      <td>0</td>\n",
              "      <td>1</td>\n",
              "      <td>0</td>\n",
              "      <td>0</td>\n",
              "      <td>0</td>\n",
              "    </tr>\n",
              "    <tr>\n",
              "      <th>4</th>\n",
              "      <td>5</td>\n",
              "      <td>1</td>\n",
              "      <td>I can't breathe! was chosen as the most notabl...</td>\n",
              "      <td>0</td>\n",
              "      <td>0</td>\n",
              "      <td>0</td>\n",
              "      <td>2</td>\n",
              "      <td>0</td>\n",
              "      <td>0</td>\n",
              "      <td>0</td>\n",
              "    </tr>\n",
              "  </tbody>\n",
              "</table>\n",
              "</div>"
            ],
            "text/plain": [
              "   index  irony_label  ... emojis  interjection\n",
              "0      1            1  ...      0             0\n",
              "1      2            1  ...      0             0\n",
              "2      3            1  ...      0             0\n",
              "3      4            0  ...      0             0\n",
              "4      5            1  ...      0             0\n",
              "\n",
              "[5 rows x 10 columns]"
            ]
          },
          "metadata": {
            "tags": []
          },
          "execution_count": 75
        }
      ]
    },
    {
      "cell_type": "code",
      "metadata": {
        "colab": {
          "base_uri": "https://localhost:8080/"
        },
        "id": "lWVI156wOSVE",
        "outputId": "7d9d0487-893c-4c22-9716-ab855ad8ac56"
      },
      "source": [
        "df_feat[['irony_label', 'interjection']].corr()"
      ],
      "execution_count": null,
      "outputs": [
        {
          "output_type": "execute_result",
          "data": {
            "text/html": [
              "<div>\n",
              "<style scoped>\n",
              "    .dataframe tbody tr th:only-of-type {\n",
              "        vertical-align: middle;\n",
              "    }\n",
              "\n",
              "    .dataframe tbody tr th {\n",
              "        vertical-align: top;\n",
              "    }\n",
              "\n",
              "    .dataframe thead th {\n",
              "        text-align: right;\n",
              "    }\n",
              "</style>\n",
              "<table border=\"1\" class=\"dataframe\">\n",
              "  <thead>\n",
              "    <tr style=\"text-align: right;\">\n",
              "      <th></th>\n",
              "      <th>irony_label</th>\n",
              "      <th>interjection</th>\n",
              "    </tr>\n",
              "  </thead>\n",
              "  <tbody>\n",
              "    <tr>\n",
              "      <th>irony_label</th>\n",
              "      <td>1.000000</td>\n",
              "      <td>0.025704</td>\n",
              "    </tr>\n",
              "    <tr>\n",
              "      <th>interjection</th>\n",
              "      <td>0.025704</td>\n",
              "      <td>1.000000</td>\n",
              "    </tr>\n",
              "  </tbody>\n",
              "</table>\n",
              "</div>"
            ],
            "text/plain": [
              "              irony_label  interjection\n",
              "irony_label      1.000000      0.025704\n",
              "interjection     0.025704      1.000000"
            ]
          },
          "metadata": {
            "tags": []
          },
          "execution_count": 76
        }
      ]
    },
    {
      "cell_type": "code",
      "metadata": {
        "colab": {
          "base_uri": "https://localhost:8080/"
        },
        "id": "mt_JJYflOSVE",
        "outputId": "448f0c86-c95f-4381-bcf1-f5ef73c58cef"
      },
      "source": [
        "corr_list_interj = []\n",
        "for i in range(len(y_train)):\n",
        "    if interj[i] == 1:\n",
        "        corr_list_interj.append(y_train[i])\n",
        "\n",
        "print(corr_list_interj.count(0))\n",
        "print(corr_list_interj.count(1))"
      ],
      "execution_count": null,
      "outputs": [
        {
          "output_type": "stream",
          "text": [
            "12\n",
            "21\n"
          ],
          "name": "stdout"
        }
      ]
    },
    {
      "cell_type": "code",
      "metadata": {
        "colab": {
          "base_uri": "https://localhost:8080/"
        },
        "id": "o26IHmY1OSVF",
        "outputId": "468e33b8-c617-4da7-88b3-e978c08e8d38"
      },
      "source": [
        "p_nonironic = round(corr_list_interj.count(0)*100/(corr_list_interj.count(0)+corr_list_interj.count(1)),2)\n",
        "p_ironic = round(corr_list_interj.count(1)*100/(corr_list_interj.count(0)+corr_list_interj.count(1)),2)\n",
        "\n",
        "print(\"Out of the tweets that contain the feature <interjection>,\", p_ironic, \"% are ironic\")"
      ],
      "execution_count": null,
      "outputs": [
        {
          "output_type": "stream",
          "text": [
            "Out of the tweets that contain the feature <interjection>, 63.64 % are ironic\n"
          ],
          "name": "stdout"
        }
      ]
    },
    {
      "cell_type": "markdown",
      "metadata": {
        "id": "qAsdeoTrPJad"
      },
      "source": [
        "###Exclamation"
      ]
    },
    {
      "cell_type": "code",
      "metadata": {
        "id": "H7jVVTChOOfy"
      },
      "source": [
        "x_train_mod4 = []\n",
        "\n",
        "for tweet in x_train:\n",
        "    x_train_mod4.append(normalise_for_punct(tweet))"
      ],
      "execution_count": null,
      "outputs": []
    },
    {
      "cell_type": "code",
      "metadata": {
        "id": "1_nHJpSaMPOL"
      },
      "source": [
        "def get_exclamation(dataset):\n",
        "    exclamation = []\n",
        "\n",
        "    for tweet in dataset:\n",
        "        ex = int(bool(re.search(\"!+\", tweet)))\n",
        "        if ex == 1:\n",
        "            exclamation.append(1)\n",
        "        else:\n",
        "            exclamation.append(0)\n",
        "    \n",
        "    return exclamation"
      ],
      "execution_count": null,
      "outputs": []
    },
    {
      "cell_type": "code",
      "metadata": {
        "id": "ci9LCpmQMbqz"
      },
      "source": [
        "exclamation = get_exclamation(x_train_mod4)"
      ],
      "execution_count": null,
      "outputs": []
    },
    {
      "cell_type": "code",
      "metadata": {
        "colab": {
          "base_uri": "https://localhost:8080/"
        },
        "id": "wtHQyIROMgMg",
        "outputId": "64d6d644-949e-4d6c-a6a0-1d85c312c51b"
      },
      "source": [
        "# Number of tweets with feature exclamation\n",
        "print(exclamation.count(0))\n",
        "print(exclamation.count(1))"
      ],
      "execution_count": null,
      "outputs": [
        {
          "output_type": "stream",
          "text": [
            "3194\n",
            "640\n"
          ],
          "name": "stdout"
        }
      ]
    },
    {
      "cell_type": "code",
      "metadata": {
        "colab": {
          "base_uri": "https://localhost:8080/"
        },
        "id": "B7D4-K1AQ2My",
        "outputId": "f2daedf7-7af5-4a8d-ac84-6f76b010a2ed"
      },
      "source": [
        "df_feat['exclamation'] = exclamation\n",
        "df_feat.head()"
      ],
      "execution_count": null,
      "outputs": [
        {
          "output_type": "execute_result",
          "data": {
            "text/html": [
              "<div>\n",
              "<style scoped>\n",
              "    .dataframe tbody tr th:only-of-type {\n",
              "        vertical-align: middle;\n",
              "    }\n",
              "\n",
              "    .dataframe tbody tr th {\n",
              "        vertical-align: top;\n",
              "    }\n",
              "\n",
              "    .dataframe thead th {\n",
              "        text-align: right;\n",
              "    }\n",
              "</style>\n",
              "<table border=\"1\" class=\"dataframe\">\n",
              "  <thead>\n",
              "    <tr style=\"text-align: right;\">\n",
              "      <th></th>\n",
              "      <th>index</th>\n",
              "      <th>irony_label</th>\n",
              "      <th>tweet</th>\n",
              "      <th>all_caps</th>\n",
              "      <th>ellipsis</th>\n",
              "      <th>pol_change</th>\n",
              "      <th>num_of_sents</th>\n",
              "      <th>laugh</th>\n",
              "      <th>emojis</th>\n",
              "      <th>interjection</th>\n",
              "      <th>exclamation</th>\n",
              "    </tr>\n",
              "  </thead>\n",
              "  <tbody>\n",
              "    <tr>\n",
              "      <th>0</th>\n",
              "      <td>1</td>\n",
              "      <td>1</td>\n",
              "      <td>Sweet United Nations video. Just in time for C...</td>\n",
              "      <td>0</td>\n",
              "      <td>0</td>\n",
              "      <td>0</td>\n",
              "      <td>3</td>\n",
              "      <td>0</td>\n",
              "      <td>0</td>\n",
              "      <td>0</td>\n",
              "      <td>0</td>\n",
              "    </tr>\n",
              "    <tr>\n",
              "      <th>1</th>\n",
              "      <td>2</td>\n",
              "      <td>1</td>\n",
              "      <td>@mrdahl87 We are rumored to have talked to Erv...</td>\n",
              "      <td>0</td>\n",
              "      <td>1</td>\n",
              "      <td>0</td>\n",
              "      <td>1</td>\n",
              "      <td>0</td>\n",
              "      <td>0</td>\n",
              "      <td>0</td>\n",
              "      <td>0</td>\n",
              "    </tr>\n",
              "    <tr>\n",
              "      <th>2</th>\n",
              "      <td>3</td>\n",
              "      <td>1</td>\n",
              "      <td>Hey there! Nice to see you Minnesota/ND Winter...</td>\n",
              "      <td>0</td>\n",
              "      <td>0</td>\n",
              "      <td>0</td>\n",
              "      <td>2</td>\n",
              "      <td>0</td>\n",
              "      <td>0</td>\n",
              "      <td>0</td>\n",
              "      <td>1</td>\n",
              "    </tr>\n",
              "    <tr>\n",
              "      <th>3</th>\n",
              "      <td>4</td>\n",
              "      <td>0</td>\n",
              "      <td>3 episodes left I'm dying over here</td>\n",
              "      <td>0</td>\n",
              "      <td>0</td>\n",
              "      <td>0</td>\n",
              "      <td>1</td>\n",
              "      <td>0</td>\n",
              "      <td>0</td>\n",
              "      <td>0</td>\n",
              "      <td>0</td>\n",
              "    </tr>\n",
              "    <tr>\n",
              "      <th>4</th>\n",
              "      <td>5</td>\n",
              "      <td>1</td>\n",
              "      <td>I can't breathe! was chosen as the most notabl...</td>\n",
              "      <td>0</td>\n",
              "      <td>0</td>\n",
              "      <td>0</td>\n",
              "      <td>2</td>\n",
              "      <td>0</td>\n",
              "      <td>0</td>\n",
              "      <td>0</td>\n",
              "      <td>1</td>\n",
              "    </tr>\n",
              "  </tbody>\n",
              "</table>\n",
              "</div>"
            ],
            "text/plain": [
              "   index  irony_label  ... interjection  exclamation\n",
              "0      1            1  ...            0            0\n",
              "1      2            1  ...            0            0\n",
              "2      3            1  ...            0            1\n",
              "3      4            0  ...            0            0\n",
              "4      5            1  ...            0            1\n",
              "\n",
              "[5 rows x 11 columns]"
            ]
          },
          "metadata": {
            "tags": []
          },
          "execution_count": 83
        }
      ]
    },
    {
      "cell_type": "code",
      "metadata": {
        "colab": {
          "base_uri": "https://localhost:8080/"
        },
        "id": "IcQ19s1VQ2My",
        "outputId": "5f6f2175-4dfa-4299-f803-8b8243d8741b"
      },
      "source": [
        "df_feat[['irony_label', 'exclamation']].corr()"
      ],
      "execution_count": null,
      "outputs": [
        {
          "output_type": "execute_result",
          "data": {
            "text/html": [
              "<div>\n",
              "<style scoped>\n",
              "    .dataframe tbody tr th:only-of-type {\n",
              "        vertical-align: middle;\n",
              "    }\n",
              "\n",
              "    .dataframe tbody tr th {\n",
              "        vertical-align: top;\n",
              "    }\n",
              "\n",
              "    .dataframe thead th {\n",
              "        text-align: right;\n",
              "    }\n",
              "</style>\n",
              "<table border=\"1\" class=\"dataframe\">\n",
              "  <thead>\n",
              "    <tr style=\"text-align: right;\">\n",
              "      <th></th>\n",
              "      <th>irony_label</th>\n",
              "      <th>exclamation</th>\n",
              "    </tr>\n",
              "  </thead>\n",
              "  <tbody>\n",
              "    <tr>\n",
              "      <th>irony_label</th>\n",
              "      <td>1.00000</td>\n",
              "      <td>0.01539</td>\n",
              "    </tr>\n",
              "    <tr>\n",
              "      <th>exclamation</th>\n",
              "      <td>0.01539</td>\n",
              "      <td>1.00000</td>\n",
              "    </tr>\n",
              "  </tbody>\n",
              "</table>\n",
              "</div>"
            ],
            "text/plain": [
              "             irony_label  exclamation\n",
              "irony_label      1.00000      0.01539\n",
              "exclamation      0.01539      1.00000"
            ]
          },
          "metadata": {
            "tags": []
          },
          "execution_count": 84
        }
      ]
    },
    {
      "cell_type": "code",
      "metadata": {
        "colab": {
          "base_uri": "https://localhost:8080/"
        },
        "id": "aAxzIsFvQ2My",
        "outputId": "0491bafc-3555-49d2-d6ef-cfe09a4bab3f"
      },
      "source": [
        "corr_list_excl = []\n",
        "for i in range(len(y_train)):\n",
        "    if exclamation[i] == 1:\n",
        "        corr_list_excl.append(y_train[i])\n",
        "\n",
        "print(corr_list_excl.count(0))\n",
        "print(corr_list_excl.count(1))"
      ],
      "execution_count": null,
      "outputs": [
        {
          "output_type": "stream",
          "text": [
            "310\n",
            "330\n"
          ],
          "name": "stdout"
        }
      ]
    },
    {
      "cell_type": "code",
      "metadata": {
        "colab": {
          "base_uri": "https://localhost:8080/"
        },
        "id": "NsldF6IaQ2My",
        "outputId": "e3ee49b4-c262-49b2-9257-e59fce4afd81"
      },
      "source": [
        "p_nonironic = round(corr_list_excl.count(0)*100/(corr_list_excl.count(0)+corr_list_excl.count(1)),2)\n",
        "p_ironic = round(corr_list_excl.count(1)*100/(corr_list_excl.count(0)+corr_list_excl.count(1)),2)\n",
        "\n",
        "print(\"Out of the tweets that contain the feature <exclamation>,\", p_ironic, \"% are ironic\")"
      ],
      "execution_count": null,
      "outputs": [
        {
          "output_type": "stream",
          "text": [
            "Out of the tweets that contain the feature <exclamation>, 51.56 % are ironic\n"
          ],
          "name": "stdout"
        }
      ]
    },
    {
      "cell_type": "markdown",
      "metadata": {
        "id": "1JiHA-NAR3MU"
      },
      "source": [
        "###Hard exclamation"
      ]
    },
    {
      "cell_type": "code",
      "metadata": {
        "id": "ihvYbXPsMnod"
      },
      "source": [
        "def get_hard_exclamation(dataset):\n",
        "    hard_exclamation = []\n",
        "\n",
        "    for tweet in dataset:\n",
        "        #match 2 or more exclamation marks --> change to 3?\n",
        "        hard_ex = int(bool(re.search(\"!{2,}\", tweet)))\n",
        "        if hard_ex == 1:\n",
        "            hard_exclamation.append(1)\n",
        "        else:\n",
        "            hard_exclamation.append(0)\n",
        "    \n",
        "    return hard_exclamation"
      ],
      "execution_count": null,
      "outputs": []
    },
    {
      "cell_type": "code",
      "metadata": {
        "id": "Hfa0u8rPMz9u"
      },
      "source": [
        "hard_exclamation = get_hard_exclamation(x_train_mod4)"
      ],
      "execution_count": null,
      "outputs": []
    },
    {
      "cell_type": "code",
      "metadata": {
        "colab": {
          "base_uri": "https://localhost:8080/"
        },
        "id": "rYtTuVElMyfO",
        "outputId": "8a9eabd0-3243-48cf-a83e-6a49bab997d4"
      },
      "source": [
        "# Number of tweets with feature ellipsis\n",
        "print(hard_exclamation.count(0))\n",
        "print(hard_exclamation.count(1))"
      ],
      "execution_count": null,
      "outputs": [
        {
          "output_type": "stream",
          "text": [
            "3683\n",
            "151\n"
          ],
          "name": "stdout"
        }
      ]
    },
    {
      "cell_type": "code",
      "metadata": {
        "colab": {
          "base_uri": "https://localhost:8080/"
        },
        "id": "iH25oTlwR3Me",
        "outputId": "b0379c4b-f189-4ea6-8e42-879a36372314"
      },
      "source": [
        "df_feat['hard_exclamation'] = hard_exclamation\n",
        "df_feat.head()"
      ],
      "execution_count": null,
      "outputs": [
        {
          "output_type": "execute_result",
          "data": {
            "text/html": [
              "<div>\n",
              "<style scoped>\n",
              "    .dataframe tbody tr th:only-of-type {\n",
              "        vertical-align: middle;\n",
              "    }\n",
              "\n",
              "    .dataframe tbody tr th {\n",
              "        vertical-align: top;\n",
              "    }\n",
              "\n",
              "    .dataframe thead th {\n",
              "        text-align: right;\n",
              "    }\n",
              "</style>\n",
              "<table border=\"1\" class=\"dataframe\">\n",
              "  <thead>\n",
              "    <tr style=\"text-align: right;\">\n",
              "      <th></th>\n",
              "      <th>index</th>\n",
              "      <th>irony_label</th>\n",
              "      <th>tweet</th>\n",
              "      <th>all_caps</th>\n",
              "      <th>ellipsis</th>\n",
              "      <th>pol_change</th>\n",
              "      <th>num_of_sents</th>\n",
              "      <th>laugh</th>\n",
              "      <th>emojis</th>\n",
              "      <th>interjection</th>\n",
              "      <th>exclamation</th>\n",
              "      <th>hard_exclamation</th>\n",
              "    </tr>\n",
              "  </thead>\n",
              "  <tbody>\n",
              "    <tr>\n",
              "      <th>0</th>\n",
              "      <td>1</td>\n",
              "      <td>1</td>\n",
              "      <td>Sweet United Nations video. Just in time for C...</td>\n",
              "      <td>0</td>\n",
              "      <td>0</td>\n",
              "      <td>0</td>\n",
              "      <td>3</td>\n",
              "      <td>0</td>\n",
              "      <td>0</td>\n",
              "      <td>0</td>\n",
              "      <td>0</td>\n",
              "      <td>0</td>\n",
              "    </tr>\n",
              "    <tr>\n",
              "      <th>1</th>\n",
              "      <td>2</td>\n",
              "      <td>1</td>\n",
              "      <td>@mrdahl87 We are rumored to have talked to Erv...</td>\n",
              "      <td>0</td>\n",
              "      <td>1</td>\n",
              "      <td>0</td>\n",
              "      <td>1</td>\n",
              "      <td>0</td>\n",
              "      <td>0</td>\n",
              "      <td>0</td>\n",
              "      <td>0</td>\n",
              "      <td>0</td>\n",
              "    </tr>\n",
              "    <tr>\n",
              "      <th>2</th>\n",
              "      <td>3</td>\n",
              "      <td>1</td>\n",
              "      <td>Hey there! Nice to see you Minnesota/ND Winter...</td>\n",
              "      <td>0</td>\n",
              "      <td>0</td>\n",
              "      <td>0</td>\n",
              "      <td>2</td>\n",
              "      <td>0</td>\n",
              "      <td>0</td>\n",
              "      <td>0</td>\n",
              "      <td>1</td>\n",
              "      <td>0</td>\n",
              "    </tr>\n",
              "    <tr>\n",
              "      <th>3</th>\n",
              "      <td>4</td>\n",
              "      <td>0</td>\n",
              "      <td>3 episodes left I'm dying over here</td>\n",
              "      <td>0</td>\n",
              "      <td>0</td>\n",
              "      <td>0</td>\n",
              "      <td>1</td>\n",
              "      <td>0</td>\n",
              "      <td>0</td>\n",
              "      <td>0</td>\n",
              "      <td>0</td>\n",
              "      <td>0</td>\n",
              "    </tr>\n",
              "    <tr>\n",
              "      <th>4</th>\n",
              "      <td>5</td>\n",
              "      <td>1</td>\n",
              "      <td>I can't breathe! was chosen as the most notabl...</td>\n",
              "      <td>0</td>\n",
              "      <td>0</td>\n",
              "      <td>0</td>\n",
              "      <td>2</td>\n",
              "      <td>0</td>\n",
              "      <td>0</td>\n",
              "      <td>0</td>\n",
              "      <td>1</td>\n",
              "      <td>0</td>\n",
              "    </tr>\n",
              "  </tbody>\n",
              "</table>\n",
              "</div>"
            ],
            "text/plain": [
              "   index  irony_label  ... exclamation  hard_exclamation\n",
              "0      1            1  ...           0                 0\n",
              "1      2            1  ...           0                 0\n",
              "2      3            1  ...           1                 0\n",
              "3      4            0  ...           0                 0\n",
              "4      5            1  ...           1                 0\n",
              "\n",
              "[5 rows x 12 columns]"
            ]
          },
          "metadata": {
            "tags": []
          },
          "execution_count": 90
        }
      ]
    },
    {
      "cell_type": "code",
      "metadata": {
        "colab": {
          "base_uri": "https://localhost:8080/"
        },
        "id": "E2AVpLTpR3Me",
        "outputId": "05e98bde-69d1-49ff-fe7a-7685f30859ac"
      },
      "source": [
        "df_feat[['irony_label', 'hard_exclamation']].corr()"
      ],
      "execution_count": null,
      "outputs": [
        {
          "output_type": "execute_result",
          "data": {
            "text/html": [
              "<div>\n",
              "<style scoped>\n",
              "    .dataframe tbody tr th:only-of-type {\n",
              "        vertical-align: middle;\n",
              "    }\n",
              "\n",
              "    .dataframe tbody tr th {\n",
              "        vertical-align: top;\n",
              "    }\n",
              "\n",
              "    .dataframe thead th {\n",
              "        text-align: right;\n",
              "    }\n",
              "</style>\n",
              "<table border=\"1\" class=\"dataframe\">\n",
              "  <thead>\n",
              "    <tr style=\"text-align: right;\">\n",
              "      <th></th>\n",
              "      <th>irony_label</th>\n",
              "      <th>hard_exclamation</th>\n",
              "    </tr>\n",
              "  </thead>\n",
              "  <tbody>\n",
              "    <tr>\n",
              "      <th>irony_label</th>\n",
              "      <td>1.000000</td>\n",
              "      <td>0.020748</td>\n",
              "    </tr>\n",
              "    <tr>\n",
              "      <th>hard_exclamation</th>\n",
              "      <td>0.020748</td>\n",
              "      <td>1.000000</td>\n",
              "    </tr>\n",
              "  </tbody>\n",
              "</table>\n",
              "</div>"
            ],
            "text/plain": [
              "                  irony_label  hard_exclamation\n",
              "irony_label          1.000000          0.020748\n",
              "hard_exclamation     0.020748          1.000000"
            ]
          },
          "metadata": {
            "tags": []
          },
          "execution_count": 91
        }
      ]
    },
    {
      "cell_type": "code",
      "metadata": {
        "colab": {
          "base_uri": "https://localhost:8080/"
        },
        "id": "ZmW8lwLLR3Me",
        "outputId": "a5f54d71-a07c-43a1-897e-f221d51cb4bd"
      },
      "source": [
        "corr_list_hard_excl = []\n",
        "for i in range(len(y_train)):\n",
        "    if hard_exclamation[i] == 1:\n",
        "        corr_list_hard_excl.append(y_train[i])\n",
        "\n",
        "print(corr_list_hard_excl.count(0))\n",
        "print(corr_list_hard_excl.count(1))"
      ],
      "execution_count": null,
      "outputs": [
        {
          "output_type": "stream",
          "text": [
            "68\n",
            "83\n"
          ],
          "name": "stdout"
        }
      ]
    },
    {
      "cell_type": "code",
      "metadata": {
        "colab": {
          "base_uri": "https://localhost:8080/"
        },
        "id": "RDe1VkhmR3Mf",
        "outputId": "ee424a14-13be-44e5-c9f7-68c9473cdb04"
      },
      "source": [
        "p_nonironic = round(corr_list_hard_excl.count(0)*100/(corr_list_hard_excl.count(0)+corr_list_hard_excl.count(1)),2)\n",
        "p_ironic = round(corr_list_hard_excl.count(1)*100/(corr_list_hard_excl.count(0)+corr_list_hard_excl.count(1)),2)\n",
        "\n",
        "print(\"Out of the tweets that contain the feature <hard_exclamation>,\", p_ironic, \"% are ironic\")"
      ],
      "execution_count": null,
      "outputs": [
        {
          "output_type": "stream",
          "text": [
            "Out of the tweets that contain the feature <hard_exclamation>, 54.97 % are ironic\n"
          ],
          "name": "stdout"
        }
      ]
    },
    {
      "cell_type": "markdown",
      "metadata": {
        "id": "9O_eGQ6VS7Hc"
      },
      "source": [
        "###Interrogative"
      ]
    },
    {
      "cell_type": "code",
      "metadata": {
        "id": "WhGiuFE8M9UV"
      },
      "source": [
        "def get_interrogative(dataset):\n",
        "    interr = []\n",
        "\n",
        "    for tweet in dataset:\n",
        "        q = int(bool(re.search(\"\\?+\", tweet)))\n",
        "        if q == 1:\n",
        "            interr.append(1)\n",
        "        else:\n",
        "            interr.append(0)\n",
        "    \n",
        "    return interr"
      ],
      "execution_count": null,
      "outputs": []
    },
    {
      "cell_type": "code",
      "metadata": {
        "id": "0bBijcXENGEo"
      },
      "source": [
        "interr = get_interrogative(x_train_mod4)"
      ],
      "execution_count": null,
      "outputs": []
    },
    {
      "cell_type": "code",
      "metadata": {
        "colab": {
          "base_uri": "https://localhost:8080/"
        },
        "id": "qMgMXL9kNK1d",
        "outputId": "0b4ca599-4d0d-48b0-fe30-b8b54662e7f0"
      },
      "source": [
        "# Number of tweets with feature interr\n",
        "print(interr.count(0))\n",
        "print(interr.count(1))"
      ],
      "execution_count": null,
      "outputs": [
        {
          "output_type": "stream",
          "text": [
            "3422\n",
            "412\n"
          ],
          "name": "stdout"
        }
      ]
    },
    {
      "cell_type": "code",
      "metadata": {
        "colab": {
          "base_uri": "https://localhost:8080/"
        },
        "id": "_5w2uyLhS7Hn",
        "outputId": "54b10e04-824e-4de0-e94c-1af60201775e"
      },
      "source": [
        "df_feat['interrogative'] = interr\n",
        "df_feat.head()"
      ],
      "execution_count": null,
      "outputs": [
        {
          "output_type": "execute_result",
          "data": {
            "text/html": [
              "<div>\n",
              "<style scoped>\n",
              "    .dataframe tbody tr th:only-of-type {\n",
              "        vertical-align: middle;\n",
              "    }\n",
              "\n",
              "    .dataframe tbody tr th {\n",
              "        vertical-align: top;\n",
              "    }\n",
              "\n",
              "    .dataframe thead th {\n",
              "        text-align: right;\n",
              "    }\n",
              "</style>\n",
              "<table border=\"1\" class=\"dataframe\">\n",
              "  <thead>\n",
              "    <tr style=\"text-align: right;\">\n",
              "      <th></th>\n",
              "      <th>index</th>\n",
              "      <th>irony_label</th>\n",
              "      <th>tweet</th>\n",
              "      <th>all_caps</th>\n",
              "      <th>ellipsis</th>\n",
              "      <th>pol_change</th>\n",
              "      <th>num_of_sents</th>\n",
              "      <th>laugh</th>\n",
              "      <th>emojis</th>\n",
              "      <th>interjection</th>\n",
              "      <th>exclamation</th>\n",
              "      <th>hard_exclamation</th>\n",
              "      <th>interrogative</th>\n",
              "    </tr>\n",
              "  </thead>\n",
              "  <tbody>\n",
              "    <tr>\n",
              "      <th>0</th>\n",
              "      <td>1</td>\n",
              "      <td>1</td>\n",
              "      <td>Sweet United Nations video. Just in time for C...</td>\n",
              "      <td>0</td>\n",
              "      <td>0</td>\n",
              "      <td>0</td>\n",
              "      <td>3</td>\n",
              "      <td>0</td>\n",
              "      <td>0</td>\n",
              "      <td>0</td>\n",
              "      <td>0</td>\n",
              "      <td>0</td>\n",
              "      <td>0</td>\n",
              "    </tr>\n",
              "    <tr>\n",
              "      <th>1</th>\n",
              "      <td>2</td>\n",
              "      <td>1</td>\n",
              "      <td>@mrdahl87 We are rumored to have talked to Erv...</td>\n",
              "      <td>0</td>\n",
              "      <td>1</td>\n",
              "      <td>0</td>\n",
              "      <td>1</td>\n",
              "      <td>0</td>\n",
              "      <td>0</td>\n",
              "      <td>0</td>\n",
              "      <td>0</td>\n",
              "      <td>0</td>\n",
              "      <td>0</td>\n",
              "    </tr>\n",
              "    <tr>\n",
              "      <th>2</th>\n",
              "      <td>3</td>\n",
              "      <td>1</td>\n",
              "      <td>Hey there! Nice to see you Minnesota/ND Winter...</td>\n",
              "      <td>0</td>\n",
              "      <td>0</td>\n",
              "      <td>0</td>\n",
              "      <td>2</td>\n",
              "      <td>0</td>\n",
              "      <td>0</td>\n",
              "      <td>0</td>\n",
              "      <td>1</td>\n",
              "      <td>0</td>\n",
              "      <td>0</td>\n",
              "    </tr>\n",
              "    <tr>\n",
              "      <th>3</th>\n",
              "      <td>4</td>\n",
              "      <td>0</td>\n",
              "      <td>3 episodes left I'm dying over here</td>\n",
              "      <td>0</td>\n",
              "      <td>0</td>\n",
              "      <td>0</td>\n",
              "      <td>1</td>\n",
              "      <td>0</td>\n",
              "      <td>0</td>\n",
              "      <td>0</td>\n",
              "      <td>0</td>\n",
              "      <td>0</td>\n",
              "      <td>0</td>\n",
              "    </tr>\n",
              "    <tr>\n",
              "      <th>4</th>\n",
              "      <td>5</td>\n",
              "      <td>1</td>\n",
              "      <td>I can't breathe! was chosen as the most notabl...</td>\n",
              "      <td>0</td>\n",
              "      <td>0</td>\n",
              "      <td>0</td>\n",
              "      <td>2</td>\n",
              "      <td>0</td>\n",
              "      <td>0</td>\n",
              "      <td>0</td>\n",
              "      <td>1</td>\n",
              "      <td>0</td>\n",
              "      <td>0</td>\n",
              "    </tr>\n",
              "  </tbody>\n",
              "</table>\n",
              "</div>"
            ],
            "text/plain": [
              "   index  irony_label  ... hard_exclamation  interrogative\n",
              "0      1            1  ...                0              0\n",
              "1      2            1  ...                0              0\n",
              "2      3            1  ...                0              0\n",
              "3      4            0  ...                0              0\n",
              "4      5            1  ...                0              0\n",
              "\n",
              "[5 rows x 13 columns]"
            ]
          },
          "metadata": {
            "tags": []
          },
          "execution_count": 97
        }
      ]
    },
    {
      "cell_type": "code",
      "metadata": {
        "colab": {
          "base_uri": "https://localhost:8080/"
        },
        "id": "HShuOF0bS7Hn",
        "outputId": "82e58ce7-fd4f-46f9-9cf4-0c3c539cc215"
      },
      "source": [
        "df_feat[['irony_label', 'interrogative']].corr()"
      ],
      "execution_count": null,
      "outputs": [
        {
          "output_type": "execute_result",
          "data": {
            "text/html": [
              "<div>\n",
              "<style scoped>\n",
              "    .dataframe tbody tr th:only-of-type {\n",
              "        vertical-align: middle;\n",
              "    }\n",
              "\n",
              "    .dataframe tbody tr th {\n",
              "        vertical-align: top;\n",
              "    }\n",
              "\n",
              "    .dataframe thead th {\n",
              "        text-align: right;\n",
              "    }\n",
              "</style>\n",
              "<table border=\"1\" class=\"dataframe\">\n",
              "  <thead>\n",
              "    <tr style=\"text-align: right;\">\n",
              "      <th></th>\n",
              "      <th>irony_label</th>\n",
              "      <th>interrogative</th>\n",
              "    </tr>\n",
              "  </thead>\n",
              "  <tbody>\n",
              "    <tr>\n",
              "      <th>irony_label</th>\n",
              "      <td>1.00000</td>\n",
              "      <td>-0.05113</td>\n",
              "    </tr>\n",
              "    <tr>\n",
              "      <th>interrogative</th>\n",
              "      <td>-0.05113</td>\n",
              "      <td>1.00000</td>\n",
              "    </tr>\n",
              "  </tbody>\n",
              "</table>\n",
              "</div>"
            ],
            "text/plain": [
              "               irony_label  interrogative\n",
              "irony_label        1.00000       -0.05113\n",
              "interrogative     -0.05113        1.00000"
            ]
          },
          "metadata": {
            "tags": []
          },
          "execution_count": 98
        }
      ]
    },
    {
      "cell_type": "code",
      "metadata": {
        "colab": {
          "base_uri": "https://localhost:8080/"
        },
        "id": "5XKAahT-S7Ho",
        "outputId": "e804a04c-0632-42be-ada9-f614dd035d03"
      },
      "source": [
        "corr_list_interr = []\n",
        "for i in range(len(y_train)):\n",
        "    if interr[i] == 1:\n",
        "        corr_list_interr.append(y_train[i])\n",
        "\n",
        "print(corr_list_interr.count(0))\n",
        "print(corr_list_interr.count(1))"
      ],
      "execution_count": null,
      "outputs": [
        {
          "output_type": "stream",
          "text": [
            "237\n",
            "175\n"
          ],
          "name": "stdout"
        }
      ]
    },
    {
      "cell_type": "code",
      "metadata": {
        "colab": {
          "base_uri": "https://localhost:8080/"
        },
        "id": "5LKX2vdPS7Ho",
        "outputId": "0f803d77-1457-4091-ef73-017420a8e2bc"
      },
      "source": [
        "p_nonironic = round(corr_list_interr.count(0)*100/(corr_list_interr.count(0)+corr_list_interr.count(1)),2)\n",
        "p_ironic = round(corr_list_interr.count(1)*100/(corr_list_interr.count(0)+corr_list_interr.count(1)),2)\n",
        "\n",
        "print(\"Out of the tweets that contain the feature <interrogative>,\", p_ironic, \"% are ironic\")"
      ],
      "execution_count": null,
      "outputs": [
        {
          "output_type": "stream",
          "text": [
            "Out of the tweets that contain the feature <interrogative>, 42.48 % are ironic\n"
          ],
          "name": "stdout"
        }
      ]
    },
    {
      "cell_type": "markdown",
      "metadata": {
        "id": "aAV6W8sPS7Ho"
      },
      "source": [
        "###Hard interrogative"
      ]
    },
    {
      "cell_type": "code",
      "metadata": {
        "id": "oqINvI7oNO_O"
      },
      "source": [
        "def get_hard_interrogative(dataset):\n",
        "    hard_interr = []\n",
        "\n",
        "    for tweet in dataset:\n",
        "        #match 2 or more exclamation marks --> change to 3?\n",
        "        hard_q = int(bool(re.search(\"\\?{3,}\", tweet)))\n",
        "        if hard_q == 1:\n",
        "            hard_interr.append(1)\n",
        "        else:\n",
        "            hard_interr.append(0)\n",
        "\n",
        "    return hard_interr"
      ],
      "execution_count": null,
      "outputs": []
    },
    {
      "cell_type": "code",
      "metadata": {
        "id": "iiPYaeu-NZhB"
      },
      "source": [
        "hard_interr = get_hard_interrogative(x_train_mod4)"
      ],
      "execution_count": null,
      "outputs": []
    },
    {
      "cell_type": "code",
      "metadata": {
        "colab": {
          "base_uri": "https://localhost:8080/"
        },
        "id": "BWL-TGd_Nfau",
        "outputId": "933c5d8f-1ea3-4159-8850-f081ee976999"
      },
      "source": [
        "# Number of tweets with feature hard_interr\n",
        "print(hard_interr.count(0))\n",
        "print(hard_interr.count(1))"
      ],
      "execution_count": null,
      "outputs": [
        {
          "output_type": "stream",
          "text": [
            "3823\n",
            "11\n"
          ],
          "name": "stdout"
        }
      ]
    },
    {
      "cell_type": "code",
      "metadata": {
        "colab": {
          "base_uri": "https://localhost:8080/"
        },
        "id": "sPsQjvUBS7Ho",
        "outputId": "68601f20-c783-4581-b73b-12e97e85e3ff"
      },
      "source": [
        "df_feat['hard_interr'] = hard_interr\n",
        "df_feat.head()"
      ],
      "execution_count": null,
      "outputs": [
        {
          "output_type": "execute_result",
          "data": {
            "text/html": [
              "<div>\n",
              "<style scoped>\n",
              "    .dataframe tbody tr th:only-of-type {\n",
              "        vertical-align: middle;\n",
              "    }\n",
              "\n",
              "    .dataframe tbody tr th {\n",
              "        vertical-align: top;\n",
              "    }\n",
              "\n",
              "    .dataframe thead th {\n",
              "        text-align: right;\n",
              "    }\n",
              "</style>\n",
              "<table border=\"1\" class=\"dataframe\">\n",
              "  <thead>\n",
              "    <tr style=\"text-align: right;\">\n",
              "      <th></th>\n",
              "      <th>index</th>\n",
              "      <th>irony_label</th>\n",
              "      <th>tweet</th>\n",
              "      <th>all_caps</th>\n",
              "      <th>ellipsis</th>\n",
              "      <th>pol_change</th>\n",
              "      <th>num_of_sents</th>\n",
              "      <th>laugh</th>\n",
              "      <th>emojis</th>\n",
              "      <th>interjection</th>\n",
              "      <th>exclamation</th>\n",
              "      <th>hard_exclamation</th>\n",
              "      <th>interrogative</th>\n",
              "      <th>hard_interr</th>\n",
              "    </tr>\n",
              "  </thead>\n",
              "  <tbody>\n",
              "    <tr>\n",
              "      <th>0</th>\n",
              "      <td>1</td>\n",
              "      <td>1</td>\n",
              "      <td>Sweet United Nations video. Just in time for C...</td>\n",
              "      <td>0</td>\n",
              "      <td>0</td>\n",
              "      <td>0</td>\n",
              "      <td>3</td>\n",
              "      <td>0</td>\n",
              "      <td>0</td>\n",
              "      <td>0</td>\n",
              "      <td>0</td>\n",
              "      <td>0</td>\n",
              "      <td>0</td>\n",
              "      <td>0</td>\n",
              "    </tr>\n",
              "    <tr>\n",
              "      <th>1</th>\n",
              "      <td>2</td>\n",
              "      <td>1</td>\n",
              "      <td>@mrdahl87 We are rumored to have talked to Erv...</td>\n",
              "      <td>0</td>\n",
              "      <td>1</td>\n",
              "      <td>0</td>\n",
              "      <td>1</td>\n",
              "      <td>0</td>\n",
              "      <td>0</td>\n",
              "      <td>0</td>\n",
              "      <td>0</td>\n",
              "      <td>0</td>\n",
              "      <td>0</td>\n",
              "      <td>0</td>\n",
              "    </tr>\n",
              "    <tr>\n",
              "      <th>2</th>\n",
              "      <td>3</td>\n",
              "      <td>1</td>\n",
              "      <td>Hey there! Nice to see you Minnesota/ND Winter...</td>\n",
              "      <td>0</td>\n",
              "      <td>0</td>\n",
              "      <td>0</td>\n",
              "      <td>2</td>\n",
              "      <td>0</td>\n",
              "      <td>0</td>\n",
              "      <td>0</td>\n",
              "      <td>1</td>\n",
              "      <td>0</td>\n",
              "      <td>0</td>\n",
              "      <td>0</td>\n",
              "    </tr>\n",
              "    <tr>\n",
              "      <th>3</th>\n",
              "      <td>4</td>\n",
              "      <td>0</td>\n",
              "      <td>3 episodes left I'm dying over here</td>\n",
              "      <td>0</td>\n",
              "      <td>0</td>\n",
              "      <td>0</td>\n",
              "      <td>1</td>\n",
              "      <td>0</td>\n",
              "      <td>0</td>\n",
              "      <td>0</td>\n",
              "      <td>0</td>\n",
              "      <td>0</td>\n",
              "      <td>0</td>\n",
              "      <td>0</td>\n",
              "    </tr>\n",
              "    <tr>\n",
              "      <th>4</th>\n",
              "      <td>5</td>\n",
              "      <td>1</td>\n",
              "      <td>I can't breathe! was chosen as the most notabl...</td>\n",
              "      <td>0</td>\n",
              "      <td>0</td>\n",
              "      <td>0</td>\n",
              "      <td>2</td>\n",
              "      <td>0</td>\n",
              "      <td>0</td>\n",
              "      <td>0</td>\n",
              "      <td>1</td>\n",
              "      <td>0</td>\n",
              "      <td>0</td>\n",
              "      <td>0</td>\n",
              "    </tr>\n",
              "  </tbody>\n",
              "</table>\n",
              "</div>"
            ],
            "text/plain": [
              "   index  irony_label  ... interrogative  hard_interr\n",
              "0      1            1  ...             0            0\n",
              "1      2            1  ...             0            0\n",
              "2      3            1  ...             0            0\n",
              "3      4            0  ...             0            0\n",
              "4      5            1  ...             0            0\n",
              "\n",
              "[5 rows x 14 columns]"
            ]
          },
          "metadata": {
            "tags": []
          },
          "execution_count": 104
        }
      ]
    },
    {
      "cell_type": "code",
      "metadata": {
        "colab": {
          "base_uri": "https://localhost:8080/"
        },
        "id": "JMKM_-ydS7Hp",
        "outputId": "6877ca57-a13d-4b03-acba-fcb78af09d15"
      },
      "source": [
        "df_feat[['irony_label', 'hard_interr']].corr()"
      ],
      "execution_count": null,
      "outputs": [
        {
          "output_type": "execute_result",
          "data": {
            "text/html": [
              "<div>\n",
              "<style scoped>\n",
              "    .dataframe tbody tr th:only-of-type {\n",
              "        vertical-align: middle;\n",
              "    }\n",
              "\n",
              "    .dataframe tbody tr th {\n",
              "        vertical-align: top;\n",
              "    }\n",
              "\n",
              "    .dataframe thead th {\n",
              "        text-align: right;\n",
              "    }\n",
              "</style>\n",
              "<table border=\"1\" class=\"dataframe\">\n",
              "  <thead>\n",
              "    <tr style=\"text-align: right;\">\n",
              "      <th></th>\n",
              "      <th>irony_label</th>\n",
              "      <th>hard_interr</th>\n",
              "    </tr>\n",
              "  </thead>\n",
              "  <tbody>\n",
              "    <tr>\n",
              "      <th>irony_label</th>\n",
              "      <td>1.000000</td>\n",
              "      <td>-0.004709</td>\n",
              "    </tr>\n",
              "    <tr>\n",
              "      <th>hard_interr</th>\n",
              "      <td>-0.004709</td>\n",
              "      <td>1.000000</td>\n",
              "    </tr>\n",
              "  </tbody>\n",
              "</table>\n",
              "</div>"
            ],
            "text/plain": [
              "             irony_label  hard_interr\n",
              "irony_label     1.000000    -0.004709\n",
              "hard_interr    -0.004709     1.000000"
            ]
          },
          "metadata": {
            "tags": []
          },
          "execution_count": 105
        }
      ]
    },
    {
      "cell_type": "code",
      "metadata": {
        "colab": {
          "base_uri": "https://localhost:8080/"
        },
        "id": "PWqTiuLCS7Hp",
        "outputId": "3fbad145-7ec7-486b-fd17-e2edc25e35b8"
      },
      "source": [
        "corr_list_hard_interr = []\n",
        "for i in range(len(y_train)):\n",
        "    if hard_interr[i] == 1:\n",
        "        corr_list_hard_interr.append(y_train[i])\n",
        "\n",
        "print(corr_list_hard_interr.count(0))\n",
        "print(corr_list_hard_interr.count(1))"
      ],
      "execution_count": null,
      "outputs": [
        {
          "output_type": "stream",
          "text": [
            "6\n",
            "5\n"
          ],
          "name": "stdout"
        }
      ]
    },
    {
      "cell_type": "code",
      "metadata": {
        "colab": {
          "base_uri": "https://localhost:8080/"
        },
        "id": "zsbaWKvYS7Hq",
        "outputId": "0c76f9a3-4b6b-4dc8-d696-6a1c3ede8ba3"
      },
      "source": [
        "p_nonironic = round(corr_list_hard_interr.count(0)*100/(corr_list_hard_interr.count(0)+corr_list_hard_interr.count(1)),2)\n",
        "p_ironic = round(corr_list_hard_interr.count(1)*100/(corr_list_hard_interr.count(0)+corr_list_hard_interr.count(1)),2)\n",
        "\n",
        "print(\"Out of the tweets that contain the feature <hard_interr>,\", p_ironic, \"% are ironic\")"
      ],
      "execution_count": null,
      "outputs": [
        {
          "output_type": "stream",
          "text": [
            "Out of the tweets that contain the feature <hard_interr>, 45.45 % are ironic\n"
          ],
          "name": "stdout"
        }
      ]
    },
    {
      "cell_type": "markdown",
      "metadata": {
        "id": "oCR5MhkocLJ0"
      },
      "source": [
        "##Convert word tweets to feature tweets"
      ]
    },
    {
      "cell_type": "code",
      "metadata": {
        "id": "HO01kuAPaBcJ"
      },
      "source": [
        "#variable names for reference\n",
        "all_caps\n",
        "ellipsis\n",
        "pol_change\n",
        "laughs\n",
        "hasemoji\n",
        "interj\n",
        "interr\n",
        "hard_interr\n",
        "exclamation\n",
        "hard_exclamation\n",
        "#num_of_sents??"
      ],
      "execution_count": null,
      "outputs": []
    },
    {
      "cell_type": "code",
      "metadata": {
        "colab": {
          "base_uri": "https://localhost:8080/"
        },
        "id": "VvWF2--7b2Ze",
        "outputId": "d9300da2-02d3-4db8-eacb-e13446491501"
      },
      "source": [
        "len(x_train) == len(df_feat)"
      ],
      "execution_count": null,
      "outputs": [
        {
          "output_type": "execute_result",
          "data": {
            "text/plain": [
              "True"
            ]
          },
          "metadata": {
            "tags": []
          },
          "execution_count": 109
        }
      ]
    },
    {
      "cell_type": "code",
      "metadata": {
        "id": "DF3TdPOSWY3Y"
      },
      "source": [
        "new_x_train = []\n",
        "\n",
        "for tweet in range(len(df_feat)):\n",
        "    feat_tweet = []\n",
        "    if df_feat['all_caps'][tweet] == 1:\n",
        "        feat_tweet.append('<all_caps>')\n",
        "    if df_feat['ellipsis'][tweet] == 1:\n",
        "        feat_tweet.append('<ellipsis>')\n",
        "    if df_feat['pol_change'][tweet] == 1:\n",
        "        feat_tweet.append('<pol_change>')\n",
        "    if df_feat['laugh'][tweet] == 1:\n",
        "        feat_tweet.append('<laugh>')\n",
        "    if df_feat['interjection'][tweet] == 1:\n",
        "        feat_tweet.append('<interjection>')\n",
        "    if df_feat['exclamation'][tweet] == 1:\n",
        "        feat_tweet.append('<exclamation>')\n",
        "    if df_feat['hard_exclamation'][tweet] == 1:\n",
        "        feat_tweet.append('<hard_exclamation>')\n",
        "    if df_feat['interrogative'][tweet] == 1:\n",
        "        feat_tweet.append('<interrogative>')\n",
        "    if df_feat['hard_interr'][tweet] == 1:\n",
        "        feat_tweet.append('<hard_interr>')\n",
        "    \n",
        "    [feat_tweet.append(i) for i in x_train_pos[tweet]] #append every element of the inner list\n",
        "\n",
        "    feat_tweet_str = ' '.join(feat_tweet)\n",
        "    new_x_train.append(feat_tweet_str)\n",
        "\n",
        "#change names <>"
      ],
      "execution_count": null,
      "outputs": []
    },
    {
      "cell_type": "code",
      "metadata": {
        "colab": {
          "base_uri": "https://localhost:8080/"
        },
        "id": "ebw0doRoXHva",
        "outputId": "beb0833c-a4cf-4ba6-82b0-21a2e5f36aa6"
      },
      "source": [
        "new_x_train[:5]"
      ],
      "execution_count": null,
      "outputs": [
        {
          "output_type": "execute_result",
          "data": {
            "text/plain": [
              "['NN JJ NNS NN RB IN NN IN JJ NN NN',\n",
              " '<ellipsis> PRP VBP VBN TO VB VBN TO VB NN CC DT NNS VBN IN JJ NN WDT RB NN',\n",
              " '<exclamation> NN EX JJ TO VB PRP VBP JJR NN',\n",
              " 'NNS VBD JJ VBP VBG IN RB',\n",
              " '<exclamation> NN MD RB VB VBD VBN IN DT RBS JJ NN IN DT NN IN DT JJ NN VBN IN DT NN NN NN']"
            ]
          },
          "metadata": {
            "tags": []
          },
          "execution_count": 111
        }
      ]
    },
    {
      "cell_type": "markdown",
      "metadata": {
        "id": "ulgj2pyPVaaA"
      },
      "source": [
        "##Irony detection using features (instead of words)"
      ]
    },
    {
      "cell_type": "markdown",
      "metadata": {
        "id": "yNI8u2baYHOx"
      },
      "source": [
        "data: SemEval 2018 tweets"
      ]
    },
    {
      "cell_type": "markdown",
      "metadata": {
        "id": "eUhyI2vUNuNK"
      },
      "source": [
        "###Convert test data to feature tweets"
      ]
    },
    {
      "cell_type": "code",
      "metadata": {
        "id": "SZHwu4B1eFdd"
      },
      "source": [
        "x_test_mod1 = []\n",
        "\n",
        "for tweet in x_test:\n",
        "    x_test_mod1.append(normalise_for_allcaps(tweet))"
      ],
      "execution_count": null,
      "outputs": []
    },
    {
      "cell_type": "code",
      "metadata": {
        "id": "d1M2sIjLN_QE"
      },
      "source": [
        "all_caps_test = get_all_caps(x_test_mod1)"
      ],
      "execution_count": null,
      "outputs": []
    },
    {
      "cell_type": "code",
      "metadata": {
        "id": "GcVqHc93OCA4"
      },
      "source": [
        "ellipsis_test = get_ellipsis(x_test)"
      ],
      "execution_count": null,
      "outputs": []
    },
    {
      "cell_type": "code",
      "metadata": {
        "id": "Y622ge9rOMcu"
      },
      "source": [
        "x_test_mod2 = []\n",
        "\n",
        "for tweet in x_test:\n",
        "    x_test_mod2.append(normalise_for_pol(tweet))"
      ],
      "execution_count": null,
      "outputs": []
    },
    {
      "cell_type": "code",
      "metadata": {
        "id": "MwgO3LXIOGRT"
      },
      "source": [
        "pol_change_test = get_pol_change(x_test_mod2)"
      ],
      "execution_count": null,
      "outputs": []
    },
    {
      "cell_type": "code",
      "metadata": {
        "id": "SSiqBb5bOWlE"
      },
      "source": [
        "hasemoji_test = get_emojis(x_test)"
      ],
      "execution_count": null,
      "outputs": []
    },
    {
      "cell_type": "code",
      "metadata": {
        "id": "XCQcnfG5OhpD"
      },
      "source": [
        "laughs_test = get_laugh(x_test)"
      ],
      "execution_count": null,
      "outputs": []
    },
    {
      "cell_type": "code",
      "metadata": {
        "id": "RVHhVk6aOoKN"
      },
      "source": [
        "x_test_mod3 = []\n",
        "\n",
        "for tweet in x_test:\n",
        "    x_test_mod3.append(normalise_for_pos(tweet))"
      ],
      "execution_count": null,
      "outputs": []
    },
    {
      "cell_type": "code",
      "metadata": {
        "id": "3cVV6SZOOxtL"
      },
      "source": [
        "x_test_pos = convert_to_pos(x_test_mod3)"
      ],
      "execution_count": null,
      "outputs": []
    },
    {
      "cell_type": "code",
      "metadata": {
        "id": "QnYX-p02O-mt"
      },
      "source": [
        "interj_test = get_interjection(x_test_pos)"
      ],
      "execution_count": null,
      "outputs": []
    },
    {
      "cell_type": "code",
      "metadata": {
        "id": "CNw7tKMtPLiV"
      },
      "source": [
        "x_test_mod4 = []\n",
        "\n",
        "for tweet in x_test:\n",
        "    x_test_mod4.append(normalise_for_punct(tweet))"
      ],
      "execution_count": null,
      "outputs": []
    },
    {
      "cell_type": "code",
      "metadata": {
        "id": "9Z283PllPHGE"
      },
      "source": [
        "exclamation_test = get_exclamation(x_test_mod4)"
      ],
      "execution_count": null,
      "outputs": []
    },
    {
      "cell_type": "code",
      "metadata": {
        "id": "YuT0jNjJPTiM"
      },
      "source": [
        "hard_exclamation_test = get_hard_exclamation(x_test_mod4)"
      ],
      "execution_count": null,
      "outputs": []
    },
    {
      "cell_type": "code",
      "metadata": {
        "id": "RL5r2-8VPXDg"
      },
      "source": [
        "interr_test = get_interrogative(x_test_mod4)"
      ],
      "execution_count": null,
      "outputs": []
    },
    {
      "cell_type": "code",
      "metadata": {
        "id": "C1GGT39yPbas"
      },
      "source": [
        "hard_interr_test = get_hard_interrogative(x_test_mod4)"
      ],
      "execution_count": null,
      "outputs": []
    },
    {
      "cell_type": "code",
      "metadata": {
        "colab": {
          "base_uri": "https://localhost:8080/"
        },
        "id": "wgqyG53fWen0",
        "outputId": "ddb4383d-edff-4931-c7e4-f0e52fdd1e29"
      },
      "source": [
        "list(df_feat.columns)"
      ],
      "execution_count": null,
      "outputs": [
        {
          "output_type": "execute_result",
          "data": {
            "text/plain": [
              "['index',\n",
              " 'irony_label',\n",
              " 'tweet',\n",
              " 'all_caps',\n",
              " 'ellipsis',\n",
              " 'pol_change',\n",
              " 'num_of_sents',\n",
              " 'laugh',\n",
              " 'emojis',\n",
              " 'interjection',\n",
              " 'exclamation',\n",
              " 'hard_exclamation',\n",
              " 'interrogative',\n",
              " 'hard_interr']"
            ]
          },
          "metadata": {
            "tags": []
          },
          "execution_count": 127
        }
      ]
    },
    {
      "cell_type": "code",
      "metadata": {
        "colab": {
          "base_uri": "https://localhost:8080/",
          "height": 204
        },
        "id": "SMV_BL07PsIs",
        "outputId": "67835fcb-0339-4449-cd28-7b889c54d436"
      },
      "source": [
        "df_feat_test = df_test.copy()\n",
        "\n",
        "df_feat_test['all_caps'] = all_caps_test\n",
        "df_feat_test['ellipsis'] = ellipsis_test\n",
        "df_feat_test['pol_change'] = pol_change_test\n",
        "df_feat_test['laugh'] = laughs_test\n",
        "df_feat_test['emojis'] = hasemoji_test\n",
        "df_feat_test['interjection'] = interj_test\n",
        "df_feat_test['exclamation'] = exclamation_test\n",
        "df_feat_test['hard_exclamation'] = hard_exclamation_test\n",
        "df_feat_test['interrogative'] = interr_test\n",
        "df_feat_test['hard_interr'] = hard_interr_test\n",
        "\n",
        "df_feat_test.head()"
      ],
      "execution_count": null,
      "outputs": [
        {
          "output_type": "execute_result",
          "data": {
            "text/html": [
              "<div>\n",
              "<style scoped>\n",
              "    .dataframe tbody tr th:only-of-type {\n",
              "        vertical-align: middle;\n",
              "    }\n",
              "\n",
              "    .dataframe tbody tr th {\n",
              "        vertical-align: top;\n",
              "    }\n",
              "\n",
              "    .dataframe thead th {\n",
              "        text-align: right;\n",
              "    }\n",
              "</style>\n",
              "<table border=\"1\" class=\"dataframe\">\n",
              "  <thead>\n",
              "    <tr style=\"text-align: right;\">\n",
              "      <th></th>\n",
              "      <th>index</th>\n",
              "      <th>irony_label</th>\n",
              "      <th>tweet</th>\n",
              "      <th>all_caps</th>\n",
              "      <th>ellipsis</th>\n",
              "      <th>pol_change</th>\n",
              "      <th>laugh</th>\n",
              "      <th>emojis</th>\n",
              "      <th>interjection</th>\n",
              "      <th>exclamation</th>\n",
              "      <th>hard_exclamation</th>\n",
              "      <th>interrogative</th>\n",
              "      <th>hard_interr</th>\n",
              "    </tr>\n",
              "  </thead>\n",
              "  <tbody>\n",
              "    <tr>\n",
              "      <th>0</th>\n",
              "      <td>1</td>\n",
              "      <td>0</td>\n",
              "      <td>@Callisto1947 Can U Help?||More conservatives ...</td>\n",
              "      <td>0</td>\n",
              "      <td>0</td>\n",
              "      <td>0</td>\n",
              "      <td>0</td>\n",
              "      <td>0</td>\n",
              "      <td>0</td>\n",
              "      <td>1</td>\n",
              "      <td>0</td>\n",
              "      <td>1</td>\n",
              "      <td>0</td>\n",
              "    </tr>\n",
              "    <tr>\n",
              "      <th>1</th>\n",
              "      <td>2</td>\n",
              "      <td>1</td>\n",
              "      <td>Just walked in to #Starbucks and asked for a \"...</td>\n",
              "      <td>0</td>\n",
              "      <td>0</td>\n",
              "      <td>0</td>\n",
              "      <td>1</td>\n",
              "      <td>0</td>\n",
              "      <td>0</td>\n",
              "      <td>0</td>\n",
              "      <td>0</td>\n",
              "      <td>0</td>\n",
              "      <td>0</td>\n",
              "    </tr>\n",
              "    <tr>\n",
              "      <th>2</th>\n",
              "      <td>3</td>\n",
              "      <td>0</td>\n",
              "      <td>#NOT GONNA WIN http://t.co/Mc9ebqjAqj</td>\n",
              "      <td>0</td>\n",
              "      <td>0</td>\n",
              "      <td>0</td>\n",
              "      <td>0</td>\n",
              "      <td>0</td>\n",
              "      <td>0</td>\n",
              "      <td>0</td>\n",
              "      <td>0</td>\n",
              "      <td>0</td>\n",
              "      <td>0</td>\n",
              "    </tr>\n",
              "    <tr>\n",
              "      <th>3</th>\n",
              "      <td>4</td>\n",
              "      <td>0</td>\n",
              "      <td>@mickymantell He is exactly that sort of perso...</td>\n",
              "      <td>0</td>\n",
              "      <td>0</td>\n",
              "      <td>0</td>\n",
              "      <td>0</td>\n",
              "      <td>0</td>\n",
              "      <td>0</td>\n",
              "      <td>1</td>\n",
              "      <td>0</td>\n",
              "      <td>0</td>\n",
              "      <td>0</td>\n",
              "    </tr>\n",
              "    <tr>\n",
              "      <th>4</th>\n",
              "      <td>5</td>\n",
              "      <td>1</td>\n",
              "      <td>So much #sarcasm at work mate 10/10 #boring 10...</td>\n",
              "      <td>0</td>\n",
              "      <td>0</td>\n",
              "      <td>1</td>\n",
              "      <td>0</td>\n",
              "      <td>0</td>\n",
              "      <td>0</td>\n",
              "      <td>0</td>\n",
              "      <td>0</td>\n",
              "      <td>0</td>\n",
              "      <td>0</td>\n",
              "    </tr>\n",
              "  </tbody>\n",
              "</table>\n",
              "</div>"
            ],
            "text/plain": [
              "   index  irony_label  ... interrogative  hard_interr\n",
              "0      1            0  ...             1            0\n",
              "1      2            1  ...             0            0\n",
              "2      3            0  ...             0            0\n",
              "3      4            0  ...             0            0\n",
              "4      5            1  ...             0            0\n",
              "\n",
              "[5 rows x 13 columns]"
            ]
          },
          "metadata": {
            "tags": []
          },
          "execution_count": 128
        }
      ]
    },
    {
      "cell_type": "code",
      "metadata": {
        "id": "h6SpSMpDRJuS"
      },
      "source": [
        "# convert to feature tweets\n",
        "\n",
        "new_x_test = []\n",
        "\n",
        "for tweet in range(len(df_feat_test)):\n",
        "    feat_tweet = []\n",
        "    if df_feat_test['all_caps'][tweet] == 1:\n",
        "        feat_tweet.append('<all_caps>')\n",
        "    if df_feat_test['ellipsis'][tweet] == 1:\n",
        "        feat_tweet.append('<ellipsis>')\n",
        "    if df_feat_test['pol_change'][tweet] == 1:\n",
        "        feat_tweet.append('<pol_change>')\n",
        "    if df_feat_test['laugh'][tweet] == 1:\n",
        "        feat_tweet.append('<laugh>')\n",
        "    if df_feat_test['interjection'][tweet] == 1:\n",
        "        feat_tweet.append('<interjection>')\n",
        "    if df_feat_test['exclamation'][tweet] == 1:\n",
        "        feat_tweet.append('<exclamation>')\n",
        "    if df_feat_test['hard_exclamation'][tweet] == 1:\n",
        "        feat_tweet.append('<hard_exclamation>')\n",
        "    if df_feat_test['interrogative'][tweet] == 1:\n",
        "        feat_tweet.append('<interrogative>')\n",
        "    if df_feat_test['hard_interr'][tweet] == 1:\n",
        "        feat_tweet.append('<hard_interr>')\n",
        "    \n",
        "    [feat_tweet.append(i) for i in x_test_pos[tweet]] #append every element of the inner list\n",
        "\n",
        "    feat_tweet_str = ' '.join(feat_tweet)\n",
        "    new_x_test.append(feat_tweet_str)\n",
        "\n",
        "#change names <>"
      ],
      "execution_count": null,
      "outputs": []
    },
    {
      "cell_type": "code",
      "metadata": {
        "colab": {
          "base_uri": "https://localhost:8080/"
        },
        "id": "eHLYqqTyRJuS",
        "outputId": "8d6ee05e-8120-4947-999c-8e170058fbbd"
      },
      "source": [
        "new_x_test[:5]"
      ],
      "execution_count": null,
      "outputs": [
        {
          "output_type": "execute_result",
          "data": {
            "text/plain": [
              "['<exclamation> <interrogative> MD PRP VB NNS VBN IN NN NN NN VBN VBG NN IN JJ $ MD VB TO',\n",
              " \"<laugh> RB VBN IN TO NNS CC VBD IN DT `` JJ NN '' NN NN\",\n",
              " 'RB VBG TO VB',\n",
              " '<exclamation> PRP VBZ RB IN NN IN NN NN',\n",
              " '<pol_change> RB JJ NN IN NN NN JJ NN JJ NN JJ IN NN RB VBG NN MD RB VB DT NN']"
            ]
          },
          "metadata": {
            "tags": []
          },
          "execution_count": 130
        }
      ]
    },
    {
      "cell_type": "markdown",
      "metadata": {
        "id": "SXCSCwxlRzBi"
      },
      "source": [
        "###Model: roberta-base "
      ]
    },
    {
      "cell_type": "code",
      "metadata": {
        "colab": {
          "base_uri": "https://localhost:8080/"
        },
        "id": "MOq7r_YcdAai",
        "outputId": "3fc82d54-1b8c-4f75-f521-bc9eb5d27ccc"
      },
      "source": [
        "# Check max/mean length of tweets\n",
        "from statistics import mean\n",
        "\n",
        "seq_len = []\n",
        "\n",
        "idx = 0\n",
        "for tweet in new_x_train:\n",
        "    if len(tweet.split()) > 35:\n",
        "        print(idx, tweet)\n",
        "    seq_len.append(len(tweet.split()))\n",
        "    idx += 1\n",
        "\n",
        "print(max(seq_len))\n",
        "print(mean(seq_len))"
      ],
      "execution_count": null,
      "outputs": [
        {
          "output_type": "stream",
          "text": [
            "35\n",
            "13.43114241001565\n"
          ],
          "name": "stdout"
        }
      ]
    },
    {
      "cell_type": "code",
      "metadata": {
        "colab": {
          "base_uri": "https://localhost:8080/",
          "height": 483,
          "referenced_widgets": [
            "ffe92da4c16c4e5da9da30b101e629ec",
            "99f59f39578e493ba5fc8d4794fc99b0",
            "255743a5ae5f439abdb119565f5cc120",
            "11043f359d11432196708648e1c10971",
            "e71ad7de0e14421aa1db2758dfdbe9b0",
            "1b905c1bc40f4fc183b1ac7a1f6643ab",
            "2f6012efcde64a56b219c1ed8fededd4",
            "79ec8bc77681443eb773ee4f3eb8b01d",
            "8d33da571e5941ce9c2c039fe180b6b3",
            "9072be2c0bc4437aa04a802226733b1b",
            "be5cc7590101487cace51bad1070bc6f",
            "aa52618414d34b739a52c4df6b774b18",
            "58710812a050445795390e2a3b1a708b",
            "e5286688875e44139620f55e9e3be714",
            "548353ad10bf4d2f9f6caebdc9ba64ae",
            "c8a87f7465bf44ccb97f84578d3ca4e4",
            "3b626141cc354c41a5672b1c0f263e6b",
            "01758e1cb9874875a2474ab77346fc4e",
            "10d381b8ed9c4ddca71d9f2f9b5d7424",
            "52f2c5269b564a0682d93dd9cea09d52",
            "bf95b300f332443d8dc47269fa63ba68",
            "5a7fe7ff8848426d9ce6777becf15ab4",
            "bcd5b9925f504ed586009da40e24c596",
            "711c31c991b54641a93cbb0d9346bbd3",
            "10a3687c45ab4b4688ba4edcf4967025",
            "bae9051e58694c79a200eed5f2102f83",
            "dcf71e1f801a4c038d9bdf9c5861b874",
            "12d33c9be1f84638a49b4c30bedb6781",
            "ab0ecfa9d71645b693b34275ec52ab6c",
            "b61f1e2fbd9b47e3b19115f91945ea52",
            "23d27639b04c46aa9bf1681f6b3b86e9",
            "6fef3747266f42998a2fa831d9e6f4da",
            "0e1063a64e81464a8399d752a70f047f",
            "8f03aa987ebf40b7bd0bad105f981546",
            "0f036168fa6145f3bef673c7c04cbe52",
            "08b23151a68f4ee98d5f7821bf6e9cae",
            "83c127d644dc4b9ba643e2fbf688e704",
            "266215e9bd7043b39597ef0b9420c9a6",
            "7dd7aea35e9f40819893f80b80fec738",
            "74a45d26401345f9ac13e5826b01619d"
          ]
        },
        "id": "i_lSuKv8ZNiZ",
        "outputId": "15137394-163f-4648-ec6c-2eb5c709750e"
      },
      "source": [
        "import ktrain\n",
        "from ktrain import text\n",
        "\n",
        "\n",
        "categories = [0, 1]\n",
        "\n",
        "MODEL_NAME = 'roberta-base'\n",
        "\n",
        "# Transormer is a wrapper to the Hugging Face transformers library for text classification.\n",
        "t = text.Transformer(MODEL_NAME, maxlen=100, class_names=categories)\n",
        "\n",
        "# Using normalised input data\n",
        "trn = t.preprocess_train(new_x_train, y_train)\n",
        "val = t.preprocess_test(new_x_test, y_test)\n",
        "\n",
        "model = t.get_classifier()\n",
        "learner = ktrain.get_learner(model, train_data=trn, val_data=val, batch_size=16)"
      ],
      "execution_count": null,
      "outputs": [
        {
          "output_type": "display_data",
          "data": {
            "application/vnd.jupyter.widget-view+json": {
              "model_id": "ffe92da4c16c4e5da9da30b101e629ec",
              "version_minor": 0,
              "version_major": 2
            },
            "text/plain": [
              "HBox(children=(FloatProgress(value=0.0, description='Downloading', max=481.0, style=ProgressStyle(description_…"
            ]
          },
          "metadata": {
            "tags": []
          }
        },
        {
          "output_type": "stream",
          "text": [
            "\n",
            "preprocessing train...\n",
            "language: de\n",
            "train sequence lengths:\n",
            "\tmean : 13\n",
            "\t95percentile : 25\n",
            "\t99percentile : 28\n"
          ],
          "name": "stdout"
        },
        {
          "output_type": "display_data",
          "data": {
            "application/vnd.jupyter.widget-view+json": {
              "model_id": "8d33da571e5941ce9c2c039fe180b6b3",
              "version_minor": 0,
              "version_major": 2
            },
            "text/plain": [
              "HBox(children=(FloatProgress(value=0.0, description='Downloading', max=898823.0, style=ProgressStyle(descripti…"
            ]
          },
          "metadata": {
            "tags": []
          }
        },
        {
          "output_type": "stream",
          "text": [
            "\n"
          ],
          "name": "stdout"
        },
        {
          "output_type": "display_data",
          "data": {
            "application/vnd.jupyter.widget-view+json": {
              "model_id": "3b626141cc354c41a5672b1c0f263e6b",
              "version_minor": 0,
              "version_major": 2
            },
            "text/plain": [
              "HBox(children=(FloatProgress(value=0.0, description='Downloading', max=456318.0, style=ProgressStyle(descripti…"
            ]
          },
          "metadata": {
            "tags": []
          }
        },
        {
          "output_type": "stream",
          "text": [
            "\n"
          ],
          "name": "stdout"
        },
        {
          "output_type": "display_data",
          "data": {
            "application/vnd.jupyter.widget-view+json": {
              "model_id": "10a3687c45ab4b4688ba4edcf4967025",
              "version_minor": 0,
              "version_major": 2
            },
            "text/plain": [
              "HBox(children=(FloatProgress(value=0.0, description='Downloading', max=1355863.0, style=ProgressStyle(descript…"
            ]
          },
          "metadata": {
            "tags": []
          }
        },
        {
          "output_type": "stream",
          "text": [
            "\n"
          ],
          "name": "stdout"
        },
        {
          "output_type": "display_data",
          "data": {
            "text/html": [
              ""
            ],
            "text/plain": [
              "<IPython.core.display.HTML object>"
            ]
          },
          "metadata": {
            "tags": []
          }
        },
        {
          "output_type": "stream",
          "text": [
            "Is Multi-Label? False\n",
            "preprocessing test...\n",
            "language: de\n",
            "test sequence lengths:\n",
            "\tmean : 14\n",
            "\t95percentile : 25\n",
            "\t99percentile : 28\n"
          ],
          "name": "stdout"
        },
        {
          "output_type": "display_data",
          "data": {
            "text/html": [
              ""
            ],
            "text/plain": [
              "<IPython.core.display.HTML object>"
            ]
          },
          "metadata": {
            "tags": []
          }
        },
        {
          "output_type": "display_data",
          "data": {
            "application/vnd.jupyter.widget-view+json": {
              "model_id": "0e1063a64e81464a8399d752a70f047f",
              "version_minor": 0,
              "version_major": 2
            },
            "text/plain": [
              "HBox(children=(FloatProgress(value=0.0, description='Downloading', max=657434796.0, style=ProgressStyle(descri…"
            ]
          },
          "metadata": {
            "tags": []
          }
        },
        {
          "output_type": "stream",
          "text": [
            "\n"
          ],
          "name": "stdout"
        }
      ]
    },
    {
      "cell_type": "markdown",
      "metadata": {
        "id": "8JZfMbMunLhv"
      },
      "source": [
        "###Train"
      ]
    },
    {
      "cell_type": "code",
      "metadata": {
        "id": "jEMNRXzzZNia"
      },
      "source": [
        "best_lr = 5e-5"
      ],
      "execution_count": null,
      "outputs": []
    },
    {
      "cell_type": "code",
      "metadata": {
        "colab": {
          "base_uri": "https://localhost:8080/"
        },
        "id": "8I9d8pz_ZNia",
        "outputId": "dbd469cb-2e21-4603-84c7-297b1fc2c0ad"
      },
      "source": [
        "# Train\n",
        "# Parameters: LR, epochs\n",
        "# LR==(5e-5)\n",
        "\n",
        "learner.autofit(lr=best_lr, checkpoint_folder='/my_models', verbose=1)\n",
        "\n",
        "# if epochs is None, then early_stopping and reduce_on_plateau are atomatically set to 6 and 3, respectively.\n",
        "# if lr missing, it will be estimated (initial lr)"
      ],
      "execution_count": null,
      "outputs": [
        {
          "output_type": "stream",
          "text": [
            "early_stopping automatically enabled at patience=5\n",
            "reduce_on_plateau automatically enabled at patience=2\n",
            "\n",
            "\n",
            "begin training using triangular learning rate policy with max lr of 5e-05...\n",
            "Epoch 1/1024\n",
            "240/240 [==============================] - 100s 354ms/step - loss: 0.6955 - accuracy: 0.5076 - val_loss: 0.6932 - val_accuracy: 0.3967\n",
            "Epoch 2/1024\n",
            "240/240 [==============================] - 84s 348ms/step - loss: 0.6944 - accuracy: 0.5029 - val_loss: 0.6877 - val_accuracy: 0.6033\n",
            "Epoch 3/1024\n",
            "240/240 [==============================] - 84s 347ms/step - loss: 0.6950 - accuracy: 0.5016 - val_loss: 0.6919 - val_accuracy: 0.6033\n",
            "Epoch 4/1024\n",
            "240/240 [==============================] - 84s 347ms/step - loss: 0.6941 - accuracy: 0.4932 - val_loss: 0.6917 - val_accuracy: 0.6033\n",
            "\n",
            "Epoch 00004: Reducing Max LR on Plateau: new max lr will be 2.5e-05 (if not early_stopping).\n",
            "Epoch 5/1024\n",
            "240/240 [==============================] - 84s 347ms/step - loss: 0.6944 - accuracy: 0.4943 - val_loss: 0.6956 - val_accuracy: 0.3967\n",
            "Epoch 6/1024\n",
            "240/240 [==============================] - 84s 347ms/step - loss: 0.6946 - accuracy: 0.4870 - val_loss: 0.6927 - val_accuracy: 0.6033\n",
            "\n",
            "Epoch 00006: Reducing Max LR on Plateau: new max lr will be 1.25e-05 (if not early_stopping).\n",
            "Epoch 7/1024\n",
            "240/240 [==============================] - 84s 347ms/step - loss: 0.6939 - accuracy: 0.5133 - val_loss: 0.6898 - val_accuracy: 0.6033\n",
            "Restoring model weights from the end of the best epoch.\n",
            "Epoch 00007: early stopping\n",
            "Weights from best epoch have been loaded into model.\n"
          ],
          "name": "stdout"
        },
        {
          "output_type": "execute_result",
          "data": {
            "text/plain": [
              "<tensorflow.python.keras.callbacks.History at 0x7fb37cb78690>"
            ]
          },
          "metadata": {
            "tags": []
          },
          "execution_count": 134
        }
      ]
    },
    {
      "cell_type": "markdown",
      "metadata": {
        "id": "7NEakJmQnNF2"
      },
      "source": [
        "###Evaluate"
      ]
    },
    {
      "cell_type": "code",
      "metadata": {
        "colab": {
          "base_uri": "https://localhost:8080/"
        },
        "id": "8NJ0OSTzdVXa",
        "outputId": "ced55431-c0fb-4b1e-a27b-5ff87d23f7a4"
      },
      "source": [
        "learner.validate(class_names=t.get_classes()) "
      ],
      "execution_count": null,
      "outputs": [
        {
          "output_type": "stream",
          "text": [
            "              precision    recall  f1-score   support\n",
            "\n",
            "           0       0.60      1.00      0.75       473\n",
            "           1       0.00      0.00      0.00       311\n",
            "\n",
            "    accuracy                           0.60       784\n",
            "   macro avg       0.30      0.50      0.38       784\n",
            "weighted avg       0.36      0.60      0.45       784\n",
            "\n"
          ],
          "name": "stdout"
        },
        {
          "output_type": "stream",
          "text": [
            "/usr/local/lib/python3.7/dist-packages/sklearn/metrics/_classification.py:1221: UndefinedMetricWarning: Precision and F-score are ill-defined and being set to 0.0 in labels with no predicted samples. Use `zero_division` parameter to control this behavior.\n",
            "  _warn_prf(average, modifier, msg_start, len(result))\n"
          ],
          "name": "stderr"
        },
        {
          "output_type": "execute_result",
          "data": {
            "text/plain": [
              "array([[473,   0],\n",
              "       [311,   0]])"
            ]
          },
          "metadata": {
            "tags": []
          },
          "execution_count": 135
        }
      ]
    },
    {
      "cell_type": "markdown",
      "metadata": {
        "id": "fCUzjaYTblfg"
      },
      "source": [
        "##Emotion classification using features (instead of words)"
      ]
    },
    {
      "cell_type": "markdown",
      "metadata": {
        "id": "2UgHRjCpdW0t"
      },
      "source": [
        "###Load TweetEval data + fix"
      ]
    },
    {
      "cell_type": "code",
      "metadata": {
        "id": "JkJTkNIddJ5U"
      },
      "source": [
        "# Load train data\n",
        "train_path_TE = '/content/drive/MyDrive/TeamLab/data/tweeteval-train_text.txt'\n",
        "\n",
        "with open(train_path_TE) as f:\n",
        "    x_train_TE = f.read().splitlines()"
      ],
      "execution_count": null,
      "outputs": []
    },
    {
      "cell_type": "code",
      "metadata": {
        "colab": {
          "base_uri": "https://localhost:8080/"
        },
        "id": "imWvk8YFIUEW",
        "outputId": "995ac095-8f26-4e63-d822-8c0f6bca778d"
      },
      "source": [
        "x_train_TE[:5]"
      ],
      "execution_count": null,
      "outputs": [
        {
          "output_type": "execute_result",
          "data": {
            "text/plain": [
              "[\"“Worry is a down payment on a problem you may never have'. \\xa0Joyce Meyer.  #motivation #leadership #worry \",\n",
              " \"My roommate: it's okay that we can't spell because we have autocorrect. #terrible #firstworldprobs \",\n",
              " \"No but that's so cute. Atsu was probably shy about photos before but cherry helped her out uwu \",\n",
              " \"Rooneys fucking untouchable isn't he? Been fucking dreadful again, depay has looked decent(ish)tonight \",\n",
              " \"it's pretty depressing when u hit pan on ur favourite highlighter \"]"
            ]
          },
          "metadata": {
            "tags": []
          },
          "execution_count": 159
        }
      ]
    },
    {
      "cell_type": "code",
      "metadata": {
        "id": "30IS8SrrJOQK"
      },
      "source": [
        "with open('/content/drive/MyDrive/TeamLab/data/tweeteval-train_labels.txt') as f:\n",
        "    y_train_TE = f.read().splitlines()"
      ],
      "execution_count": null,
      "outputs": []
    },
    {
      "cell_type": "code",
      "metadata": {
        "colab": {
          "base_uri": "https://localhost:8080/"
        },
        "id": "G9zfE-p3JiU8",
        "outputId": "464d968b-ad68-4f01-ed79-6c20c89db968"
      },
      "source": [
        "y_train_TE[:5]"
      ],
      "execution_count": null,
      "outputs": [
        {
          "output_type": "execute_result",
          "data": {
            "text/plain": [
              "['2', '0', '1', '0', '3']"
            ]
          },
          "metadata": {
            "tags": []
          },
          "execution_count": 161
        }
      ]
    },
    {
      "cell_type": "code",
      "metadata": {
        "id": "Z80WwPcfLZyT"
      },
      "source": [
        "# Convert numbers to emotion labels\n",
        "y_train_emo = []\n",
        "\n",
        "for label in y_train:\n",
        "    if label == '0':\n",
        "        y_train_emo.append('anger')\n",
        "    elif label == '1':\n",
        "        y_train_emo.append('joy')\n",
        "    elif label == '2':\n",
        "        y_train_emo.append('optimism')\n",
        "    elif label == '3':\n",
        "        y_train_emo.append('sadness')"
      ],
      "execution_count": null,
      "outputs": []
    },
    {
      "cell_type": "code",
      "metadata": {
        "colab": {
          "base_uri": "https://localhost:8080/"
        },
        "id": "RBjV4aD4MVTj",
        "outputId": "1cd8551d-df58-4d73-dd79-0ec662489a32"
      },
      "source": [
        "y_train_emo[:5]"
      ],
      "execution_count": null,
      "outputs": [
        {
          "output_type": "execute_result",
          "data": {
            "text/plain": [
              "['optimism', 'anger', 'joy', 'anger', 'sadness']"
            ]
          },
          "metadata": {
            "tags": []
          },
          "execution_count": 163
        }
      ]
    },
    {
      "cell_type": "code",
      "metadata": {
        "colab": {
          "base_uri": "https://localhost:8080/",
          "height": 386
        },
        "id": "ep8TV6ZGC1Gu",
        "outputId": "8c88e20e-f059-42e7-9261-cf69e260c7d7"
      },
      "source": [
        "# Check distribution\n",
        "import seaborn as sns\n",
        "\n",
        "sns.displot(y_train_emo, shrink=.8)"
      ],
      "execution_count": null,
      "outputs": [
        {
          "output_type": "execute_result",
          "data": {
            "text/plain": [
              "<seaborn.axisgrid.FacetGrid at 0x7fb2022ba110>"
            ]
          },
          "metadata": {
            "tags": []
          },
          "execution_count": 164
        },
        {
          "output_type": "display_data",
          "data": {
            "image/png": "[encoded data removed]",
            "text/plain": [
              "<Figure size 360x360 with 1 Axes>"
            ]
          },
          "metadata": {
            "tags": [],
            "needs_background": "light"
          }
        }
      ]
    },
    {
      "cell_type": "code",
      "metadata": {
        "colab": {
          "base_uri": "https://localhost:8080/"
        },
        "id": "nfnxNNSaM5Qm",
        "outputId": "a46bf3bc-2ca0-4a88-ddae-ea439c902d9a"
      },
      "source": [
        "# Create new dataset (balanced)\n",
        "new_x_train_TE = []\n",
        "new_y_train_TE = []\n",
        "\n",
        "idx = 0\n",
        "for label in y_train_emo:\n",
        "    if new_y_train_TE.count(label) < 320:\n",
        "        new_y_train_TE.append(label)\n",
        "        new_x_train_TE.append(x_train[idx])\n",
        "    idx += 1\n",
        "    \n",
        "new_x_train_TE[:5]"
      ],
      "execution_count": null,
      "outputs": [
        {
          "output_type": "execute_result",
          "data": {
            "text/plain": [
              "[\"“Worry is a down payment on a problem you may never have'. \\xa0Joyce Meyer.  #motivation #leadership #worry \",\n",
              " \"My roommate: it's okay that we can't spell because we have autocorrect. #terrible #firstworldprobs \",\n",
              " \"No but that's so cute. Atsu was probably shy about photos before but cherry helped her out uwu \",\n",
              " \"Rooneys fucking untouchable isn't he? Been fucking dreadful again, depay has looked decent(ish)tonight \",\n",
              " \"it's pretty depressing when u hit pan on ur favourite highlighter \"]"
            ]
          },
          "metadata": {
            "tags": []
          },
          "execution_count": 165
        }
      ]
    },
    {
      "cell_type": "code",
      "metadata": {
        "colab": {
          "base_uri": "https://localhost:8080/"
        },
        "id": "H39d9dJuNq9r",
        "outputId": "53731738-251b-455b-e6df-82e614199dd2"
      },
      "source": [
        "new_y_train_TE[:5]"
      ],
      "execution_count": null,
      "outputs": [
        {
          "output_type": "execute_result",
          "data": {
            "text/plain": [
              "['optimism', 'anger', 'joy', 'anger', 'sadness']"
            ]
          },
          "metadata": {
            "tags": []
          },
          "execution_count": 166
        }
      ]
    },
    {
      "cell_type": "code",
      "metadata": {
        "colab": {
          "base_uri": "https://localhost:8080/",
          "height": 386
        },
        "id": "OYlOgMLsN2Va",
        "outputId": "0851bec7-45a5-42d6-8774-a41e77855809"
      },
      "source": [
        "# Distribution of modified dataset\n",
        "import seaborn as sns\n",
        "\n",
        "sns.displot(new_y_train_TE, shrink=.8)"
      ],
      "execution_count": null,
      "outputs": [
        {
          "output_type": "execute_result",
          "data": {
            "text/plain": [
              "<seaborn.axisgrid.FacetGrid at 0x7fb20210fd50>"
            ]
          },
          "metadata": {
            "tags": []
          },
          "execution_count": 167
        },
        {
          "output_type": "display_data",
          "data": {
            "image/png": "[encoded data removed]",
            "text/plain": [
              "<Figure size 360x360 with 1 Axes>"
            ]
          },
          "metadata": {
            "tags": [],
            "needs_background": "light"
          }
        }
      ]
    },
    {
      "cell_type": "code",
      "metadata": {
        "id": "zJy9puo1OSA9"
      },
      "source": [
        "# Load test data\n",
        "test_path_TE = '/content/drive/MyDrive/TeamLab/data/tweeteval-test_text.txt'\n",
        "\n",
        "with open(test_path_TE) as f:\n",
        "    x_test_TE = f.read().splitlines()"
      ],
      "execution_count": null,
      "outputs": []
    },
    {
      "cell_type": "code",
      "metadata": {
        "colab": {
          "base_uri": "https://localhost:8080/"
        },
        "id": "3ZyitYZWOSBA",
        "outputId": "d4ffd44b-1088-40f5-9f28-1b3c1665ac60"
      },
      "source": [
        "x_test_TE[:5]"
      ],
      "execution_count": null,
      "outputs": [
        {
          "output_type": "execute_result",
          "data": {
            "text/plain": [
              "['#Deppression is real. Partners w/ #depressed people truly dont understand the depth in which they affect us. Add in #anxiety &amp;makes it worse ',\n",
              " '@user Interesting choice of words... Are you confirming that governments fund #terrorism? Bit of an open door, but still... ',\n",
              " 'My visit to hospital for care triggered #trauma from accident 20+yrs ago and image of my dead brother in it. Feeling symptoms of #depression ',\n",
              " '@user Welcome to #MPSVT! We are delighted to have you! #grateful #MPSVT #relationships ',\n",
              " 'What makes you feel #joyful? ']"
            ]
          },
          "metadata": {
            "tags": []
          },
          "execution_count": 169
        }
      ]
    },
    {
      "cell_type": "code",
      "metadata": {
        "id": "MLdc1be9OSBB"
      },
      "source": [
        "with open('/content/drive/MyDrive/TeamLab/data/tweeteval-test_labels.txt') as f:\n",
        "    y_test_TE = f.read().splitlines()"
      ],
      "execution_count": null,
      "outputs": []
    },
    {
      "cell_type": "code",
      "metadata": {
        "colab": {
          "base_uri": "https://localhost:8080/"
        },
        "id": "B3NfOZ3ZOSBB",
        "outputId": "ad020a3b-d978-4b34-b997-c572014ae9cc"
      },
      "source": [
        "y_test_TE[:5]"
      ],
      "execution_count": null,
      "outputs": [
        {
          "output_type": "execute_result",
          "data": {
            "text/plain": [
              "['3', '0', '3', '1', '1']"
            ]
          },
          "metadata": {
            "tags": []
          },
          "execution_count": 171
        }
      ]
    },
    {
      "cell_type": "code",
      "metadata": {
        "id": "uOJuLsm0OSBC"
      },
      "source": [
        "# Convert numbers to emotion labels\n",
        "y_test_emo = []\n",
        "\n",
        "for label in y_test:\n",
        "    if label == '0':\n",
        "        y_test_emo.append('anger')\n",
        "    elif label == '1':\n",
        "        y_test_emo.append('joy')\n",
        "    elif label == '2':\n",
        "        y_test_emo.append('optimism')\n",
        "    elif label == '3':\n",
        "        y_test_emo.append('sadness')"
      ],
      "execution_count": null,
      "outputs": []
    },
    {
      "cell_type": "code",
      "metadata": {
        "colab": {
          "base_uri": "https://localhost:8080/"
        },
        "id": "jQxmiPLeOSBC",
        "outputId": "4d70471e-68b2-40a9-fb03-0a96bafa50ed"
      },
      "source": [
        "y_test_emo[:5]"
      ],
      "execution_count": null,
      "outputs": [
        {
          "output_type": "execute_result",
          "data": {
            "text/plain": [
              "['sadness', 'anger', 'sadness', 'joy', 'joy']"
            ]
          },
          "metadata": {
            "tags": []
          },
          "execution_count": 173
        }
      ]
    },
    {
      "cell_type": "code",
      "metadata": {
        "colab": {
          "base_uri": "https://localhost:8080/",
          "height": 386
        },
        "id": "bT_Tjw4lOSBC",
        "outputId": "9a69625e-79f5-4126-d3e5-eafe62b0e7b0"
      },
      "source": [
        "# Check distribution\n",
        "import seaborn as sns\n",
        "\n",
        "sns.displot(y_test_emo, shrink=.8)"
      ],
      "execution_count": null,
      "outputs": [
        {
          "output_type": "execute_result",
          "data": {
            "text/plain": [
              "<seaborn.axisgrid.FacetGrid at 0x7fb202047b90>"
            ]
          },
          "metadata": {
            "tags": []
          },
          "execution_count": 174
        },
        {
          "output_type": "display_data",
          "data": {
            "image/png": "[encoded data removed]",
            "text/plain": [
              "<Figure size 360x360 with 1 Axes>"
            ]
          },
          "metadata": {
            "tags": [],
            "needs_background": "light"
          }
        }
      ]
    },
    {
      "cell_type": "code",
      "metadata": {
        "colab": {
          "base_uri": "https://localhost:8080/"
        },
        "id": "JzyrcV4qPuHm",
        "outputId": "0185aaca-c267-4632-ed2f-58578fde3982"
      },
      "source": [
        "# Create new dataset (balanced)\n",
        "new_x_test_TE = []\n",
        "new_y_test_TE = []\n",
        "\n",
        "idx = 0\n",
        "for label in y_test_emo:\n",
        "    if new_y_test_TE.count(label) < 120:\n",
        "        new_y_test_TE.append(label)\n",
        "        new_x_test_TE.append(x_test[idx])\n",
        "    idx += 1\n",
        "    \n",
        "new_x_test_TE[:5]"
      ],
      "execution_count": null,
      "outputs": [
        {
          "output_type": "execute_result",
          "data": {
            "text/plain": [
              "['#Deppression is real. Partners w/ #depressed people truly dont understand the depth in which they affect us. Add in #anxiety &amp;makes it worse ',\n",
              " '@user Interesting choice of words... Are you confirming that governments fund #terrorism? Bit of an open door, but still... ',\n",
              " 'My visit to hospital for care triggered #trauma from accident 20+yrs ago and image of my dead brother in it. Feeling symptoms of #depression ',\n",
              " '@user Welcome to #MPSVT! We are delighted to have you! #grateful #MPSVT #relationships ',\n",
              " 'What makes you feel #joyful? ']"
            ]
          },
          "metadata": {
            "tags": []
          },
          "execution_count": 175
        }
      ]
    },
    {
      "cell_type": "code",
      "metadata": {
        "colab": {
          "base_uri": "https://localhost:8080/",
          "height": 386
        },
        "id": "weoQkxOgQH_z",
        "outputId": "f5c028bf-a1dd-4e16-e8dd-f71df2b4349c"
      },
      "source": [
        "# Distribution of modified dataset\n",
        "import seaborn as sns\n",
        "\n",
        "sns.displot(new_y_test_TE, shrink=.8)"
      ],
      "execution_count": null,
      "outputs": [
        {
          "output_type": "execute_result",
          "data": {
            "text/plain": [
              "<seaborn.axisgrid.FacetGrid at 0x7fb202037410>"
            ]
          },
          "metadata": {
            "tags": []
          },
          "execution_count": 176
        },
        {
          "output_type": "display_data",
          "data": {
            "image/png": "[encoded data removed]",
            "text/plain": [
              "<Figure size 360x360 with 1 Axes>"
            ]
          },
          "metadata": {
            "tags": [],
            "needs_background": "light"
          }
        }
      ]
    },
    {
      "cell_type": "markdown",
      "metadata": {
        "id": "6L11ebwQeDTT"
      },
      "source": [
        "###Convert train data"
      ]
    },
    {
      "cell_type": "code",
      "metadata": {
        "id": "OYrNWw9XfvRp"
      },
      "source": [
        "x_train_mod1_TE = []\n",
        "\n",
        "for tweet in new_x_train_TE:\n",
        "    x_train_mod1_TE.append(normalise_for_allcaps(tweet))"
      ],
      "execution_count": null,
      "outputs": []
    },
    {
      "cell_type": "code",
      "metadata": {
        "id": "smuMWb43fvRq"
      },
      "source": [
        "all_caps_train_TE = get_all_caps(x_train_mod1_TE)"
      ],
      "execution_count": null,
      "outputs": []
    },
    {
      "cell_type": "code",
      "metadata": {
        "id": "uswjp6Z8fvRq"
      },
      "source": [
        "ellipsis_train_TE = get_ellipsis(new_x_train_TE)"
      ],
      "execution_count": null,
      "outputs": []
    },
    {
      "cell_type": "code",
      "metadata": {
        "id": "vCGgQQ1nfvRr"
      },
      "source": [
        "x_train_mod2_TE = []\n",
        "\n",
        "for tweet in new_x_train_TE:\n",
        "    x_train_mod2_TE.append(normalise_for_pol(tweet))"
      ],
      "execution_count": null,
      "outputs": []
    },
    {
      "cell_type": "code",
      "metadata": {
        "id": "RZvPvsCIfvRr"
      },
      "source": [
        "pol_change_train_TE = get_pol_change(x_train_mod2_TE)"
      ],
      "execution_count": null,
      "outputs": []
    },
    {
      "cell_type": "code",
      "metadata": {
        "id": "6gf2XMLRfvRs"
      },
      "source": [
        "hasemoji_train_TE = get_emojis(new_x_train_TE)"
      ],
      "execution_count": null,
      "outputs": []
    },
    {
      "cell_type": "code",
      "metadata": {
        "id": "NhgbY1t2fvRs"
      },
      "source": [
        "laughs_train_TE = get_laugh(new_x_train_TE)"
      ],
      "execution_count": null,
      "outputs": []
    },
    {
      "cell_type": "code",
      "metadata": {
        "id": "8uhM8kCofvRt"
      },
      "source": [
        "x_train_mod3_TE = []\n",
        "\n",
        "for tweet in new_x_train_TE:\n",
        "    x_train_mod3_TE.append(normalise_for_pos(tweet))"
      ],
      "execution_count": null,
      "outputs": []
    },
    {
      "cell_type": "code",
      "metadata": {
        "id": "bxsRVNCrfvRt"
      },
      "source": [
        "x_train_pos_TE = convert_to_pos(x_train_mod3_TE)"
      ],
      "execution_count": null,
      "outputs": []
    },
    {
      "cell_type": "code",
      "metadata": {
        "id": "FD9qTkCxfvRu"
      },
      "source": [
        "interj_train_TE = get_interjection(x_train_pos_TE)"
      ],
      "execution_count": null,
      "outputs": []
    },
    {
      "cell_type": "code",
      "metadata": {
        "id": "HM7AFG8gfvRu"
      },
      "source": [
        "x_train_mod4_TE = []\n",
        "\n",
        "for tweet in new_x_train_TE:\n",
        "    x_train_mod4_TE.append(normalise_for_punct(tweet))"
      ],
      "execution_count": null,
      "outputs": []
    },
    {
      "cell_type": "code",
      "metadata": {
        "id": "ZyWT9ad4fvRv"
      },
      "source": [
        "exclamation_train_TE = get_exclamation(x_train_mod4_TE)"
      ],
      "execution_count": null,
      "outputs": []
    },
    {
      "cell_type": "code",
      "metadata": {
        "id": "pyU9oWIAfvRv"
      },
      "source": [
        "hard_exclamation_train_TE = get_hard_exclamation(x_train_mod4_TE)"
      ],
      "execution_count": null,
      "outputs": []
    },
    {
      "cell_type": "code",
      "metadata": {
        "id": "3dYWVuAmfvRw"
      },
      "source": [
        "interr_train_TE = get_interrogative(x_train_mod4_TE)"
      ],
      "execution_count": null,
      "outputs": []
    },
    {
      "cell_type": "code",
      "metadata": {
        "id": "zAfqK58dfvRw"
      },
      "source": [
        "hard_interr_train_TE = get_hard_interrogative(x_train_mod4_TE)"
      ],
      "execution_count": null,
      "outputs": []
    },
    {
      "cell_type": "code",
      "metadata": {
        "id": "IhSb460NhDTZ"
      },
      "source": [
        "#Check that lengths are consistent\n",
        "print(len(all_caps_train_TE))\n",
        "print(len(ellipsis_train_TE))\n",
        "print(len(pol_change_train_TE))\n",
        "print(len(hasemoji_train_TE))\n",
        "print(len(laughs_train_TE))\n",
        "print(len(interj_train_TE))\n",
        "print(len(exclamation_train_TE))\n",
        "print(len(hard_exclamation_train_TE))\n",
        "print(len(interr_train_TE))\n",
        "print(len(hard_interr_train_TE))"
      ],
      "execution_count": null,
      "outputs": []
    },
    {
      "cell_type": "code",
      "metadata": {
        "colab": {
          "base_uri": "https://localhost:8080/",
          "height": 204
        },
        "id": "6KIBB-MDkQpu",
        "outputId": "509d4a79-90c9-49a4-f464-17c298f2c306"
      },
      "source": [
        "df_feat_TE = pd.DataFrame(\n",
        "    {'emotion': new_y_train_TE,\n",
        "     'tweet': new_x_train_TE})\n",
        "\n",
        "df_feat_TE.head()"
      ],
      "execution_count": null,
      "outputs": [
        {
          "output_type": "execute_result",
          "data": {
            "text/html": [
              "<div>\n",
              "<style scoped>\n",
              "    .dataframe tbody tr th:only-of-type {\n",
              "        vertical-align: middle;\n",
              "    }\n",
              "\n",
              "    .dataframe tbody tr th {\n",
              "        vertical-align: top;\n",
              "    }\n",
              "\n",
              "    .dataframe thead th {\n",
              "        text-align: right;\n",
              "    }\n",
              "</style>\n",
              "<table border=\"1\" class=\"dataframe\">\n",
              "  <thead>\n",
              "    <tr style=\"text-align: right;\">\n",
              "      <th></th>\n",
              "      <th>emotion</th>\n",
              "      <th>tweet</th>\n",
              "    </tr>\n",
              "  </thead>\n",
              "  <tbody>\n",
              "    <tr>\n",
              "      <th>0</th>\n",
              "      <td>optimism</td>\n",
              "      <td>“Worry is a down payment on a problem you may ...</td>\n",
              "    </tr>\n",
              "    <tr>\n",
              "      <th>1</th>\n",
              "      <td>anger</td>\n",
              "      <td>My roommate: it's okay that we can't spell bec...</td>\n",
              "    </tr>\n",
              "    <tr>\n",
              "      <th>2</th>\n",
              "      <td>joy</td>\n",
              "      <td>No but that's so cute. Atsu was probably shy a...</td>\n",
              "    </tr>\n",
              "    <tr>\n",
              "      <th>3</th>\n",
              "      <td>anger</td>\n",
              "      <td>Rooneys fucking untouchable isn't he? Been fuc...</td>\n",
              "    </tr>\n",
              "    <tr>\n",
              "      <th>4</th>\n",
              "      <td>sadness</td>\n",
              "      <td>it's pretty depressing when u hit pan on ur fa...</td>\n",
              "    </tr>\n",
              "  </tbody>\n",
              "</table>\n",
              "</div>"
            ],
            "text/plain": [
              "    emotion                                              tweet\n",
              "0  optimism  “Worry is a down payment on a problem you may ...\n",
              "1     anger  My roommate: it's okay that we can't spell bec...\n",
              "2       joy  No but that's so cute. Atsu was probably shy a...\n",
              "3     anger  Rooneys fucking untouchable isn't he? Been fuc...\n",
              "4   sadness  it's pretty depressing when u hit pan on ur fa..."
            ]
          },
          "metadata": {
            "tags": []
          },
          "execution_count": 231
        }
      ]
    },
    {
      "cell_type": "code",
      "metadata": {
        "colab": {
          "base_uri": "https://localhost:8080/",
          "height": 204
        },
        "id": "asmcm4-2iP_k",
        "outputId": "fc867380-99a6-44cf-c82f-42f5251dbe55"
      },
      "source": [
        "df_feat_TE['all_caps'] = all_caps_train_TE\n",
        "df_feat_TE['ellipsis'] = ellipsis_train_TE\n",
        "df_feat_TE['pol_change'] = pol_change_train_TE\n",
        "df_feat_TE['laugh'] = laughs_train_TE\n",
        "df_feat_TE['emojis'] = hasemoji_train_TE\n",
        "df_feat_TE['interjection'] = interj_train_TE\n",
        "df_feat_TE['exclamation'] = exclamation_train_TE\n",
        "df_feat_TE['hard_exclamation'] = hard_exclamation_train_TE\n",
        "df_feat_TE['interrogative'] = interr_train_TE\n",
        "df_feat_TE['hard_interr'] = hard_interr_train_TE\n",
        "\n",
        "df_feat_TE.head()"
      ],
      "execution_count": null,
      "outputs": [
        {
          "output_type": "execute_result",
          "data": {
            "text/html": [
              "<div>\n",
              "<style scoped>\n",
              "    .dataframe tbody tr th:only-of-type {\n",
              "        vertical-align: middle;\n",
              "    }\n",
              "\n",
              "    .dataframe tbody tr th {\n",
              "        vertical-align: top;\n",
              "    }\n",
              "\n",
              "    .dataframe thead th {\n",
              "        text-align: right;\n",
              "    }\n",
              "</style>\n",
              "<table border=\"1\" class=\"dataframe\">\n",
              "  <thead>\n",
              "    <tr style=\"text-align: right;\">\n",
              "      <th></th>\n",
              "      <th>emotion</th>\n",
              "      <th>tweet</th>\n",
              "      <th>all_caps</th>\n",
              "      <th>ellipsis</th>\n",
              "      <th>pol_change</th>\n",
              "      <th>laugh</th>\n",
              "      <th>emojis</th>\n",
              "      <th>interjection</th>\n",
              "      <th>exclamation</th>\n",
              "      <th>hard_exclamation</th>\n",
              "      <th>interrogative</th>\n",
              "      <th>hard_interr</th>\n",
              "    </tr>\n",
              "  </thead>\n",
              "  <tbody>\n",
              "    <tr>\n",
              "      <th>0</th>\n",
              "      <td>optimism</td>\n",
              "      <td>“Worry is a down payment on a problem you may ...</td>\n",
              "      <td>0</td>\n",
              "      <td>0</td>\n",
              "      <td>0</td>\n",
              "      <td>0</td>\n",
              "      <td>0</td>\n",
              "      <td>0</td>\n",
              "      <td>0</td>\n",
              "      <td>0</td>\n",
              "      <td>0</td>\n",
              "      <td>0</td>\n",
              "    </tr>\n",
              "    <tr>\n",
              "      <th>1</th>\n",
              "      <td>anger</td>\n",
              "      <td>My roommate: it's okay that we can't spell bec...</td>\n",
              "      <td>0</td>\n",
              "      <td>0</td>\n",
              "      <td>1</td>\n",
              "      <td>0</td>\n",
              "      <td>0</td>\n",
              "      <td>0</td>\n",
              "      <td>0</td>\n",
              "      <td>0</td>\n",
              "      <td>0</td>\n",
              "      <td>0</td>\n",
              "    </tr>\n",
              "    <tr>\n",
              "      <th>2</th>\n",
              "      <td>joy</td>\n",
              "      <td>No but that's so cute. Atsu was probably shy a...</td>\n",
              "      <td>0</td>\n",
              "      <td>0</td>\n",
              "      <td>1</td>\n",
              "      <td>0</td>\n",
              "      <td>0</td>\n",
              "      <td>0</td>\n",
              "      <td>0</td>\n",
              "      <td>0</td>\n",
              "      <td>0</td>\n",
              "      <td>0</td>\n",
              "    </tr>\n",
              "    <tr>\n",
              "      <th>3</th>\n",
              "      <td>anger</td>\n",
              "      <td>Rooneys fucking untouchable isn't he? Been fuc...</td>\n",
              "      <td>0</td>\n",
              "      <td>0</td>\n",
              "      <td>0</td>\n",
              "      <td>0</td>\n",
              "      <td>0</td>\n",
              "      <td>0</td>\n",
              "      <td>0</td>\n",
              "      <td>0</td>\n",
              "      <td>1</td>\n",
              "      <td>0</td>\n",
              "    </tr>\n",
              "    <tr>\n",
              "      <th>4</th>\n",
              "      <td>sadness</td>\n",
              "      <td>it's pretty depressing when u hit pan on ur fa...</td>\n",
              "      <td>0</td>\n",
              "      <td>0</td>\n",
              "      <td>1</td>\n",
              "      <td>0</td>\n",
              "      <td>0</td>\n",
              "      <td>0</td>\n",
              "      <td>0</td>\n",
              "      <td>0</td>\n",
              "      <td>0</td>\n",
              "      <td>0</td>\n",
              "    </tr>\n",
              "  </tbody>\n",
              "</table>\n",
              "</div>"
            ],
            "text/plain": [
              "    emotion  ... hard_interr\n",
              "0  optimism  ...           0\n",
              "1     anger  ...           0\n",
              "2       joy  ...           0\n",
              "3     anger  ...           0\n",
              "4   sadness  ...           0\n",
              "\n",
              "[5 rows x 12 columns]"
            ]
          },
          "metadata": {
            "tags": []
          },
          "execution_count": 232
        }
      ]
    },
    {
      "cell_type": "code",
      "metadata": {
        "id": "sZWNVd2RiP_l"
      },
      "source": [
        "# convert to feature tweets\n",
        "\n",
        "feat_tweets_train = []\n",
        "\n",
        "for tweet in range(len(df_feat_TE)):\n",
        "    feat_tweet = []\n",
        "    if df_feat_TE['all_caps'][tweet] == 1:\n",
        "        feat_tweet.append('<all_caps>')\n",
        "    if df_feat_TE['ellipsis'][tweet] == 1:\n",
        "        feat_tweet.append('<ellipsis>')\n",
        "    if df_feat_TE['pol_change'][tweet] == 1:\n",
        "        feat_tweet.append('<pol_change>')\n",
        "    if df_feat_TE['laugh'][tweet] == 1:\n",
        "        feat_tweet.append('<laugh>')\n",
        "    if df_feat_TE['interjection'][tweet] == 1:\n",
        "        feat_tweet.append('<interjection>')\n",
        "    if df_feat_TE['exclamation'][tweet] == 1:\n",
        "        feat_tweet.append('<exclamation>')\n",
        "    if df_feat_TE['hard_exclamation'][tweet] == 1:\n",
        "        feat_tweet.append('<hard_exclamation>')\n",
        "    if df_feat_TE['interrogative'][tweet] == 1:\n",
        "        feat_tweet.append('<interrogative>')\n",
        "    if df_feat_TE['hard_interr'][tweet] == 1:\n",
        "        feat_tweet.append('<hard_interr>')\n",
        "    \n",
        "    [feat_tweet.append(i) for i in x_train_pos_TE[tweet]] #append every element of the inner list\n",
        "\n",
        "    feat_tweet_str = ' '.join(feat_tweet)\n",
        "    feat_tweets_train.append(feat_tweet_str)\n",
        "\n",
        "#change names <>?"
      ],
      "execution_count": null,
      "outputs": []
    },
    {
      "cell_type": "markdown",
      "metadata": {
        "id": "MQrViMN1eKlW"
      },
      "source": [
        "###Convert test data"
      ]
    },
    {
      "cell_type": "code",
      "metadata": {
        "id": "ZdzDBL-SeCXR"
      },
      "source": [
        "x_test_mod1_TE = []\n",
        "\n",
        "for tweet in new_x_test_TE:\n",
        "    x_test_mod1_TE.append(normalise_for_allcaps(tweet))"
      ],
      "execution_count": null,
      "outputs": []
    },
    {
      "cell_type": "code",
      "metadata": {
        "id": "siRc2RFGeCXX"
      },
      "source": [
        "all_caps_test_TE = get_all_caps(x_test_mod1_TE)"
      ],
      "execution_count": null,
      "outputs": []
    },
    {
      "cell_type": "code",
      "metadata": {
        "id": "SdtCAwJmeCXY"
      },
      "source": [
        "ellipsis_test_TE = get_ellipsis(new_x_test_TE)"
      ],
      "execution_count": null,
      "outputs": []
    },
    {
      "cell_type": "code",
      "metadata": {
        "id": "mPNrK9QheCXY"
      },
      "source": [
        "x_test_mod2_TE = []\n",
        "\n",
        "for tweet in new_x_test_TE:\n",
        "    x_test_mod2_TE.append(normalise_for_pol(tweet))"
      ],
      "execution_count": null,
      "outputs": []
    },
    {
      "cell_type": "code",
      "metadata": {
        "id": "VQmTPTPNeCXY"
      },
      "source": [
        "pol_change_test_TE = get_pol_change(x_test_mod2_TE)"
      ],
      "execution_count": null,
      "outputs": []
    },
    {
      "cell_type": "code",
      "metadata": {
        "id": "gfHCE8mBeCXZ"
      },
      "source": [
        "hasemoji_test_TE = get_emojis(new_x_test_TE)"
      ],
      "execution_count": null,
      "outputs": []
    },
    {
      "cell_type": "code",
      "metadata": {
        "id": "JbFoCaPAeCXZ"
      },
      "source": [
        "laughs_test_TE = get_laugh(new_x_test_TE)"
      ],
      "execution_count": null,
      "outputs": []
    },
    {
      "cell_type": "code",
      "metadata": {
        "id": "_VrFREO2eCXZ"
      },
      "source": [
        "x_test_mod3_TE = []\n",
        "\n",
        "for tweet in new_x_test_TE:\n",
        "    x_test_mod3_TE.append(normalise_for_pos(tweet))"
      ],
      "execution_count": null,
      "outputs": []
    },
    {
      "cell_type": "code",
      "metadata": {
        "id": "3xEjWM0KeCXZ"
      },
      "source": [
        "x_test_pos_TE = convert_to_pos(x_test_mod3_TE)"
      ],
      "execution_count": null,
      "outputs": []
    },
    {
      "cell_type": "code",
      "metadata": {
        "id": "9wk3h1EleCXZ"
      },
      "source": [
        "interj_test_TE = get_interjection(x_test_pos_TE)"
      ],
      "execution_count": null,
      "outputs": []
    },
    {
      "cell_type": "code",
      "metadata": {
        "id": "qj-VnJYceCXa"
      },
      "source": [
        "x_test_mod4_TE = []\n",
        "\n",
        "for tweet in new_x_test_TE:\n",
        "    x_test_mod4_TE.append(normalise_for_punct(tweet))"
      ],
      "execution_count": null,
      "outputs": []
    },
    {
      "cell_type": "code",
      "metadata": {
        "id": "MUwfJVWDeCXa"
      },
      "source": [
        "exclamation_test_TE = get_exclamation(x_test_mod4_TE)"
      ],
      "execution_count": null,
      "outputs": []
    },
    {
      "cell_type": "code",
      "metadata": {
        "id": "fEP5kJg9eCXa"
      },
      "source": [
        "hard_exclamation_test_TE = get_hard_exclamation(x_test_mod4_TE)"
      ],
      "execution_count": null,
      "outputs": []
    },
    {
      "cell_type": "code",
      "metadata": {
        "id": "UesvTMjveCXa"
      },
      "source": [
        "interr_test_TE = get_interrogative(x_test_mod4_TE)"
      ],
      "execution_count": null,
      "outputs": []
    },
    {
      "cell_type": "code",
      "metadata": {
        "id": "dL6bnBuDeCXa"
      },
      "source": [
        "hard_interr_test_TE = get_hard_interrogative(x_test_mod4_TE)"
      ],
      "execution_count": null,
      "outputs": []
    },
    {
      "cell_type": "code",
      "metadata": {
        "id": "odyrpdZDhwqD"
      },
      "source": [
        "#Check that lengths are consistent\n",
        "print(len(all_caps_test_TE))\n",
        "print(len(ellipsis_test_TE))\n",
        "print(len(pol_change_test_TE))\n",
        "print(len(hasemoji_test_TE))\n",
        "print(len(laughs_test_TE))\n",
        "print(len(interj_test_TE))\n",
        "print(len(exclamation_test_TE))\n",
        "print(len(hard_exclamation_test_TE))\n",
        "print(len(interr_test_TE))\n",
        "print(len(hard_interr_test_TE))"
      ],
      "execution_count": null,
      "outputs": []
    },
    {
      "cell_type": "code",
      "metadata": {
        "colab": {
          "base_uri": "https://localhost:8080/",
          "height": 204
        },
        "id": "GhmBmHp8lXC3",
        "outputId": "9075c12f-6ffa-4cb0-e887-300577e59193"
      },
      "source": [
        "#Create dataframe\n",
        "df_feat_TE_test = pd.DataFrame(\n",
        "    {'emotion': new_y_test_TE,\n",
        "     'tweet': new_x_test_TE})\n",
        "\n",
        "df_feat_TE_test.head()"
      ],
      "execution_count": null,
      "outputs": [
        {
          "output_type": "execute_result",
          "data": {
            "text/html": [
              "<div>\n",
              "<style scoped>\n",
              "    .dataframe tbody tr th:only-of-type {\n",
              "        vertical-align: middle;\n",
              "    }\n",
              "\n",
              "    .dataframe tbody tr th {\n",
              "        vertical-align: top;\n",
              "    }\n",
              "\n",
              "    .dataframe thead th {\n",
              "        text-align: right;\n",
              "    }\n",
              "</style>\n",
              "<table border=\"1\" class=\"dataframe\">\n",
              "  <thead>\n",
              "    <tr style=\"text-align: right;\">\n",
              "      <th></th>\n",
              "      <th>emotion</th>\n",
              "      <th>tweet</th>\n",
              "    </tr>\n",
              "  </thead>\n",
              "  <tbody>\n",
              "    <tr>\n",
              "      <th>0</th>\n",
              "      <td>sadness</td>\n",
              "      <td>#Deppression is real. Partners w/ #depressed p...</td>\n",
              "    </tr>\n",
              "    <tr>\n",
              "      <th>1</th>\n",
              "      <td>anger</td>\n",
              "      <td>@user Interesting choice of words... Are you c...</td>\n",
              "    </tr>\n",
              "    <tr>\n",
              "      <th>2</th>\n",
              "      <td>sadness</td>\n",
              "      <td>My visit to hospital for care triggered #traum...</td>\n",
              "    </tr>\n",
              "    <tr>\n",
              "      <th>3</th>\n",
              "      <td>joy</td>\n",
              "      <td>@user Welcome to #MPSVT! We are delighted to h...</td>\n",
              "    </tr>\n",
              "    <tr>\n",
              "      <th>4</th>\n",
              "      <td>joy</td>\n",
              "      <td>What makes you feel #joyful?</td>\n",
              "    </tr>\n",
              "  </tbody>\n",
              "</table>\n",
              "</div>"
            ],
            "text/plain": [
              "   emotion                                              tweet\n",
              "0  sadness  #Deppression is real. Partners w/ #depressed p...\n",
              "1    anger  @user Interesting choice of words... Are you c...\n",
              "2  sadness  My visit to hospital for care triggered #traum...\n",
              "3      joy  @user Welcome to #MPSVT! We are delighted to h...\n",
              "4      joy                      What makes you feel #joyful? "
            ]
          },
          "metadata": {
            "tags": []
          },
          "execution_count": 234
        }
      ]
    },
    {
      "cell_type": "code",
      "metadata": {
        "colab": {
          "base_uri": "https://localhost:8080/",
          "height": 204
        },
        "id": "OXqmuy3tlXC_",
        "outputId": "9a842117-0d00-440f-ed34-cfb72db142fd"
      },
      "source": [
        "df_feat_TE_test['all_caps'] = all_caps_test_TE\n",
        "df_feat_TE_test['ellipsis'] = ellipsis_test_TE\n",
        "df_feat_TE_test['pol_change'] = pol_change_test_TE\n",
        "df_feat_TE_test['laugh'] = laughs_test_TE\n",
        "df_feat_TE_test['emojis'] = hasemoji_test_TE\n",
        "df_feat_TE_test['interjection'] = interj_test_TE\n",
        "df_feat_TE_test['exclamation'] = exclamation_test_TE\n",
        "df_feat_TE_test['hard_exclamation'] = hard_exclamation_test_TE\n",
        "df_feat_TE_test['interrogative'] = interr_test_TE\n",
        "df_feat_TE_test['hard_interr'] = hard_interr_test_TE\n",
        "\n",
        "df_feat_TE_test.head()"
      ],
      "execution_count": null,
      "outputs": [
        {
          "output_type": "execute_result",
          "data": {
            "text/html": [
              "<div>\n",
              "<style scoped>\n",
              "    .dataframe tbody tr th:only-of-type {\n",
              "        vertical-align: middle;\n",
              "    }\n",
              "\n",
              "    .dataframe tbody tr th {\n",
              "        vertical-align: top;\n",
              "    }\n",
              "\n",
              "    .dataframe thead th {\n",
              "        text-align: right;\n",
              "    }\n",
              "</style>\n",
              "<table border=\"1\" class=\"dataframe\">\n",
              "  <thead>\n",
              "    <tr style=\"text-align: right;\">\n",
              "      <th></th>\n",
              "      <th>emotion</th>\n",
              "      <th>tweet</th>\n",
              "      <th>all_caps</th>\n",
              "      <th>ellipsis</th>\n",
              "      <th>pol_change</th>\n",
              "      <th>laugh</th>\n",
              "      <th>emojis</th>\n",
              "      <th>interjection</th>\n",
              "      <th>exclamation</th>\n",
              "      <th>hard_exclamation</th>\n",
              "      <th>interrogative</th>\n",
              "      <th>hard_interr</th>\n",
              "    </tr>\n",
              "  </thead>\n",
              "  <tbody>\n",
              "    <tr>\n",
              "      <th>0</th>\n",
              "      <td>sadness</td>\n",
              "      <td>#Deppression is real. Partners w/ #depressed p...</td>\n",
              "      <td>0</td>\n",
              "      <td>0</td>\n",
              "      <td>1</td>\n",
              "      <td>0</td>\n",
              "      <td>0</td>\n",
              "      <td>0</td>\n",
              "      <td>0</td>\n",
              "      <td>0</td>\n",
              "      <td>0</td>\n",
              "      <td>0</td>\n",
              "    </tr>\n",
              "    <tr>\n",
              "      <th>1</th>\n",
              "      <td>anger</td>\n",
              "      <td>@user Interesting choice of words... Are you c...</td>\n",
              "      <td>0</td>\n",
              "      <td>1</td>\n",
              "      <td>0</td>\n",
              "      <td>0</td>\n",
              "      <td>0</td>\n",
              "      <td>0</td>\n",
              "      <td>0</td>\n",
              "      <td>0</td>\n",
              "      <td>1</td>\n",
              "      <td>0</td>\n",
              "    </tr>\n",
              "    <tr>\n",
              "      <th>2</th>\n",
              "      <td>sadness</td>\n",
              "      <td>My visit to hospital for care triggered #traum...</td>\n",
              "      <td>0</td>\n",
              "      <td>0</td>\n",
              "      <td>0</td>\n",
              "      <td>0</td>\n",
              "      <td>0</td>\n",
              "      <td>0</td>\n",
              "      <td>0</td>\n",
              "      <td>0</td>\n",
              "      <td>0</td>\n",
              "      <td>0</td>\n",
              "    </tr>\n",
              "    <tr>\n",
              "      <th>3</th>\n",
              "      <td>joy</td>\n",
              "      <td>@user Welcome to #MPSVT! We are delighted to h...</td>\n",
              "      <td>0</td>\n",
              "      <td>0</td>\n",
              "      <td>0</td>\n",
              "      <td>0</td>\n",
              "      <td>0</td>\n",
              "      <td>0</td>\n",
              "      <td>1</td>\n",
              "      <td>0</td>\n",
              "      <td>0</td>\n",
              "      <td>0</td>\n",
              "    </tr>\n",
              "    <tr>\n",
              "      <th>4</th>\n",
              "      <td>joy</td>\n",
              "      <td>What makes you feel #joyful?</td>\n",
              "      <td>0</td>\n",
              "      <td>0</td>\n",
              "      <td>0</td>\n",
              "      <td>0</td>\n",
              "      <td>0</td>\n",
              "      <td>0</td>\n",
              "      <td>0</td>\n",
              "      <td>0</td>\n",
              "      <td>1</td>\n",
              "      <td>0</td>\n",
              "    </tr>\n",
              "  </tbody>\n",
              "</table>\n",
              "</div>"
            ],
            "text/plain": [
              "   emotion  ... hard_interr\n",
              "0  sadness  ...           0\n",
              "1    anger  ...           0\n",
              "2  sadness  ...           0\n",
              "3      joy  ...           0\n",
              "4      joy  ...           0\n",
              "\n",
              "[5 rows x 12 columns]"
            ]
          },
          "metadata": {
            "tags": []
          },
          "execution_count": 235
        }
      ]
    },
    {
      "cell_type": "code",
      "metadata": {
        "id": "uC5xAyb-lXC_"
      },
      "source": [
        "# convert to feature tweets\n",
        "\n",
        "feat_tweets_test = []\n",
        "\n",
        "for tweet in range(len(df_feat_TE_test)):\n",
        "    feat_tweet = []\n",
        "    if df_feat_TE_test['all_caps'][tweet] == 1:\n",
        "        feat_tweet.append('<all_caps>')\n",
        "    if df_feat_TE_test['ellipsis'][tweet] == 1:\n",
        "        feat_tweet.append('<ellipsis>')\n",
        "    if df_feat_TE_test['pol_change'][tweet] == 1:\n",
        "        feat_tweet.append('<pol_change>')\n",
        "    if df_feat_TE_test['laugh'][tweet] == 1:\n",
        "        feat_tweet.append('<laugh>')\n",
        "    if df_feat_TE_test['interjection'][tweet] == 1:\n",
        "        feat_tweet.append('<interjection>')\n",
        "    if df_feat_TE_test['exclamation'][tweet] == 1:\n",
        "        feat_tweet.append('<exclamation>')\n",
        "    if df_feat_TE_test['hard_exclamation'][tweet] == 1:\n",
        "        feat_tweet.append('<hard_exclamation>')\n",
        "    if df_feat_TE_test['interrogative'][tweet] == 1:\n",
        "        feat_tweet.append('<interrogative>')\n",
        "    if df_feat_TE_test['hard_interr'][tweet] == 1:\n",
        "        feat_tweet.append('<hard_interr>')\n",
        "    \n",
        "    [feat_tweet.append(i) for i in x_test_pos_TE[tweet]] #append every element of the inner list\n",
        "\n",
        "    feat_tweet_str = ' '.join(feat_tweet)\n",
        "    feat_tweets_test.append(feat_tweet_str)\n",
        "\n",
        "#change names <>?"
      ],
      "execution_count": null,
      "outputs": []
    },
    {
      "cell_type": "code",
      "metadata": {
        "colab": {
          "base_uri": "https://localhost:8080/"
        },
        "id": "foK1uJ3TmU1t",
        "outputId": "14da3445-4c41-4ec3-d5f2-df386ee0d18e"
      },
      "source": [
        "feat_tweets_test[:5]"
      ],
      "execution_count": null,
      "outputs": [
        {
          "output_type": "execute_result",
          "data": {
            "text/plain": [
              "['<pol_change> NN VBZ JJ NNS VBP JJ NNS RB VBP RB VB DT NN IN WDT PRP VBP PRP VB IN NN CC NNS PRP JJR',\n",
              " '<ellipsis> <interrogative> JJ NN IN NNS VBP PRP VBG IN NNS VBP NN NN IN DT JJ NN CC RB',\n",
              " 'PRP$ NN TO NN IN NN VBN RB IN NN NN RB CC NN IN PRP$ JJ NN IN PRP VBG NNS IN NN',\n",
              " '<exclamation> NN TO VB PRP VBP VBN TO VB PRP JJ NNS NNS',\n",
              " '<interrogative> WP VBZ PRP VB JJ']"
            ]
          },
          "metadata": {
            "tags": []
          },
          "execution_count": 237
        }
      ]
    },
    {
      "cell_type": "markdown",
      "metadata": {
        "id": "th3ry1ykmidB"
      },
      "source": [
        "###Model: roberta-base"
      ]
    },
    {
      "cell_type": "code",
      "metadata": {
        "colab": {
          "base_uri": "https://localhost:8080/",
          "height": 272
        },
        "id": "M00inrBI7wFQ",
        "outputId": "da863a05-49e8-4ca5-c0dd-c9d01da09d91"
      },
      "source": [
        "import ktrain\n",
        "from ktrain import text\n",
        "\n",
        "categories = ['anger', 'joy', 'optimism', 'sadness']\n",
        "\n",
        "MODEL_NAME = 'roberta-base'\n",
        "\n",
        "# Transormer is a wrapper to the Hugging Face transformers library for text classification.\n",
        "# maxlen=??\n",
        "t = text.Transformer(MODEL_NAME, maxlen=100, class_names=categories)\n",
        "\n",
        "# input data\n",
        "trn = t.preprocess_train(feat_tweets_train, new_y_train_TE)\n",
        "val = t.preprocess_test(feat_tweets_test, new_y_test_TE)\n",
        "\n",
        "model = t.get_classifier()\n",
        "learner = ktrain.get_learner(model, train_data=trn, val_data=val, batch_size=16)"
      ],
      "execution_count": null,
      "outputs": [
        {
          "output_type": "stream",
          "text": [
            "preprocessing train...\n",
            "language: de\n",
            "train sequence lengths:\n",
            "\tmean : 17\n",
            "\t95percentile : 28\n",
            "\t99percentile : 30\n"
          ],
          "name": "stdout"
        },
        {
          "output_type": "stream",
          "text": [
            "/usr/local/lib/python3.7/dist-packages/ktrain/utils.py:600: UserWarning: class_names argument was ignored, as they were extracted from string labels in dataset\n",
            "  if self.get_classes(): warnings.warn('class_names argument was ignored, as they were extracted from string labels in dataset')\n"
          ],
          "name": "stderr"
        },
        {
          "output_type": "display_data",
          "data": {
            "text/html": [
              ""
            ],
            "text/plain": [
              "<IPython.core.display.HTML object>"
            ]
          },
          "metadata": {
            "tags": []
          }
        },
        {
          "output_type": "stream",
          "text": [
            "Is Multi-Label? False\n",
            "preprocessing test...\n",
            "language: de\n",
            "test sequence lengths:\n",
            "\tmean : 16\n",
            "\t95percentile : 27\n",
            "\t99percentile : 30\n"
          ],
          "name": "stdout"
        },
        {
          "output_type": "display_data",
          "data": {
            "text/html": [
              ""
            ],
            "text/plain": [
              "<IPython.core.display.HTML object>"
            ]
          },
          "metadata": {
            "tags": []
          }
        }
      ]
    },
    {
      "cell_type": "markdown",
      "metadata": {
        "id": "ugo9iFmzesxj"
      },
      "source": [
        "###Train"
      ]
    },
    {
      "cell_type": "code",
      "metadata": {
        "id": "eXI9twirgYY_"
      },
      "source": [
        "# the maximal learning rate associated with a still falling loss is a good choice for training\n",
        "best_lr = 5e-5"
      ],
      "execution_count": null,
      "outputs": []
    },
    {
      "cell_type": "code",
      "metadata": {
        "colab": {
          "base_uri": "https://localhost:8080/"
        },
        "id": "v9cTJdxwKpol",
        "outputId": "7a798021-8b6d-4dd9-f5a9-bc033c17f53a"
      },
      "source": [
        "# Train\n",
        "# Parameters: LR, epochs\n",
        "\n",
        "# Learning policies: \n",
        "# triangular LR -> learner.autofit(0.0007, 8) (implicit ReduceLROnPlateau and EarlyStopping)\n",
        "# 1cycle -> learner.fit_onecycle(best_lr, 5)\n",
        "\n",
        "#learner.autofit(best_lr, 10, early_stopping=True)\n",
        "\n",
        "learner.autofit(lr=best_lr, checkpoint_folder='/my_models', verbose=1)"
      ],
      "execution_count": null,
      "outputs": [
        {
          "output_type": "stream",
          "text": [
            "early_stopping automatically enabled at patience=5\n",
            "reduce_on_plateau automatically enabled at patience=2\n",
            "\n",
            "\n",
            "begin training using triangular learning rate policy with max lr of 5e-05...\n",
            "Epoch 1/1024\n",
            "79/79 [==============================] - 39s 357ms/step - loss: 1.3958 - accuracy: 0.2576 - val_loss: 1.3864 - val_accuracy: 0.2500\n",
            "Epoch 2/1024\n",
            "79/79 [==============================] - 28s 354ms/step - loss: 1.3900 - accuracy: 0.2488 - val_loss: 1.3863 - val_accuracy: 0.2500\n",
            "Epoch 3/1024\n",
            "79/79 [==============================] - 29s 357ms/step - loss: 1.3881 - accuracy: 0.2544 - val_loss: 1.3879 - val_accuracy: 0.2500\n",
            "Epoch 4/1024\n",
            "79/79 [==============================] - 28s 353ms/step - loss: 1.3890 - accuracy: 0.2456 - val_loss: 1.3891 - val_accuracy: 0.2500\n",
            "\n",
            "Epoch 00004: Reducing Max LR on Plateau: new max lr will be 2.5e-05 (if not early_stopping).\n",
            "Epoch 5/1024\n",
            "79/79 [==============================] - 28s 354ms/step - loss: 1.3901 - accuracy: 0.2480 - val_loss: 1.3856 - val_accuracy: 0.2500\n",
            "Epoch 6/1024\n",
            "79/79 [==============================] - 28s 355ms/step - loss: 1.3890 - accuracy: 0.2496 - val_loss: 1.3867 - val_accuracy: 0.2708\n",
            "Epoch 7/1024\n",
            "79/79 [==============================] - 28s 354ms/step - loss: 1.3869 - accuracy: 0.2632 - val_loss: 1.3767 - val_accuracy: 0.3125\n",
            "Epoch 8/1024\n",
            "79/79 [==============================] - 28s 353ms/step - loss: 1.3800 - accuracy: 0.2488 - val_loss: 1.3861 - val_accuracy: 0.2479\n",
            "Epoch 9/1024\n",
            "79/79 [==============================] - 28s 355ms/step - loss: 1.3871 - accuracy: 0.2504 - val_loss: 1.3810 - val_accuracy: 0.2500\n",
            "\n",
            "Epoch 00009: Reducing Max LR on Plateau: new max lr will be 1.25e-05 (if not early_stopping).\n",
            "Epoch 10/1024\n",
            "79/79 [==============================] - 28s 354ms/step - loss: 1.3818 - accuracy: 0.2775 - val_loss: 1.3706 - val_accuracy: 0.2917\n",
            "Epoch 11/1024\n",
            "79/79 [==============================] - 28s 352ms/step - loss: 1.3762 - accuracy: 0.2775 - val_loss: 1.3652 - val_accuracy: 0.3250\n",
            "Epoch 12/1024\n",
            "79/79 [==============================] - 28s 354ms/step - loss: 1.3736 - accuracy: 0.2727 - val_loss: 1.3711 - val_accuracy: 0.2854\n",
            "Epoch 13/1024\n",
            "79/79 [==============================] - 28s 353ms/step - loss: 1.3681 - accuracy: 0.2767 - val_loss: 1.3778 - val_accuracy: 0.3021\n",
            "\n",
            "Epoch 00013: Reducing Max LR on Plateau: new max lr will be 6.25e-06 (if not early_stopping).\n",
            "Epoch 14/1024\n",
            "79/79 [==============================] - 28s 353ms/step - loss: 1.3608 - accuracy: 0.2759 - val_loss: 1.3659 - val_accuracy: 0.3417\n",
            "Epoch 15/1024\n",
            "79/79 [==============================] - 28s 354ms/step - loss: 1.3564 - accuracy: 0.3014 - val_loss: 1.3563 - val_accuracy: 0.3187\n",
            "Epoch 16/1024\n",
            "79/79 [==============================] - 28s 354ms/step - loss: 1.3498 - accuracy: 0.3086 - val_loss: 1.3701 - val_accuracy: 0.3458\n",
            "Epoch 17/1024\n",
            "79/79 [==============================] - 28s 354ms/step - loss: 1.3437 - accuracy: 0.3317 - val_loss: 1.3508 - val_accuracy: 0.3313\n",
            "Epoch 18/1024\n",
            "79/79 [==============================] - 28s 354ms/step - loss: 1.3375 - accuracy: 0.3429 - val_loss: 1.3534 - val_accuracy: 0.3354\n",
            "Epoch 19/1024\n",
            "79/79 [==============================] - 28s 352ms/step - loss: 1.3337 - accuracy: 0.3206 - val_loss: 1.3557 - val_accuracy: 0.3375\n",
            "\n",
            "Epoch 00019: Reducing Max LR on Plateau: new max lr will be 3.125e-06 (if not early_stopping).\n",
            "Epoch 20/1024\n",
            "79/79 [==============================] - 28s 355ms/step - loss: 1.3249 - accuracy: 0.3485 - val_loss: 1.3511 - val_accuracy: 0.3646\n",
            "Epoch 21/1024\n",
            "79/79 [==============================] - 28s 355ms/step - loss: 1.3160 - accuracy: 0.3493 - val_loss: 1.3570 - val_accuracy: 0.3500\n",
            "\n",
            "Epoch 00021: Reducing Max LR on Plateau: new max lr will be 1.5625e-06 (if not early_stopping).\n",
            "Epoch 22/1024\n",
            "79/79 [==============================] - 28s 353ms/step - loss: 1.3143 - accuracy: 0.3485 - val_loss: 1.3500 - val_accuracy: 0.3562\n",
            "Epoch 23/1024\n",
            "79/79 [==============================] - 28s 353ms/step - loss: 1.3135 - accuracy: 0.3644 - val_loss: 1.3460 - val_accuracy: 0.3583\n",
            "Epoch 24/1024\n",
            "79/79 [==============================] - 28s 354ms/step - loss: 1.3069 - accuracy: 0.3596 - val_loss: 1.3552 - val_accuracy: 0.3604\n",
            "Epoch 25/1024\n",
            "79/79 [==============================] - 28s 354ms/step - loss: 1.3000 - accuracy: 0.3581 - val_loss: 1.3656 - val_accuracy: 0.3562\n",
            "\n",
            "Epoch 00025: Reducing Max LR on Plateau: new max lr will be 7.8125e-07 (if not early_stopping).\n",
            "Epoch 26/1024\n",
            "79/79 [==============================] - 28s 353ms/step - loss: 1.2954 - accuracy: 0.3732 - val_loss: 1.3747 - val_accuracy: 0.3396\n",
            "Epoch 27/1024\n",
            "79/79 [==============================] - 28s 354ms/step - loss: 1.2910 - accuracy: 0.3700 - val_loss: 1.3735 - val_accuracy: 0.3458\n",
            "\n",
            "Epoch 00027: Reducing Max LR on Plateau: new max lr will be 3.90625e-07 (if not early_stopping).\n",
            "Epoch 28/1024\n",
            "79/79 [==============================] - 28s 354ms/step - loss: 1.2983 - accuracy: 0.3557 - val_loss: 1.3568 - val_accuracy: 0.3646\n",
            "Restoring model weights from the end of the best epoch.\n",
            "Epoch 00028: early stopping\n",
            "Weights from best epoch have been loaded into model.\n"
          ],
          "name": "stdout"
        },
        {
          "output_type": "execute_result",
          "data": {
            "text/plain": [
              "<tensorflow.python.keras.callbacks.History at 0x7fb1fddcdc90>"
            ]
          },
          "metadata": {
            "tags": []
          },
          "execution_count": 240
        }
      ]
    },
    {
      "cell_type": "markdown",
      "metadata": {
        "id": "9PUwKE0AexrR"
      },
      "source": [
        "###Evaluate/Inspect model"
      ]
    },
    {
      "cell_type": "code",
      "metadata": {
        "colab": {
          "base_uri": "https://localhost:8080/"
        },
        "id": "NFGGSCdmKqFm",
        "outputId": "fc5cf0a0-5db8-4218-d655-d2b144f79179"
      },
      "source": [
        "learner.validate(class_names=t.get_classes())"
      ],
      "execution_count": null,
      "outputs": [
        {
          "output_type": "stream",
          "text": [
            "              precision    recall  f1-score   support\n",
            "\n",
            "       anger       0.31      0.13      0.19       120\n",
            "         joy       0.40      0.52      0.45       120\n",
            "    optimism       0.35      0.76      0.48       120\n",
            "     sadness       0.23      0.03      0.05       120\n",
            "\n",
            "    accuracy                           0.36       480\n",
            "   macro avg       0.32      0.36      0.29       480\n",
            "weighted avg       0.32      0.36      0.29       480\n",
            "\n"
          ],
          "name": "stdout"
        },
        {
          "output_type": "execute_result",
          "data": {
            "text/plain": [
              "array([[16, 37, 64,  3],\n",
              "       [14, 62, 41,  3],\n",
              "       [10, 15, 91,  4],\n",
              "       [11, 41, 65,  3]])"
            ]
          },
          "metadata": {
            "tags": []
          },
          "execution_count": 241
        }
      ]
    }
  ]
}