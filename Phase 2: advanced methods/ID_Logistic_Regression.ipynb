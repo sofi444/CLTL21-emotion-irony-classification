{
  "nbformat": 4,
  "nbformat_minor": 0,
  "metadata": {
    "colab": {
      "name": "ID_Logistic_Regression.ipynb",
      "provenance": [],
      "collapsed_sections": [
        "cs4yYmEsE474"
      ]
    },
    "kernelspec": {
      "name": "python3",
      "display_name": "Python 3"
    },
    "language_info": {
      "name": "python"
    }
  },
  "cells": [
    {
      "cell_type": "markdown",
      "metadata": {
        "id": "gKh969m-tj9j"
      },
      "source": [
        "##This notebook:\n",
        "+ Logistic regression for irony detection\n",
        "+ Accuracy: 0.65"
      ]
    },
    {
      "cell_type": "markdown",
      "metadata": {
        "id": "cs4yYmEsE474"
      },
      "source": [
        "## Required imports"
      ]
    },
    {
      "cell_type": "code",
      "metadata": {
        "id": "KgdP3gIBT1fL"
      },
      "source": [
        "pip install contractions"
      ],
      "execution_count": null,
      "outputs": []
    },
    {
      "cell_type": "code",
      "metadata": {
        "id": "wAaVWevmTyHu"
      },
      "source": [
        "pip install emoji"
      ],
      "execution_count": null,
      "outputs": []
    },
    {
      "cell_type": "code",
      "metadata": {
        "id": "pjDHlQtgsTaW"
      },
      "source": [
        "# Imports:\n",
        "import pandas as pd\n",
        "import matplotlib.pyplot as plt\n",
        "import numpy as np\n",
        "\n",
        "from sklearn.feature_extraction.text import CountVectorizer\n",
        "from sklearn.model_selection import train_test_split\n",
        "from sklearn.linear_model import LogisticRegression\n",
        "from sklearn.metrics import confusion_matrix, classification_report\n",
        "from sklearn.preprocessing import LabelEncoder\n",
        "\n",
        "import emoji\n",
        "from nltk.tokenize import TweetTokenizer\n",
        "import re\n",
        "import contractions"
      ],
      "execution_count": null,
      "outputs": []
    },
    {
      "cell_type": "markdown",
      "metadata": {
        "id": "tvGm3nG3E9mc"
      },
      "source": [
        "##Load irony data"
      ]
    },
    {
      "cell_type": "code",
      "metadata": {
        "id": "zAcBtc5jrNjm"
      },
      "source": [
        "# Load train data\n",
        "train_path = '/content/drive/MyDrive/TeamLab/semeval_taskA.csv'\n",
        "\n",
        "df_train = pd.read_csv(train_path, sep='\\t', header=0, names=['index',\n",
        "                                                              'irony_label',\n",
        "                                                              'tweet'])\n",
        "                                                "
      ],
      "execution_count": null,
      "outputs": []
    },
    {
      "cell_type": "code",
      "metadata": {
        "colab": {
          "base_uri": "https://localhost:8080/",
          "height": 204
        },
        "id": "BZudUweLsJsA",
        "outputId": "fe03fa49-3135-4c58-bd3c-27c6e7809300"
      },
      "source": [
        "df_train.head()"
      ],
      "execution_count": null,
      "outputs": [
        {
          "output_type": "execute_result",
          "data": {
            "text/html": [
              "<div>\n",
              "<style scoped>\n",
              "    .dataframe tbody tr th:only-of-type {\n",
              "        vertical-align: middle;\n",
              "    }\n",
              "\n",
              "    .dataframe tbody tr th {\n",
              "        vertical-align: top;\n",
              "    }\n",
              "\n",
              "    .dataframe thead th {\n",
              "        text-align: right;\n",
              "    }\n",
              "</style>\n",
              "<table border=\"1\" class=\"dataframe\">\n",
              "  <thead>\n",
              "    <tr style=\"text-align: right;\">\n",
              "      <th></th>\n",
              "      <th>index</th>\n",
              "      <th>irony_label</th>\n",
              "      <th>tweet</th>\n",
              "    </tr>\n",
              "  </thead>\n",
              "  <tbody>\n",
              "    <tr>\n",
              "      <th>0</th>\n",
              "      <td>1</td>\n",
              "      <td>1</td>\n",
              "      <td>Sweet United Nations video. Just in time for C...</td>\n",
              "    </tr>\n",
              "    <tr>\n",
              "      <th>1</th>\n",
              "      <td>2</td>\n",
              "      <td>1</td>\n",
              "      <td>@mrdahl87 We are rumored to have talked to Erv...</td>\n",
              "    </tr>\n",
              "    <tr>\n",
              "      <th>2</th>\n",
              "      <td>3</td>\n",
              "      <td>1</td>\n",
              "      <td>Hey there! Nice to see you Minnesota/ND Winter...</td>\n",
              "    </tr>\n",
              "    <tr>\n",
              "      <th>3</th>\n",
              "      <td>4</td>\n",
              "      <td>0</td>\n",
              "      <td>3 episodes left I'm dying over here</td>\n",
              "    </tr>\n",
              "    <tr>\n",
              "      <th>4</th>\n",
              "      <td>5</td>\n",
              "      <td>1</td>\n",
              "      <td>I can't breathe! was chosen as the most notabl...</td>\n",
              "    </tr>\n",
              "  </tbody>\n",
              "</table>\n",
              "</div>"
            ],
            "text/plain": [
              "   index  irony_label                                              tweet\n",
              "0      1            1  Sweet United Nations video. Just in time for C...\n",
              "1      2            1  @mrdahl87 We are rumored to have talked to Erv...\n",
              "2      3            1  Hey there! Nice to see you Minnesota/ND Winter...\n",
              "3      4            0                3 episodes left I'm dying over here\n",
              "4      5            1  I can't breathe! was chosen as the most notabl..."
            ]
          },
          "metadata": {
            "tags": []
          },
          "execution_count": 11
        }
      ]
    },
    {
      "cell_type": "code",
      "metadata": {
        "colab": {
          "base_uri": "https://localhost:8080/"
        },
        "id": "Hhan_Km_scxz",
        "outputId": "6ff8d660-6790-407d-e0ee-ec6356fc4a1d"
      },
      "source": [
        "# Check if dataset is balanced\n",
        "\n",
        "# Classes are 1 and 0. Tweet can either be ironic or non-ironic -> binary classification\n",
        "classes = df_train.irony_label.unique()\n",
        "\n",
        "print((df_train.irony_label == 0).sum())\n",
        "print((df_train.irony_label == 1).sum())\n",
        "\n",
        "# => Balanced"
      ],
      "execution_count": null,
      "outputs": [
        {
          "output_type": "stream",
          "text": [
            "1916\n",
            "1901\n"
          ],
          "name": "stdout"
        }
      ]
    },
    {
      "cell_type": "code",
      "metadata": {
        "colab": {
          "base_uri": "https://localhost:8080/",
          "height": 238
        },
        "id": "uyP21KPctkwj",
        "outputId": "3e33db4d-ca4d-4d2b-a8ea-3753080c3486"
      },
      "source": [
        "# Load test data\n",
        "test_path = '/content/drive/MyDrive/TeamLab/semeval_taskA_test.csv'\n",
        "\n",
        "df_test = pd.read_csv(test_path, sep='\\t', header=0, names=['index',\n",
        "                                                            'irony_label',\n",
        "                                                            'tweet'])\n",
        "\n",
        "print((df_test.irony_label == 0).sum())\n",
        "print((df_test.irony_label == 1).sum())\n",
        "\n",
        "df_test.head()"
      ],
      "execution_count": null,
      "outputs": [
        {
          "output_type": "stream",
          "text": [
            "473\n",
            "311\n"
          ],
          "name": "stdout"
        },
        {
          "output_type": "execute_result",
          "data": {
            "text/html": [
              "<div>\n",
              "<style scoped>\n",
              "    .dataframe tbody tr th:only-of-type {\n",
              "        vertical-align: middle;\n",
              "    }\n",
              "\n",
              "    .dataframe tbody tr th {\n",
              "        vertical-align: top;\n",
              "    }\n",
              "\n",
              "    .dataframe thead th {\n",
              "        text-align: right;\n",
              "    }\n",
              "</style>\n",
              "<table border=\"1\" class=\"dataframe\">\n",
              "  <thead>\n",
              "    <tr style=\"text-align: right;\">\n",
              "      <th></th>\n",
              "      <th>index</th>\n",
              "      <th>irony_label</th>\n",
              "      <th>tweet</th>\n",
              "    </tr>\n",
              "  </thead>\n",
              "  <tbody>\n",
              "    <tr>\n",
              "      <th>0</th>\n",
              "      <td>1</td>\n",
              "      <td>0</td>\n",
              "      <td>@Callisto1947 Can U Help?||More conservatives ...</td>\n",
              "    </tr>\n",
              "    <tr>\n",
              "      <th>1</th>\n",
              "      <td>2</td>\n",
              "      <td>1</td>\n",
              "      <td>Just walked in to #Starbucks and asked for a \"...</td>\n",
              "    </tr>\n",
              "    <tr>\n",
              "      <th>2</th>\n",
              "      <td>3</td>\n",
              "      <td>0</td>\n",
              "      <td>#NOT GONNA WIN http://t.co/Mc9ebqjAqj</td>\n",
              "    </tr>\n",
              "    <tr>\n",
              "      <th>3</th>\n",
              "      <td>4</td>\n",
              "      <td>0</td>\n",
              "      <td>@mickymantell He is exactly that sort of perso...</td>\n",
              "    </tr>\n",
              "    <tr>\n",
              "      <th>4</th>\n",
              "      <td>5</td>\n",
              "      <td>1</td>\n",
              "      <td>So much #sarcasm at work mate 10/10 #boring 10...</td>\n",
              "    </tr>\n",
              "  </tbody>\n",
              "</table>\n",
              "</div>"
            ],
            "text/plain": [
              "   index  irony_label                                              tweet\n",
              "0      1            0  @Callisto1947 Can U Help?||More conservatives ...\n",
              "1      2            1  Just walked in to #Starbucks and asked for a \"...\n",
              "2      3            0              #NOT GONNA WIN http://t.co/Mc9ebqjAqj\n",
              "3      4            0  @mickymantell He is exactly that sort of perso...\n",
              "4      5            1  So much #sarcasm at work mate 10/10 #boring 10..."
            ]
          },
          "metadata": {
            "tags": []
          },
          "execution_count": 15
        }
      ]
    },
    {
      "cell_type": "code",
      "metadata": {
        "id": "9Yh7Hy-dT-Oy"
      },
      "source": [
        "# Normalisation function\n",
        "\n",
        "def normalise_tweet(tweet):\n",
        "    norm_tweet = re.sub(\"&\", \"and\", tweet)\n",
        "    norm_tweet = re.sub(r\"[<>]\", \"\", norm_tweet)\n",
        "    norm_tweet = re.sub(\"http:.*\", \"<url>\", norm_tweet)\n",
        "    norm_tweet = re.sub(\"\\.\\.+\", \" <ellipsis>\", norm_tweet)\n",
        "    norm_tweet = re.sub(\"\\?\\?\\?+\", \"<manyqm>\", norm_tweet)\n",
        "    norm_tweet = re.sub(\"\\?+\", \"<questm>\", norm_tweet)\n",
        "    norm_tweet = re.sub(\"!!!+\", \"<manyexm>\", norm_tweet)\n",
        "    norm_tweet = re.sub(\"!+\", \"<exclm>\", norm_tweet)\n",
        "    norm_tweet = re.sub(\"@\", \" @\", norm_tweet)\n",
        "    norm_tweet = re.sub(\"#\", \" \", norm_tweet)    \n",
        "    norm_tweet = re.sub(r\"[-()/_;:{}=~|.,\\[\\]]\", \"\", norm_tweet)\n",
        "\n",
        "    norm_tweet = emoji.demojize(norm_tweet)\n",
        "    norm_tweet = re.sub(\":(?=[\\w?])\", \"<\", norm_tweet)\n",
        "    norm_tweet = re.sub(\"(?<=[\\w?]):\", \">\", norm_tweet)\n",
        "\n",
        "    norm_tweet = contractions.fix(norm_tweet)\n",
        "    norm_tweet = re.sub(\"(?<=[A-Za-z?])'s\", \"<possessive>\", norm_tweet)\n",
        "\n",
        "    tokenizer = TweetTokenizer()\n",
        "    final_tweet = ''\n",
        "\n",
        "    for token in tokenizer.tokenize(norm_tweet):\n",
        "        if token.startswith(\"@\"):\n",
        "            token = \"<taggeduser>\"\n",
        "        if token.isnumeric():\n",
        "            token = \"<number>\"\n",
        "\n",
        "        # Lowercase everything, except if word is all caps\n",
        "        if token.isupper() and len(token) > 1:\n",
        "            token = token.lower() + \" <allcaps>\"\n",
        "        else:\n",
        "            token = token.lower()\n",
        "\n",
        "        final_tweet += token + \" \"\n",
        "        \n",
        "    return final_tweet.strip()"
      ],
      "execution_count": null,
      "outputs": []
    },
    {
      "cell_type": "code",
      "metadata": {
        "id": "ERcod8R_t1iG"
      },
      "source": [
        "x_train = df_train['tweet'].to_numpy()\n",
        "y_train = df_train['irony_label'].to_numpy()\n",
        "\n",
        "x_test = df_test['tweet'].to_numpy()\n",
        "y_test = df_test['irony_label'].to_numpy()"
      ],
      "execution_count": null,
      "outputs": []
    },
    {
      "cell_type": "code",
      "metadata": {
        "id": "AnE5AexuUUeg"
      },
      "source": [
        "x_train_norm = []\n",
        "for tweet in x_train :\n",
        "    x_train_norm.append(normalise_tweet(tweet))\n",
        "\n",
        "x_test_norm = []\n",
        "for tweet in x_test:\n",
        "    x_test_norm.append(normalise_tweet(tweet))\n",
        "\n",
        "x_train_norm = np.array(x_train_norm)\n",
        "x_test_norm = np.array(x_test_norm)"
      ],
      "execution_count": null,
      "outputs": []
    },
    {
      "cell_type": "code",
      "metadata": {
        "id": "cbIMf3K0P1Oo"
      },
      "source": [
        "# Vectorise\n",
        "\n",
        "vectorizer = CountVectorizer()\n",
        "vectorizer.fit(x_train_norm)\n",
        "\n",
        "# Vectorised dataset\n",
        "# index of word in training data instead of words\n",
        "X_train = vectorizer.transform(x_train_norm)\n",
        "X_test = vectorizer.transform(x_test_norm)"
      ],
      "execution_count": null,
      "outputs": []
    },
    {
      "cell_type": "code",
      "metadata": {
        "colab": {
          "base_uri": "https://localhost:8080/"
        },
        "id": "vAmyJMKFSL4P",
        "outputId": "220b9822-627a-45d9-a38f-a9719cd9b0d2"
      },
      "source": [
        "print(x_train_norm[0],'\\n', X_train[0])"
      ],
      "execution_count": null,
      "outputs": [
        {
          "output_type": "stream",
          "text": [
            "sweet united nations video just in time for christmas imagine noreligion <url> \n",
            "   (0, 1636)\t1\n",
            "  (0, 3303)\t1\n",
            "  (0, 4308)\t1\n",
            "  (0, 4345)\t1\n",
            "  (0, 4692)\t1\n",
            "  (0, 5766)\t1\n",
            "  (0, 5944)\t1\n",
            "  (0, 8389)\t1\n",
            "  (0, 8700)\t1\n",
            "  (0, 9046)\t1\n",
            "  (0, 9096)\t1\n",
            "  (0, 9178)\t1\n"
          ],
          "name": "stdout"
        }
      ]
    },
    {
      "cell_type": "markdown",
      "metadata": {
        "id": "rw7ihBgBFd9F"
      },
      "source": [
        "##ML model: logistic regression"
      ]
    },
    {
      "cell_type": "code",
      "metadata": {
        "colab": {
          "base_uri": "https://localhost:8080/"
        },
        "id": "H7iNp8C6R-m5",
        "outputId": "341591fc-a009-47ac-f4c6-c1347152a214"
      },
      "source": [
        "# Logistic regression model\n",
        "\n",
        "classifier = LogisticRegression(max_iter=1000)\n",
        "classifier.fit(X_train, y_train)\n",
        "\n",
        "score = classifier.score(X_test, y_test)\n",
        "\n",
        "print(\"Accuracy:\", score)"
      ],
      "execution_count": null,
      "outputs": [
        {
          "output_type": "stream",
          "text": [
            "Accuracy: 0.6505102040816326\n"
          ],
          "name": "stdout"
        }
      ]
    },
    {
      "cell_type": "code",
      "metadata": {
        "colab": {
          "base_uri": "https://localhost:8080/",
          "height": 111
        },
        "id": "QmSvtkkySfTC",
        "outputId": "711c8388-0c3d-46d0-9bdd-7393b4b72ac7"
      },
      "source": [
        "# Make predictions\n",
        "y_pred = classifier.predict(X_test)\n",
        "\n",
        "# Evaluate\n",
        "cm = confusion_matrix(y_test, y_pred, labels=classes)\n",
        "df_cm = pd.DataFrame(cm, index=classes, columns=classes)\n",
        "df_cm"
      ],
      "execution_count": null,
      "outputs": [
        {
          "output_type": "execute_result",
          "data": {
            "text/html": [
              "<div>\n",
              "<style scoped>\n",
              "    .dataframe tbody tr th:only-of-type {\n",
              "        vertical-align: middle;\n",
              "    }\n",
              "\n",
              "    .dataframe tbody tr th {\n",
              "        vertical-align: top;\n",
              "    }\n",
              "\n",
              "    .dataframe thead th {\n",
              "        text-align: right;\n",
              "    }\n",
              "</style>\n",
              "<table border=\"1\" class=\"dataframe\">\n",
              "  <thead>\n",
              "    <tr style=\"text-align: right;\">\n",
              "      <th></th>\n",
              "      <th>1</th>\n",
              "      <th>0</th>\n",
              "    </tr>\n",
              "  </thead>\n",
              "  <tbody>\n",
              "    <tr>\n",
              "      <th>1</th>\n",
              "      <td>182</td>\n",
              "      <td>129</td>\n",
              "    </tr>\n",
              "    <tr>\n",
              "      <th>0</th>\n",
              "      <td>145</td>\n",
              "      <td>328</td>\n",
              "    </tr>\n",
              "  </tbody>\n",
              "</table>\n",
              "</div>"
            ],
            "text/plain": [
              "     1    0\n",
              "1  182  129\n",
              "0  145  328"
            ]
          },
          "metadata": {
            "tags": []
          },
          "execution_count": 47
        }
      ]
    },
    {
      "cell_type": "code",
      "metadata": {
        "colab": {
          "base_uri": "https://localhost:8080/",
          "height": 111
        },
        "id": "0PdR5nJ1Squq",
        "outputId": "b2b13690-15a1-44c2-e311-03732bbd946a"
      },
      "source": [
        "# Same confusion matrix as above but with percentages\n",
        "\n",
        "df_cm_percentage = df_cm.copy()\n",
        "for i in df_cm_percentage:\n",
        "  df_cm_percentage[i]/=df_cm_percentage[i].sum()\n",
        "\n",
        "df_cm_percentage"
      ],
      "execution_count": null,
      "outputs": [
        {
          "output_type": "execute_result",
          "data": {
            "text/html": [
              "<div>\n",
              "<style scoped>\n",
              "    .dataframe tbody tr th:only-of-type {\n",
              "        vertical-align: middle;\n",
              "    }\n",
              "\n",
              "    .dataframe tbody tr th {\n",
              "        vertical-align: top;\n",
              "    }\n",
              "\n",
              "    .dataframe thead th {\n",
              "        text-align: right;\n",
              "    }\n",
              "</style>\n",
              "<table border=\"1\" class=\"dataframe\">\n",
              "  <thead>\n",
              "    <tr style=\"text-align: right;\">\n",
              "      <th></th>\n",
              "      <th>1</th>\n",
              "      <th>0</th>\n",
              "    </tr>\n",
              "  </thead>\n",
              "  <tbody>\n",
              "    <tr>\n",
              "      <th>1</th>\n",
              "      <td>0.556575</td>\n",
              "      <td>0.282276</td>\n",
              "    </tr>\n",
              "    <tr>\n",
              "      <th>0</th>\n",
              "      <td>0.443425</td>\n",
              "      <td>0.717724</td>\n",
              "    </tr>\n",
              "  </tbody>\n",
              "</table>\n",
              "</div>"
            ],
            "text/plain": [
              "          1         0\n",
              "1  0.556575  0.282276\n",
              "0  0.443425  0.717724"
            ]
          },
          "metadata": {
            "tags": []
          },
          "execution_count": 48
        }
      ]
    },
    {
      "cell_type": "code",
      "metadata": {
        "colab": {
          "base_uri": "https://localhost:8080/"
        },
        "id": "sQdSIhKyWETJ",
        "outputId": "509e96a8-bd5f-49a0-9b2f-ec53c7c69590"
      },
      "source": [
        "# Test model\n",
        "\n",
        "tweet = \"I just love it when it rains and I can't do anything!!\"\n",
        "vectTweet = vectorizer.transform(np.array([tweet]))  # vectorizes the tweet using our vectorizer\n",
        "\n",
        "prediction = classifier.predict(vectTweet)  # predicts class of the tweet\n",
        "print('Tweet is', 'ironic' if prediction[0]==1 else 'not ironic')"
      ],
      "execution_count": null,
      "outputs": [
        {
          "output_type": "stream",
          "text": [
            "Tweet is ironic\n"
          ],
          "name": "stdout"
        }
      ]
    }
  ]
}