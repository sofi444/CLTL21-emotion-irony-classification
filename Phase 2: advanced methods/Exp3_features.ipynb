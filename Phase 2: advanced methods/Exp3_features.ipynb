{
  "nbformat": 4,
  "nbformat_minor": 0,
  "metadata": {
    "colab": {
      "name": "Exp3-features.ipynb",
      "provenance": [],
      "collapsed_sections": [],
      "toc_visible": true
    },
    "kernelspec": {
      "name": "python3",
      "display_name": "Python 3"
    },
    "language_info": {
      "name": "python"
    },
    "accelerator": "GPU"
  },
  "cells": [
    {
      "cell_type": "markdown",
      "metadata": {
        "id": "1BDDyzm1GMxi"
      },
      "source": [
        "###This notebook:\n",
        "+ feature analysis"
      ]
    },
    {
      "cell_type": "markdown",
      "metadata": {
        "id": "bVjTn_mh4JkO"
      },
      "source": [
        "###Check requirements"
      ]
    },
    {
      "cell_type": "code",
      "metadata": {
        "id": "S_vo0qFzXCUv"
      },
      "source": [
        "! python --version"
      ],
      "execution_count": null,
      "outputs": []
    },
    {
      "cell_type": "code",
      "metadata": {
        "id": "6yYx-C3VYHQX"
      },
      "source": [
        "!pip install --upgrade pip"
      ],
      "execution_count": null,
      "outputs": []
    },
    {
      "cell_type": "code",
      "metadata": {
        "id": "M7HgCwR2Xbh6"
      },
      "source": [
        "!pip install tensorflow_hub\n",
        "!pip install keras tf-models-official pydot graphviz"
      ],
      "execution_count": null,
      "outputs": []
    },
    {
      "cell_type": "code",
      "metadata": {
        "id": "KgdP3gIBT1fL"
      },
      "source": [
        "pip install contractions"
      ],
      "execution_count": null,
      "outputs": []
    },
    {
      "cell_type": "code",
      "metadata": {
        "id": "aHflf8XJgTNw"
      },
      "source": [
        "pip install emojis"
      ],
      "execution_count": null,
      "outputs": []
    },
    {
      "cell_type": "code",
      "metadata": {
        "id": "8md4sGxUtsqr"
      },
      "source": [
        "import nltk\n",
        "nltk.download('punkt')"
      ],
      "execution_count": null,
      "outputs": []
    },
    {
      "cell_type": "code",
      "metadata": {
        "id": "HvGv0jONLSMZ"
      },
      "source": [
        "nltk.download('averaged_perceptron_tagger')"
      ],
      "execution_count": null,
      "outputs": []
    },
    {
      "cell_type": "code",
      "metadata": {
        "colab": {
          "base_uri": "https://localhost:8080/"
        },
        "id": "cR9P3wLsXeVh",
        "outputId": "23969722-fa1f-46a2-fda8-7b424db361b5"
      },
      "source": [
        "import os\n",
        "\n",
        "import numpy as np\n",
        "import pandas as pd\n",
        "\n",
        "import tensorflow as tf\n",
        "import tensorflow_hub as hub\n",
        "\n",
        "from keras.utils import np_utils\n",
        "\n",
        "import official.nlp.bert.bert_models\n",
        "import official.nlp.bert.configs\n",
        "import official.nlp.bert.run_classifier\n",
        "import official.nlp.bert.tokenization as tokenization\n",
        "\n",
        "from official.modeling import tf_utils\n",
        "from official import nlp\n",
        "from official.nlp import bert\n",
        "\n",
        "from sklearn.model_selection import train_test_split\n",
        "from sklearn.preprocessing import LabelEncoder\n",
        "\n",
        "import matplotlib.pyplot as plt\n",
        "\n",
        "gpus = tf.config.experimental.list_physical_devices('GPU')\n",
        "if gpus:\n",
        "  try:\n",
        "    # Currently, memory growth needs to be the same across GPUs\n",
        "    for gpu in gpus:\n",
        "      tf.config.experimental.set_memory_growth(gpu, True)\n",
        "    logical_gpus = tf.config.experimental.list_logical_devices('GPU')\n",
        "    print(len(gpus), \"Physical GPUs,\", len(logical_gpus), \"Logical GPUs\")\n",
        "  except RuntimeError as e:\n",
        "    # Memory growth must be set before GPUs have been initialized\n",
        "    print(e)\n",
        "\n",
        "print(\"Version: \", tf.__version__)\n",
        "print(\"Eager mode: \", tf.executing_eagerly())\n",
        "print(\"Hub version: \", hub.__version__)\n",
        "print(\"GPU is\", \"available\" if tf.config.list_physical_devices('GPU') else \"NOT AVAILABLE\")"
      ],
      "execution_count": null,
      "outputs": [
        {
          "output_type": "stream",
          "text": [
            "1 Physical GPUs, 1 Logical GPUs\n",
            "Version:  2.5.0\n",
            "Eager mode:  True\n",
            "Hub version:  0.12.0\n",
            "GPU is available\n"
          ],
          "name": "stdout"
        }
      ]
    },
    {
      "cell_type": "markdown",
      "metadata": {
        "id": "Z2FrTUnKQcN1"
      },
      "source": [
        "Correlation matrix\n",
        "\n",
        "\n",
        "+ -1 indicates a perfectly negative linear correlation between two variables\n",
        "+ 0 indicates no linear correlation between two variables\n",
        "+ 1 indicates a perfectly positive linear correlation between two variables"
      ]
    },
    {
      "cell_type": "markdown",
      "metadata": {
        "id": "Ex6H4bqQ4UUh"
      },
      "source": [
        "###Load data"
      ]
    },
    {
      "cell_type": "code",
      "metadata": {
        "id": "zAcBtc5jrNjm"
      },
      "source": [
        "# Load train data\n",
        "train_path = '/content/drive/MyDrive/TeamLab/data/semeval_taskA_corrected.csv'\n",
        "\n",
        "df_train = pd.read_csv(train_path, header=0, names=['index',\n",
        "                                                    'irony_label',\n",
        "                                                    'tweet'])\n",
        "                                                "
      ],
      "execution_count": null,
      "outputs": []
    },
    {
      "cell_type": "code",
      "metadata": {
        "colab": {
          "base_uri": "https://localhost:8080/",
          "height": 204
        },
        "id": "BZudUweLsJsA",
        "outputId": "1b4dc734-cdf7-44cc-d4eb-82c221bccf4f"
      },
      "source": [
        "df_train.head()"
      ],
      "execution_count": null,
      "outputs": [
        {
          "output_type": "execute_result",
          "data": {
            "text/html": [
              "<div>\n",
              "<style scoped>\n",
              "    .dataframe tbody tr th:only-of-type {\n",
              "        vertical-align: middle;\n",
              "    }\n",
              "\n",
              "    .dataframe tbody tr th {\n",
              "        vertical-align: top;\n",
              "    }\n",
              "\n",
              "    .dataframe thead th {\n",
              "        text-align: right;\n",
              "    }\n",
              "</style>\n",
              "<table border=\"1\" class=\"dataframe\">\n",
              "  <thead>\n",
              "    <tr style=\"text-align: right;\">\n",
              "      <th></th>\n",
              "      <th>index</th>\n",
              "      <th>irony_label</th>\n",
              "      <th>tweet</th>\n",
              "    </tr>\n",
              "  </thead>\n",
              "  <tbody>\n",
              "    <tr>\n",
              "      <th>0</th>\n",
              "      <td>1</td>\n",
              "      <td>1</td>\n",
              "      <td>Sweet United Nations video. Just in time for C...</td>\n",
              "    </tr>\n",
              "    <tr>\n",
              "      <th>1</th>\n",
              "      <td>2</td>\n",
              "      <td>1</td>\n",
              "      <td>@mrdahl87 We are rumored to have talked to Erv...</td>\n",
              "    </tr>\n",
              "    <tr>\n",
              "      <th>2</th>\n",
              "      <td>3</td>\n",
              "      <td>1</td>\n",
              "      <td>Hey there! Nice to see you Minnesota/ND Winter...</td>\n",
              "    </tr>\n",
              "    <tr>\n",
              "      <th>3</th>\n",
              "      <td>4</td>\n",
              "      <td>0</td>\n",
              "      <td>3 episodes left I'm dying over here</td>\n",
              "    </tr>\n",
              "    <tr>\n",
              "      <th>4</th>\n",
              "      <td>5</td>\n",
              "      <td>1</td>\n",
              "      <td>I can't breathe! was chosen as the most notabl...</td>\n",
              "    </tr>\n",
              "  </tbody>\n",
              "</table>\n",
              "</div>"
            ],
            "text/plain": [
              "   index  irony_label                                              tweet\n",
              "0      1            1  Sweet United Nations video. Just in time for C...\n",
              "1      2            1  @mrdahl87 We are rumored to have talked to Erv...\n",
              "2      3            1  Hey there! Nice to see you Minnesota/ND Winter...\n",
              "3      4            0                3 episodes left I'm dying over here\n",
              "4      5            1  I can't breathe! was chosen as the most notabl..."
            ]
          },
          "metadata": {
            "tags": []
          },
          "execution_count": 10
        }
      ]
    },
    {
      "cell_type": "code",
      "metadata": {
        "colab": {
          "base_uri": "https://localhost:8080/"
        },
        "id": "Hhan_Km_scxz",
        "outputId": "ded9f25f-f301-4a49-cbc9-4ab4d6b466fe"
      },
      "source": [
        "# Check if dataset is balanced\n",
        "\n",
        "# Classes are 1 and 0. Tweet can either be ironic or non-ironic -> binary classification\n",
        "classes = df_train.irony_label.unique()\n",
        "\n",
        "print((df_train.irony_label == 0).sum())\n",
        "print((df_train.irony_label == 1).sum())\n",
        "\n",
        "# => Balanced"
      ],
      "execution_count": null,
      "outputs": [
        {
          "output_type": "stream",
          "text": [
            "1923\n",
            "1911\n"
          ],
          "name": "stdout"
        }
      ]
    },
    {
      "cell_type": "code",
      "metadata": {
        "colab": {
          "base_uri": "https://localhost:8080/",
          "height": 238
        },
        "id": "uyP21KPctkwj",
        "outputId": "0ab34580-4cc4-4c0f-bbc2-496ca0d79620"
      },
      "source": [
        "# Load test data\n",
        "test_path = '/content/drive/MyDrive/TeamLab/data/semeval_taskA_test.csv'\n",
        "\n",
        "df_test = pd.read_csv(test_path, sep='\\t', header=0, names=['index',\n",
        "                                                            'irony_label',\n",
        "                                                            'tweet'])\n",
        "\n",
        "print((df_test.irony_label == 0).sum())\n",
        "print((df_test.irony_label == 1).sum())\n",
        "\n",
        "df_test.head()"
      ],
      "execution_count": null,
      "outputs": [
        {
          "output_type": "stream",
          "text": [
            "473\n",
            "311\n"
          ],
          "name": "stdout"
        },
        {
          "output_type": "execute_result",
          "data": {
            "text/html": [
              "<div>\n",
              "<style scoped>\n",
              "    .dataframe tbody tr th:only-of-type {\n",
              "        vertical-align: middle;\n",
              "    }\n",
              "\n",
              "    .dataframe tbody tr th {\n",
              "        vertical-align: top;\n",
              "    }\n",
              "\n",
              "    .dataframe thead th {\n",
              "        text-align: right;\n",
              "    }\n",
              "</style>\n",
              "<table border=\"1\" class=\"dataframe\">\n",
              "  <thead>\n",
              "    <tr style=\"text-align: right;\">\n",
              "      <th></th>\n",
              "      <th>index</th>\n",
              "      <th>irony_label</th>\n",
              "      <th>tweet</th>\n",
              "    </tr>\n",
              "  </thead>\n",
              "  <tbody>\n",
              "    <tr>\n",
              "      <th>0</th>\n",
              "      <td>1</td>\n",
              "      <td>0</td>\n",
              "      <td>@Callisto1947 Can U Help?||More conservatives ...</td>\n",
              "    </tr>\n",
              "    <tr>\n",
              "      <th>1</th>\n",
              "      <td>2</td>\n",
              "      <td>1</td>\n",
              "      <td>Just walked in to #Starbucks and asked for a \"...</td>\n",
              "    </tr>\n",
              "    <tr>\n",
              "      <th>2</th>\n",
              "      <td>3</td>\n",
              "      <td>0</td>\n",
              "      <td>#NOT GONNA WIN http://t.co/Mc9ebqjAqj</td>\n",
              "    </tr>\n",
              "    <tr>\n",
              "      <th>3</th>\n",
              "      <td>4</td>\n",
              "      <td>0</td>\n",
              "      <td>@mickymantell He is exactly that sort of perso...</td>\n",
              "    </tr>\n",
              "    <tr>\n",
              "      <th>4</th>\n",
              "      <td>5</td>\n",
              "      <td>1</td>\n",
              "      <td>So much #sarcasm at work mate 10/10 #boring 10...</td>\n",
              "    </tr>\n",
              "  </tbody>\n",
              "</table>\n",
              "</div>"
            ],
            "text/plain": [
              "   index  irony_label                                              tweet\n",
              "0      1            0  @Callisto1947 Can U Help?||More conservatives ...\n",
              "1      2            1  Just walked in to #Starbucks and asked for a \"...\n",
              "2      3            0              #NOT GONNA WIN http://t.co/Mc9ebqjAqj\n",
              "3      4            0  @mickymantell He is exactly that sort of perso...\n",
              "4      5            1  So much #sarcasm at work mate 10/10 #boring 10..."
            ]
          },
          "metadata": {
            "tags": []
          },
          "execution_count": 12
        }
      ]
    },
    {
      "cell_type": "code",
      "metadata": {
        "id": "ERcod8R_t1iG"
      },
      "source": [
        "x_train = df_train['tweet'].to_numpy()\n",
        "y_train = df_train['irony_label'].to_numpy()\n",
        "\n",
        "x_test = df_test['tweet'].to_numpy()\n",
        "y_test = df_test['irony_label'].to_numpy()"
      ],
      "execution_count": null,
      "outputs": []
    },
    {
      "cell_type": "code",
      "metadata": {
        "colab": {
          "base_uri": "https://localhost:8080/"
        },
        "id": "7iDUoHvZClw6",
        "outputId": "c3f099bf-44aa-4c4e-e138-2809c479efa8"
      },
      "source": [
        "x_train"
      ],
      "execution_count": null,
      "outputs": [
        {
          "output_type": "execute_result",
          "data": {
            "text/plain": [
              "array(['Sweet United Nations video. Just in time for Christmas. #imagine #NoReligion  http://t.co/fej2v3OUBR',\n",
              "       \"@mrdahl87 We are rumored to have talked to Erv's agent... and the Angels asked about Ed Escobar... that's hardly nothing    ;)\",\n",
              "       'Hey there! Nice to see you Minnesota/ND Winter Weather', ...,\n",
              "       \"well now that i've listened to all of into the woods, i'm going to listen to some FOB #nosurprisethere\",\n",
              "       'Hummingbirds #Are  #Experts #at #Hovering #After #All: #Background #Motion ...: If the hovering ability of the... http://t.co/E189iHBpZr',\n",
              "       'Only thing missing now is a session at the gym... Want to do every body part though and CV!  #possible'],\n",
              "      dtype=object)"
            ]
          },
          "metadata": {
            "tags": []
          },
          "execution_count": 14
        }
      ]
    },
    {
      "cell_type": "markdown",
      "metadata": {
        "id": "a0EN3dapM7ZF"
      },
      "source": [
        "###Normalisation functions"
      ]
    },
    {
      "cell_type": "code",
      "metadata": {
        "id": "60pw8bnHHU3a"
      },
      "source": [
        "import emojis\n",
        "import contractions\n",
        "import re\n",
        "\n",
        "def normalise_for_allcaps(tweet):\n",
        "\n",
        "    norm_tweet = re.sub(\"http:.*\", \"\", tweet)\n",
        "    norm_tweet = re.sub(\"@[a-zA-Z0-9]+\", \"\", norm_tweet)\n",
        "    norm_tweet = re.sub(r\"[#@!()/_;:{}=~|,\\-\\.\\?\\[\\]]\", \"\", norm_tweet)\n",
        "    norm_tweet = re.sub(\"'s\", \"\", norm_tweet)\n",
        "\n",
        "    norm_tweet = emojis.decode(norm_tweet)\n",
        "    norm_tweet = re.sub(\":\\s?\\w{3,}\\s?:\", \"\", norm_tweet)\n",
        "    norm_tweet = re.sub(\"\\d+\", \"\", norm_tweet)\n",
        "    norm_tweet = contractions.fix(norm_tweet)\n",
        "        \n",
        "    return norm_tweet.strip()\n",
        "\n",
        "\n",
        "def normalise_for_pol(tweet):\n",
        "\n",
        "    norm_tweet = re.sub(\"http:.*\", \"\", tweet) \n",
        "    norm_tweet = re.sub(\"'s\", \"\", norm_tweet)\n",
        "    norm_tweet = re.sub(\"@[a-zA-Z0-9]+\", \"\", norm_tweet)\n",
        "\n",
        "    norm_tweet = emojis.decode(norm_tweet)\n",
        "    norm_tweet = re.sub(r\"[#@!()/_;:{}=~|,\\-\\.\\?\\[\\]]\", \"\", norm_tweet)\n",
        "    norm_tweet = re.sub(\"\\d+\", \"\", norm_tweet)\n",
        "        \n",
        "    return norm_tweet.strip()\n",
        "\n",
        "def normalise_for_pos(tweet):\n",
        "\n",
        "    norm_tweet = re.sub(\"http:.*\", \"\", tweet)\n",
        "    norm_tweet = re.sub(\"@[a-zA-Z0-9]+\", \"\", norm_tweet)\n",
        "    norm_tweet = re.sub(r\"[#@!()/_;:{}=~|,\\-\\.\\?\\[\\]]\", \"\", norm_tweet)\n",
        "    norm_tweet = re.sub(\"'s\", \"\", norm_tweet)\n",
        "\n",
        "    norm_tweet = emojis.decode(norm_tweet)\n",
        "    norm_tweet = re.sub(\":\\s?\\w{3,}\\s?:\", \"\", norm_tweet)\n",
        "    norm_tweet = re.sub(\"\\d+\", \"\", norm_tweet)\n",
        "    norm_tweet = contractions.fix(norm_tweet)\n",
        "    norm_tweet = norm_tweet.lower()\n",
        "\n",
        "    return norm_tweet.strip()\n",
        "\n",
        "def normalise_for_punct(tweet):\n",
        "\n",
        "    norm_tweet = re.sub(\"http:.*\", \"\", tweet)\n",
        "    norm_tweet = re.sub(\"@[a-zA-Z0-9]+\", \"\", norm_tweet)\n",
        "    norm_tweet = re.sub(r\"[#@()/_;:{}=~|,\\-\\.\\[\\]]\", \"\", norm_tweet)\n",
        "    norm_tweet = re.sub(\"'s\", \"\", norm_tweet)\n",
        "\n",
        "    norm_tweet = emojis.decode(norm_tweet)\n",
        "    norm_tweet = re.sub(\":\\s?\\w{3,}\\s?:\", \"\", norm_tweet)\n",
        "    norm_tweet = re.sub(\"\\d+\", \"\", norm_tweet)\n",
        "    norm_tweet = contractions.fix(norm_tweet)\n",
        "    norm_tweet = norm_tweet.lower()\n",
        "\n",
        "    return norm_tweet.strip()\n"
      ],
      "execution_count": null,
      "outputs": []
    },
    {
      "cell_type": "markdown",
      "metadata": {
        "id": "-aquEncVsTYe"
      },
      "source": [
        "##Statistics"
      ]
    },
    {
      "cell_type": "markdown",
      "metadata": {
        "id": "u5hksLiI5opP"
      },
      "source": [
        "###All caps"
      ]
    },
    {
      "cell_type": "code",
      "metadata": {
        "id": "aN04CZQhH6yN"
      },
      "source": [
        "# create new x_train with normalised tweets\n",
        "x_train_mod1 = []\n",
        "for tweet in x_train:\n",
        "    x_train_mod1.append(normalise_for_allcaps(tweet))"
      ],
      "execution_count": null,
      "outputs": []
    },
    {
      "cell_type": "code",
      "metadata": {
        "id": "fi0fvkEMGqz0"
      },
      "source": [
        "# Takes a dataset as input and returns a list of 1s and 0s,\n",
        "# indicating which index correspond to a tweet that contains the feature\n",
        "def get_all_caps(dataset):\n",
        "    all_caps = []\n",
        "\n",
        "    for tweet in dataset:\n",
        "        upper_w = 0\n",
        "        n_words = len(tweet.split())\n",
        "        for word in tweet.split():\n",
        "            if word == 'I':\n",
        "                n_words +- 1\n",
        "            if word != 'I' and word.isupper():\n",
        "                upper_w += 1\n",
        "\n",
        "        if upper_w >= round(n_words*80/100):\n",
        "            all_caps.append(1)\n",
        "        else:\n",
        "            all_caps.append(0)\n",
        "            \n",
        "    return all_caps"
      ],
      "execution_count": null,
      "outputs": []
    },
    {
      "cell_type": "code",
      "metadata": {
        "colab": {
          "base_uri": "https://localhost:8080/"
        },
        "id": "AsBJWP7ZHZO4",
        "outputId": "a059f3c2-dadd-438a-9e93-d3a926529ac7"
      },
      "source": [
        "all_caps = get_all_caps(x_train_mod1)\n",
        "\n",
        "# Number of tweets with feature all_caps\n",
        "all_caps.count(1)"
      ],
      "execution_count": null,
      "outputs": [
        {
          "output_type": "execute_result",
          "data": {
            "text/plain": [
              "52"
            ]
          },
          "metadata": {
            "tags": []
          },
          "execution_count": 18
        }
      ]
    },
    {
      "cell_type": "code",
      "metadata": {
        "colab": {
          "base_uri": "https://localhost:8080/"
        },
        "id": "3_oTxPoJ89MM",
        "outputId": "6ed4cc79-e01c-4236-d997-828bca07142b"
      },
      "source": [
        "len(all_caps) == len(y_train)"
      ],
      "execution_count": null,
      "outputs": [
        {
          "output_type": "execute_result",
          "data": {
            "text/plain": [
              "True"
            ]
          },
          "metadata": {
            "tags": []
          },
          "execution_count": 19
        }
      ]
    },
    {
      "cell_type": "code",
      "metadata": {
        "colab": {
          "base_uri": "https://localhost:8080/",
          "height": 204
        },
        "id": "03hImHcxONwq",
        "outputId": "49bcf450-826c-48e1-adc6-a27488c41b89"
      },
      "source": [
        "# create new feature dataset\n",
        "df_feat = df_train.copy()\n",
        "\n",
        "# add column to feature dataset\n",
        "df_feat['all_caps'] = all_caps\n",
        "df_feat.head()"
      ],
      "execution_count": null,
      "outputs": [
        {
          "output_type": "execute_result",
          "data": {
            "text/html": [
              "<div>\n",
              "<style scoped>\n",
              "    .dataframe tbody tr th:only-of-type {\n",
              "        vertical-align: middle;\n",
              "    }\n",
              "\n",
              "    .dataframe tbody tr th {\n",
              "        vertical-align: top;\n",
              "    }\n",
              "\n",
              "    .dataframe thead th {\n",
              "        text-align: right;\n",
              "    }\n",
              "</style>\n",
              "<table border=\"1\" class=\"dataframe\">\n",
              "  <thead>\n",
              "    <tr style=\"text-align: right;\">\n",
              "      <th></th>\n",
              "      <th>index</th>\n",
              "      <th>irony_label</th>\n",
              "      <th>tweet</th>\n",
              "      <th>all_caps</th>\n",
              "    </tr>\n",
              "  </thead>\n",
              "  <tbody>\n",
              "    <tr>\n",
              "      <th>0</th>\n",
              "      <td>1</td>\n",
              "      <td>1</td>\n",
              "      <td>Sweet United Nations video. Just in time for C...</td>\n",
              "      <td>0</td>\n",
              "    </tr>\n",
              "    <tr>\n",
              "      <th>1</th>\n",
              "      <td>2</td>\n",
              "      <td>1</td>\n",
              "      <td>@mrdahl87 We are rumored to have talked to Erv...</td>\n",
              "      <td>0</td>\n",
              "    </tr>\n",
              "    <tr>\n",
              "      <th>2</th>\n",
              "      <td>3</td>\n",
              "      <td>1</td>\n",
              "      <td>Hey there! Nice to see you Minnesota/ND Winter...</td>\n",
              "      <td>0</td>\n",
              "    </tr>\n",
              "    <tr>\n",
              "      <th>3</th>\n",
              "      <td>4</td>\n",
              "      <td>0</td>\n",
              "      <td>3 episodes left I'm dying over here</td>\n",
              "      <td>0</td>\n",
              "    </tr>\n",
              "    <tr>\n",
              "      <th>4</th>\n",
              "      <td>5</td>\n",
              "      <td>1</td>\n",
              "      <td>I can't breathe! was chosen as the most notabl...</td>\n",
              "      <td>0</td>\n",
              "    </tr>\n",
              "  </tbody>\n",
              "</table>\n",
              "</div>"
            ],
            "text/plain": [
              "   index  ...  all_caps\n",
              "0      1  ...         0\n",
              "1      2  ...         0\n",
              "2      3  ...         0\n",
              "3      4  ...         0\n",
              "4      5  ...         0\n",
              "\n",
              "[5 rows x 4 columns]"
            ]
          },
          "metadata": {
            "tags": []
          },
          "execution_count": 20
        }
      ]
    },
    {
      "cell_type": "code",
      "metadata": {
        "colab": {
          "base_uri": "https://localhost:8080/",
          "height": 111
        },
        "id": "9rvPck9BNY5y",
        "outputId": "6b7b6f22-3345-470b-adf3-ee8a532cde8d"
      },
      "source": [
        "# calculate correlation between the irony labels and the feature\n",
        "# -1 indicates a perfectly negative linear correlation between two variables\n",
        "# 0 indicates no linear correlation between two variables\n",
        "# 1 indicates a perfectly positive linear correlation between two variables\n",
        "\n",
        "df_feat[['irony_label', 'all_caps']].corr()"
      ],
      "execution_count": null,
      "outputs": [
        {
          "output_type": "execute_result",
          "data": {
            "text/html": [
              "<div>\n",
              "<style scoped>\n",
              "    .dataframe tbody tr th:only-of-type {\n",
              "        vertical-align: middle;\n",
              "    }\n",
              "\n",
              "    .dataframe tbody tr th {\n",
              "        vertical-align: top;\n",
              "    }\n",
              "\n",
              "    .dataframe thead th {\n",
              "        text-align: right;\n",
              "    }\n",
              "</style>\n",
              "<table border=\"1\" class=\"dataframe\">\n",
              "  <thead>\n",
              "    <tr style=\"text-align: right;\">\n",
              "      <th></th>\n",
              "      <th>irony_label</th>\n",
              "      <th>all_caps</th>\n",
              "    </tr>\n",
              "  </thead>\n",
              "  <tbody>\n",
              "    <tr>\n",
              "      <th>irony_label</th>\n",
              "      <td>1.000000</td>\n",
              "      <td>-0.062772</td>\n",
              "    </tr>\n",
              "    <tr>\n",
              "      <th>all_caps</th>\n",
              "      <td>-0.062772</td>\n",
              "      <td>1.000000</td>\n",
              "    </tr>\n",
              "  </tbody>\n",
              "</table>\n",
              "</div>"
            ],
            "text/plain": [
              "             irony_label  all_caps\n",
              "irony_label     1.000000 -0.062772\n",
              "all_caps       -0.062772  1.000000"
            ]
          },
          "metadata": {
            "tags": []
          },
          "execution_count": 21
        }
      ]
    },
    {
      "cell_type": "code",
      "metadata": {
        "colab": {
          "base_uri": "https://localhost:8080/"
        },
        "id": "YYAzSSi3QsUb",
        "outputId": "461a9dad-37e4-4a15-bdb1-ee47a4839c81"
      },
      "source": [
        "# list of 1s and 0s\n",
        "# irony labels of the tweets that DO contain the feature\n",
        "corr_list_allcaps = []\n",
        "for i in range(len(y_train)):\n",
        "    if all_caps[i] == 1:\n",
        "        corr_list_allcaps.append(y_train[i])\n",
        "\n",
        "print(corr_list_allcaps.count(0))\n",
        "print(corr_list_allcaps.count(1))"
      ],
      "execution_count": null,
      "outputs": [
        {
          "output_type": "stream",
          "text": [
            "40\n",
            "12\n"
          ],
          "name": "stdout"
        }
      ]
    },
    {
      "cell_type": "code",
      "metadata": {
        "colab": {
          "base_uri": "https://localhost:8080/"
        },
        "id": "NPWDENYqCd0_",
        "outputId": "517d1198-33c4-435c-aebf-15df23ef6dcd"
      },
      "source": [
        "p_ironic_all_caps = round(corr_list_allcaps.count(1)*100/(corr_list_allcaps.count(0)+corr_list_allcaps.count(1)),2)\n",
        "\n",
        "print(\"Out of the tweets that contain the feature <all_caps>,\", p_ironic_all_caps, \"% are ironic\")"
      ],
      "execution_count": null,
      "outputs": [
        {
          "output_type": "stream",
          "text": [
            "Out of the tweets that contain the feature <all_caps>, 23.08 % are ironic\n"
          ],
          "name": "stdout"
        }
      ]
    },
    {
      "cell_type": "code",
      "metadata": {
        "colab": {
          "base_uri": "https://localhost:8080/",
          "height": 421
        },
        "id": "G6M0o95k9QeX",
        "outputId": "87f92194-45d6-449a-fe5b-9023a1edfc29"
      },
      "source": [
        "# Tweets where both irony label and feature are 1\n",
        "# (ironic tweets that contain feature)\n",
        "df_feat.loc[(df_feat['all_caps'] == 1) & (df_feat['irony_label'] == 1)]"
      ],
      "execution_count": null,
      "outputs": [
        {
          "output_type": "execute_result",
          "data": {
            "text/html": [
              "<div>\n",
              "<style scoped>\n",
              "    .dataframe tbody tr th:only-of-type {\n",
              "        vertical-align: middle;\n",
              "    }\n",
              "\n",
              "    .dataframe tbody tr th {\n",
              "        vertical-align: top;\n",
              "    }\n",
              "\n",
              "    .dataframe thead th {\n",
              "        text-align: right;\n",
              "    }\n",
              "</style>\n",
              "<table border=\"1\" class=\"dataframe\">\n",
              "  <thead>\n",
              "    <tr style=\"text-align: right;\">\n",
              "      <th></th>\n",
              "      <th>index</th>\n",
              "      <th>irony_label</th>\n",
              "      <th>tweet</th>\n",
              "      <th>all_caps</th>\n",
              "    </tr>\n",
              "  </thead>\n",
              "  <tbody>\n",
              "    <tr>\n",
              "      <th>557</th>\n",
              "      <td>558</td>\n",
              "      <td>1</td>\n",
              "      <td>http://t.co/xMzzKi6kn6 &lt;&lt; This should be Chris...</td>\n",
              "      <td>1</td>\n",
              "    </tr>\n",
              "    <tr>\n",
              "      <th>750</th>\n",
              "      <td>751</td>\n",
              "      <td>1</td>\n",
              "      <td>OMG YES. 7:30 FINALS ON A FRIDAY ARE MY FAVORI...</td>\n",
              "      <td>1</td>\n",
              "    </tr>\n",
              "    <tr>\n",
              "      <th>1523</th>\n",
              "      <td>1524</td>\n",
              "      <td>1</td>\n",
              "      <td>@HikeTheGamer: .@PlayStation @Xbox EVERYTHING ...</td>\n",
              "      <td>1</td>\n",
              "    </tr>\n",
              "    <tr>\n",
              "      <th>1562</th>\n",
              "      <td>1563</td>\n",
              "      <td>1</td>\n",
              "      <td>@bophiesurch SHE SHOWED YOU!</td>\n",
              "      <td>1</td>\n",
              "    </tr>\n",
              "    <tr>\n",
              "      <th>1569</th>\n",
              "      <td>1570</td>\n",
              "      <td>1</td>\n",
              "      <td>MLS Transactions 2015 #MLS http://t.co/hGIAVdL...</td>\n",
              "      <td>1</td>\n",
              "    </tr>\n",
              "    <tr>\n",
              "      <th>2500</th>\n",
              "      <td>2501</td>\n",
              "      <td>1</td>\n",
              "      <td>@SocialxClub HOW DARE YOU HAVE FUN AS CHRISTIA...</td>\n",
              "      <td>1</td>\n",
              "    </tr>\n",
              "    <tr>\n",
              "      <th>2761</th>\n",
              "      <td>2762</td>\n",
              "      <td>1</td>\n",
              "      <td>http://t.co/N1eVKeTMZ0 celebs takes drastic me...</td>\n",
              "      <td>1</td>\n",
              "    </tr>\n",
              "    <tr>\n",
              "      <th>2767</th>\n",
              "      <td>2768</td>\n",
              "      <td>1</td>\n",
              "      <td>http://t.co/QdYdOaQ48B Because, progress... #A...</td>\n",
              "      <td>1</td>\n",
              "    </tr>\n",
              "    <tr>\n",
              "      <th>2885</th>\n",
              "      <td>2886</td>\n",
              "      <td>1</td>\n",
              "      <td>@AdamRubinESPN # SHOCKING</td>\n",
              "      <td>1</td>\n",
              "    </tr>\n",
              "    <tr>\n",
              "      <th>3066</th>\n",
              "      <td>3067</td>\n",
              "      <td>1</td>\n",
              "      <td>http://t.co/nzK3dNmOAD Having sooo much fun in...</td>\n",
              "      <td>1</td>\n",
              "    </tr>\n",
              "    <tr>\n",
              "      <th>3498</th>\n",
              "      <td>3499</td>\n",
              "      <td>1</td>\n",
              "      <td>JFK BAGGAGE IDIOTS ACCUSED OF STEALING SHIT RI...</td>\n",
              "      <td>1</td>\n",
              "    </tr>\n",
              "    <tr>\n",
              "      <th>3745</th>\n",
              "      <td>3746</td>\n",
              "      <td>1</td>\n",
              "      <td>http://t.co/xMzzKi6kn6 &lt;&lt; Don't know how this ...</td>\n",
              "      <td>1</td>\n",
              "    </tr>\n",
              "  </tbody>\n",
              "</table>\n",
              "</div>"
            ],
            "text/plain": [
              "      index  ...  all_caps\n",
              "557     558  ...         1\n",
              "750     751  ...         1\n",
              "1523   1524  ...         1\n",
              "1562   1563  ...         1\n",
              "1569   1570  ...         1\n",
              "2500   2501  ...         1\n",
              "2761   2762  ...         1\n",
              "2767   2768  ...         1\n",
              "2885   2886  ...         1\n",
              "3066   3067  ...         1\n",
              "3498   3499  ...         1\n",
              "3745   3746  ...         1\n",
              "\n",
              "[12 rows x 4 columns]"
            ]
          },
          "metadata": {
            "tags": []
          },
          "execution_count": 24
        }
      ]
    },
    {
      "cell_type": "code",
      "metadata": {
        "colab": {
          "base_uri": "https://localhost:8080/"
        },
        "id": "vpg6LroDBuGu",
        "outputId": "6a6e3e34-0fb2-4ce5-c722-0e2e31d380b0"
      },
      "source": [
        "tot_ironic_tweets = len(df_feat.loc[(df_feat['irony_label'] == 1)])\n",
        "tot_ironic_tweets"
      ],
      "execution_count": null,
      "outputs": [
        {
          "output_type": "execute_result",
          "data": {
            "text/plain": [
              "1911"
            ]
          },
          "metadata": {
            "tags": []
          },
          "execution_count": 25
        }
      ]
    },
    {
      "cell_type": "code",
      "metadata": {
        "colab": {
          "base_uri": "https://localhost:8080/"
        },
        "id": "ORdAXMHE8QP3",
        "outputId": "16ee9d6e-43dd-45e8-aec3-2df6715f7b6b"
      },
      "source": [
        "num_ironic_tweets_all_caps = len(df_feat.loc[(df_feat['all_caps'] == 1) & \n",
        "                                         (df_feat['irony_label'] == 1)])\n",
        "\n",
        "p_all_caps = round((num_ironic_tweets_all_caps / tot_ironic_tweets * 100), 2)\n",
        "\n",
        "print(\"Ironic tweets contain the feature <all_caps>\", p_all_caps, \"% of the times\")"
      ],
      "execution_count": null,
      "outputs": [
        {
          "output_type": "stream",
          "text": [
            "Ironic tweets contain the feature <all_caps> 0.63 % of the times\n"
          ],
          "name": "stdout"
        }
      ]
    },
    {
      "cell_type": "markdown",
      "metadata": {
        "id": "1AjPyuaaTL3E"
      },
      "source": [
        "###Ellipsis"
      ]
    },
    {
      "cell_type": "code",
      "metadata": {
        "id": "U_5TmguLIYYo"
      },
      "source": [
        "# Takes a dataset as input and returns a list of 1s and 0s,\n",
        "# indicating which index correspond to a tweet that contains the feature\n",
        "def get_ellipsis(dataset):\n",
        "    ellipsis = []\n",
        "\n",
        "    for tweet in dataset:\n",
        "        el = int(bool(re.search(\"\\.\\.\\.+\", tweet)))\n",
        "        if el == 1:\n",
        "            ellipsis.append(1)\n",
        "        else:\n",
        "            ellipsis.append(0)\n",
        "            \n",
        "    return ellipsis"
      ],
      "execution_count": null,
      "outputs": []
    },
    {
      "cell_type": "code",
      "metadata": {
        "colab": {
          "base_uri": "https://localhost:8080/"
        },
        "id": "UXGXecutIknp",
        "outputId": "f7778d7a-6458-4be6-f56d-95f409003c6e"
      },
      "source": [
        "ellipsis = get_ellipsis(x_train)\n",
        "\n",
        "# Number of tweets with feature ellipsis\n",
        "ellipsis.count(1)"
      ],
      "execution_count": null,
      "outputs": [
        {
          "output_type": "execute_result",
          "data": {
            "text/plain": [
              "484"
            ]
          },
          "metadata": {
            "tags": []
          },
          "execution_count": 28
        }
      ]
    },
    {
      "cell_type": "code",
      "metadata": {
        "colab": {
          "base_uri": "https://localhost:8080/",
          "height": 272
        },
        "id": "KAAhdDu3VF7n",
        "outputId": "8060bea8-3b0d-4eeb-e66d-cb7cec8e83c6"
      },
      "source": [
        "# add column to feature dataset\n",
        "df_feat['ellipsis'] = ellipsis\n",
        "df_feat.head()"
      ],
      "execution_count": null,
      "outputs": [
        {
          "output_type": "execute_result",
          "data": {
            "text/html": [
              "<div>\n",
              "<style scoped>\n",
              "    .dataframe tbody tr th:only-of-type {\n",
              "        vertical-align: middle;\n",
              "    }\n",
              "\n",
              "    .dataframe tbody tr th {\n",
              "        vertical-align: top;\n",
              "    }\n",
              "\n",
              "    .dataframe thead th {\n",
              "        text-align: right;\n",
              "    }\n",
              "</style>\n",
              "<table border=\"1\" class=\"dataframe\">\n",
              "  <thead>\n",
              "    <tr style=\"text-align: right;\">\n",
              "      <th></th>\n",
              "      <th>index</th>\n",
              "      <th>irony_label</th>\n",
              "      <th>tweet</th>\n",
              "      <th>all_caps</th>\n",
              "      <th>ellipsis</th>\n",
              "    </tr>\n",
              "  </thead>\n",
              "  <tbody>\n",
              "    <tr>\n",
              "      <th>0</th>\n",
              "      <td>1</td>\n",
              "      <td>1</td>\n",
              "      <td>Sweet United Nations video. Just in time for C...</td>\n",
              "      <td>0</td>\n",
              "      <td>0</td>\n",
              "    </tr>\n",
              "    <tr>\n",
              "      <th>1</th>\n",
              "      <td>2</td>\n",
              "      <td>1</td>\n",
              "      <td>@mrdahl87 We are rumored to have talked to Erv...</td>\n",
              "      <td>0</td>\n",
              "      <td>1</td>\n",
              "    </tr>\n",
              "    <tr>\n",
              "      <th>2</th>\n",
              "      <td>3</td>\n",
              "      <td>1</td>\n",
              "      <td>Hey there! Nice to see you Minnesota/ND Winter...</td>\n",
              "      <td>0</td>\n",
              "      <td>0</td>\n",
              "    </tr>\n",
              "    <tr>\n",
              "      <th>3</th>\n",
              "      <td>4</td>\n",
              "      <td>0</td>\n",
              "      <td>3 episodes left I'm dying over here</td>\n",
              "      <td>0</td>\n",
              "      <td>0</td>\n",
              "    </tr>\n",
              "    <tr>\n",
              "      <th>4</th>\n",
              "      <td>5</td>\n",
              "      <td>1</td>\n",
              "      <td>I can't breathe! was chosen as the most notabl...</td>\n",
              "      <td>0</td>\n",
              "      <td>0</td>\n",
              "    </tr>\n",
              "  </tbody>\n",
              "</table>\n",
              "</div>"
            ],
            "text/plain": [
              "   index  irony_label  ... all_caps  ellipsis\n",
              "0      1            1  ...        0         0\n",
              "1      2            1  ...        0         1\n",
              "2      3            1  ...        0         0\n",
              "3      4            0  ...        0         0\n",
              "4      5            1  ...        0         0\n",
              "\n",
              "[5 rows x 5 columns]"
            ]
          },
          "metadata": {
            "tags": []
          },
          "execution_count": 29
        }
      ]
    },
    {
      "cell_type": "code",
      "metadata": {
        "colab": {
          "base_uri": "https://localhost:8080/",
          "height": 111
        },
        "id": "YUrym35NVe2f",
        "outputId": "2c3e3a02-9bd9-4c7c-e93a-ae30664fdcd5"
      },
      "source": [
        "# calculate correlation between the irony labels and the feature\n",
        "# -1 indicates a perfectly negative linear correlation between two variables\n",
        "# 0 indicates no linear correlation between two variables\n",
        "# 1 indicates a perfectly positive linear correlation between two variables\n",
        "df_feat[['irony_label', 'ellipsis']].corr()"
      ],
      "execution_count": null,
      "outputs": [
        {
          "output_type": "execute_result",
          "data": {
            "text/html": [
              "<div>\n",
              "<style scoped>\n",
              "    .dataframe tbody tr th:only-of-type {\n",
              "        vertical-align: middle;\n",
              "    }\n",
              "\n",
              "    .dataframe tbody tr th {\n",
              "        vertical-align: top;\n",
              "    }\n",
              "\n",
              "    .dataframe thead th {\n",
              "        text-align: right;\n",
              "    }\n",
              "</style>\n",
              "<table border=\"1\" class=\"dataframe\">\n",
              "  <thead>\n",
              "    <tr style=\"text-align: right;\">\n",
              "      <th></th>\n",
              "      <th>irony_label</th>\n",
              "      <th>ellipsis</th>\n",
              "    </tr>\n",
              "  </thead>\n",
              "  <tbody>\n",
              "    <tr>\n",
              "      <th>irony_label</th>\n",
              "      <td>1.00000</td>\n",
              "      <td>-0.02237</td>\n",
              "    </tr>\n",
              "    <tr>\n",
              "      <th>ellipsis</th>\n",
              "      <td>-0.02237</td>\n",
              "      <td>1.00000</td>\n",
              "    </tr>\n",
              "  </tbody>\n",
              "</table>\n",
              "</div>"
            ],
            "text/plain": [
              "             irony_label  ellipsis\n",
              "irony_label      1.00000  -0.02237\n",
              "ellipsis        -0.02237   1.00000"
            ]
          },
          "metadata": {
            "tags": []
          },
          "execution_count": 30
        }
      ]
    },
    {
      "cell_type": "code",
      "metadata": {
        "colab": {
          "base_uri": "https://localhost:8080/"
        },
        "id": "lTqfi0wlVl2X",
        "outputId": "24e60e49-9a67-4b20-b9e1-cd475269610f"
      },
      "source": [
        "# list of 1s and 0s\n",
        "# irony lables of the tweets that DO contain the feature\n",
        "corr_list_elip = []\n",
        "for i in range(len(y_train)):\n",
        "    if ellipsis[i] == 1:\n",
        "        corr_list_elip.append(y_train[i])\n",
        "\n",
        "print(corr_list_elip.count(0))\n",
        "print(corr_list_elip.count(1))"
      ],
      "execution_count": null,
      "outputs": [
        {
          "output_type": "stream",
          "text": [
            "257\n",
            "227\n"
          ],
          "name": "stdout"
        }
      ]
    },
    {
      "cell_type": "code",
      "metadata": {
        "colab": {
          "base_uri": "https://localhost:8080/"
        },
        "id": "FUtvaC3vEP6p",
        "outputId": "7b21566e-32ac-4f13-f2f4-16fe5410c5ee"
      },
      "source": [
        "p_ironic_ellipsis = round(corr_list_elip.count(1)*100/(corr_list_elip.count(0)+corr_list_elip.count(1)),2)\n",
        "\n",
        "print(\"Out of the tweets that contain the feature <ellipsis>,\", p_ironic_ellipsis, \"% are ironic\")"
      ],
      "execution_count": null,
      "outputs": [
        {
          "output_type": "stream",
          "text": [
            "Out of the tweets that contain the feature <ellipsis>, 46.9 % are ironic\n"
          ],
          "name": "stdout"
        }
      ]
    },
    {
      "cell_type": "code",
      "metadata": {
        "colab": {
          "base_uri": "https://localhost:8080/",
          "height": 419
        },
        "id": "pYiR0qOACTqt",
        "outputId": "1b8a77b2-0b52-497a-f6c6-c1dcfaec03a7"
      },
      "source": [
        "# Tweets where both irony label and feature are 1\n",
        "# (ironic tweets that contain feature)\n",
        "df_feat.loc[(df_feat['ellipsis'] == 1) & (df_feat['irony_label'] == 1)]"
      ],
      "execution_count": null,
      "outputs": [
        {
          "output_type": "execute_result",
          "data": {
            "text/html": [
              "<div>\n",
              "<style scoped>\n",
              "    .dataframe tbody tr th:only-of-type {\n",
              "        vertical-align: middle;\n",
              "    }\n",
              "\n",
              "    .dataframe tbody tr th {\n",
              "        vertical-align: top;\n",
              "    }\n",
              "\n",
              "    .dataframe thead th {\n",
              "        text-align: right;\n",
              "    }\n",
              "</style>\n",
              "<table border=\"1\" class=\"dataframe\">\n",
              "  <thead>\n",
              "    <tr style=\"text-align: right;\">\n",
              "      <th></th>\n",
              "      <th>index</th>\n",
              "      <th>irony_label</th>\n",
              "      <th>tweet</th>\n",
              "      <th>all_caps</th>\n",
              "      <th>ellipsis</th>\n",
              "    </tr>\n",
              "  </thead>\n",
              "  <tbody>\n",
              "    <tr>\n",
              "      <th>1</th>\n",
              "      <td>2</td>\n",
              "      <td>1</td>\n",
              "      <td>@mrdahl87 We are rumored to have talked to Erv...</td>\n",
              "      <td>0</td>\n",
              "      <td>1</td>\n",
              "    </tr>\n",
              "    <tr>\n",
              "      <th>10</th>\n",
              "      <td>11</td>\n",
              "      <td>1</td>\n",
              "      <td>Oh, thank GOD - our entire office email system...</td>\n",
              "      <td>0</td>\n",
              "      <td>1</td>\n",
              "    </tr>\n",
              "    <tr>\n",
              "      <th>30</th>\n",
              "      <td>31</td>\n",
              "      <td>1</td>\n",
              "      <td>Smh never knew something could be 80% halal......</td>\n",
              "      <td>0</td>\n",
              "      <td>1</td>\n",
              "    </tr>\n",
              "    <tr>\n",
              "      <th>36</th>\n",
              "      <td>37</td>\n",
              "      <td>1</td>\n",
              "      <td>Twig is now \"Sprig\"—3 sec limit on new social ...</td>\n",
              "      <td>0</td>\n",
              "      <td>1</td>\n",
              "    </tr>\n",
              "    <tr>\n",
              "      <th>42</th>\n",
              "      <td>43</td>\n",
              "      <td>1</td>\n",
              "      <td>HaHaHaHa!! #hypocrisy  \"MT @Independent: Katie...</td>\n",
              "      <td>0</td>\n",
              "      <td>1</td>\n",
              "    </tr>\n",
              "    <tr>\n",
              "      <th>...</th>\n",
              "      <td>...</td>\n",
              "      <td>...</td>\n",
              "      <td>...</td>\n",
              "      <td>...</td>\n",
              "      <td>...</td>\n",
              "    </tr>\n",
              "    <tr>\n",
              "      <th>3731</th>\n",
              "      <td>3732</td>\n",
              "      <td>1</td>\n",
              "      <td>@Dodgers Gonna miss @TheRealMattKemp, @FlashGJ...</td>\n",
              "      <td>0</td>\n",
              "      <td>1</td>\n",
              "    </tr>\n",
              "    <tr>\n",
              "      <th>3736</th>\n",
              "      <td>3737</td>\n",
              "      <td>1</td>\n",
              "      <td>@nytimes oh so someone got in trouble for maki...</td>\n",
              "      <td>0</td>\n",
              "      <td>1</td>\n",
              "    </tr>\n",
              "    <tr>\n",
              "      <th>3738</th>\n",
              "      <td>3739</td>\n",
              "      <td>1</td>\n",
              "      <td>If I carried on the way half the men do on her...</td>\n",
              "      <td>0</td>\n",
              "      <td>1</td>\n",
              "    </tr>\n",
              "    <tr>\n",
              "      <th>3769</th>\n",
              "      <td>3770</td>\n",
              "      <td>1</td>\n",
              "      <td>@megynkelly have fun at that...</td>\n",
              "      <td>0</td>\n",
              "      <td>1</td>\n",
              "    </tr>\n",
              "    <tr>\n",
              "      <th>3818</th>\n",
              "      <td>3819</td>\n",
              "      <td>1</td>\n",
              "      <td>I'm glad the DC Council has it's priorities in...</td>\n",
              "      <td>0</td>\n",
              "      <td>1</td>\n",
              "    </tr>\n",
              "  </tbody>\n",
              "</table>\n",
              "<p>227 rows × 5 columns</p>\n",
              "</div>"
            ],
            "text/plain": [
              "      index  irony_label  ... all_caps  ellipsis\n",
              "1         2            1  ...        0         1\n",
              "10       11            1  ...        0         1\n",
              "30       31            1  ...        0         1\n",
              "36       37            1  ...        0         1\n",
              "42       43            1  ...        0         1\n",
              "...     ...          ...  ...      ...       ...\n",
              "3731   3732            1  ...        0         1\n",
              "3736   3737            1  ...        0         1\n",
              "3738   3739            1  ...        0         1\n",
              "3769   3770            1  ...        0         1\n",
              "3818   3819            1  ...        0         1\n",
              "\n",
              "[227 rows x 5 columns]"
            ]
          },
          "metadata": {
            "tags": []
          },
          "execution_count": 33
        }
      ]
    },
    {
      "cell_type": "code",
      "metadata": {
        "colab": {
          "base_uri": "https://localhost:8080/"
        },
        "id": "MQiP0ir2CTqz",
        "outputId": "4259d351-77fe-4468-e0a8-c1b393e8ab7f"
      },
      "source": [
        "num_ironic_tweets_ellipsis = len(df_feat.loc[(df_feat['ellipsis'] == 1) & \n",
        "                                             (df_feat['irony_label'] == 1)])\n",
        "\n",
        "p_ellipsis = round((num_ironic_tweets_ellipsis / tot_ironic_tweets * 100), 2)\n",
        "\n",
        "print(\"Ironic tweets contain the feature <ellipsis>\", p_ellipsis, \"% of the times\")"
      ],
      "execution_count": null,
      "outputs": [
        {
          "output_type": "stream",
          "text": [
            "Ironic tweets contain the feature <ellipsis> 11.88 % of the times\n"
          ],
          "name": "stdout"
        }
      ]
    },
    {
      "cell_type": "markdown",
      "metadata": {
        "id": "aJV7Ld479P3O"
      },
      "source": [
        "###Polarity change"
      ]
    },
    {
      "cell_type": "markdown",
      "metadata": {
        "id": "gsnb0t4v5cBJ"
      },
      "source": [
        "describe how i define pol change"
      ]
    },
    {
      "cell_type": "code",
      "metadata": {
        "id": "W0tnjtCGWujn"
      },
      "source": [
        "from textblob import TextBlob"
      ],
      "execution_count": null,
      "outputs": []
    },
    {
      "cell_type": "code",
      "metadata": {
        "id": "k4oBYc1hI1pV"
      },
      "source": [
        "# create new x_train with normalised tweets\n",
        "x_train_mod2 = []\n",
        "for tweet in x_train:\n",
        "    x_train_mod2.append(normalise_for_pol(tweet))"
      ],
      "execution_count": null,
      "outputs": []
    },
    {
      "cell_type": "code",
      "metadata": {
        "id": "EKz15UKTI5EJ"
      },
      "source": [
        "# Takes a dataset as input and returns a list of 1s and 0s,\n",
        "# indicating which index correspond to a tweet that contains the feature\n",
        "def get_pol_change(dataset):\n",
        "    polarities = []\n",
        "\n",
        "    for tweet in dataset:\n",
        "        pol_of_words = []\n",
        "        for word in tweet.split():\n",
        "            x = TextBlob(word)\n",
        "            pol_of_words.append(x.sentiment.polarity)\n",
        "        if all(p == 0.0 for p in pol_of_words):\n",
        "            polarities.append([0.0])\n",
        "        else:\n",
        "            inner = []\n",
        "            for p in pol_of_words:\n",
        "                if p != 0.0:\n",
        "                    inner.append(p)\n",
        "            polarities.append(inner)\n",
        "\n",
        "    pol_change = []\n",
        "    idx = 0\n",
        "    for lst in polarities:\n",
        "        pos = float(sum(pol > 0 for pol in lst))\n",
        "        neg = float(sum(pol < 0 for pol in lst))\n",
        "        if pos != 0.0 and neg != 0.0:\n",
        "            pol_change.append(1)\n",
        "        else:\n",
        "            pol_change.append(0)\n",
        "            \n",
        "    return pol_change"
      ],
      "execution_count": null,
      "outputs": []
    },
    {
      "cell_type": "code",
      "metadata": {
        "id": "CR8VXlExJGgx"
      },
      "source": [
        "pol_change = get_pol_change(x_train_mod2)"
      ],
      "execution_count": null,
      "outputs": []
    },
    {
      "cell_type": "code",
      "metadata": {
        "colab": {
          "base_uri": "https://localhost:8080/"
        },
        "id": "UOMPQWAIJkCN",
        "outputId": "2fd600f9-45f1-4000-ef27-d09bede9248a"
      },
      "source": [
        "print(pol_change.count(0))\n",
        "print(pol_change.count(1))"
      ],
      "execution_count": null,
      "outputs": [
        {
          "output_type": "stream",
          "text": [
            "3347\n",
            "487\n"
          ],
          "name": "stdout"
        }
      ]
    },
    {
      "cell_type": "code",
      "metadata": {
        "colab": {
          "base_uri": "https://localhost:8080/",
          "height": 289
        },
        "id": "yeRzQXyeYW5H",
        "outputId": "a63d8d6f-a9e2-4576-d110-436794daae62"
      },
      "source": [
        "# add column to feature dataset\n",
        "df_feat['pol_change'] = pol_change\n",
        "df_feat.head()"
      ],
      "execution_count": null,
      "outputs": [
        {
          "output_type": "execute_result",
          "data": {
            "text/html": [
              "<div>\n",
              "<style scoped>\n",
              "    .dataframe tbody tr th:only-of-type {\n",
              "        vertical-align: middle;\n",
              "    }\n",
              "\n",
              "    .dataframe tbody tr th {\n",
              "        vertical-align: top;\n",
              "    }\n",
              "\n",
              "    .dataframe thead th {\n",
              "        text-align: right;\n",
              "    }\n",
              "</style>\n",
              "<table border=\"1\" class=\"dataframe\">\n",
              "  <thead>\n",
              "    <tr style=\"text-align: right;\">\n",
              "      <th></th>\n",
              "      <th>index</th>\n",
              "      <th>irony_label</th>\n",
              "      <th>tweet</th>\n",
              "      <th>all_caps</th>\n",
              "      <th>ellipsis</th>\n",
              "      <th>pol_change</th>\n",
              "    </tr>\n",
              "  </thead>\n",
              "  <tbody>\n",
              "    <tr>\n",
              "      <th>0</th>\n",
              "      <td>1</td>\n",
              "      <td>1</td>\n",
              "      <td>Sweet United Nations video. Just in time for C...</td>\n",
              "      <td>0</td>\n",
              "      <td>0</td>\n",
              "      <td>0</td>\n",
              "    </tr>\n",
              "    <tr>\n",
              "      <th>1</th>\n",
              "      <td>2</td>\n",
              "      <td>1</td>\n",
              "      <td>@mrdahl87 We are rumored to have talked to Erv...</td>\n",
              "      <td>0</td>\n",
              "      <td>1</td>\n",
              "      <td>0</td>\n",
              "    </tr>\n",
              "    <tr>\n",
              "      <th>2</th>\n",
              "      <td>3</td>\n",
              "      <td>1</td>\n",
              "      <td>Hey there! Nice to see you Minnesota/ND Winter...</td>\n",
              "      <td>0</td>\n",
              "      <td>0</td>\n",
              "      <td>0</td>\n",
              "    </tr>\n",
              "    <tr>\n",
              "      <th>3</th>\n",
              "      <td>4</td>\n",
              "      <td>0</td>\n",
              "      <td>3 episodes left I'm dying over here</td>\n",
              "      <td>0</td>\n",
              "      <td>0</td>\n",
              "      <td>0</td>\n",
              "    </tr>\n",
              "    <tr>\n",
              "      <th>4</th>\n",
              "      <td>5</td>\n",
              "      <td>1</td>\n",
              "      <td>I can't breathe! was chosen as the most notabl...</td>\n",
              "      <td>0</td>\n",
              "      <td>0</td>\n",
              "      <td>0</td>\n",
              "    </tr>\n",
              "  </tbody>\n",
              "</table>\n",
              "</div>"
            ],
            "text/plain": [
              "   index  irony_label  ... ellipsis  pol_change\n",
              "0      1            1  ...        0           0\n",
              "1      2            1  ...        1           0\n",
              "2      3            1  ...        0           0\n",
              "3      4            0  ...        0           0\n",
              "4      5            1  ...        0           0\n",
              "\n",
              "[5 rows x 6 columns]"
            ]
          },
          "metadata": {
            "tags": []
          },
          "execution_count": 40
        }
      ]
    },
    {
      "cell_type": "code",
      "metadata": {
        "colab": {
          "base_uri": "https://localhost:8080/",
          "height": 111
        },
        "id": "sO8udR-k8pyi",
        "outputId": "b2498f9a-6fbc-40e1-84c6-28e6e8cc2562"
      },
      "source": [
        "# calculate correlation between the irony labels and the feature\n",
        "# -1 indicates a perfectly negative linear correlation between two variables\n",
        "# 0 indicates no linear correlation between two variables\n",
        "# 1 indicates a perfectly positive linear correlation between two variables\n",
        "df_feat[['irony_label', 'pol_change']].corr()"
      ],
      "execution_count": null,
      "outputs": [
        {
          "output_type": "execute_result",
          "data": {
            "text/html": [
              "<div>\n",
              "<style scoped>\n",
              "    .dataframe tbody tr th:only-of-type {\n",
              "        vertical-align: middle;\n",
              "    }\n",
              "\n",
              "    .dataframe tbody tr th {\n",
              "        vertical-align: top;\n",
              "    }\n",
              "\n",
              "    .dataframe thead th {\n",
              "        text-align: right;\n",
              "    }\n",
              "</style>\n",
              "<table border=\"1\" class=\"dataframe\">\n",
              "  <thead>\n",
              "    <tr style=\"text-align: right;\">\n",
              "      <th></th>\n",
              "      <th>irony_label</th>\n",
              "      <th>pol_change</th>\n",
              "    </tr>\n",
              "  </thead>\n",
              "  <tbody>\n",
              "    <tr>\n",
              "      <th>irony_label</th>\n",
              "      <td>1.000000</td>\n",
              "      <td>0.039574</td>\n",
              "    </tr>\n",
              "    <tr>\n",
              "      <th>pol_change</th>\n",
              "      <td>0.039574</td>\n",
              "      <td>1.000000</td>\n",
              "    </tr>\n",
              "  </tbody>\n",
              "</table>\n",
              "</div>"
            ],
            "text/plain": [
              "             irony_label  pol_change\n",
              "irony_label     1.000000    0.039574\n",
              "pol_change      0.039574    1.000000"
            ]
          },
          "metadata": {
            "tags": []
          },
          "execution_count": 41
        }
      ]
    },
    {
      "cell_type": "code",
      "metadata": {
        "colab": {
          "base_uri": "https://localhost:8080/"
        },
        "id": "VR-8yzc98wwK",
        "outputId": "6f6ec990-e613-40fc-fba2-0a02134f4db6"
      },
      "source": [
        "# list of 1s and 0s\n",
        "# irony lables of the tweets that DO contain the feature\n",
        "corr_list_pol = []\n",
        "for i in range(len(y_train)):\n",
        "    if pol_change[i] == 1:\n",
        "        corr_list_pol.append(y_train[i])\n",
        "\n",
        "print(corr_list_pol.count(0))\n",
        "print(corr_list_pol.count(1))"
      ],
      "execution_count": null,
      "outputs": [
        {
          "output_type": "stream",
          "text": [
            "219\n",
            "268\n"
          ],
          "name": "stdout"
        }
      ]
    },
    {
      "cell_type": "code",
      "metadata": {
        "colab": {
          "base_uri": "https://localhost:8080/"
        },
        "id": "aopTJqD5EpuZ",
        "outputId": "59aa61aa-fd1f-4c12-aaa4-94f3162fd828"
      },
      "source": [
        "p_ironic_pol_change = round(corr_list_pol.count(1)*100/(corr_list_pol.count(0)+corr_list_pol.count(1)),2)\n",
        "\n",
        "print(\"Out of the tweets that contain the feature <polarity_change>,\", p_ironic_pol_change, \"% are ironic\")"
      ],
      "execution_count": null,
      "outputs": [
        {
          "output_type": "stream",
          "text": [
            "Out of the tweets that contain the feature <polarity_change>, 55.03 % are ironic\n"
          ],
          "name": "stdout"
        }
      ]
    },
    {
      "cell_type": "code",
      "metadata": {
        "colab": {
          "base_uri": "https://localhost:8080/",
          "height": 538
        },
        "id": "k9bMJOGXC2xc",
        "outputId": "7a0a1ada-dbeb-4278-bdb2-a562d605942e"
      },
      "source": [
        "# Tweets where both irony label and feature are 1\n",
        "# (ironic tweets that contain feature)\n",
        "df_feat.loc[(df_feat['pol_change'] == 1) & (df_feat['irony_label'] == 1)]"
      ],
      "execution_count": null,
      "outputs": [
        {
          "output_type": "execute_result",
          "data": {
            "text/html": [
              "<div>\n",
              "<style scoped>\n",
              "    .dataframe tbody tr th:only-of-type {\n",
              "        vertical-align: middle;\n",
              "    }\n",
              "\n",
              "    .dataframe tbody tr th {\n",
              "        vertical-align: top;\n",
              "    }\n",
              "\n",
              "    .dataframe thead th {\n",
              "        text-align: right;\n",
              "    }\n",
              "</style>\n",
              "<table border=\"1\" class=\"dataframe\">\n",
              "  <thead>\n",
              "    <tr style=\"text-align: right;\">\n",
              "      <th></th>\n",
              "      <th>index</th>\n",
              "      <th>irony_label</th>\n",
              "      <th>tweet</th>\n",
              "      <th>all_caps</th>\n",
              "      <th>ellipsis</th>\n",
              "      <th>pol_change</th>\n",
              "    </tr>\n",
              "  </thead>\n",
              "  <tbody>\n",
              "    <tr>\n",
              "      <th>24</th>\n",
              "      <td>25</td>\n",
              "      <td>1</td>\n",
              "      <td>Love these cold winter mornings 😬 best feeling...</td>\n",
              "      <td>0</td>\n",
              "      <td>0</td>\n",
              "      <td>1</td>\n",
              "    </tr>\n",
              "    <tr>\n",
              "      <th>34</th>\n",
              "      <td>35</td>\n",
              "      <td>1</td>\n",
              "      <td>@RedSox you guys sure screwed this up royally....</td>\n",
              "      <td>0</td>\n",
              "      <td>0</td>\n",
              "      <td>1</td>\n",
              "    </tr>\n",
              "    <tr>\n",
              "      <th>36</th>\n",
              "      <td>37</td>\n",
              "      <td>1</td>\n",
              "      <td>Twig is now \"Sprig\"—3 sec limit on new social ...</td>\n",
              "      <td>0</td>\n",
              "      <td>1</td>\n",
              "      <td>1</td>\n",
              "    </tr>\n",
              "    <tr>\n",
              "      <th>50</th>\n",
              "      <td>51</td>\n",
              "      <td>1</td>\n",
              "      <td>It will be impossible for me to be late if I s...</td>\n",
              "      <td>0</td>\n",
              "      <td>0</td>\n",
              "      <td>1</td>\n",
              "    </tr>\n",
              "    <tr>\n",
              "      <th>58</th>\n",
              "      <td>59</td>\n",
              "      <td>1</td>\n",
              "      <td>@TheoCorleone @david_maclellan Shit! I better ...</td>\n",
              "      <td>0</td>\n",
              "      <td>0</td>\n",
              "      <td>1</td>\n",
              "    </tr>\n",
              "    <tr>\n",
              "      <th>...</th>\n",
              "      <td>...</td>\n",
              "      <td>...</td>\n",
              "      <td>...</td>\n",
              "      <td>...</td>\n",
              "      <td>...</td>\n",
              "      <td>...</td>\n",
              "    </tr>\n",
              "    <tr>\n",
              "      <th>3736</th>\n",
              "      <td>3737</td>\n",
              "      <td>1</td>\n",
              "      <td>@nytimes oh so someone got in trouble for maki...</td>\n",
              "      <td>0</td>\n",
              "      <td>1</td>\n",
              "      <td>1</td>\n",
              "    </tr>\n",
              "    <tr>\n",
              "      <th>3748</th>\n",
              "      <td>3749</td>\n",
              "      <td>1</td>\n",
              "      <td>Students too busy protesting a grand jury deci...</td>\n",
              "      <td>0</td>\n",
              "      <td>0</td>\n",
              "      <td>1</td>\n",
              "    </tr>\n",
              "    <tr>\n",
              "      <th>3749</th>\n",
              "      <td>3750</td>\n",
              "      <td>1</td>\n",
              "      <td>Why can't heroes be happy in DC Comics? I mean...</td>\n",
              "      <td>0</td>\n",
              "      <td>0</td>\n",
              "      <td>1</td>\n",
              "    </tr>\n",
              "    <tr>\n",
              "      <th>3803</th>\n",
              "      <td>3804</td>\n",
              "      <td>1</td>\n",
              "      <td>Feeling like crap. And being treated horribly ...</td>\n",
              "      <td>0</td>\n",
              "      <td>0</td>\n",
              "      <td>1</td>\n",
              "    </tr>\n",
              "    <tr>\n",
              "      <th>3826</th>\n",
              "      <td>3827</td>\n",
              "      <td>1</td>\n",
              "      <td>Thanks for shutting the city down..</td>\n",
              "      <td>0</td>\n",
              "      <td>0</td>\n",
              "      <td>1</td>\n",
              "    </tr>\n",
              "  </tbody>\n",
              "</table>\n",
              "<p>268 rows × 6 columns</p>\n",
              "</div>"
            ],
            "text/plain": [
              "      index  irony_label  ... ellipsis  pol_change\n",
              "24       25            1  ...        0           1\n",
              "34       35            1  ...        0           1\n",
              "36       37            1  ...        1           1\n",
              "50       51            1  ...        0           1\n",
              "58       59            1  ...        0           1\n",
              "...     ...          ...  ...      ...         ...\n",
              "3736   3737            1  ...        1           1\n",
              "3748   3749            1  ...        0           1\n",
              "3749   3750            1  ...        0           1\n",
              "3803   3804            1  ...        0           1\n",
              "3826   3827            1  ...        0           1\n",
              "\n",
              "[268 rows x 6 columns]"
            ]
          },
          "metadata": {
            "tags": []
          },
          "execution_count": 44
        }
      ]
    },
    {
      "cell_type": "code",
      "metadata": {
        "colab": {
          "base_uri": "https://localhost:8080/"
        },
        "id": "USVTLsqSC2xd",
        "outputId": "21e69cfc-db1b-4925-f7ca-84341b1ca435"
      },
      "source": [
        "num_ironic_tweets_pol_change = len(df_feat.loc[(df_feat['pol_change'] == 1) & \n",
        "                                               (df_feat['irony_label'] == 1)])\n",
        "\n",
        "p_pol_change = round((num_ironic_tweets_pol_change / tot_ironic_tweets * 100), 2)\n",
        "\n",
        "print(\"Ironic tweets contain the feature <pol_change>\", p_pol_change, \"% of the times\")"
      ],
      "execution_count": null,
      "outputs": [
        {
          "output_type": "stream",
          "text": [
            "Ironic tweets contain the feature <pol_change> 14.02 % of the times\n"
          ],
          "name": "stdout"
        }
      ]
    },
    {
      "cell_type": "markdown",
      "metadata": {
        "id": "qbUEQgUO9Tv9"
      },
      "source": [
        "###Laughter"
      ]
    },
    {
      "cell_type": "code",
      "metadata": {
        "id": "ycBzO-itJx5L"
      },
      "source": [
        "# Takes a dataset as input and returns a list of 1s and 0s,\n",
        "# indicating which index correspond to a tweet that contains the feature\n",
        "def get_laugh(dataset):\n",
        "    laughs = []\n",
        "\n",
        "    for tweet in dataset:\n",
        "        laugh = int(bool(re.search(r\"\\b(a*ha+h[ha]*|o?l+o+l+[ol]*)\\b\", tweet.lower())))\n",
        "        if laugh == 1:\n",
        "            laughs.append(1)\n",
        "        else:\n",
        "            laughs.append(0)\n",
        "    return laughs"
      ],
      "execution_count": null,
      "outputs": []
    },
    {
      "cell_type": "code",
      "metadata": {
        "id": "Hbc4YZcIJ_CC"
      },
      "source": [
        "laughs = get_laugh(x_train)"
      ],
      "execution_count": null,
      "outputs": []
    },
    {
      "cell_type": "code",
      "metadata": {
        "colab": {
          "base_uri": "https://localhost:8080/"
        },
        "id": "gdl0H9LxJ8gP",
        "outputId": "b17ed799-2f76-428e-9d13-a8141f630d28"
      },
      "source": [
        "print(laughs.count(0))\n",
        "print(laughs.count(1))"
      ],
      "execution_count": null,
      "outputs": [
        {
          "output_type": "stream",
          "text": [
            "3700\n",
            "134\n"
          ],
          "name": "stdout"
        }
      ]
    },
    {
      "cell_type": "code",
      "metadata": {
        "colab": {
          "base_uri": "https://localhost:8080/",
          "height": 357
        },
        "id": "DBMKjktk9xUp",
        "outputId": "8aabf10d-2625-41ac-8c87-ab99004c6899"
      },
      "source": [
        "# add column to feature dataset\n",
        "df_feat['laugh'] = laughs\n",
        "df_feat.head()"
      ],
      "execution_count": null,
      "outputs": [
        {
          "output_type": "execute_result",
          "data": {
            "text/html": [
              "<div>\n",
              "<style scoped>\n",
              "    .dataframe tbody tr th:only-of-type {\n",
              "        vertical-align: middle;\n",
              "    }\n",
              "\n",
              "    .dataframe tbody tr th {\n",
              "        vertical-align: top;\n",
              "    }\n",
              "\n",
              "    .dataframe thead th {\n",
              "        text-align: right;\n",
              "    }\n",
              "</style>\n",
              "<table border=\"1\" class=\"dataframe\">\n",
              "  <thead>\n",
              "    <tr style=\"text-align: right;\">\n",
              "      <th></th>\n",
              "      <th>index</th>\n",
              "      <th>irony_label</th>\n",
              "      <th>tweet</th>\n",
              "      <th>all_caps</th>\n",
              "      <th>ellipsis</th>\n",
              "      <th>pol_change</th>\n",
              "      <th>laugh</th>\n",
              "    </tr>\n",
              "  </thead>\n",
              "  <tbody>\n",
              "    <tr>\n",
              "      <th>0</th>\n",
              "      <td>1</td>\n",
              "      <td>1</td>\n",
              "      <td>Sweet United Nations video. Just in time for C...</td>\n",
              "      <td>0</td>\n",
              "      <td>0</td>\n",
              "      <td>0</td>\n",
              "      <td>0</td>\n",
              "    </tr>\n",
              "    <tr>\n",
              "      <th>1</th>\n",
              "      <td>2</td>\n",
              "      <td>1</td>\n",
              "      <td>@mrdahl87 We are rumored to have talked to Erv...</td>\n",
              "      <td>0</td>\n",
              "      <td>1</td>\n",
              "      <td>0</td>\n",
              "      <td>0</td>\n",
              "    </tr>\n",
              "    <tr>\n",
              "      <th>2</th>\n",
              "      <td>3</td>\n",
              "      <td>1</td>\n",
              "      <td>Hey there! Nice to see you Minnesota/ND Winter...</td>\n",
              "      <td>0</td>\n",
              "      <td>0</td>\n",
              "      <td>0</td>\n",
              "      <td>0</td>\n",
              "    </tr>\n",
              "    <tr>\n",
              "      <th>3</th>\n",
              "      <td>4</td>\n",
              "      <td>0</td>\n",
              "      <td>3 episodes left I'm dying over here</td>\n",
              "      <td>0</td>\n",
              "      <td>0</td>\n",
              "      <td>0</td>\n",
              "      <td>0</td>\n",
              "    </tr>\n",
              "    <tr>\n",
              "      <th>4</th>\n",
              "      <td>5</td>\n",
              "      <td>1</td>\n",
              "      <td>I can't breathe! was chosen as the most notabl...</td>\n",
              "      <td>0</td>\n",
              "      <td>0</td>\n",
              "      <td>0</td>\n",
              "      <td>0</td>\n",
              "    </tr>\n",
              "  </tbody>\n",
              "</table>\n",
              "</div>"
            ],
            "text/plain": [
              "   index  irony_label  ... pol_change  laugh\n",
              "0      1            1  ...          0      0\n",
              "1      2            1  ...          0      0\n",
              "2      3            1  ...          0      0\n",
              "3      4            0  ...          0      0\n",
              "4      5            1  ...          0      0\n",
              "\n",
              "[5 rows x 7 columns]"
            ]
          },
          "metadata": {
            "tags": []
          },
          "execution_count": 49
        }
      ]
    },
    {
      "cell_type": "code",
      "metadata": {
        "colab": {
          "base_uri": "https://localhost:8080/",
          "height": 111
        },
        "id": "hTjVkTJI9xUp",
        "outputId": "3e5d9eef-8a91-4ae0-8278-e8ca80d81018"
      },
      "source": [
        "# calculate correlation between the irony labels and the feature\n",
        "# -1 indicates a perfectly negative linear correlation between two variables\n",
        "# 0 indicates no linear correlation between two variables\n",
        "# 1 indicates a perfectly positive linear correlation between two variables\n",
        "df_feat[['irony_label', 'laugh']].corr()"
      ],
      "execution_count": null,
      "outputs": [
        {
          "output_type": "execute_result",
          "data": {
            "text/html": [
              "<div>\n",
              "<style scoped>\n",
              "    .dataframe tbody tr th:only-of-type {\n",
              "        vertical-align: middle;\n",
              "    }\n",
              "\n",
              "    .dataframe tbody tr th {\n",
              "        vertical-align: top;\n",
              "    }\n",
              "\n",
              "    .dataframe thead th {\n",
              "        text-align: right;\n",
              "    }\n",
              "</style>\n",
              "<table border=\"1\" class=\"dataframe\">\n",
              "  <thead>\n",
              "    <tr style=\"text-align: right;\">\n",
              "      <th></th>\n",
              "      <th>irony_label</th>\n",
              "      <th>laugh</th>\n",
              "    </tr>\n",
              "  </thead>\n",
              "  <tbody>\n",
              "    <tr>\n",
              "      <th>irony_label</th>\n",
              "      <td>1.000000</td>\n",
              "      <td>0.014798</td>\n",
              "    </tr>\n",
              "    <tr>\n",
              "      <th>laugh</th>\n",
              "      <td>0.014798</td>\n",
              "      <td>1.000000</td>\n",
              "    </tr>\n",
              "  </tbody>\n",
              "</table>\n",
              "</div>"
            ],
            "text/plain": [
              "             irony_label     laugh\n",
              "irony_label     1.000000  0.014798\n",
              "laugh           0.014798  1.000000"
            ]
          },
          "metadata": {
            "tags": []
          },
          "execution_count": 50
        }
      ]
    },
    {
      "cell_type": "code",
      "metadata": {
        "colab": {
          "base_uri": "https://localhost:8080/"
        },
        "id": "gnhb-HMJ9xUq",
        "outputId": "36204b42-2b73-4264-d096-6c5e5c231ac8"
      },
      "source": [
        "# list of 1s and 0s\n",
        "# irony lables of the tweets that DO contain the feature\n",
        "corr_list_laugh = []\n",
        "for i in range(len(y_train)):\n",
        "    if laughs[i] == 1:\n",
        "        corr_list_laugh.append(y_train[i])\n",
        "\n",
        "print(corr_list_laugh.count(0))\n",
        "print(corr_list_laugh.count(1))"
      ],
      "execution_count": null,
      "outputs": [
        {
          "output_type": "stream",
          "text": [
            "62\n",
            "72\n"
          ],
          "name": "stdout"
        }
      ]
    },
    {
      "cell_type": "code",
      "metadata": {
        "colab": {
          "base_uri": "https://localhost:8080/"
        },
        "id": "F2lERwrpE7h6",
        "outputId": "ef3190db-0e52-467f-e678-40eb6c472203"
      },
      "source": [
        "p_ironic_laugh = round(corr_list_laugh.count(1)*100/(corr_list_laugh.count(0)+corr_list_laugh.count(1)),2)\n",
        "\n",
        "print(\"Out of the tweets that contain the feature <laugh>,\", p_ironic_laugh, \"% are ironic\")"
      ],
      "execution_count": null,
      "outputs": [
        {
          "output_type": "stream",
          "text": [
            "Out of the tweets that contain the feature <laugh>, 53.73 % are ironic\n"
          ],
          "name": "stdout"
        }
      ]
    },
    {
      "cell_type": "code",
      "metadata": {
        "colab": {
          "base_uri": "https://localhost:8080/",
          "height": 589
        },
        "id": "fwjYsjuTDLlT",
        "outputId": "3dcc14dd-9a78-4530-da96-2b6f6996dd8b"
      },
      "source": [
        "# Tweets where both irony label and feature are 1\n",
        "# (ironic tweets that contain feature)\n",
        "df_feat.loc[(df_feat['laugh'] == 1) & (df_feat['irony_label'] == 1)]"
      ],
      "execution_count": null,
      "outputs": [
        {
          "output_type": "execute_result",
          "data": {
            "text/html": [
              "<div>\n",
              "<style scoped>\n",
              "    .dataframe tbody tr th:only-of-type {\n",
              "        vertical-align: middle;\n",
              "    }\n",
              "\n",
              "    .dataframe tbody tr th {\n",
              "        vertical-align: top;\n",
              "    }\n",
              "\n",
              "    .dataframe thead th {\n",
              "        text-align: right;\n",
              "    }\n",
              "</style>\n",
              "<table border=\"1\" class=\"dataframe\">\n",
              "  <thead>\n",
              "    <tr style=\"text-align: right;\">\n",
              "      <th></th>\n",
              "      <th>index</th>\n",
              "      <th>irony_label</th>\n",
              "      <th>tweet</th>\n",
              "      <th>all_caps</th>\n",
              "      <th>ellipsis</th>\n",
              "      <th>pol_change</th>\n",
              "      <th>laugh</th>\n",
              "    </tr>\n",
              "  </thead>\n",
              "  <tbody>\n",
              "    <tr>\n",
              "      <th>42</th>\n",
              "      <td>43</td>\n",
              "      <td>1</td>\n",
              "      <td>HaHaHaHa!! #hypocrisy  \"MT @Independent: Katie...</td>\n",
              "      <td>0</td>\n",
              "      <td>1</td>\n",
              "      <td>0</td>\n",
              "      <td>1</td>\n",
              "    </tr>\n",
              "    <tr>\n",
              "      <th>101</th>\n",
              "      <td>102</td>\n",
              "      <td>1</td>\n",
              "      <td>A day where  ruled @twitter, I got followed by...</td>\n",
              "      <td>0</td>\n",
              "      <td>0</td>\n",
              "      <td>0</td>\n",
              "      <td>1</td>\n",
              "    </tr>\n",
              "    <tr>\n",
              "      <th>156</th>\n",
              "      <td>157</td>\n",
              "      <td>1</td>\n",
              "      <td>Haha who the fuck says that to someone#TrueGen...</td>\n",
              "      <td>0</td>\n",
              "      <td>0</td>\n",
              "      <td>1</td>\n",
              "      <td>1</td>\n",
              "    </tr>\n",
              "    <tr>\n",
              "      <th>185</th>\n",
              "      <td>186</td>\n",
              "      <td>1</td>\n",
              "      <td>LOL.. Micromax is promising that service?  htt...</td>\n",
              "      <td>0</td>\n",
              "      <td>0</td>\n",
              "      <td>0</td>\n",
              "      <td>1</td>\n",
              "    </tr>\n",
              "    <tr>\n",
              "      <th>201</th>\n",
              "      <td>202</td>\n",
              "      <td>1</td>\n",
              "      <td>Did you know ? If you are reading this right n...</td>\n",
              "      <td>0</td>\n",
              "      <td>1</td>\n",
              "      <td>0</td>\n",
              "      <td>1</td>\n",
              "    </tr>\n",
              "    <tr>\n",
              "      <th>...</th>\n",
              "      <td>...</td>\n",
              "      <td>...</td>\n",
              "      <td>...</td>\n",
              "      <td>...</td>\n",
              "      <td>...</td>\n",
              "      <td>...</td>\n",
              "      <td>...</td>\n",
              "    </tr>\n",
              "    <tr>\n",
              "      <th>3547</th>\n",
              "      <td>3548</td>\n",
              "      <td>1</td>\n",
              "      <td>@Olivian_Forever oh yeah!!! 2nd :D #HoldTheApp...</td>\n",
              "      <td>0</td>\n",
              "      <td>0</td>\n",
              "      <td>0</td>\n",
              "      <td>1</td>\n",
              "    </tr>\n",
              "    <tr>\n",
              "      <th>3579</th>\n",
              "      <td>3580</td>\n",
              "      <td>1</td>\n",
              "      <td>Lol at docs who don't know what they're doing....</td>\n",
              "      <td>0</td>\n",
              "      <td>0</td>\n",
              "      <td>0</td>\n",
              "      <td>1</td>\n",
              "    </tr>\n",
              "    <tr>\n",
              "      <th>3597</th>\n",
              "      <td>3598</td>\n",
              "      <td>1</td>\n",
              "      <td>I'll watch #TakeMeOut like the rest of the cou...</td>\n",
              "      <td>0</td>\n",
              "      <td>1</td>\n",
              "      <td>0</td>\n",
              "      <td>1</td>\n",
              "    </tr>\n",
              "    <tr>\n",
              "      <th>3637</th>\n",
              "      <td>3638</td>\n",
              "      <td>1</td>\n",
              "      <td>@billdossett LOOL from the guy with multiple t...</td>\n",
              "      <td>0</td>\n",
              "      <td>0</td>\n",
              "      <td>0</td>\n",
              "      <td>1</td>\n",
              "    </tr>\n",
              "    <tr>\n",
              "      <th>3692</th>\n",
              "      <td>3693</td>\n",
              "      <td>1</td>\n",
              "      <td>@louiseinwords We all have our crosses to bear...</td>\n",
              "      <td>0</td>\n",
              "      <td>0</td>\n",
              "      <td>0</td>\n",
              "      <td>1</td>\n",
              "    </tr>\n",
              "  </tbody>\n",
              "</table>\n",
              "<p>72 rows × 7 columns</p>\n",
              "</div>"
            ],
            "text/plain": [
              "      index  irony_label  ... pol_change  laugh\n",
              "42       43            1  ...          0      1\n",
              "101     102            1  ...          0      1\n",
              "156     157            1  ...          1      1\n",
              "185     186            1  ...          0      1\n",
              "201     202            1  ...          0      1\n",
              "...     ...          ...  ...        ...    ...\n",
              "3547   3548            1  ...          0      1\n",
              "3579   3580            1  ...          0      1\n",
              "3597   3598            1  ...          0      1\n",
              "3637   3638            1  ...          0      1\n",
              "3692   3693            1  ...          0      1\n",
              "\n",
              "[72 rows x 7 columns]"
            ]
          },
          "metadata": {
            "tags": []
          },
          "execution_count": 53
        }
      ]
    },
    {
      "cell_type": "code",
      "metadata": {
        "colab": {
          "base_uri": "https://localhost:8080/"
        },
        "id": "9hzmYoMdDLlb",
        "outputId": "2f24548f-b793-4ce0-c215-a9c2425466b9"
      },
      "source": [
        "num_ironic_tweets_laugh = len(df_feat.loc[(df_feat['laugh'] == 1) & \n",
        "                                          (df_feat['irony_label'] == 1)])\n",
        "\n",
        "p_laugh = round((num_ironic_tweets_laugh / tot_ironic_tweets * 100), 2)\n",
        "\n",
        "print(\"Ironic tweets contain the feature <laugh>\", p_laugh, \"% of the times\")"
      ],
      "execution_count": null,
      "outputs": [
        {
          "output_type": "stream",
          "text": [
            "Ironic tweets contain the feature <laugh> 3.77 % of the times\n"
          ],
          "name": "stdout"
        }
      ]
    },
    {
      "cell_type": "markdown",
      "metadata": {
        "id": "zcYaOq6UFYAw"
      },
      "source": [
        "###Emojis"
      ]
    },
    {
      "cell_type": "code",
      "metadata": {
        "id": "3ysvqHqtKXpa"
      },
      "source": [
        "# Takes a dataset as input and returns a list of 1s and 0s,\n",
        "# indicating which index correspond to a tweet that contains the feature\n",
        "def get_emojis(dataset):\n",
        "    hasemoji = []\n",
        "\n",
        "    for tweet in dataset:\n",
        "        emo = emojis.count(tweet)\n",
        "        if emo != 0:\n",
        "            hasemoji.append(1)\n",
        "        else:\n",
        "            hasemoji.append(0)\n",
        "    return hasemoji"
      ],
      "execution_count": null,
      "outputs": []
    },
    {
      "cell_type": "code",
      "metadata": {
        "colab": {
          "base_uri": "https://localhost:8080/"
        },
        "id": "A0FDaAQPKiYl",
        "outputId": "ac96359b-aae3-4bb2-c268-56e85b6897a3"
      },
      "source": [
        "hasemoji = get_emojis(x_train)\n",
        "\n",
        "print(hasemoji.count(0))\n",
        "print(hasemoji.count(1))"
      ],
      "execution_count": null,
      "outputs": [
        {
          "output_type": "stream",
          "text": [
            "3433\n",
            "401\n"
          ],
          "name": "stdout"
        }
      ]
    },
    {
      "cell_type": "code",
      "metadata": {
        "colab": {
          "base_uri": "https://localhost:8080/",
          "height": 289
        },
        "id": "paJfuDgLGGmS",
        "outputId": "b910c2ec-ce52-47b2-b298-ec3031a401c2"
      },
      "source": [
        "# add column to feature dataset\n",
        "df_feat['emojis'] = hasemoji\n",
        "df_feat.head()"
      ],
      "execution_count": null,
      "outputs": [
        {
          "output_type": "execute_result",
          "data": {
            "text/html": [
              "<div>\n",
              "<style scoped>\n",
              "    .dataframe tbody tr th:only-of-type {\n",
              "        vertical-align: middle;\n",
              "    }\n",
              "\n",
              "    .dataframe tbody tr th {\n",
              "        vertical-align: top;\n",
              "    }\n",
              "\n",
              "    .dataframe thead th {\n",
              "        text-align: right;\n",
              "    }\n",
              "</style>\n",
              "<table border=\"1\" class=\"dataframe\">\n",
              "  <thead>\n",
              "    <tr style=\"text-align: right;\">\n",
              "      <th></th>\n",
              "      <th>index</th>\n",
              "      <th>irony_label</th>\n",
              "      <th>tweet</th>\n",
              "      <th>all_caps</th>\n",
              "      <th>ellipsis</th>\n",
              "      <th>pol_change</th>\n",
              "      <th>laugh</th>\n",
              "      <th>emojis</th>\n",
              "    </tr>\n",
              "  </thead>\n",
              "  <tbody>\n",
              "    <tr>\n",
              "      <th>0</th>\n",
              "      <td>1</td>\n",
              "      <td>1</td>\n",
              "      <td>Sweet United Nations video. Just in time for C...</td>\n",
              "      <td>0</td>\n",
              "      <td>0</td>\n",
              "      <td>0</td>\n",
              "      <td>0</td>\n",
              "      <td>0</td>\n",
              "    </tr>\n",
              "    <tr>\n",
              "      <th>1</th>\n",
              "      <td>2</td>\n",
              "      <td>1</td>\n",
              "      <td>@mrdahl87 We are rumored to have talked to Erv...</td>\n",
              "      <td>0</td>\n",
              "      <td>1</td>\n",
              "      <td>0</td>\n",
              "      <td>0</td>\n",
              "      <td>0</td>\n",
              "    </tr>\n",
              "    <tr>\n",
              "      <th>2</th>\n",
              "      <td>3</td>\n",
              "      <td>1</td>\n",
              "      <td>Hey there! Nice to see you Minnesota/ND Winter...</td>\n",
              "      <td>0</td>\n",
              "      <td>0</td>\n",
              "      <td>0</td>\n",
              "      <td>0</td>\n",
              "      <td>0</td>\n",
              "    </tr>\n",
              "    <tr>\n",
              "      <th>3</th>\n",
              "      <td>4</td>\n",
              "      <td>0</td>\n",
              "      <td>3 episodes left I'm dying over here</td>\n",
              "      <td>0</td>\n",
              "      <td>0</td>\n",
              "      <td>0</td>\n",
              "      <td>0</td>\n",
              "      <td>0</td>\n",
              "    </tr>\n",
              "    <tr>\n",
              "      <th>4</th>\n",
              "      <td>5</td>\n",
              "      <td>1</td>\n",
              "      <td>I can't breathe! was chosen as the most notabl...</td>\n",
              "      <td>0</td>\n",
              "      <td>0</td>\n",
              "      <td>0</td>\n",
              "      <td>0</td>\n",
              "      <td>0</td>\n",
              "    </tr>\n",
              "  </tbody>\n",
              "</table>\n",
              "</div>"
            ],
            "text/plain": [
              "   index  irony_label  ... laugh  emojis\n",
              "0      1            1  ...     0       0\n",
              "1      2            1  ...     0       0\n",
              "2      3            1  ...     0       0\n",
              "3      4            0  ...     0       0\n",
              "4      5            1  ...     0       0\n",
              "\n",
              "[5 rows x 8 columns]"
            ]
          },
          "metadata": {
            "tags": []
          },
          "execution_count": 57
        }
      ]
    },
    {
      "cell_type": "code",
      "metadata": {
        "colab": {
          "base_uri": "https://localhost:8080/",
          "height": 111
        },
        "id": "7m3OxGUlGGmh",
        "outputId": "3c85c103-4131-4fe7-d3d0-3720e0626f1c"
      },
      "source": [
        "# calculate correlation between the irony labels and the feature\n",
        "# -1 indicates a perfectly negative linear correlation between two variables\n",
        "# 0 indicates no linear correlation between two variables\n",
        "# 1 indicates a perfectly positive linear correlation between two variables\n",
        "df_feat[['irony_label', 'emojis']].corr()"
      ],
      "execution_count": null,
      "outputs": [
        {
          "output_type": "execute_result",
          "data": {
            "text/html": [
              "<div>\n",
              "<style scoped>\n",
              "    .dataframe tbody tr th:only-of-type {\n",
              "        vertical-align: middle;\n",
              "    }\n",
              "\n",
              "    .dataframe tbody tr th {\n",
              "        vertical-align: top;\n",
              "    }\n",
              "\n",
              "    .dataframe thead th {\n",
              "        text-align: right;\n",
              "    }\n",
              "</style>\n",
              "<table border=\"1\" class=\"dataframe\">\n",
              "  <thead>\n",
              "    <tr style=\"text-align: right;\">\n",
              "      <th></th>\n",
              "      <th>irony_label</th>\n",
              "      <th>emojis</th>\n",
              "    </tr>\n",
              "  </thead>\n",
              "  <tbody>\n",
              "    <tr>\n",
              "      <th>irony_label</th>\n",
              "      <td>1.000000</td>\n",
              "      <td>-0.047511</td>\n",
              "    </tr>\n",
              "    <tr>\n",
              "      <th>emojis</th>\n",
              "      <td>-0.047511</td>\n",
              "      <td>1.000000</td>\n",
              "    </tr>\n",
              "  </tbody>\n",
              "</table>\n",
              "</div>"
            ],
            "text/plain": [
              "             irony_label    emojis\n",
              "irony_label     1.000000 -0.047511\n",
              "emojis         -0.047511  1.000000"
            ]
          },
          "metadata": {
            "tags": []
          },
          "execution_count": 58
        }
      ]
    },
    {
      "cell_type": "code",
      "metadata": {
        "colab": {
          "base_uri": "https://localhost:8080/"
        },
        "id": "0tCTapi-GGmh",
        "outputId": "c32c3142-f1a8-44fb-970a-cfd6d32e4f69"
      },
      "source": [
        "# list of 1s and 0s\n",
        "# irony lables of the tweets that DO contain the feature\n",
        "corr_list_emojis = []\n",
        "for i in range(len(y_train)):\n",
        "    if hasemoji[i] == 1:\n",
        "        corr_list_emojis.append(y_train[i])\n",
        "\n",
        "print(corr_list_emojis.count(0))\n",
        "print(corr_list_emojis.count(1))"
      ],
      "execution_count": null,
      "outputs": [
        {
          "output_type": "stream",
          "text": [
            "229\n",
            "172\n"
          ],
          "name": "stdout"
        }
      ]
    },
    {
      "cell_type": "code",
      "metadata": {
        "colab": {
          "base_uri": "https://localhost:8080/"
        },
        "id": "FhaZNk0rGGmi",
        "outputId": "da2f13ef-1ed0-4fca-800f-547422967a19"
      },
      "source": [
        "p_ironic_emojis = round(corr_list_emojis.count(1)*100/(corr_list_emojis.count(0)+corr_list_emojis.count(1)),2)\n",
        "\n",
        "print(\"Out of the tweets that contain the feature <emojis>,\", p_ironic_emojis, \"% are ironic\")"
      ],
      "execution_count": null,
      "outputs": [
        {
          "output_type": "stream",
          "text": [
            "Out of the tweets that contain the feature <emojis>, 42.89 % are ironic\n"
          ],
          "name": "stdout"
        }
      ]
    },
    {
      "cell_type": "code",
      "metadata": {
        "colab": {
          "base_uri": "https://localhost:8080/",
          "height": 589
        },
        "id": "l2dOPCAvDce1",
        "outputId": "aea222e7-1994-46b6-9bf6-c85441381a58"
      },
      "source": [
        "# Tweets where both irony label and feature are 1\n",
        "# (ironic tweets that contain feature)\n",
        "df_feat.loc[(df_feat['emojis'] == 1) & (df_feat['irony_label'] == 1)]"
      ],
      "execution_count": null,
      "outputs": [
        {
          "output_type": "execute_result",
          "data": {
            "text/html": [
              "<div>\n",
              "<style scoped>\n",
              "    .dataframe tbody tr th:only-of-type {\n",
              "        vertical-align: middle;\n",
              "    }\n",
              "\n",
              "    .dataframe tbody tr th {\n",
              "        vertical-align: top;\n",
              "    }\n",
              "\n",
              "    .dataframe thead th {\n",
              "        text-align: right;\n",
              "    }\n",
              "</style>\n",
              "<table border=\"1\" class=\"dataframe\">\n",
              "  <thead>\n",
              "    <tr style=\"text-align: right;\">\n",
              "      <th></th>\n",
              "      <th>index</th>\n",
              "      <th>irony_label</th>\n",
              "      <th>tweet</th>\n",
              "      <th>all_caps</th>\n",
              "      <th>ellipsis</th>\n",
              "      <th>pol_change</th>\n",
              "      <th>laugh</th>\n",
              "      <th>emojis</th>\n",
              "    </tr>\n",
              "  </thead>\n",
              "  <tbody>\n",
              "    <tr>\n",
              "      <th>24</th>\n",
              "      <td>25</td>\n",
              "      <td>1</td>\n",
              "      <td>Love these cold winter mornings 😬 best feeling...</td>\n",
              "      <td>0</td>\n",
              "      <td>0</td>\n",
              "      <td>1</td>\n",
              "      <td>0</td>\n",
              "      <td>1</td>\n",
              "    </tr>\n",
              "    <tr>\n",
              "      <th>38</th>\n",
              "      <td>39</td>\n",
              "      <td>1</td>\n",
              "      <td>Yay for another work at 4am day 😐</td>\n",
              "      <td>0</td>\n",
              "      <td>0</td>\n",
              "      <td>0</td>\n",
              "      <td>0</td>\n",
              "      <td>1</td>\n",
              "    </tr>\n",
              "    <tr>\n",
              "      <th>40</th>\n",
              "      <td>41</td>\n",
              "      <td>1</td>\n",
              "      <td>Omg @FloptimusCrime didn't tell @giantfootyguy...</td>\n",
              "      <td>0</td>\n",
              "      <td>0</td>\n",
              "      <td>0</td>\n",
              "      <td>0</td>\n",
              "      <td>1</td>\n",
              "    </tr>\n",
              "    <tr>\n",
              "      <th>68</th>\n",
              "      <td>69</td>\n",
              "      <td>1</td>\n",
              "      <td>I asked God to protect me from my enemies .. s...</td>\n",
              "      <td>0</td>\n",
              "      <td>0</td>\n",
              "      <td>0</td>\n",
              "      <td>0</td>\n",
              "      <td>1</td>\n",
              "    </tr>\n",
              "    <tr>\n",
              "      <th>99</th>\n",
              "      <td>100</td>\n",
              "      <td>1</td>\n",
              "      <td>i just loveee bein short and having my sweatpa...</td>\n",
              "      <td>0</td>\n",
              "      <td>1</td>\n",
              "      <td>1</td>\n",
              "      <td>0</td>\n",
              "      <td>1</td>\n",
              "    </tr>\n",
              "    <tr>\n",
              "      <th>...</th>\n",
              "      <td>...</td>\n",
              "      <td>...</td>\n",
              "      <td>...</td>\n",
              "      <td>...</td>\n",
              "      <td>...</td>\n",
              "      <td>...</td>\n",
              "      <td>...</td>\n",
              "      <td>...</td>\n",
              "    </tr>\n",
              "    <tr>\n",
              "      <th>3712</th>\n",
              "      <td>3713</td>\n",
              "      <td>1</td>\n",
              "      <td>Tryna learn to skate tonight! 😎#pennyboard #sk...</td>\n",
              "      <td>0</td>\n",
              "      <td>0</td>\n",
              "      <td>0</td>\n",
              "      <td>0</td>\n",
              "      <td>1</td>\n",
              "    </tr>\n",
              "    <tr>\n",
              "      <th>3738</th>\n",
              "      <td>3739</td>\n",
              "      <td>1</td>\n",
              "      <td>If I carried on the way half the men do on her...</td>\n",
              "      <td>0</td>\n",
              "      <td>1</td>\n",
              "      <td>0</td>\n",
              "      <td>0</td>\n",
              "      <td>1</td>\n",
              "    </tr>\n",
              "    <tr>\n",
              "      <th>3764</th>\n",
              "      <td>3765</td>\n",
              "      <td>1</td>\n",
              "      <td>And then today was 💩. What a surprise!  #2of6 ...</td>\n",
              "      <td>0</td>\n",
              "      <td>0</td>\n",
              "      <td>0</td>\n",
              "      <td>0</td>\n",
              "      <td>1</td>\n",
              "    </tr>\n",
              "    <tr>\n",
              "      <th>3811</th>\n",
              "      <td>3812</td>\n",
              "      <td>1</td>\n",
              "      <td>The world is such a smiley place. 😳</td>\n",
              "      <td>0</td>\n",
              "      <td>0</td>\n",
              "      <td>0</td>\n",
              "      <td>0</td>\n",
              "      <td>1</td>\n",
              "    </tr>\n",
              "    <tr>\n",
              "      <th>3815</th>\n",
              "      <td>3816</td>\n",
              "      <td>1</td>\n",
              "      <td>I retweeted this so Chris Graham blocked me. |...</td>\n",
              "      <td>0</td>\n",
              "      <td>0</td>\n",
              "      <td>0</td>\n",
              "      <td>0</td>\n",
              "      <td>1</td>\n",
              "    </tr>\n",
              "  </tbody>\n",
              "</table>\n",
              "<p>172 rows × 8 columns</p>\n",
              "</div>"
            ],
            "text/plain": [
              "      index  irony_label  ... laugh  emojis\n",
              "24       25            1  ...     0       1\n",
              "38       39            1  ...     0       1\n",
              "40       41            1  ...     0       1\n",
              "68       69            1  ...     0       1\n",
              "99      100            1  ...     0       1\n",
              "...     ...          ...  ...   ...     ...\n",
              "3712   3713            1  ...     0       1\n",
              "3738   3739            1  ...     0       1\n",
              "3764   3765            1  ...     0       1\n",
              "3811   3812            1  ...     0       1\n",
              "3815   3816            1  ...     0       1\n",
              "\n",
              "[172 rows x 8 columns]"
            ]
          },
          "metadata": {
            "tags": []
          },
          "execution_count": 61
        }
      ]
    },
    {
      "cell_type": "code",
      "metadata": {
        "colab": {
          "base_uri": "https://localhost:8080/"
        },
        "id": "rvVDwl74Dce2",
        "outputId": "dd40e161-acf7-4bcd-b46a-8424008162be"
      },
      "source": [
        "num_ironic_tweets_emojis = len(df_feat.loc[(df_feat['emojis'] == 1) & \n",
        "                                           (df_feat['irony_label'] == 1)])\n",
        "\n",
        "p_emojis = round((num_ironic_tweets_emojis / tot_ironic_tweets * 100), 2)\n",
        "\n",
        "print(\"Ironic tweets contain the feature <emojis>\", p_emojis, \"% of the times\")"
      ],
      "execution_count": null,
      "outputs": [
        {
          "output_type": "stream",
          "text": [
            "Ironic tweets contain the feature <emojis> 9.0 % of the times\n"
          ],
          "name": "stdout"
        }
      ]
    },
    {
      "cell_type": "markdown",
      "metadata": {
        "id": "wa29NXjBI7Ed"
      },
      "source": [
        "###Interjections"
      ]
    },
    {
      "cell_type": "code",
      "metadata": {
        "id": "JPTjKZXAI9II"
      },
      "source": [
        "# create new x_train with normalised tweets\n",
        "x_train_mod3 = []\n",
        "\n",
        "for tweet in x_train:\n",
        "    x_train_mod3.append(normalise_for_pos(tweet))"
      ],
      "execution_count": null,
      "outputs": []
    },
    {
      "cell_type": "code",
      "metadata": {
        "id": "Wvvhn4MhLEAL"
      },
      "source": [
        "def convert_to_pos(dataset):\n",
        "    # A list of lists, where each inner list represents a sentece.\n",
        "    # Instead of words, it contains the POS tags of the words present in the original tweet\n",
        "    x_pos = []\n",
        "\n",
        "    for tweet in dataset:\n",
        "        words = nltk.word_tokenize(tweet)\n",
        "        words_pos = nltk.pos_tag(words)\n",
        "        pos_tweet = []\n",
        "        for i in range(len(words_pos)):\n",
        "            tag = words_pos[i][1]\n",
        "            pos_tweet.append(tag)\n",
        "        x_pos.append(pos_tweet)\n",
        "\n",
        "    return x_pos"
      ],
      "execution_count": null,
      "outputs": []
    },
    {
      "cell_type": "code",
      "metadata": {
        "id": "dQtYx2PuLarz"
      },
      "source": [
        "x_train_pos = convert_to_pos(x_train_mod3)"
      ],
      "execution_count": null,
      "outputs": []
    },
    {
      "cell_type": "code",
      "metadata": {
        "colab": {
          "base_uri": "https://localhost:8080/"
        },
        "id": "YP6x3cbfLlJL",
        "outputId": "974d35b2-7105-4a04-8325-1da6758b8564"
      },
      "source": [
        "x_train_pos[2]"
      ],
      "execution_count": null,
      "outputs": [
        {
          "output_type": "execute_result",
          "data": {
            "text/plain": [
              "['NN', 'EX', 'JJ', 'TO', 'VB', 'PRP', 'VBP', 'JJR', 'NN']"
            ]
          },
          "metadata": {
            "tags": []
          },
          "execution_count": 66
        }
      ]
    },
    {
      "cell_type": "code",
      "metadata": {
        "colab": {
          "base_uri": "https://localhost:8080/",
          "height": 35
        },
        "id": "eP1bgGRBLno3",
        "outputId": "d37e2e41-c8ed-43c7-83d9-53d4bd7dbc32"
      },
      "source": [
        "x_train_mod3[2]"
      ],
      "execution_count": null,
      "outputs": [
        {
          "output_type": "execute_result",
          "data": {
            "application/vnd.google.colaboratory.intrinsic+json": {
              "type": "string"
            },
            "text/plain": [
              "'hey there nice to see you minnesotand winter weather'"
            ]
          },
          "metadata": {
            "tags": []
          },
          "execution_count": 67
        }
      ]
    },
    {
      "cell_type": "code",
      "metadata": {
        "id": "scNU2DOCLsiO"
      },
      "source": [
        "def get_interjection(pos_data):\n",
        "    interj = []\n",
        "\n",
        "    for tweet in pos_data:\n",
        "        if 'UH' in tweet:\n",
        "            interj.append(1)\n",
        "        else:\n",
        "            interj.append(0)\n",
        "            \n",
        "    return interj"
      ],
      "execution_count": null,
      "outputs": []
    },
    {
      "cell_type": "code",
      "metadata": {
        "id": "-LiZDx2kL6M3"
      },
      "source": [
        "interj = get_interjection(x_train_pos)"
      ],
      "execution_count": null,
      "outputs": []
    },
    {
      "cell_type": "code",
      "metadata": {
        "colab": {
          "base_uri": "https://localhost:8080/"
        },
        "id": "PdbGCVKpMDIP",
        "outputId": "6cd07dd7-beb0-4c51-b622-98c5fef51516"
      },
      "source": [
        "print(interj.count(0))\n",
        "print(interj.count(1))"
      ],
      "execution_count": null,
      "outputs": [
        {
          "output_type": "stream",
          "text": [
            "3801\n",
            "33\n"
          ],
          "name": "stdout"
        }
      ]
    },
    {
      "cell_type": "code",
      "metadata": {
        "colab": {
          "base_uri": "https://localhost:8080/",
          "height": 476
        },
        "id": "xIupgRXnOSVC",
        "outputId": "5543f959-8a89-4a22-a20d-79a0583fde0a"
      },
      "source": [
        "# add column to feature dataset\n",
        "df_feat['interjection'] = interj\n",
        "df_feat.head()"
      ],
      "execution_count": null,
      "outputs": [
        {
          "output_type": "execute_result",
          "data": {
            "text/html": [
              "<div>\n",
              "<style scoped>\n",
              "    .dataframe tbody tr th:only-of-type {\n",
              "        vertical-align: middle;\n",
              "    }\n",
              "\n",
              "    .dataframe tbody tr th {\n",
              "        vertical-align: top;\n",
              "    }\n",
              "\n",
              "    .dataframe thead th {\n",
              "        text-align: right;\n",
              "    }\n",
              "</style>\n",
              "<table border=\"1\" class=\"dataframe\">\n",
              "  <thead>\n",
              "    <tr style=\"text-align: right;\">\n",
              "      <th></th>\n",
              "      <th>index</th>\n",
              "      <th>irony_label</th>\n",
              "      <th>tweet</th>\n",
              "      <th>all_caps</th>\n",
              "      <th>ellipsis</th>\n",
              "      <th>pol_change</th>\n",
              "      <th>laugh</th>\n",
              "      <th>emojis</th>\n",
              "      <th>interjection</th>\n",
              "    </tr>\n",
              "  </thead>\n",
              "  <tbody>\n",
              "    <tr>\n",
              "      <th>0</th>\n",
              "      <td>1</td>\n",
              "      <td>1</td>\n",
              "      <td>Sweet United Nations video. Just in time for C...</td>\n",
              "      <td>0</td>\n",
              "      <td>0</td>\n",
              "      <td>0</td>\n",
              "      <td>0</td>\n",
              "      <td>0</td>\n",
              "      <td>0</td>\n",
              "    </tr>\n",
              "    <tr>\n",
              "      <th>1</th>\n",
              "      <td>2</td>\n",
              "      <td>1</td>\n",
              "      <td>@mrdahl87 We are rumored to have talked to Erv...</td>\n",
              "      <td>0</td>\n",
              "      <td>1</td>\n",
              "      <td>0</td>\n",
              "      <td>0</td>\n",
              "      <td>0</td>\n",
              "      <td>0</td>\n",
              "    </tr>\n",
              "    <tr>\n",
              "      <th>2</th>\n",
              "      <td>3</td>\n",
              "      <td>1</td>\n",
              "      <td>Hey there! Nice to see you Minnesota/ND Winter...</td>\n",
              "      <td>0</td>\n",
              "      <td>0</td>\n",
              "      <td>0</td>\n",
              "      <td>0</td>\n",
              "      <td>0</td>\n",
              "      <td>0</td>\n",
              "    </tr>\n",
              "    <tr>\n",
              "      <th>3</th>\n",
              "      <td>4</td>\n",
              "      <td>0</td>\n",
              "      <td>3 episodes left I'm dying over here</td>\n",
              "      <td>0</td>\n",
              "      <td>0</td>\n",
              "      <td>0</td>\n",
              "      <td>0</td>\n",
              "      <td>0</td>\n",
              "      <td>0</td>\n",
              "    </tr>\n",
              "    <tr>\n",
              "      <th>4</th>\n",
              "      <td>5</td>\n",
              "      <td>1</td>\n",
              "      <td>I can't breathe! was chosen as the most notabl...</td>\n",
              "      <td>0</td>\n",
              "      <td>0</td>\n",
              "      <td>0</td>\n",
              "      <td>0</td>\n",
              "      <td>0</td>\n",
              "      <td>0</td>\n",
              "    </tr>\n",
              "  </tbody>\n",
              "</table>\n",
              "</div>"
            ],
            "text/plain": [
              "   index  irony_label  ... emojis  interjection\n",
              "0      1            1  ...      0             0\n",
              "1      2            1  ...      0             0\n",
              "2      3            1  ...      0             0\n",
              "3      4            0  ...      0             0\n",
              "4      5            1  ...      0             0\n",
              "\n",
              "[5 rows x 9 columns]"
            ]
          },
          "metadata": {
            "tags": []
          },
          "execution_count": 71
        }
      ]
    },
    {
      "cell_type": "code",
      "metadata": {
        "colab": {
          "base_uri": "https://localhost:8080/",
          "height": 111
        },
        "id": "lWVI156wOSVE",
        "outputId": "45cae5b1-c834-443a-999a-538581c3c144"
      },
      "source": [
        "# calculate correlation between the irony labels and the feature\n",
        "# -1 indicates a perfectly negative linear correlation between two variables\n",
        "# 0 indicates no linear correlation between two variables\n",
        "# 1 indicates a perfectly positive linear correlation between two variables\n",
        "df_feat[['irony_label', 'interjection']].corr()"
      ],
      "execution_count": null,
      "outputs": [
        {
          "output_type": "execute_result",
          "data": {
            "text/html": [
              "<div>\n",
              "<style scoped>\n",
              "    .dataframe tbody tr th:only-of-type {\n",
              "        vertical-align: middle;\n",
              "    }\n",
              "\n",
              "    .dataframe tbody tr th {\n",
              "        vertical-align: top;\n",
              "    }\n",
              "\n",
              "    .dataframe thead th {\n",
              "        text-align: right;\n",
              "    }\n",
              "</style>\n",
              "<table border=\"1\" class=\"dataframe\">\n",
              "  <thead>\n",
              "    <tr style=\"text-align: right;\">\n",
              "      <th></th>\n",
              "      <th>irony_label</th>\n",
              "      <th>interjection</th>\n",
              "    </tr>\n",
              "  </thead>\n",
              "  <tbody>\n",
              "    <tr>\n",
              "      <th>irony_label</th>\n",
              "      <td>1.000000</td>\n",
              "      <td>0.025704</td>\n",
              "    </tr>\n",
              "    <tr>\n",
              "      <th>interjection</th>\n",
              "      <td>0.025704</td>\n",
              "      <td>1.000000</td>\n",
              "    </tr>\n",
              "  </tbody>\n",
              "</table>\n",
              "</div>"
            ],
            "text/plain": [
              "              irony_label  interjection\n",
              "irony_label      1.000000      0.025704\n",
              "interjection     0.025704      1.000000"
            ]
          },
          "metadata": {
            "tags": []
          },
          "execution_count": 72
        }
      ]
    },
    {
      "cell_type": "code",
      "metadata": {
        "colab": {
          "base_uri": "https://localhost:8080/"
        },
        "id": "mt_JJYflOSVE",
        "outputId": "fb75b19b-129f-428c-fadb-d91fea42a50e"
      },
      "source": [
        "# list of 1s and 0s\n",
        "# irony lables of the tweets that DO contain the feature\n",
        "corr_list_interj = []\n",
        "for i in range(len(y_train)):\n",
        "    if interj[i] == 1:\n",
        "        corr_list_interj.append(y_train[i])\n",
        "\n",
        "print(corr_list_interj.count(0))\n",
        "print(corr_list_interj.count(1))"
      ],
      "execution_count": null,
      "outputs": [
        {
          "output_type": "stream",
          "text": [
            "12\n",
            "21\n"
          ],
          "name": "stdout"
        }
      ]
    },
    {
      "cell_type": "code",
      "metadata": {
        "colab": {
          "base_uri": "https://localhost:8080/"
        },
        "id": "o26IHmY1OSVF",
        "outputId": "c2755f36-fc9c-4f25-a424-70dc78f58c0b"
      },
      "source": [
        "p_ironic_interj = round(corr_list_interj.count(1)*100/(corr_list_interj.count(0)+corr_list_interj.count(1)),2)\n",
        "\n",
        "print(\"Out of the tweets that contain the feature <interjection>,\", p_ironic_interj, \"% are ironic\")"
      ],
      "execution_count": null,
      "outputs": [
        {
          "output_type": "stream",
          "text": [
            "Out of the tweets that contain the feature <interjection>, 63.64 % are ironic\n"
          ],
          "name": "stdout"
        }
      ]
    },
    {
      "cell_type": "code",
      "metadata": {
        "colab": {
          "base_uri": "https://localhost:8080/",
          "height": 1000
        },
        "id": "kOn6SYD6Dtxs",
        "outputId": "79dde982-456e-4f7b-8960-7cd20ccd7123"
      },
      "source": [
        "# Tweets where both irony label and feature are 1\n",
        "# (ironic tweets that contain feature)\n",
        "df_feat.loc[(df_feat['interjection'] == 1) & (df_feat['irony_label'] == 1)]"
      ],
      "execution_count": null,
      "outputs": [
        {
          "output_type": "execute_result",
          "data": {
            "text/html": [
              "<div>\n",
              "<style scoped>\n",
              "    .dataframe tbody tr th:only-of-type {\n",
              "        vertical-align: middle;\n",
              "    }\n",
              "\n",
              "    .dataframe tbody tr th {\n",
              "        vertical-align: top;\n",
              "    }\n",
              "\n",
              "    .dataframe thead th {\n",
              "        text-align: right;\n",
              "    }\n",
              "</style>\n",
              "<table border=\"1\" class=\"dataframe\">\n",
              "  <thead>\n",
              "    <tr style=\"text-align: right;\">\n",
              "      <th></th>\n",
              "      <th>index</th>\n",
              "      <th>irony_label</th>\n",
              "      <th>tweet</th>\n",
              "      <th>all_caps</th>\n",
              "      <th>ellipsis</th>\n",
              "      <th>pol_change</th>\n",
              "      <th>laugh</th>\n",
              "      <th>emojis</th>\n",
              "      <th>interjection</th>\n",
              "    </tr>\n",
              "  </thead>\n",
              "  <tbody>\n",
              "    <tr>\n",
              "      <th>10</th>\n",
              "      <td>11</td>\n",
              "      <td>1</td>\n",
              "      <td>Oh, thank GOD - our entire office email system...</td>\n",
              "      <td>0</td>\n",
              "      <td>1</td>\n",
              "      <td>0</td>\n",
              "      <td>0</td>\n",
              "      <td>0</td>\n",
              "      <td>1</td>\n",
              "    </tr>\n",
              "    <tr>\n",
              "      <th>419</th>\n",
              "      <td>420</td>\n",
              "      <td>1</td>\n",
              "      <td>@STLguy1 Oh that sounds like a great plan.  @6...</td>\n",
              "      <td>0</td>\n",
              "      <td>0</td>\n",
              "      <td>0</td>\n",
              "      <td>0</td>\n",
              "      <td>0</td>\n",
              "      <td>1</td>\n",
              "    </tr>\n",
              "    <tr>\n",
              "      <th>582</th>\n",
              "      <td>583</td>\n",
              "      <td>1</td>\n",
              "      <td>Oh hello flu! Thank you for fooling me in thin...</td>\n",
              "      <td>0</td>\n",
              "      <td>0</td>\n",
              "      <td>0</td>\n",
              "      <td>0</td>\n",
              "      <td>0</td>\n",
              "      <td>1</td>\n",
              "    </tr>\n",
              "    <tr>\n",
              "      <th>698</th>\n",
              "      <td>699</td>\n",
              "      <td>1</td>\n",
              "      <td>oh lord!  RT @popularmsem: RT @ShockingFactsz:...</td>\n",
              "      <td>0</td>\n",
              "      <td>0</td>\n",
              "      <td>0</td>\n",
              "      <td>0</td>\n",
              "      <td>0</td>\n",
              "      <td>1</td>\n",
              "    </tr>\n",
              "    <tr>\n",
              "      <th>750</th>\n",
              "      <td>751</td>\n",
              "      <td>1</td>\n",
              "      <td>OMG YES. 7:30 FINALS ON A FRIDAY ARE MY FAVORI...</td>\n",
              "      <td>1</td>\n",
              "      <td>0</td>\n",
              "      <td>0</td>\n",
              "      <td>0</td>\n",
              "      <td>1</td>\n",
              "      <td>1</td>\n",
              "    </tr>\n",
              "    <tr>\n",
              "      <th>754</th>\n",
              "      <td>755</td>\n",
              "      <td>1</td>\n",
              "      <td>Oh, joy! 'Tis the season for \"Christmas came e...</td>\n",
              "      <td>0</td>\n",
              "      <td>0</td>\n",
              "      <td>0</td>\n",
              "      <td>0</td>\n",
              "      <td>0</td>\n",
              "      <td>1</td>\n",
              "    </tr>\n",
              "    <tr>\n",
              "      <th>834</th>\n",
              "      <td>835</td>\n",
              "      <td>1</td>\n",
              "      <td>Oh and it's a positively balmy 7c</td>\n",
              "      <td>0</td>\n",
              "      <td>0</td>\n",
              "      <td>0</td>\n",
              "      <td>0</td>\n",
              "      <td>0</td>\n",
              "      <td>1</td>\n",
              "    </tr>\n",
              "    <tr>\n",
              "      <th>1037</th>\n",
              "      <td>1038</td>\n",
              "      <td>1</td>\n",
              "      <td>Watching the news being like; \"oh this totally...</td>\n",
              "      <td>0</td>\n",
              "      <td>0</td>\n",
              "      <td>0</td>\n",
              "      <td>0</td>\n",
              "      <td>0</td>\n",
              "      <td>1</td>\n",
              "    </tr>\n",
              "    <tr>\n",
              "      <th>1121</th>\n",
              "      <td>1122</td>\n",
              "      <td>1</td>\n",
              "      <td>Don't you just love when you say hi to someone...</td>\n",
              "      <td>0</td>\n",
              "      <td>0</td>\n",
              "      <td>0</td>\n",
              "      <td>0</td>\n",
              "      <td>1</td>\n",
              "      <td>1</td>\n",
              "    </tr>\n",
              "    <tr>\n",
              "      <th>1241</th>\n",
              "      <td>1242</td>\n",
              "      <td>1</td>\n",
              "      <td>@Johnnyebs06 oh joy, now i get to have even mo...</td>\n",
              "      <td>0</td>\n",
              "      <td>0</td>\n",
              "      <td>0</td>\n",
              "      <td>0</td>\n",
              "      <td>0</td>\n",
              "      <td>1</td>\n",
              "    </tr>\n",
              "    <tr>\n",
              "      <th>1683</th>\n",
              "      <td>1684</td>\n",
              "      <td>1</td>\n",
              "      <td>.@NSRoadsPolicing @StEdsPolice oh look an Audi...</td>\n",
              "      <td>0</td>\n",
              "      <td>1</td>\n",
              "      <td>0</td>\n",
              "      <td>0</td>\n",
              "      <td>0</td>\n",
              "      <td>1</td>\n",
              "    </tr>\n",
              "    <tr>\n",
              "      <th>1691</th>\n",
              "      <td>1692</td>\n",
              "      <td>1</td>\n",
              "      <td>Oh materialism, how I've missed you.</td>\n",
              "      <td>0</td>\n",
              "      <td>0</td>\n",
              "      <td>0</td>\n",
              "      <td>0</td>\n",
              "      <td>0</td>\n",
              "      <td>1</td>\n",
              "    </tr>\n",
              "    <tr>\n",
              "      <th>1890</th>\n",
              "      <td>1891</td>\n",
              "      <td>1</td>\n",
              "      <td>@kaist455 Oh, come on. Give her a chance with ...</td>\n",
              "      <td>0</td>\n",
              "      <td>0</td>\n",
              "      <td>0</td>\n",
              "      <td>0</td>\n",
              "      <td>0</td>\n",
              "      <td>1</td>\n",
              "    </tr>\n",
              "    <tr>\n",
              "      <th>2056</th>\n",
              "      <td>2057</td>\n",
              "      <td>1</td>\n",
              "      <td>Oh yess Dean Smith is ref  on the plus side we...</td>\n",
              "      <td>0</td>\n",
              "      <td>0</td>\n",
              "      <td>0</td>\n",
              "      <td>0</td>\n",
              "      <td>0</td>\n",
              "      <td>1</td>\n",
              "    </tr>\n",
              "    <tr>\n",
              "      <th>2211</th>\n",
              "      <td>2212</td>\n",
              "      <td>1</td>\n",
              "      <td>@nasa ooh I can probably watch a replay or the...</td>\n",
              "      <td>0</td>\n",
              "      <td>0</td>\n",
              "      <td>0</td>\n",
              "      <td>0</td>\n",
              "      <td>0</td>\n",
              "      <td>1</td>\n",
              "    </tr>\n",
              "    <tr>\n",
              "      <th>2549</th>\n",
              "      <td>2550</td>\n",
              "      <td>1</td>\n",
              "      <td>Oh this will end well.  RT @JonathanCohn: Mili...</td>\n",
              "      <td>0</td>\n",
              "      <td>0</td>\n",
              "      <td>0</td>\n",
              "      <td>0</td>\n",
              "      <td>0</td>\n",
              "      <td>1</td>\n",
              "    </tr>\n",
              "    <tr>\n",
              "      <th>2571</th>\n",
              "      <td>2572</td>\n",
              "      <td>1</td>\n",
              "      <td>@FinestDos @TheFinestSquad @KroniumSquad Oh wo...</td>\n",
              "      <td>0</td>\n",
              "      <td>0</td>\n",
              "      <td>0</td>\n",
              "      <td>0</td>\n",
              "      <td>0</td>\n",
              "      <td>1</td>\n",
              "    </tr>\n",
              "    <tr>\n",
              "      <th>2586</th>\n",
              "      <td>2587</td>\n",
              "      <td>1</td>\n",
              "      <td>@AlexPanchenko2 oh brother, the bar for journa...</td>\n",
              "      <td>0</td>\n",
              "      <td>0</td>\n",
              "      <td>1</td>\n",
              "      <td>0</td>\n",
              "      <td>0</td>\n",
              "      <td>1</td>\n",
              "    </tr>\n",
              "    <tr>\n",
              "      <th>2630</th>\n",
              "      <td>2631</td>\n",
              "      <td>1</td>\n",
              "      <td>danniella westbrook went to a food bank she sh...</td>\n",
              "      <td>0</td>\n",
              "      <td>0</td>\n",
              "      <td>0</td>\n",
              "      <td>0</td>\n",
              "      <td>0</td>\n",
              "      <td>1</td>\n",
              "    </tr>\n",
              "    <tr>\n",
              "      <th>3381</th>\n",
              "      <td>3382</td>\n",
              "      <td>1</td>\n",
              "      <td>Saying No to Them is the first way you say yes...</td>\n",
              "      <td>0</td>\n",
              "      <td>0</td>\n",
              "      <td>0</td>\n",
              "      <td>0</td>\n",
              "      <td>0</td>\n",
              "      <td>1</td>\n",
              "    </tr>\n",
              "    <tr>\n",
              "      <th>3651</th>\n",
              "      <td>3652</td>\n",
              "      <td>1</td>\n",
              "      <td>@JustinRoehr Oh but Bradford is awful!</td>\n",
              "      <td>0</td>\n",
              "      <td>0</td>\n",
              "      <td>0</td>\n",
              "      <td>0</td>\n",
              "      <td>0</td>\n",
              "      <td>1</td>\n",
              "    </tr>\n",
              "  </tbody>\n",
              "</table>\n",
              "</div>"
            ],
            "text/plain": [
              "      index  irony_label  ... emojis  interjection\n",
              "10       11            1  ...      0             1\n",
              "419     420            1  ...      0             1\n",
              "582     583            1  ...      0             1\n",
              "698     699            1  ...      0             1\n",
              "750     751            1  ...      1             1\n",
              "754     755            1  ...      0             1\n",
              "834     835            1  ...      0             1\n",
              "1037   1038            1  ...      0             1\n",
              "1121   1122            1  ...      1             1\n",
              "1241   1242            1  ...      0             1\n",
              "1683   1684            1  ...      0             1\n",
              "1691   1692            1  ...      0             1\n",
              "1890   1891            1  ...      0             1\n",
              "2056   2057            1  ...      0             1\n",
              "2211   2212            1  ...      0             1\n",
              "2549   2550            1  ...      0             1\n",
              "2571   2572            1  ...      0             1\n",
              "2586   2587            1  ...      0             1\n",
              "2630   2631            1  ...      0             1\n",
              "3381   3382            1  ...      0             1\n",
              "3651   3652            1  ...      0             1\n",
              "\n",
              "[21 rows x 9 columns]"
            ]
          },
          "metadata": {
            "tags": []
          },
          "execution_count": 75
        }
      ]
    },
    {
      "cell_type": "code",
      "metadata": {
        "colab": {
          "base_uri": "https://localhost:8080/"
        },
        "id": "0cd9m6OODtxz",
        "outputId": "b8bd2f6f-f63a-4817-aa38-d1c6a93b90e8"
      },
      "source": [
        "num_ironic_tweets_interj = len(df_feat.loc[(df_feat['interjection'] == 1) & \n",
        "                                           (df_feat['irony_label'] == 1)])\n",
        "\n",
        "p_interj = round((num_ironic_tweets_interj / tot_ironic_tweets * 100), 2)\n",
        "\n",
        "print(\"Ironic tweets contain the feature <interjection>\", p_interj, \"% of the times\")"
      ],
      "execution_count": null,
      "outputs": [
        {
          "output_type": "stream",
          "text": [
            "Ironic tweets contain the feature <interjection> 1.1 % of the times\n"
          ],
          "name": "stdout"
        }
      ]
    },
    {
      "cell_type": "markdown",
      "metadata": {
        "id": "qAsdeoTrPJad"
      },
      "source": [
        "###Exclamation"
      ]
    },
    {
      "cell_type": "code",
      "metadata": {
        "id": "H7jVVTChOOfy"
      },
      "source": [
        "# create new x_train with normalised tweets\n",
        "x_train_mod4 = []\n",
        "\n",
        "for tweet in x_train:\n",
        "    x_train_mod4.append(normalise_for_punct(tweet))"
      ],
      "execution_count": null,
      "outputs": []
    },
    {
      "cell_type": "code",
      "metadata": {
        "id": "1_nHJpSaMPOL"
      },
      "source": [
        "# Takes a dataset as input and returns a list of 1s and 0s,\n",
        "# indicating which index correspond to a tweet that contains the feature\n",
        "def get_exclamation(dataset):\n",
        "    exclamation = []\n",
        "\n",
        "    for tweet in dataset:\n",
        "        ex = int(bool(re.search(\"!+\", tweet)))\n",
        "        if ex == 1:\n",
        "            exclamation.append(1)\n",
        "        else:\n",
        "            exclamation.append(0)\n",
        "    \n",
        "    return exclamation"
      ],
      "execution_count": null,
      "outputs": []
    },
    {
      "cell_type": "code",
      "metadata": {
        "id": "ci9LCpmQMbqz"
      },
      "source": [
        "exclamation = get_exclamation(x_train_mod4)"
      ],
      "execution_count": null,
      "outputs": []
    },
    {
      "cell_type": "code",
      "metadata": {
        "colab": {
          "base_uri": "https://localhost:8080/"
        },
        "id": "wtHQyIROMgMg",
        "outputId": "488fbc14-49c4-43d5-bde2-9d9bf275313e"
      },
      "source": [
        "# Number of tweets with feature exclamation\n",
        "print(exclamation.count(0))\n",
        "print(exclamation.count(1))"
      ],
      "execution_count": null,
      "outputs": [
        {
          "output_type": "stream",
          "text": [
            "3194\n",
            "640\n"
          ],
          "name": "stdout"
        }
      ]
    },
    {
      "cell_type": "code",
      "metadata": {
        "colab": {
          "base_uri": "https://localhost:8080/",
          "height": 496
        },
        "id": "B7D4-K1AQ2My",
        "outputId": "0e6b04ca-9824-4ec6-b9ff-75445ee3089b"
      },
      "source": [
        "# add column to feature dataset\n",
        "df_feat['exclamation'] = exclamation\n",
        "df_feat.head()"
      ],
      "execution_count": null,
      "outputs": [
        {
          "output_type": "execute_result",
          "data": {
            "text/html": [
              "<div>\n",
              "<style scoped>\n",
              "    .dataframe tbody tr th:only-of-type {\n",
              "        vertical-align: middle;\n",
              "    }\n",
              "\n",
              "    .dataframe tbody tr th {\n",
              "        vertical-align: top;\n",
              "    }\n",
              "\n",
              "    .dataframe thead th {\n",
              "        text-align: right;\n",
              "    }\n",
              "</style>\n",
              "<table border=\"1\" class=\"dataframe\">\n",
              "  <thead>\n",
              "    <tr style=\"text-align: right;\">\n",
              "      <th></th>\n",
              "      <th>index</th>\n",
              "      <th>irony_label</th>\n",
              "      <th>tweet</th>\n",
              "      <th>all_caps</th>\n",
              "      <th>ellipsis</th>\n",
              "      <th>pol_change</th>\n",
              "      <th>laugh</th>\n",
              "      <th>emojis</th>\n",
              "      <th>interjection</th>\n",
              "      <th>exclamation</th>\n",
              "    </tr>\n",
              "  </thead>\n",
              "  <tbody>\n",
              "    <tr>\n",
              "      <th>0</th>\n",
              "      <td>1</td>\n",
              "      <td>1</td>\n",
              "      <td>Sweet United Nations video. Just in time for C...</td>\n",
              "      <td>0</td>\n",
              "      <td>0</td>\n",
              "      <td>0</td>\n",
              "      <td>0</td>\n",
              "      <td>0</td>\n",
              "      <td>0</td>\n",
              "      <td>0</td>\n",
              "    </tr>\n",
              "    <tr>\n",
              "      <th>1</th>\n",
              "      <td>2</td>\n",
              "      <td>1</td>\n",
              "      <td>@mrdahl87 We are rumored to have talked to Erv...</td>\n",
              "      <td>0</td>\n",
              "      <td>1</td>\n",
              "      <td>0</td>\n",
              "      <td>0</td>\n",
              "      <td>0</td>\n",
              "      <td>0</td>\n",
              "      <td>0</td>\n",
              "    </tr>\n",
              "    <tr>\n",
              "      <th>2</th>\n",
              "      <td>3</td>\n",
              "      <td>1</td>\n",
              "      <td>Hey there! Nice to see you Minnesota/ND Winter...</td>\n",
              "      <td>0</td>\n",
              "      <td>0</td>\n",
              "      <td>0</td>\n",
              "      <td>0</td>\n",
              "      <td>0</td>\n",
              "      <td>0</td>\n",
              "      <td>1</td>\n",
              "    </tr>\n",
              "    <tr>\n",
              "      <th>3</th>\n",
              "      <td>4</td>\n",
              "      <td>0</td>\n",
              "      <td>3 episodes left I'm dying over here</td>\n",
              "      <td>0</td>\n",
              "      <td>0</td>\n",
              "      <td>0</td>\n",
              "      <td>0</td>\n",
              "      <td>0</td>\n",
              "      <td>0</td>\n",
              "      <td>0</td>\n",
              "    </tr>\n",
              "    <tr>\n",
              "      <th>4</th>\n",
              "      <td>5</td>\n",
              "      <td>1</td>\n",
              "      <td>I can't breathe! was chosen as the most notabl...</td>\n",
              "      <td>0</td>\n",
              "      <td>0</td>\n",
              "      <td>0</td>\n",
              "      <td>0</td>\n",
              "      <td>0</td>\n",
              "      <td>0</td>\n",
              "      <td>1</td>\n",
              "    </tr>\n",
              "  </tbody>\n",
              "</table>\n",
              "</div>"
            ],
            "text/plain": [
              "   index  irony_label  ... interjection  exclamation\n",
              "0      1            1  ...            0            0\n",
              "1      2            1  ...            0            0\n",
              "2      3            1  ...            0            1\n",
              "3      4            0  ...            0            0\n",
              "4      5            1  ...            0            1\n",
              "\n",
              "[5 rows x 10 columns]"
            ]
          },
          "metadata": {
            "tags": []
          },
          "execution_count": 81
        }
      ]
    },
    {
      "cell_type": "code",
      "metadata": {
        "colab": {
          "base_uri": "https://localhost:8080/",
          "height": 111
        },
        "id": "IcQ19s1VQ2My",
        "outputId": "bbd740e3-3622-45bf-8c4a-c09e21093f5d"
      },
      "source": [
        "# calculate correlation between the irony labels and the feature\n",
        "# -1 indicates a perfectly negative linear correlation between two variables\n",
        "# 0 indicates no linear correlation between two variables\n",
        "# 1 indicates a perfectly positive linear correlation between two variables\n",
        "df_feat[['irony_label', 'exclamation']].corr()"
      ],
      "execution_count": null,
      "outputs": [
        {
          "output_type": "execute_result",
          "data": {
            "text/html": [
              "<div>\n",
              "<style scoped>\n",
              "    .dataframe tbody tr th:only-of-type {\n",
              "        vertical-align: middle;\n",
              "    }\n",
              "\n",
              "    .dataframe tbody tr th {\n",
              "        vertical-align: top;\n",
              "    }\n",
              "\n",
              "    .dataframe thead th {\n",
              "        text-align: right;\n",
              "    }\n",
              "</style>\n",
              "<table border=\"1\" class=\"dataframe\">\n",
              "  <thead>\n",
              "    <tr style=\"text-align: right;\">\n",
              "      <th></th>\n",
              "      <th>irony_label</th>\n",
              "      <th>exclamation</th>\n",
              "    </tr>\n",
              "  </thead>\n",
              "  <tbody>\n",
              "    <tr>\n",
              "      <th>irony_label</th>\n",
              "      <td>1.00000</td>\n",
              "      <td>0.01539</td>\n",
              "    </tr>\n",
              "    <tr>\n",
              "      <th>exclamation</th>\n",
              "      <td>0.01539</td>\n",
              "      <td>1.00000</td>\n",
              "    </tr>\n",
              "  </tbody>\n",
              "</table>\n",
              "</div>"
            ],
            "text/plain": [
              "             irony_label  exclamation\n",
              "irony_label      1.00000      0.01539\n",
              "exclamation      0.01539      1.00000"
            ]
          },
          "metadata": {
            "tags": []
          },
          "execution_count": 82
        }
      ]
    },
    {
      "cell_type": "code",
      "metadata": {
        "colab": {
          "base_uri": "https://localhost:8080/"
        },
        "id": "aAxzIsFvQ2My",
        "outputId": "3f48920e-31fa-4d72-f841-6321c2d36e58"
      },
      "source": [
        "# list of 1s and 0s\n",
        "# irony lables of the tweets that DO contain the feature\n",
        "corr_list_excl = []\n",
        "for i in range(len(y_train)):\n",
        "    if exclamation[i] == 1:\n",
        "        corr_list_excl.append(y_train[i])\n",
        "\n",
        "print(corr_list_excl.count(0))\n",
        "print(corr_list_excl.count(1))"
      ],
      "execution_count": null,
      "outputs": [
        {
          "output_type": "stream",
          "text": [
            "310\n",
            "330\n"
          ],
          "name": "stdout"
        }
      ]
    },
    {
      "cell_type": "code",
      "metadata": {
        "colab": {
          "base_uri": "https://localhost:8080/"
        },
        "id": "NsldF6IaQ2My",
        "outputId": "acb60337-14b3-4094-9fa2-c0c9cd4dce94"
      },
      "source": [
        "p_ironic_excl = round(corr_list_excl.count(1)*100/(corr_list_excl.count(0)+corr_list_excl.count(1)),2)\n",
        "\n",
        "print(\"Out of the tweets that contain the feature <exclamation>,\", p_ironic_excl, \"% are ironic\")"
      ],
      "execution_count": null,
      "outputs": [
        {
          "output_type": "stream",
          "text": [
            "Out of the tweets that contain the feature <exclamation>, 51.56 % are ironic\n"
          ],
          "name": "stdout"
        }
      ]
    },
    {
      "cell_type": "code",
      "metadata": {
        "colab": {
          "base_uri": "https://localhost:8080/",
          "height": 864
        },
        "id": "mcydlyp9EToe",
        "outputId": "bc622de5-d57e-4abe-d3c4-7a1bf376f11d"
      },
      "source": [
        "# Tweets where both irony label and feature are 1\n",
        "# (ironic tweets that contain feature)\n",
        "df_feat.loc[(df_feat['exclamation'] == 1) & (df_feat['irony_label'] == 1)]"
      ],
      "execution_count": null,
      "outputs": [
        {
          "output_type": "execute_result",
          "data": {
            "text/html": [
              "<div>\n",
              "<style scoped>\n",
              "    .dataframe tbody tr th:only-of-type {\n",
              "        vertical-align: middle;\n",
              "    }\n",
              "\n",
              "    .dataframe tbody tr th {\n",
              "        vertical-align: top;\n",
              "    }\n",
              "\n",
              "    .dataframe thead th {\n",
              "        text-align: right;\n",
              "    }\n",
              "</style>\n",
              "<table border=\"1\" class=\"dataframe\">\n",
              "  <thead>\n",
              "    <tr style=\"text-align: right;\">\n",
              "      <th></th>\n",
              "      <th>index</th>\n",
              "      <th>irony_label</th>\n",
              "      <th>tweet</th>\n",
              "      <th>all_caps</th>\n",
              "      <th>ellipsis</th>\n",
              "      <th>pol_change</th>\n",
              "      <th>laugh</th>\n",
              "      <th>emojis</th>\n",
              "      <th>interjection</th>\n",
              "      <th>exclamation</th>\n",
              "    </tr>\n",
              "  </thead>\n",
              "  <tbody>\n",
              "    <tr>\n",
              "      <th>2</th>\n",
              "      <td>3</td>\n",
              "      <td>1</td>\n",
              "      <td>Hey there! Nice to see you Minnesota/ND Winter...</td>\n",
              "      <td>0</td>\n",
              "      <td>0</td>\n",
              "      <td>0</td>\n",
              "      <td>0</td>\n",
              "      <td>0</td>\n",
              "      <td>0</td>\n",
              "      <td>1</td>\n",
              "    </tr>\n",
              "    <tr>\n",
              "      <th>4</th>\n",
              "      <td>5</td>\n",
              "      <td>1</td>\n",
              "      <td>I can't breathe! was chosen as the most notabl...</td>\n",
              "      <td>0</td>\n",
              "      <td>0</td>\n",
              "      <td>0</td>\n",
              "      <td>0</td>\n",
              "      <td>0</td>\n",
              "      <td>0</td>\n",
              "      <td>1</td>\n",
              "    </tr>\n",
              "    <tr>\n",
              "      <th>19</th>\n",
              "      <td>20</td>\n",
              "      <td>1</td>\n",
              "      <td>But @DarklightDave was trying to find us, and ...</td>\n",
              "      <td>0</td>\n",
              "      <td>0</td>\n",
              "      <td>0</td>\n",
              "      <td>0</td>\n",
              "      <td>0</td>\n",
              "      <td>0</td>\n",
              "      <td>1</td>\n",
              "    </tr>\n",
              "    <tr>\n",
              "      <th>24</th>\n",
              "      <td>25</td>\n",
              "      <td>1</td>\n",
              "      <td>Love these cold winter mornings 😬 best feeling...</td>\n",
              "      <td>0</td>\n",
              "      <td>0</td>\n",
              "      <td>1</td>\n",
              "      <td>0</td>\n",
              "      <td>1</td>\n",
              "      <td>0</td>\n",
              "      <td>1</td>\n",
              "    </tr>\n",
              "    <tr>\n",
              "      <th>42</th>\n",
              "      <td>43</td>\n",
              "      <td>1</td>\n",
              "      <td>HaHaHaHa!! #hypocrisy  \"MT @Independent: Katie...</td>\n",
              "      <td>0</td>\n",
              "      <td>1</td>\n",
              "      <td>0</td>\n",
              "      <td>1</td>\n",
              "      <td>0</td>\n",
              "      <td>0</td>\n",
              "      <td>1</td>\n",
              "    </tr>\n",
              "    <tr>\n",
              "      <th>...</th>\n",
              "      <td>...</td>\n",
              "      <td>...</td>\n",
              "      <td>...</td>\n",
              "      <td>...</td>\n",
              "      <td>...</td>\n",
              "      <td>...</td>\n",
              "      <td>...</td>\n",
              "      <td>...</td>\n",
              "      <td>...</td>\n",
              "      <td>...</td>\n",
              "    </tr>\n",
              "    <tr>\n",
              "      <th>3741</th>\n",
              "      <td>3742</td>\n",
              "      <td>1</td>\n",
              "      <td>Hit Them Angles And Duck Face To Hide Those Wr...</td>\n",
              "      <td>0</td>\n",
              "      <td>0</td>\n",
              "      <td>0</td>\n",
              "      <td>0</td>\n",
              "      <td>0</td>\n",
              "      <td>0</td>\n",
              "      <td>1</td>\n",
              "    </tr>\n",
              "    <tr>\n",
              "      <th>3764</th>\n",
              "      <td>3765</td>\n",
              "      <td>1</td>\n",
              "      <td>And then today was 💩. What a surprise!  #2of6 ...</td>\n",
              "      <td>0</td>\n",
              "      <td>0</td>\n",
              "      <td>0</td>\n",
              "      <td>0</td>\n",
              "      <td>1</td>\n",
              "      <td>0</td>\n",
              "      <td>1</td>\n",
              "    </tr>\n",
              "    <tr>\n",
              "      <th>3768</th>\n",
              "      <td>3769</td>\n",
              "      <td>1</td>\n",
              "      <td>@VictoriasSecret @taylorswift13 really? My res...</td>\n",
              "      <td>0</td>\n",
              "      <td>0</td>\n",
              "      <td>0</td>\n",
              "      <td>0</td>\n",
              "      <td>0</td>\n",
              "      <td>0</td>\n",
              "      <td>1</td>\n",
              "    </tr>\n",
              "    <tr>\n",
              "      <th>3808</th>\n",
              "      <td>3809</td>\n",
              "      <td>1</td>\n",
              "      <td>@BBCRadMac @StuartMaconie years ago in M &amp;&amp; S ...</td>\n",
              "      <td>0</td>\n",
              "      <td>0</td>\n",
              "      <td>0</td>\n",
              "      <td>0</td>\n",
              "      <td>0</td>\n",
              "      <td>0</td>\n",
              "      <td>1</td>\n",
              "    </tr>\n",
              "    <tr>\n",
              "      <th>3827</th>\n",
              "      <td>3828</td>\n",
              "      <td>1</td>\n",
              "      <td>@flippysgardenia IKR?! don't you see? he's gon...</td>\n",
              "      <td>0</td>\n",
              "      <td>0</td>\n",
              "      <td>0</td>\n",
              "      <td>0</td>\n",
              "      <td>0</td>\n",
              "      <td>0</td>\n",
              "      <td>1</td>\n",
              "    </tr>\n",
              "  </tbody>\n",
              "</table>\n",
              "<p>330 rows × 10 columns</p>\n",
              "</div>"
            ],
            "text/plain": [
              "      index  irony_label  ... interjection  exclamation\n",
              "2         3            1  ...            0            1\n",
              "4         5            1  ...            0            1\n",
              "19       20            1  ...            0            1\n",
              "24       25            1  ...            0            1\n",
              "42       43            1  ...            0            1\n",
              "...     ...          ...  ...          ...          ...\n",
              "3741   3742            1  ...            0            1\n",
              "3764   3765            1  ...            0            1\n",
              "3768   3769            1  ...            0            1\n",
              "3808   3809            1  ...            0            1\n",
              "3827   3828            1  ...            0            1\n",
              "\n",
              "[330 rows x 10 columns]"
            ]
          },
          "metadata": {
            "tags": []
          },
          "execution_count": 85
        }
      ]
    },
    {
      "cell_type": "code",
      "metadata": {
        "colab": {
          "base_uri": "https://localhost:8080/"
        },
        "id": "s8FM_tfwETom",
        "outputId": "f61a91af-f927-4bda-abe9-31adcff94cc5"
      },
      "source": [
        "num_ironic_tweets_exclamation = len(df_feat.loc[(df_feat['exclamation'] == 1) & \n",
        "                                                (df_feat['irony_label'] == 1)])\n",
        "\n",
        "p_exclamation = round((num_ironic_tweets_exclamation / tot_ironic_tweets * 100), 2)\n",
        "\n",
        "print(\"Ironic tweets contain the feature <exclamation>\", p_exclamation, \"% of the times\")"
      ],
      "execution_count": null,
      "outputs": [
        {
          "output_type": "stream",
          "text": [
            "Ironic tweets contain the feature <exclamation> 17.27 % of the times\n"
          ],
          "name": "stdout"
        }
      ]
    },
    {
      "cell_type": "markdown",
      "metadata": {
        "id": "1JiHA-NAR3MU"
      },
      "source": [
        "###Hard exclamation"
      ]
    },
    {
      "cell_type": "code",
      "metadata": {
        "id": "ihvYbXPsMnod"
      },
      "source": [
        "# Takes a dataset as input and returns a list of 1s and 0s,\n",
        "# indicating which index correspond to a tweet that contains the feature\n",
        "def get_hard_exclamation(dataset):\n",
        "    hard_exclamation = []\n",
        "\n",
        "    for tweet in dataset:\n",
        "        #match 2 or more exclamation marks --> change to 3?\n",
        "        hard_ex = int(bool(re.search(\"!{2,}\", tweet)))\n",
        "        if hard_ex == 1:\n",
        "            hard_exclamation.append(1)\n",
        "        else:\n",
        "            hard_exclamation.append(0)\n",
        "    \n",
        "    return hard_exclamation"
      ],
      "execution_count": null,
      "outputs": []
    },
    {
      "cell_type": "code",
      "metadata": {
        "id": "Hfa0u8rPMz9u"
      },
      "source": [
        "hard_exclamation = get_hard_exclamation(x_train_mod4)"
      ],
      "execution_count": null,
      "outputs": []
    },
    {
      "cell_type": "code",
      "metadata": {
        "colab": {
          "base_uri": "https://localhost:8080/"
        },
        "id": "rYtTuVElMyfO",
        "outputId": "45865dc8-a5ec-4372-96f0-6d932c909c2e"
      },
      "source": [
        "# Number of tweets with feature ellipsis\n",
        "print(hard_exclamation.count(0))\n",
        "print(hard_exclamation.count(1))"
      ],
      "execution_count": null,
      "outputs": [
        {
          "output_type": "stream",
          "text": [
            "3683\n",
            "151\n"
          ],
          "name": "stdout"
        }
      ]
    },
    {
      "cell_type": "code",
      "metadata": {
        "colab": {
          "base_uri": "https://localhost:8080/",
          "height": 496
        },
        "id": "iH25oTlwR3Me",
        "outputId": "d0235d38-e2ac-47bf-dea9-06978482c38b"
      },
      "source": [
        "# add column to feature dataset\n",
        "df_feat['hard_exclamation'] = hard_exclamation\n",
        "df_feat.head()"
      ],
      "execution_count": null,
      "outputs": [
        {
          "output_type": "execute_result",
          "data": {
            "text/html": [
              "<div>\n",
              "<style scoped>\n",
              "    .dataframe tbody tr th:only-of-type {\n",
              "        vertical-align: middle;\n",
              "    }\n",
              "\n",
              "    .dataframe tbody tr th {\n",
              "        vertical-align: top;\n",
              "    }\n",
              "\n",
              "    .dataframe thead th {\n",
              "        text-align: right;\n",
              "    }\n",
              "</style>\n",
              "<table border=\"1\" class=\"dataframe\">\n",
              "  <thead>\n",
              "    <tr style=\"text-align: right;\">\n",
              "      <th></th>\n",
              "      <th>index</th>\n",
              "      <th>irony_label</th>\n",
              "      <th>tweet</th>\n",
              "      <th>all_caps</th>\n",
              "      <th>ellipsis</th>\n",
              "      <th>pol_change</th>\n",
              "      <th>laugh</th>\n",
              "      <th>emojis</th>\n",
              "      <th>interjection</th>\n",
              "      <th>exclamation</th>\n",
              "      <th>hard_exclamation</th>\n",
              "    </tr>\n",
              "  </thead>\n",
              "  <tbody>\n",
              "    <tr>\n",
              "      <th>0</th>\n",
              "      <td>1</td>\n",
              "      <td>1</td>\n",
              "      <td>Sweet United Nations video. Just in time for C...</td>\n",
              "      <td>0</td>\n",
              "      <td>0</td>\n",
              "      <td>0</td>\n",
              "      <td>0</td>\n",
              "      <td>0</td>\n",
              "      <td>0</td>\n",
              "      <td>0</td>\n",
              "      <td>0</td>\n",
              "    </tr>\n",
              "    <tr>\n",
              "      <th>1</th>\n",
              "      <td>2</td>\n",
              "      <td>1</td>\n",
              "      <td>@mrdahl87 We are rumored to have talked to Erv...</td>\n",
              "      <td>0</td>\n",
              "      <td>1</td>\n",
              "      <td>0</td>\n",
              "      <td>0</td>\n",
              "      <td>0</td>\n",
              "      <td>0</td>\n",
              "      <td>0</td>\n",
              "      <td>0</td>\n",
              "    </tr>\n",
              "    <tr>\n",
              "      <th>2</th>\n",
              "      <td>3</td>\n",
              "      <td>1</td>\n",
              "      <td>Hey there! Nice to see you Minnesota/ND Winter...</td>\n",
              "      <td>0</td>\n",
              "      <td>0</td>\n",
              "      <td>0</td>\n",
              "      <td>0</td>\n",
              "      <td>0</td>\n",
              "      <td>0</td>\n",
              "      <td>1</td>\n",
              "      <td>0</td>\n",
              "    </tr>\n",
              "    <tr>\n",
              "      <th>3</th>\n",
              "      <td>4</td>\n",
              "      <td>0</td>\n",
              "      <td>3 episodes left I'm dying over here</td>\n",
              "      <td>0</td>\n",
              "      <td>0</td>\n",
              "      <td>0</td>\n",
              "      <td>0</td>\n",
              "      <td>0</td>\n",
              "      <td>0</td>\n",
              "      <td>0</td>\n",
              "      <td>0</td>\n",
              "    </tr>\n",
              "    <tr>\n",
              "      <th>4</th>\n",
              "      <td>5</td>\n",
              "      <td>1</td>\n",
              "      <td>I can't breathe! was chosen as the most notabl...</td>\n",
              "      <td>0</td>\n",
              "      <td>0</td>\n",
              "      <td>0</td>\n",
              "      <td>0</td>\n",
              "      <td>0</td>\n",
              "      <td>0</td>\n",
              "      <td>1</td>\n",
              "      <td>0</td>\n",
              "    </tr>\n",
              "  </tbody>\n",
              "</table>\n",
              "</div>"
            ],
            "text/plain": [
              "   index  irony_label  ... exclamation  hard_exclamation\n",
              "0      1            1  ...           0                 0\n",
              "1      2            1  ...           0                 0\n",
              "2      3            1  ...           1                 0\n",
              "3      4            0  ...           0                 0\n",
              "4      5            1  ...           1                 0\n",
              "\n",
              "[5 rows x 11 columns]"
            ]
          },
          "metadata": {
            "tags": []
          },
          "execution_count": 90
        }
      ]
    },
    {
      "cell_type": "code",
      "metadata": {
        "colab": {
          "base_uri": "https://localhost:8080/",
          "height": 111
        },
        "id": "E2AVpLTpR3Me",
        "outputId": "dc0fb108-3128-4efe-8f6c-02e36e535e41"
      },
      "source": [
        "# calculate correlation between the irony labels and the feature\n",
        "# -1 indicates a perfectly negative linear correlation between two variables\n",
        "# 0 indicates no linear correlation between two variables\n",
        "# 1 indicates a perfectly positive linear correlation between two variables\n",
        "df_feat[['irony_label', 'hard_exclamation']].corr()"
      ],
      "execution_count": null,
      "outputs": [
        {
          "output_type": "execute_result",
          "data": {
            "text/html": [
              "<div>\n",
              "<style scoped>\n",
              "    .dataframe tbody tr th:only-of-type {\n",
              "        vertical-align: middle;\n",
              "    }\n",
              "\n",
              "    .dataframe tbody tr th {\n",
              "        vertical-align: top;\n",
              "    }\n",
              "\n",
              "    .dataframe thead th {\n",
              "        text-align: right;\n",
              "    }\n",
              "</style>\n",
              "<table border=\"1\" class=\"dataframe\">\n",
              "  <thead>\n",
              "    <tr style=\"text-align: right;\">\n",
              "      <th></th>\n",
              "      <th>irony_label</th>\n",
              "      <th>hard_exclamation</th>\n",
              "    </tr>\n",
              "  </thead>\n",
              "  <tbody>\n",
              "    <tr>\n",
              "      <th>irony_label</th>\n",
              "      <td>1.000000</td>\n",
              "      <td>0.020748</td>\n",
              "    </tr>\n",
              "    <tr>\n",
              "      <th>hard_exclamation</th>\n",
              "      <td>0.020748</td>\n",
              "      <td>1.000000</td>\n",
              "    </tr>\n",
              "  </tbody>\n",
              "</table>\n",
              "</div>"
            ],
            "text/plain": [
              "                  irony_label  hard_exclamation\n",
              "irony_label          1.000000          0.020748\n",
              "hard_exclamation     0.020748          1.000000"
            ]
          },
          "metadata": {
            "tags": []
          },
          "execution_count": 91
        }
      ]
    },
    {
      "cell_type": "code",
      "metadata": {
        "colab": {
          "base_uri": "https://localhost:8080/"
        },
        "id": "ZmW8lwLLR3Me",
        "outputId": "5865a1d2-36cb-4c57-bb58-fefda0b0dbb3"
      },
      "source": [
        "# list of 1s and 0s\n",
        "# irony lables of the tweets that DO contain the feature\n",
        "corr_list_hard_excl = []\n",
        "for i in range(len(y_train)):\n",
        "    if hard_exclamation[i] == 1:\n",
        "        corr_list_hard_excl.append(y_train[i])\n",
        "\n",
        "print(corr_list_hard_excl.count(0))\n",
        "print(corr_list_hard_excl.count(1))"
      ],
      "execution_count": null,
      "outputs": [
        {
          "output_type": "stream",
          "text": [
            "68\n",
            "83\n"
          ],
          "name": "stdout"
        }
      ]
    },
    {
      "cell_type": "code",
      "metadata": {
        "colab": {
          "base_uri": "https://localhost:8080/"
        },
        "id": "RDe1VkhmR3Mf",
        "outputId": "d5619892-c5a8-4584-d573-b892390183c0"
      },
      "source": [
        "p_ironic_hard_ex = round(corr_list_hard_excl.count(1)*100/(corr_list_hard_excl.count(0)+corr_list_hard_excl.count(1)),2)\n",
        "\n",
        "print(\"Out of the tweets that contain the feature <hard_exclamation>,\", p_ironic_hard_ex, \"% are ironic\")"
      ],
      "execution_count": null,
      "outputs": [
        {
          "output_type": "stream",
          "text": [
            "Out of the tweets that contain the feature <hard_exclamation>, 54.97 % are ironic\n"
          ],
          "name": "stdout"
        }
      ]
    },
    {
      "cell_type": "code",
      "metadata": {
        "colab": {
          "base_uri": "https://localhost:8080/",
          "height": 796
        },
        "id": "WXsfpJ4sElr9",
        "outputId": "25221b3f-d008-4602-b3f2-79588392375d"
      },
      "source": [
        "# Tweets where both irony label and feature are 1\n",
        "# (ironic tweets that contain feature)\n",
        "df_feat.loc[(df_feat['hard_exclamation'] == 1) & (df_feat['irony_label'] == 1)]"
      ],
      "execution_count": null,
      "outputs": [
        {
          "output_type": "execute_result",
          "data": {
            "text/html": [
              "<div>\n",
              "<style scoped>\n",
              "    .dataframe tbody tr th:only-of-type {\n",
              "        vertical-align: middle;\n",
              "    }\n",
              "\n",
              "    .dataframe tbody tr th {\n",
              "        vertical-align: top;\n",
              "    }\n",
              "\n",
              "    .dataframe thead th {\n",
              "        text-align: right;\n",
              "    }\n",
              "</style>\n",
              "<table border=\"1\" class=\"dataframe\">\n",
              "  <thead>\n",
              "    <tr style=\"text-align: right;\">\n",
              "      <th></th>\n",
              "      <th>index</th>\n",
              "      <th>irony_label</th>\n",
              "      <th>tweet</th>\n",
              "      <th>all_caps</th>\n",
              "      <th>ellipsis</th>\n",
              "      <th>pol_change</th>\n",
              "      <th>laugh</th>\n",
              "      <th>emojis</th>\n",
              "      <th>interjection</th>\n",
              "      <th>exclamation</th>\n",
              "      <th>hard_exclamation</th>\n",
              "    </tr>\n",
              "  </thead>\n",
              "  <tbody>\n",
              "    <tr>\n",
              "      <th>19</th>\n",
              "      <td>20</td>\n",
              "      <td>1</td>\n",
              "      <td>But @DarklightDave was trying to find us, and ...</td>\n",
              "      <td>0</td>\n",
              "      <td>0</td>\n",
              "      <td>0</td>\n",
              "      <td>0</td>\n",
              "      <td>0</td>\n",
              "      <td>0</td>\n",
              "      <td>1</td>\n",
              "      <td>1</td>\n",
              "    </tr>\n",
              "    <tr>\n",
              "      <th>42</th>\n",
              "      <td>43</td>\n",
              "      <td>1</td>\n",
              "      <td>HaHaHaHa!! #hypocrisy  \"MT @Independent: Katie...</td>\n",
              "      <td>0</td>\n",
              "      <td>1</td>\n",
              "      <td>0</td>\n",
              "      <td>1</td>\n",
              "      <td>0</td>\n",
              "      <td>0</td>\n",
              "      <td>1</td>\n",
              "      <td>1</td>\n",
              "    </tr>\n",
              "    <tr>\n",
              "      <th>69</th>\n",
              "      <td>70</td>\n",
              "      <td>1</td>\n",
              "      <td>Just delivered @DominiqueAnsel #cronuts to @Bo...</td>\n",
              "      <td>0</td>\n",
              "      <td>0</td>\n",
              "      <td>0</td>\n",
              "      <td>0</td>\n",
              "      <td>0</td>\n",
              "      <td>0</td>\n",
              "      <td>1</td>\n",
              "      <td>1</td>\n",
              "    </tr>\n",
              "    <tr>\n",
              "      <th>72</th>\n",
              "      <td>73</td>\n",
              "      <td>1</td>\n",
              "      <td>@MaggieLindemann: . @xSamSecrets123 awk moment...</td>\n",
              "      <td>0</td>\n",
              "      <td>0</td>\n",
              "      <td>0</td>\n",
              "      <td>0</td>\n",
              "      <td>0</td>\n",
              "      <td>0</td>\n",
              "      <td>1</td>\n",
              "      <td>1</td>\n",
              "    </tr>\n",
              "    <tr>\n",
              "      <th>79</th>\n",
              "      <td>80</td>\n",
              "      <td>1</td>\n",
              "      <td>.@nypost .@Cameron_Gray Oh that makes it all b...</td>\n",
              "      <td>0</td>\n",
              "      <td>0</td>\n",
              "      <td>0</td>\n",
              "      <td>0</td>\n",
              "      <td>0</td>\n",
              "      <td>0</td>\n",
              "      <td>1</td>\n",
              "      <td>1</td>\n",
              "    </tr>\n",
              "    <tr>\n",
              "      <th>...</th>\n",
              "      <td>...</td>\n",
              "      <td>...</td>\n",
              "      <td>...</td>\n",
              "      <td>...</td>\n",
              "      <td>...</td>\n",
              "      <td>...</td>\n",
              "      <td>...</td>\n",
              "      <td>...</td>\n",
              "      <td>...</td>\n",
              "      <td>...</td>\n",
              "      <td>...</td>\n",
              "    </tr>\n",
              "    <tr>\n",
              "      <th>3531</th>\n",
              "      <td>3532</td>\n",
              "      <td>1</td>\n",
              "      <td>Got up early to get the earlier bus , &amp; I miss...</td>\n",
              "      <td>0</td>\n",
              "      <td>1</td>\n",
              "      <td>0</td>\n",
              "      <td>0</td>\n",
              "      <td>0</td>\n",
              "      <td>0</td>\n",
              "      <td>1</td>\n",
              "      <td>1</td>\n",
              "    </tr>\n",
              "    <tr>\n",
              "      <th>3547</th>\n",
              "      <td>3548</td>\n",
              "      <td>1</td>\n",
              "      <td>@Olivian_Forever oh yeah!!! 2nd :D #HoldTheApp...</td>\n",
              "      <td>0</td>\n",
              "      <td>0</td>\n",
              "      <td>0</td>\n",
              "      <td>1</td>\n",
              "      <td>0</td>\n",
              "      <td>0</td>\n",
              "      <td>1</td>\n",
              "      <td>1</td>\n",
              "    </tr>\n",
              "    <tr>\n",
              "      <th>3638</th>\n",
              "      <td>3639</td>\n",
              "      <td>1</td>\n",
              "      <td>@AlWashingnutt Yeah...me too!!!!! !! x</td>\n",
              "      <td>0</td>\n",
              "      <td>1</td>\n",
              "      <td>0</td>\n",
              "      <td>0</td>\n",
              "      <td>0</td>\n",
              "      <td>0</td>\n",
              "      <td>1</td>\n",
              "      <td>1</td>\n",
              "    </tr>\n",
              "    <tr>\n",
              "      <th>3714</th>\n",
              "      <td>3715</td>\n",
              "      <td>1</td>\n",
              "      <td>@MicksTaxis my favourite day of the year !!!! ...</td>\n",
              "      <td>0</td>\n",
              "      <td>0</td>\n",
              "      <td>0</td>\n",
              "      <td>0</td>\n",
              "      <td>0</td>\n",
              "      <td>0</td>\n",
              "      <td>1</td>\n",
              "      <td>1</td>\n",
              "    </tr>\n",
              "    <tr>\n",
              "      <th>3741</th>\n",
              "      <td>3742</td>\n",
              "      <td>1</td>\n",
              "      <td>Hit Them Angles And Duck Face To Hide Those Wr...</td>\n",
              "      <td>0</td>\n",
              "      <td>0</td>\n",
              "      <td>0</td>\n",
              "      <td>0</td>\n",
              "      <td>0</td>\n",
              "      <td>0</td>\n",
              "      <td>1</td>\n",
              "      <td>1</td>\n",
              "    </tr>\n",
              "  </tbody>\n",
              "</table>\n",
              "<p>83 rows × 11 columns</p>\n",
              "</div>"
            ],
            "text/plain": [
              "      index  irony_label  ... exclamation  hard_exclamation\n",
              "19       20            1  ...           1                 1\n",
              "42       43            1  ...           1                 1\n",
              "69       70            1  ...           1                 1\n",
              "72       73            1  ...           1                 1\n",
              "79       80            1  ...           1                 1\n",
              "...     ...          ...  ...         ...               ...\n",
              "3531   3532            1  ...           1                 1\n",
              "3547   3548            1  ...           1                 1\n",
              "3638   3639            1  ...           1                 1\n",
              "3714   3715            1  ...           1                 1\n",
              "3741   3742            1  ...           1                 1\n",
              "\n",
              "[83 rows x 11 columns]"
            ]
          },
          "metadata": {
            "tags": []
          },
          "execution_count": 94
        }
      ]
    },
    {
      "cell_type": "code",
      "metadata": {
        "colab": {
          "base_uri": "https://localhost:8080/"
        },
        "id": "JZe9B8_gElsI",
        "outputId": "c0cf96c9-111f-4e71-b73b-99be89d17414"
      },
      "source": [
        "num_ironic_tweets_hard_ex = len(df_feat.loc[(df_feat['hard_exclamation'] == 1) &\n",
        "                                            (df_feat['irony_label'] == 1)])\n",
        "\n",
        "p_hard_ex = round((num_ironic_tweets_hard_ex / tot_ironic_tweets * 100), 2)\n",
        "\n",
        "print(\"Ironic tweets contain the feature <exclamation>\", p_hard_ex, \"% of the times\")"
      ],
      "execution_count": null,
      "outputs": [
        {
          "output_type": "stream",
          "text": [
            "Ironic tweets contain the feature <exclamation> 4.34 % of the times\n"
          ],
          "name": "stdout"
        }
      ]
    },
    {
      "cell_type": "markdown",
      "metadata": {
        "id": "9O_eGQ6VS7Hc"
      },
      "source": [
        "###Interrogative"
      ]
    },
    {
      "cell_type": "code",
      "metadata": {
        "id": "WhGiuFE8M9UV"
      },
      "source": [
        "# Takes a dataset as input and returns a list of 1s and 0s,\n",
        "# indicating which index correspond to a tweet that contains the feature\n",
        "def get_interrogative(dataset):\n",
        "    interr = []\n",
        "\n",
        "    for tweet in dataset:\n",
        "        q = int(bool(re.search(\"\\?+\", tweet)))\n",
        "        if q == 1:\n",
        "            interr.append(1)\n",
        "        else:\n",
        "            interr.append(0)\n",
        "    \n",
        "    return interr"
      ],
      "execution_count": null,
      "outputs": []
    },
    {
      "cell_type": "code",
      "metadata": {
        "id": "0bBijcXENGEo"
      },
      "source": [
        "interr = get_interrogative(x_train_mod4)"
      ],
      "execution_count": null,
      "outputs": []
    },
    {
      "cell_type": "code",
      "metadata": {
        "colab": {
          "base_uri": "https://localhost:8080/"
        },
        "id": "qMgMXL9kNK1d",
        "outputId": "107a52a6-4786-4011-a199-621a87ef07de"
      },
      "source": [
        "# Number of tweets with feature interr\n",
        "print(interr.count(0))\n",
        "print(interr.count(1))"
      ],
      "execution_count": null,
      "outputs": [
        {
          "output_type": "stream",
          "text": [
            "3422\n",
            "412\n"
          ],
          "name": "stdout"
        }
      ]
    },
    {
      "cell_type": "code",
      "metadata": {
        "colab": {
          "base_uri": "https://localhost:8080/",
          "height": 496
        },
        "id": "_5w2uyLhS7Hn",
        "outputId": "1ed22741-42c9-4a4a-f4e2-76d4cb9f994a"
      },
      "source": [
        "# add column to feature dataset\n",
        "df_feat['interrogative'] = interr\n",
        "df_feat.head()"
      ],
      "execution_count": null,
      "outputs": [
        {
          "output_type": "execute_result",
          "data": {
            "text/html": [
              "<div>\n",
              "<style scoped>\n",
              "    .dataframe tbody tr th:only-of-type {\n",
              "        vertical-align: middle;\n",
              "    }\n",
              "\n",
              "    .dataframe tbody tr th {\n",
              "        vertical-align: top;\n",
              "    }\n",
              "\n",
              "    .dataframe thead th {\n",
              "        text-align: right;\n",
              "    }\n",
              "</style>\n",
              "<table border=\"1\" class=\"dataframe\">\n",
              "  <thead>\n",
              "    <tr style=\"text-align: right;\">\n",
              "      <th></th>\n",
              "      <th>index</th>\n",
              "      <th>irony_label</th>\n",
              "      <th>tweet</th>\n",
              "      <th>all_caps</th>\n",
              "      <th>ellipsis</th>\n",
              "      <th>pol_change</th>\n",
              "      <th>laugh</th>\n",
              "      <th>emojis</th>\n",
              "      <th>interjection</th>\n",
              "      <th>exclamation</th>\n",
              "      <th>hard_exclamation</th>\n",
              "      <th>interrogative</th>\n",
              "    </tr>\n",
              "  </thead>\n",
              "  <tbody>\n",
              "    <tr>\n",
              "      <th>0</th>\n",
              "      <td>1</td>\n",
              "      <td>1</td>\n",
              "      <td>Sweet United Nations video. Just in time for C...</td>\n",
              "      <td>0</td>\n",
              "      <td>0</td>\n",
              "      <td>0</td>\n",
              "      <td>0</td>\n",
              "      <td>0</td>\n",
              "      <td>0</td>\n",
              "      <td>0</td>\n",
              "      <td>0</td>\n",
              "      <td>0</td>\n",
              "    </tr>\n",
              "    <tr>\n",
              "      <th>1</th>\n",
              "      <td>2</td>\n",
              "      <td>1</td>\n",
              "      <td>@mrdahl87 We are rumored to have talked to Erv...</td>\n",
              "      <td>0</td>\n",
              "      <td>1</td>\n",
              "      <td>0</td>\n",
              "      <td>0</td>\n",
              "      <td>0</td>\n",
              "      <td>0</td>\n",
              "      <td>0</td>\n",
              "      <td>0</td>\n",
              "      <td>0</td>\n",
              "    </tr>\n",
              "    <tr>\n",
              "      <th>2</th>\n",
              "      <td>3</td>\n",
              "      <td>1</td>\n",
              "      <td>Hey there! Nice to see you Minnesota/ND Winter...</td>\n",
              "      <td>0</td>\n",
              "      <td>0</td>\n",
              "      <td>0</td>\n",
              "      <td>0</td>\n",
              "      <td>0</td>\n",
              "      <td>0</td>\n",
              "      <td>1</td>\n",
              "      <td>0</td>\n",
              "      <td>0</td>\n",
              "    </tr>\n",
              "    <tr>\n",
              "      <th>3</th>\n",
              "      <td>4</td>\n",
              "      <td>0</td>\n",
              "      <td>3 episodes left I'm dying over here</td>\n",
              "      <td>0</td>\n",
              "      <td>0</td>\n",
              "      <td>0</td>\n",
              "      <td>0</td>\n",
              "      <td>0</td>\n",
              "      <td>0</td>\n",
              "      <td>0</td>\n",
              "      <td>0</td>\n",
              "      <td>0</td>\n",
              "    </tr>\n",
              "    <tr>\n",
              "      <th>4</th>\n",
              "      <td>5</td>\n",
              "      <td>1</td>\n",
              "      <td>I can't breathe! was chosen as the most notabl...</td>\n",
              "      <td>0</td>\n",
              "      <td>0</td>\n",
              "      <td>0</td>\n",
              "      <td>0</td>\n",
              "      <td>0</td>\n",
              "      <td>0</td>\n",
              "      <td>1</td>\n",
              "      <td>0</td>\n",
              "      <td>0</td>\n",
              "    </tr>\n",
              "  </tbody>\n",
              "</table>\n",
              "</div>"
            ],
            "text/plain": [
              "   index  irony_label  ... hard_exclamation  interrogative\n",
              "0      1            1  ...                0              0\n",
              "1      2            1  ...                0              0\n",
              "2      3            1  ...                0              0\n",
              "3      4            0  ...                0              0\n",
              "4      5            1  ...                0              0\n",
              "\n",
              "[5 rows x 12 columns]"
            ]
          },
          "metadata": {
            "tags": []
          },
          "execution_count": 99
        }
      ]
    },
    {
      "cell_type": "code",
      "metadata": {
        "colab": {
          "base_uri": "https://localhost:8080/",
          "height": 111
        },
        "id": "HShuOF0bS7Hn",
        "outputId": "c633d9d3-f7bd-469f-b584-f44b6604eef3"
      },
      "source": [
        "# calculate correlation between the irony labels and the feature\n",
        "# -1 indicates a perfectly negative linear correlation between two variables\n",
        "# 0 indicates no linear correlation between two variables\n",
        "# 1 indicates a perfectly positive linear correlation between two variables\n",
        "df_feat[['irony_label', 'interrogative']].corr()"
      ],
      "execution_count": null,
      "outputs": [
        {
          "output_type": "execute_result",
          "data": {
            "text/html": [
              "<div>\n",
              "<style scoped>\n",
              "    .dataframe tbody tr th:only-of-type {\n",
              "        vertical-align: middle;\n",
              "    }\n",
              "\n",
              "    .dataframe tbody tr th {\n",
              "        vertical-align: top;\n",
              "    }\n",
              "\n",
              "    .dataframe thead th {\n",
              "        text-align: right;\n",
              "    }\n",
              "</style>\n",
              "<table border=\"1\" class=\"dataframe\">\n",
              "  <thead>\n",
              "    <tr style=\"text-align: right;\">\n",
              "      <th></th>\n",
              "      <th>irony_label</th>\n",
              "      <th>interrogative</th>\n",
              "    </tr>\n",
              "  </thead>\n",
              "  <tbody>\n",
              "    <tr>\n",
              "      <th>irony_label</th>\n",
              "      <td>1.00000</td>\n",
              "      <td>-0.05113</td>\n",
              "    </tr>\n",
              "    <tr>\n",
              "      <th>interrogative</th>\n",
              "      <td>-0.05113</td>\n",
              "      <td>1.00000</td>\n",
              "    </tr>\n",
              "  </tbody>\n",
              "</table>\n",
              "</div>"
            ],
            "text/plain": [
              "               irony_label  interrogative\n",
              "irony_label        1.00000       -0.05113\n",
              "interrogative     -0.05113        1.00000"
            ]
          },
          "metadata": {
            "tags": []
          },
          "execution_count": 100
        }
      ]
    },
    {
      "cell_type": "code",
      "metadata": {
        "colab": {
          "base_uri": "https://localhost:8080/"
        },
        "id": "5XKAahT-S7Ho",
        "outputId": "e252897c-e875-4b65-9193-1a6b3a74a6f1"
      },
      "source": [
        "# list of 1s and 0s\n",
        "# irony lables of the tweets that DO contain the feature\n",
        "corr_list_interr = []\n",
        "for i in range(len(y_train)):\n",
        "    if interr[i] == 1:\n",
        "        corr_list_interr.append(y_train[i])\n",
        "\n",
        "print(corr_list_interr.count(0))\n",
        "print(corr_list_interr.count(1))"
      ],
      "execution_count": null,
      "outputs": [
        {
          "output_type": "stream",
          "text": [
            "237\n",
            "175\n"
          ],
          "name": "stdout"
        }
      ]
    },
    {
      "cell_type": "code",
      "metadata": {
        "colab": {
          "base_uri": "https://localhost:8080/"
        },
        "id": "5LKX2vdPS7Ho",
        "outputId": "47e836bd-d2b6-4aee-d173-a0dc4d3f545b"
      },
      "source": [
        "p_ironic_interr = round(corr_list_interr.count(1)*100/(corr_list_interr.count(0)+corr_list_interr.count(1)),2)\n",
        "\n",
        "print(\"Out of the tweets that contain the feature <interrogative>,\", p_ironic_interr, \"% are ironic\")"
      ],
      "execution_count": null,
      "outputs": [
        {
          "output_type": "stream",
          "text": [
            "Out of the tweets that contain the feature <interrogative>, 42.48 % are ironic\n"
          ],
          "name": "stdout"
        }
      ]
    },
    {
      "cell_type": "code",
      "metadata": {
        "colab": {
          "base_uri": "https://localhost:8080/",
          "height": 898
        },
        "id": "ylxNtbrME73_",
        "outputId": "506bcbe3-a7b3-4ea0-d625-7c902b278abc"
      },
      "source": [
        "# Tweets where both irony label and feature are 1\n",
        "# (ironic tweets that contain feature)\n",
        "df_feat.loc[(df_feat['interrogative'] == 1) & (df_feat['irony_label'] == 1)]"
      ],
      "execution_count": null,
      "outputs": [
        {
          "output_type": "execute_result",
          "data": {
            "text/html": [
              "<div>\n",
              "<style scoped>\n",
              "    .dataframe tbody tr th:only-of-type {\n",
              "        vertical-align: middle;\n",
              "    }\n",
              "\n",
              "    .dataframe tbody tr th {\n",
              "        vertical-align: top;\n",
              "    }\n",
              "\n",
              "    .dataframe thead th {\n",
              "        text-align: right;\n",
              "    }\n",
              "</style>\n",
              "<table border=\"1\" class=\"dataframe\">\n",
              "  <thead>\n",
              "    <tr style=\"text-align: right;\">\n",
              "      <th></th>\n",
              "      <th>index</th>\n",
              "      <th>irony_label</th>\n",
              "      <th>tweet</th>\n",
              "      <th>all_caps</th>\n",
              "      <th>ellipsis</th>\n",
              "      <th>pol_change</th>\n",
              "      <th>laugh</th>\n",
              "      <th>emojis</th>\n",
              "      <th>interjection</th>\n",
              "      <th>exclamation</th>\n",
              "      <th>hard_exclamation</th>\n",
              "      <th>interrogative</th>\n",
              "    </tr>\n",
              "  </thead>\n",
              "  <tbody>\n",
              "    <tr>\n",
              "      <th>18</th>\n",
              "      <td>19</td>\n",
              "      <td>1</td>\n",
              "      <td>@YankeesWFAN @Ken_Rosenthal trading a SP for a...</td>\n",
              "      <td>0</td>\n",
              "      <td>0</td>\n",
              "      <td>0</td>\n",
              "      <td>0</td>\n",
              "      <td>0</td>\n",
              "      <td>0</td>\n",
              "      <td>0</td>\n",
              "      <td>0</td>\n",
              "      <td>1</td>\n",
              "    </tr>\n",
              "    <tr>\n",
              "      <th>19</th>\n",
              "      <td>20</td>\n",
              "      <td>1</td>\n",
              "      <td>But @DarklightDave was trying to find us, and ...</td>\n",
              "      <td>0</td>\n",
              "      <td>0</td>\n",
              "      <td>0</td>\n",
              "      <td>0</td>\n",
              "      <td>0</td>\n",
              "      <td>0</td>\n",
              "      <td>1</td>\n",
              "      <td>1</td>\n",
              "      <td>1</td>\n",
              "    </tr>\n",
              "    <tr>\n",
              "      <th>41</th>\n",
              "      <td>42</td>\n",
              "      <td>1</td>\n",
              "      <td>I THOUGHT WHAT WE HAD WAS REAL, HOW COULD YOU ...</td>\n",
              "      <td>0</td>\n",
              "      <td>0</td>\n",
              "      <td>0</td>\n",
              "      <td>0</td>\n",
              "      <td>0</td>\n",
              "      <td>0</td>\n",
              "      <td>0</td>\n",
              "      <td>0</td>\n",
              "      <td>1</td>\n",
              "    </tr>\n",
              "    <tr>\n",
              "      <th>64</th>\n",
              "      <td>65</td>\n",
              "      <td>1</td>\n",
              "      <td>Whatever happened to the Guano Apes? Did they ...</td>\n",
              "      <td>0</td>\n",
              "      <td>0</td>\n",
              "      <td>0</td>\n",
              "      <td>0</td>\n",
              "      <td>0</td>\n",
              "      <td>0</td>\n",
              "      <td>0</td>\n",
              "      <td>0</td>\n",
              "      <td>1</td>\n",
              "    </tr>\n",
              "    <tr>\n",
              "      <th>91</th>\n",
              "      <td>92</td>\n",
              "      <td>1</td>\n",
              "      <td>I have an idea, how about 911 operators don't ...</td>\n",
              "      <td>0</td>\n",
              "      <td>0</td>\n",
              "      <td>0</td>\n",
              "      <td>0</td>\n",
              "      <td>0</td>\n",
              "      <td>0</td>\n",
              "      <td>0</td>\n",
              "      <td>0</td>\n",
              "      <td>1</td>\n",
              "    </tr>\n",
              "    <tr>\n",
              "      <th>...</th>\n",
              "      <td>...</td>\n",
              "      <td>...</td>\n",
              "      <td>...</td>\n",
              "      <td>...</td>\n",
              "      <td>...</td>\n",
              "      <td>...</td>\n",
              "      <td>...</td>\n",
              "      <td>...</td>\n",
              "      <td>...</td>\n",
              "      <td>...</td>\n",
              "      <td>...</td>\n",
              "      <td>...</td>\n",
              "    </tr>\n",
              "    <tr>\n",
              "      <th>3762</th>\n",
              "      <td>3763</td>\n",
              "      <td>1</td>\n",
              "      <td>@Slate can you please book one of these appoin...</td>\n",
              "      <td>0</td>\n",
              "      <td>0</td>\n",
              "      <td>0</td>\n",
              "      <td>0</td>\n",
              "      <td>0</td>\n",
              "      <td>0</td>\n",
              "      <td>0</td>\n",
              "      <td>0</td>\n",
              "      <td>1</td>\n",
              "    </tr>\n",
              "    <tr>\n",
              "      <th>3768</th>\n",
              "      <td>3769</td>\n",
              "      <td>1</td>\n",
              "      <td>@VictoriasSecret @taylorswift13 really? My res...</td>\n",
              "      <td>0</td>\n",
              "      <td>0</td>\n",
              "      <td>0</td>\n",
              "      <td>0</td>\n",
              "      <td>0</td>\n",
              "      <td>0</td>\n",
              "      <td>1</td>\n",
              "      <td>0</td>\n",
              "      <td>1</td>\n",
              "    </tr>\n",
              "    <tr>\n",
              "      <th>3789</th>\n",
              "      <td>3790</td>\n",
              "      <td>1</td>\n",
              "      <td>.@sunrise how far back can I search my google ...</td>\n",
              "      <td>0</td>\n",
              "      <td>0</td>\n",
              "      <td>0</td>\n",
              "      <td>0</td>\n",
              "      <td>0</td>\n",
              "      <td>0</td>\n",
              "      <td>0</td>\n",
              "      <td>0</td>\n",
              "      <td>1</td>\n",
              "    </tr>\n",
              "    <tr>\n",
              "      <th>3791</th>\n",
              "      <td>3792</td>\n",
              "      <td>1</td>\n",
              "      <td>China calls US hypocritical on #humanrights bu...</td>\n",
              "      <td>0</td>\n",
              "      <td>0</td>\n",
              "      <td>0</td>\n",
              "      <td>0</td>\n",
              "      <td>0</td>\n",
              "      <td>0</td>\n",
              "      <td>0</td>\n",
              "      <td>0</td>\n",
              "      <td>1</td>\n",
              "    </tr>\n",
              "    <tr>\n",
              "      <th>3827</th>\n",
              "      <td>3828</td>\n",
              "      <td>1</td>\n",
              "      <td>@flippysgardenia IKR?! don't you see? he's gon...</td>\n",
              "      <td>0</td>\n",
              "      <td>0</td>\n",
              "      <td>0</td>\n",
              "      <td>0</td>\n",
              "      <td>0</td>\n",
              "      <td>0</td>\n",
              "      <td>1</td>\n",
              "      <td>0</td>\n",
              "      <td>1</td>\n",
              "    </tr>\n",
              "  </tbody>\n",
              "</table>\n",
              "<p>175 rows × 12 columns</p>\n",
              "</div>"
            ],
            "text/plain": [
              "      index  irony_label  ... hard_exclamation  interrogative\n",
              "18       19            1  ...                0              1\n",
              "19       20            1  ...                1              1\n",
              "41       42            1  ...                0              1\n",
              "64       65            1  ...                0              1\n",
              "91       92            1  ...                0              1\n",
              "...     ...          ...  ...              ...            ...\n",
              "3762   3763            1  ...                0              1\n",
              "3768   3769            1  ...                0              1\n",
              "3789   3790            1  ...                0              1\n",
              "3791   3792            1  ...                0              1\n",
              "3827   3828            1  ...                0              1\n",
              "\n",
              "[175 rows x 12 columns]"
            ]
          },
          "metadata": {
            "tags": []
          },
          "execution_count": 103
        }
      ]
    },
    {
      "cell_type": "code",
      "metadata": {
        "colab": {
          "base_uri": "https://localhost:8080/"
        },
        "id": "C-Nlu6fSE74N",
        "outputId": "a95aa4a7-8fa0-44fa-d2dd-ea26b73f47f8"
      },
      "source": [
        "num_ironic_tweets_interr = len(df_feat.loc[(df_feat['interrogative'] == 1) & \n",
        "                                           (df_feat['irony_label'] == 1)])\n",
        "\n",
        "p_interr = round((num_ironic_tweets_interr / tot_ironic_tweets * 100), 2)\n",
        "\n",
        "print(\"Ironic tweets contain the feature <interrogative>\", p_interr, \"% of the times\")"
      ],
      "execution_count": null,
      "outputs": [
        {
          "output_type": "stream",
          "text": [
            "Ironic tweets contain the feature <interrogative> 9.16 % of the times\n"
          ],
          "name": "stdout"
        }
      ]
    },
    {
      "cell_type": "markdown",
      "metadata": {
        "id": "aAV6W8sPS7Ho"
      },
      "source": [
        "###Hard interrogative"
      ]
    },
    {
      "cell_type": "code",
      "metadata": {
        "id": "oqINvI7oNO_O"
      },
      "source": [
        "# Takes a dataset as input and returns a list of 1s and 0s,\n",
        "# indicating which index correspond to a tweet that contains the feature\n",
        "def get_hard_interrogative(dataset):\n",
        "    hard_interr = []\n",
        "\n",
        "    for tweet in dataset:\n",
        "        #match 2 or more exclamation marks --> change to 3?\n",
        "        hard_q = int(bool(re.search(\"\\?{3,}\", tweet)))\n",
        "        if hard_q == 1:\n",
        "            hard_interr.append(1)\n",
        "        else:\n",
        "            hard_interr.append(0)\n",
        "\n",
        "    return hard_interr"
      ],
      "execution_count": null,
      "outputs": []
    },
    {
      "cell_type": "code",
      "metadata": {
        "id": "iiPYaeu-NZhB"
      },
      "source": [
        "hard_interr = get_hard_interrogative(x_train_mod4)"
      ],
      "execution_count": null,
      "outputs": []
    },
    {
      "cell_type": "code",
      "metadata": {
        "colab": {
          "base_uri": "https://localhost:8080/"
        },
        "id": "BWL-TGd_Nfau",
        "outputId": "6ebc0a48-66e8-4351-b6db-cc22c965c1dc"
      },
      "source": [
        "# Number of tweets with feature hard_interr\n",
        "print(hard_interr.count(0))\n",
        "print(hard_interr.count(1))"
      ],
      "execution_count": null,
      "outputs": [
        {
          "output_type": "stream",
          "text": [
            "3823\n",
            "11\n"
          ],
          "name": "stdout"
        }
      ]
    },
    {
      "cell_type": "code",
      "metadata": {
        "colab": {
          "base_uri": "https://localhost:8080/",
          "height": 496
        },
        "id": "sPsQjvUBS7Ho",
        "outputId": "10a98fff-cf9f-4f07-b801-e63f2e44855e"
      },
      "source": [
        "# add column to feature dataset\n",
        "df_feat['hard_interr'] = hard_interr\n",
        "df_feat.head()"
      ],
      "execution_count": null,
      "outputs": [
        {
          "output_type": "execute_result",
          "data": {
            "text/html": [
              "<div>\n",
              "<style scoped>\n",
              "    .dataframe tbody tr th:only-of-type {\n",
              "        vertical-align: middle;\n",
              "    }\n",
              "\n",
              "    .dataframe tbody tr th {\n",
              "        vertical-align: top;\n",
              "    }\n",
              "\n",
              "    .dataframe thead th {\n",
              "        text-align: right;\n",
              "    }\n",
              "</style>\n",
              "<table border=\"1\" class=\"dataframe\">\n",
              "  <thead>\n",
              "    <tr style=\"text-align: right;\">\n",
              "      <th></th>\n",
              "      <th>index</th>\n",
              "      <th>irony_label</th>\n",
              "      <th>tweet</th>\n",
              "      <th>all_caps</th>\n",
              "      <th>ellipsis</th>\n",
              "      <th>pol_change</th>\n",
              "      <th>laugh</th>\n",
              "      <th>emojis</th>\n",
              "      <th>interjection</th>\n",
              "      <th>exclamation</th>\n",
              "      <th>hard_exclamation</th>\n",
              "      <th>interrogative</th>\n",
              "      <th>hard_interr</th>\n",
              "    </tr>\n",
              "  </thead>\n",
              "  <tbody>\n",
              "    <tr>\n",
              "      <th>0</th>\n",
              "      <td>1</td>\n",
              "      <td>1</td>\n",
              "      <td>Sweet United Nations video. Just in time for C...</td>\n",
              "      <td>0</td>\n",
              "      <td>0</td>\n",
              "      <td>0</td>\n",
              "      <td>0</td>\n",
              "      <td>0</td>\n",
              "      <td>0</td>\n",
              "      <td>0</td>\n",
              "      <td>0</td>\n",
              "      <td>0</td>\n",
              "      <td>0</td>\n",
              "    </tr>\n",
              "    <tr>\n",
              "      <th>1</th>\n",
              "      <td>2</td>\n",
              "      <td>1</td>\n",
              "      <td>@mrdahl87 We are rumored to have talked to Erv...</td>\n",
              "      <td>0</td>\n",
              "      <td>1</td>\n",
              "      <td>0</td>\n",
              "      <td>0</td>\n",
              "      <td>0</td>\n",
              "      <td>0</td>\n",
              "      <td>0</td>\n",
              "      <td>0</td>\n",
              "      <td>0</td>\n",
              "      <td>0</td>\n",
              "    </tr>\n",
              "    <tr>\n",
              "      <th>2</th>\n",
              "      <td>3</td>\n",
              "      <td>1</td>\n",
              "      <td>Hey there! Nice to see you Minnesota/ND Winter...</td>\n",
              "      <td>0</td>\n",
              "      <td>0</td>\n",
              "      <td>0</td>\n",
              "      <td>0</td>\n",
              "      <td>0</td>\n",
              "      <td>0</td>\n",
              "      <td>1</td>\n",
              "      <td>0</td>\n",
              "      <td>0</td>\n",
              "      <td>0</td>\n",
              "    </tr>\n",
              "    <tr>\n",
              "      <th>3</th>\n",
              "      <td>4</td>\n",
              "      <td>0</td>\n",
              "      <td>3 episodes left I'm dying over here</td>\n",
              "      <td>0</td>\n",
              "      <td>0</td>\n",
              "      <td>0</td>\n",
              "      <td>0</td>\n",
              "      <td>0</td>\n",
              "      <td>0</td>\n",
              "      <td>0</td>\n",
              "      <td>0</td>\n",
              "      <td>0</td>\n",
              "      <td>0</td>\n",
              "    </tr>\n",
              "    <tr>\n",
              "      <th>4</th>\n",
              "      <td>5</td>\n",
              "      <td>1</td>\n",
              "      <td>I can't breathe! was chosen as the most notabl...</td>\n",
              "      <td>0</td>\n",
              "      <td>0</td>\n",
              "      <td>0</td>\n",
              "      <td>0</td>\n",
              "      <td>0</td>\n",
              "      <td>0</td>\n",
              "      <td>1</td>\n",
              "      <td>0</td>\n",
              "      <td>0</td>\n",
              "      <td>0</td>\n",
              "    </tr>\n",
              "  </tbody>\n",
              "</table>\n",
              "</div>"
            ],
            "text/plain": [
              "   index  irony_label  ... interrogative  hard_interr\n",
              "0      1            1  ...             0            0\n",
              "1      2            1  ...             0            0\n",
              "2      3            1  ...             0            0\n",
              "3      4            0  ...             0            0\n",
              "4      5            1  ...             0            0\n",
              "\n",
              "[5 rows x 13 columns]"
            ]
          },
          "metadata": {
            "tags": []
          },
          "execution_count": 108
        }
      ]
    },
    {
      "cell_type": "code",
      "metadata": {
        "colab": {
          "base_uri": "https://localhost:8080/",
          "height": 111
        },
        "id": "JMKM_-ydS7Hp",
        "outputId": "fb8c2127-53ce-4f6e-d0b0-5b665affdc95"
      },
      "source": [
        "# calculate correlation between the irony labels and the feature\n",
        "# -1 indicates a perfectly negative linear correlation between two variables\n",
        "# 0 indicates no linear correlation between two variables\n",
        "# 1 indicates a perfectly positive linear correlation between two variables\n",
        "df_feat[['irony_label', 'hard_interr']].corr()"
      ],
      "execution_count": null,
      "outputs": [
        {
          "output_type": "execute_result",
          "data": {
            "text/html": [
              "<div>\n",
              "<style scoped>\n",
              "    .dataframe tbody tr th:only-of-type {\n",
              "        vertical-align: middle;\n",
              "    }\n",
              "\n",
              "    .dataframe tbody tr th {\n",
              "        vertical-align: top;\n",
              "    }\n",
              "\n",
              "    .dataframe thead th {\n",
              "        text-align: right;\n",
              "    }\n",
              "</style>\n",
              "<table border=\"1\" class=\"dataframe\">\n",
              "  <thead>\n",
              "    <tr style=\"text-align: right;\">\n",
              "      <th></th>\n",
              "      <th>irony_label</th>\n",
              "      <th>hard_interr</th>\n",
              "    </tr>\n",
              "  </thead>\n",
              "  <tbody>\n",
              "    <tr>\n",
              "      <th>irony_label</th>\n",
              "      <td>1.000000</td>\n",
              "      <td>-0.004709</td>\n",
              "    </tr>\n",
              "    <tr>\n",
              "      <th>hard_interr</th>\n",
              "      <td>-0.004709</td>\n",
              "      <td>1.000000</td>\n",
              "    </tr>\n",
              "  </tbody>\n",
              "</table>\n",
              "</div>"
            ],
            "text/plain": [
              "             irony_label  hard_interr\n",
              "irony_label     1.000000    -0.004709\n",
              "hard_interr    -0.004709     1.000000"
            ]
          },
          "metadata": {
            "tags": []
          },
          "execution_count": 109
        }
      ]
    },
    {
      "cell_type": "code",
      "metadata": {
        "colab": {
          "base_uri": "https://localhost:8080/"
        },
        "id": "PWqTiuLCS7Hp",
        "outputId": "43fa48f6-94f6-4779-ea11-4b0a235838d5"
      },
      "source": [
        "# list of 1s and 0s\n",
        "# irony lables of the tweets that DO contain the feature\n",
        "corr_list_hard_interr = []\n",
        "for i in range(len(y_train)):\n",
        "    if hard_interr[i] == 1:\n",
        "        corr_list_hard_interr.append(y_train[i])\n",
        "\n",
        "print(corr_list_hard_interr.count(0))\n",
        "print(corr_list_hard_interr.count(1))"
      ],
      "execution_count": null,
      "outputs": [
        {
          "output_type": "stream",
          "text": [
            "6\n",
            "5\n"
          ],
          "name": "stdout"
        }
      ]
    },
    {
      "cell_type": "code",
      "metadata": {
        "colab": {
          "base_uri": "https://localhost:8080/"
        },
        "id": "zsbaWKvYS7Hq",
        "outputId": "ce98658d-24cc-4c59-a550-c854cd254e26"
      },
      "source": [
        "p_ironic_hard_interr = round(corr_list_hard_interr.count(1)*100/(corr_list_hard_interr.count(0)+corr_list_hard_interr.count(1)),2)\n",
        "\n",
        "print(\"Out of the tweets that contain the feature <hard_interr>,\", p_ironic_hard_interr, \"% are ironic\")"
      ],
      "execution_count": null,
      "outputs": [
        {
          "output_type": "stream",
          "text": [
            "Out of the tweets that contain the feature <hard_interr>, 45.45 % are ironic\n"
          ],
          "name": "stdout"
        }
      ]
    },
    {
      "cell_type": "code",
      "metadata": {
        "colab": {
          "base_uri": "https://localhost:8080/",
          "height": 479
        },
        "id": "Wsm4M-6NFUYm",
        "outputId": "91b30723-2d68-43e0-cf9c-ea9d239357ae"
      },
      "source": [
        "# Tweets where both irony label and feature are 1\n",
        "# (ironic tweets that contain feature)\n",
        "df_feat.loc[(df_feat['hard_interr'] == 1) & (df_feat['irony_label'] == 1)]"
      ],
      "execution_count": null,
      "outputs": [
        {
          "output_type": "execute_result",
          "data": {
            "text/html": [
              "<div>\n",
              "<style scoped>\n",
              "    .dataframe tbody tr th:only-of-type {\n",
              "        vertical-align: middle;\n",
              "    }\n",
              "\n",
              "    .dataframe tbody tr th {\n",
              "        vertical-align: top;\n",
              "    }\n",
              "\n",
              "    .dataframe thead th {\n",
              "        text-align: right;\n",
              "    }\n",
              "</style>\n",
              "<table border=\"1\" class=\"dataframe\">\n",
              "  <thead>\n",
              "    <tr style=\"text-align: right;\">\n",
              "      <th></th>\n",
              "      <th>index</th>\n",
              "      <th>irony_label</th>\n",
              "      <th>tweet</th>\n",
              "      <th>all_caps</th>\n",
              "      <th>ellipsis</th>\n",
              "      <th>pol_change</th>\n",
              "      <th>laugh</th>\n",
              "      <th>emojis</th>\n",
              "      <th>interjection</th>\n",
              "      <th>exclamation</th>\n",
              "      <th>hard_exclamation</th>\n",
              "      <th>interrogative</th>\n",
              "      <th>hard_interr</th>\n",
              "    </tr>\n",
              "  </thead>\n",
              "  <tbody>\n",
              "    <tr>\n",
              "      <th>747</th>\n",
              "      <td>748</td>\n",
              "      <td>1</td>\n",
              "      <td>@msmalcriada @ershannon Time to listen to ppl ...</td>\n",
              "      <td>0</td>\n",
              "      <td>0</td>\n",
              "      <td>0</td>\n",
              "      <td>0</td>\n",
              "      <td>0</td>\n",
              "      <td>0</td>\n",
              "      <td>1</td>\n",
              "      <td>1</td>\n",
              "      <td>1</td>\n",
              "      <td>1</td>\n",
              "    </tr>\n",
              "    <tr>\n",
              "      <th>2606</th>\n",
              "      <td>2607</td>\n",
              "      <td>1</td>\n",
              "      <td>WOW !!! Really ??? Homework in the weekends?! ...</td>\n",
              "      <td>0</td>\n",
              "      <td>0</td>\n",
              "      <td>0</td>\n",
              "      <td>0</td>\n",
              "      <td>1</td>\n",
              "      <td>0</td>\n",
              "      <td>1</td>\n",
              "      <td>1</td>\n",
              "      <td>1</td>\n",
              "      <td>1</td>\n",
              "    </tr>\n",
              "    <tr>\n",
              "      <th>3130</th>\n",
              "      <td>3131</td>\n",
              "      <td>1</td>\n",
              "      <td>@sunlorrie @ctv ??? #Liberal used in same sent...</td>\n",
              "      <td>0</td>\n",
              "      <td>0</td>\n",
              "      <td>0</td>\n",
              "      <td>0</td>\n",
              "      <td>0</td>\n",
              "      <td>0</td>\n",
              "      <td>1</td>\n",
              "      <td>1</td>\n",
              "      <td>1</td>\n",
              "      <td>1</td>\n",
              "    </tr>\n",
              "    <tr>\n",
              "      <th>3169</th>\n",
              "      <td>3170</td>\n",
              "      <td>1</td>\n",
              "      <td>Where's the Good Governance that we are ordere...</td>\n",
              "      <td>0</td>\n",
              "      <td>0</td>\n",
              "      <td>0</td>\n",
              "      <td>0</td>\n",
              "      <td>0</td>\n",
              "      <td>0</td>\n",
              "      <td>0</td>\n",
              "      <td>0</td>\n",
              "      <td>1</td>\n",
              "      <td>1</td>\n",
              "    </tr>\n",
              "    <tr>\n",
              "      <th>3696</th>\n",
              "      <td>3697</td>\n",
              "      <td>1</td>\n",
              "      <td>@muayguyblog @EFCworldwide what???? No verbal ...</td>\n",
              "      <td>0</td>\n",
              "      <td>0</td>\n",
              "      <td>0</td>\n",
              "      <td>0</td>\n",
              "      <td>0</td>\n",
              "      <td>0</td>\n",
              "      <td>0</td>\n",
              "      <td>0</td>\n",
              "      <td>1</td>\n",
              "      <td>1</td>\n",
              "    </tr>\n",
              "  </tbody>\n",
              "</table>\n",
              "</div>"
            ],
            "text/plain": [
              "      index  irony_label  ... interrogative  hard_interr\n",
              "747     748            1  ...             1            1\n",
              "2606   2607            1  ...             1            1\n",
              "3130   3131            1  ...             1            1\n",
              "3169   3170            1  ...             1            1\n",
              "3696   3697            1  ...             1            1\n",
              "\n",
              "[5 rows x 13 columns]"
            ]
          },
          "metadata": {
            "tags": []
          },
          "execution_count": 112
        }
      ]
    },
    {
      "cell_type": "code",
      "metadata": {
        "colab": {
          "base_uri": "https://localhost:8080/"
        },
        "id": "L4ogipAcFUYr",
        "outputId": "251e127b-76b4-4b91-8e67-616f9accecf3"
      },
      "source": [
        "num_ironic_tweets_hard_interr = len(df_feat.loc[(df_feat['hard_interr'] == 1) & \n",
        "                                                (df_feat['irony_label'] == 1)])\n",
        "\n",
        "p_hard_interr = round((num_ironic_tweets_hard_interr / tot_ironic_tweets * 100), 2)\n",
        "\n",
        "print(\"Ironic tweets contain the feature <hard_interr>\", p_hard_interr, \"% of the times\")"
      ],
      "execution_count": null,
      "outputs": [
        {
          "output_type": "stream",
          "text": [
            "Ironic tweets contain the feature <hard_interr> 0.26 % of the times\n"
          ],
          "name": "stdout"
        }
      ]
    },
    {
      "cell_type": "markdown",
      "metadata": {
        "id": "HetuLKT36UFn"
      },
      "source": [
        "###Tagged users"
      ]
    },
    {
      "cell_type": "code",
      "metadata": {
        "id": "XGuN8snA6hFl"
      },
      "source": [
        "# Takes a dataset as input and returns a list of 1s and 0s,\n",
        "# indicating which index correspond to a tweet that contains the feature\n",
        "def get_tagged_users(dataset):\n",
        "    tags = []\n",
        "\n",
        "    for tweet in dataset:\n",
        "        # not how many tags are present, but if at least one tag is present\n",
        "        tag = int(bool(re.search(\"@[a-zA-Z0-9]+\", tweet)))\n",
        "        if tag == 1:\n",
        "            tags.append(1)\n",
        "        else:\n",
        "            tags.append(0)\n",
        "            \n",
        "    return tags"
      ],
      "execution_count": null,
      "outputs": []
    },
    {
      "cell_type": "code",
      "metadata": {
        "colab": {
          "base_uri": "https://localhost:8080/"
        },
        "id": "5Oh-2ShO6hFq",
        "outputId": "1b70d6b9-5144-48d5-f959-06a7a416f95f"
      },
      "source": [
        "tags = get_tagged_users(x_train)\n",
        "\n",
        "# Number of tweets with feature ellipsis\n",
        "tags.count(1)"
      ],
      "execution_count": null,
      "outputs": [
        {
          "output_type": "execute_result",
          "data": {
            "text/plain": [
              "1521"
            ]
          },
          "metadata": {
            "tags": []
          },
          "execution_count": 115
        }
      ]
    },
    {
      "cell_type": "code",
      "metadata": {
        "colab": {
          "base_uri": "https://localhost:8080/",
          "height": 496
        },
        "id": "wVJVqf4w6hFs",
        "outputId": "f1a97833-eefd-4808-9953-7bb262174f7b"
      },
      "source": [
        "# add column to feature dataset\n",
        "df_feat['user_tag'] = tags\n",
        "df_feat.head()"
      ],
      "execution_count": null,
      "outputs": [
        {
          "output_type": "execute_result",
          "data": {
            "text/html": [
              "<div>\n",
              "<style scoped>\n",
              "    .dataframe tbody tr th:only-of-type {\n",
              "        vertical-align: middle;\n",
              "    }\n",
              "\n",
              "    .dataframe tbody tr th {\n",
              "        vertical-align: top;\n",
              "    }\n",
              "\n",
              "    .dataframe thead th {\n",
              "        text-align: right;\n",
              "    }\n",
              "</style>\n",
              "<table border=\"1\" class=\"dataframe\">\n",
              "  <thead>\n",
              "    <tr style=\"text-align: right;\">\n",
              "      <th></th>\n",
              "      <th>index</th>\n",
              "      <th>irony_label</th>\n",
              "      <th>tweet</th>\n",
              "      <th>all_caps</th>\n",
              "      <th>ellipsis</th>\n",
              "      <th>pol_change</th>\n",
              "      <th>laugh</th>\n",
              "      <th>emojis</th>\n",
              "      <th>interjection</th>\n",
              "      <th>exclamation</th>\n",
              "      <th>hard_exclamation</th>\n",
              "      <th>interrogative</th>\n",
              "      <th>hard_interr</th>\n",
              "      <th>user_tag</th>\n",
              "    </tr>\n",
              "  </thead>\n",
              "  <tbody>\n",
              "    <tr>\n",
              "      <th>0</th>\n",
              "      <td>1</td>\n",
              "      <td>1</td>\n",
              "      <td>Sweet United Nations video. Just in time for C...</td>\n",
              "      <td>0</td>\n",
              "      <td>0</td>\n",
              "      <td>0</td>\n",
              "      <td>0</td>\n",
              "      <td>0</td>\n",
              "      <td>0</td>\n",
              "      <td>0</td>\n",
              "      <td>0</td>\n",
              "      <td>0</td>\n",
              "      <td>0</td>\n",
              "      <td>0</td>\n",
              "    </tr>\n",
              "    <tr>\n",
              "      <th>1</th>\n",
              "      <td>2</td>\n",
              "      <td>1</td>\n",
              "      <td>@mrdahl87 We are rumored to have talked to Erv...</td>\n",
              "      <td>0</td>\n",
              "      <td>1</td>\n",
              "      <td>0</td>\n",
              "      <td>0</td>\n",
              "      <td>0</td>\n",
              "      <td>0</td>\n",
              "      <td>0</td>\n",
              "      <td>0</td>\n",
              "      <td>0</td>\n",
              "      <td>0</td>\n",
              "      <td>1</td>\n",
              "    </tr>\n",
              "    <tr>\n",
              "      <th>2</th>\n",
              "      <td>3</td>\n",
              "      <td>1</td>\n",
              "      <td>Hey there! Nice to see you Minnesota/ND Winter...</td>\n",
              "      <td>0</td>\n",
              "      <td>0</td>\n",
              "      <td>0</td>\n",
              "      <td>0</td>\n",
              "      <td>0</td>\n",
              "      <td>0</td>\n",
              "      <td>1</td>\n",
              "      <td>0</td>\n",
              "      <td>0</td>\n",
              "      <td>0</td>\n",
              "      <td>0</td>\n",
              "    </tr>\n",
              "    <tr>\n",
              "      <th>3</th>\n",
              "      <td>4</td>\n",
              "      <td>0</td>\n",
              "      <td>3 episodes left I'm dying over here</td>\n",
              "      <td>0</td>\n",
              "      <td>0</td>\n",
              "      <td>0</td>\n",
              "      <td>0</td>\n",
              "      <td>0</td>\n",
              "      <td>0</td>\n",
              "      <td>0</td>\n",
              "      <td>0</td>\n",
              "      <td>0</td>\n",
              "      <td>0</td>\n",
              "      <td>0</td>\n",
              "    </tr>\n",
              "    <tr>\n",
              "      <th>4</th>\n",
              "      <td>5</td>\n",
              "      <td>1</td>\n",
              "      <td>I can't breathe! was chosen as the most notabl...</td>\n",
              "      <td>0</td>\n",
              "      <td>0</td>\n",
              "      <td>0</td>\n",
              "      <td>0</td>\n",
              "      <td>0</td>\n",
              "      <td>0</td>\n",
              "      <td>1</td>\n",
              "      <td>0</td>\n",
              "      <td>0</td>\n",
              "      <td>0</td>\n",
              "      <td>0</td>\n",
              "    </tr>\n",
              "  </tbody>\n",
              "</table>\n",
              "</div>"
            ],
            "text/plain": [
              "   index  irony_label  ... hard_interr  user_tag\n",
              "0      1            1  ...           0         0\n",
              "1      2            1  ...           0         1\n",
              "2      3            1  ...           0         0\n",
              "3      4            0  ...           0         0\n",
              "4      5            1  ...           0         0\n",
              "\n",
              "[5 rows x 14 columns]"
            ]
          },
          "metadata": {
            "tags": []
          },
          "execution_count": 116
        }
      ]
    },
    {
      "cell_type": "code",
      "metadata": {
        "colab": {
          "base_uri": "https://localhost:8080/",
          "height": 111
        },
        "id": "e-Gl8hds6hFs",
        "outputId": "df2ccb81-85b4-4ff3-ba70-c8e17ab52edd"
      },
      "source": [
        "# calculate correlation between the irony labels and the feature\n",
        "# -1 indicates a perfectly negative linear correlation between two variables\n",
        "# 0 indicates no linear correlation between two variables\n",
        "# 1 indicates a perfectly positive linear correlation between two variables\n",
        "df_feat[['irony_label', 'user_tag']].corr()"
      ],
      "execution_count": null,
      "outputs": [
        {
          "output_type": "execute_result",
          "data": {
            "text/html": [
              "<div>\n",
              "<style scoped>\n",
              "    .dataframe tbody tr th:only-of-type {\n",
              "        vertical-align: middle;\n",
              "    }\n",
              "\n",
              "    .dataframe tbody tr th {\n",
              "        vertical-align: top;\n",
              "    }\n",
              "\n",
              "    .dataframe thead th {\n",
              "        text-align: right;\n",
              "    }\n",
              "</style>\n",
              "<table border=\"1\" class=\"dataframe\">\n",
              "  <thead>\n",
              "    <tr style=\"text-align: right;\">\n",
              "      <th></th>\n",
              "      <th>irony_label</th>\n",
              "      <th>user_tag</th>\n",
              "    </tr>\n",
              "  </thead>\n",
              "  <tbody>\n",
              "    <tr>\n",
              "      <th>irony_label</th>\n",
              "      <td>1.000000</td>\n",
              "      <td>-0.122752</td>\n",
              "    </tr>\n",
              "    <tr>\n",
              "      <th>user_tag</th>\n",
              "      <td>-0.122752</td>\n",
              "      <td>1.000000</td>\n",
              "    </tr>\n",
              "  </tbody>\n",
              "</table>\n",
              "</div>"
            ],
            "text/plain": [
              "             irony_label  user_tag\n",
              "irony_label     1.000000 -0.122752\n",
              "user_tag       -0.122752  1.000000"
            ]
          },
          "metadata": {
            "tags": []
          },
          "execution_count": 117
        }
      ]
    },
    {
      "cell_type": "code",
      "metadata": {
        "colab": {
          "base_uri": "https://localhost:8080/"
        },
        "id": "H_2N8Sy06hFt",
        "outputId": "56feb24e-924c-4a0b-a89a-10374ed8842d"
      },
      "source": [
        "# list of 1s and 0s\n",
        "# irony lables of the tweets that DO contain the feature\n",
        "corr_list_tags = []\n",
        "for i in range(len(y_train)):\n",
        "    if tags[i] == 1:\n",
        "        corr_list_tags.append(y_train[i])\n",
        "\n",
        "print(corr_list_tags.count(0))\n",
        "print(corr_list_tags.count(1))"
      ],
      "execution_count": null,
      "outputs": [
        {
          "output_type": "stream",
          "text": [
            "878\n",
            "643\n"
          ],
          "name": "stdout"
        }
      ]
    },
    {
      "cell_type": "code",
      "metadata": {
        "colab": {
          "base_uri": "https://localhost:8080/"
        },
        "id": "bYtBOe5r6hFt",
        "outputId": "b241e022-3e90-4b62-f440-a6d6e7d7bd8f"
      },
      "source": [
        "p_ironic_tag = round(corr_list_tags.count(1)*100/(corr_list_tags.count(0)+corr_list_tags.count(1)),2)\n",
        "\n",
        "print(\"Out of the tweets that contain the feature <user_tag>,\", p_ironic_tag, \"% are ironic\")"
      ],
      "execution_count": null,
      "outputs": [
        {
          "output_type": "stream",
          "text": [
            "Out of the tweets that contain the feature <user_tag>, 42.27 % are ironic\n"
          ],
          "name": "stdout"
        }
      ]
    },
    {
      "cell_type": "code",
      "metadata": {
        "colab": {
          "base_uri": "https://localhost:8080/",
          "height": 830
        },
        "id": "15ZjjsRKFujG",
        "outputId": "ca0981f1-0623-42f3-9ce9-4a21717c3091"
      },
      "source": [
        "# Tweets where both irony label and feature are 1\n",
        "# (ironic tweets that contain feature)\n",
        "df_feat.loc[(df_feat['user_tag'] == 1) & (df_feat['irony_label'] == 1)]"
      ],
      "execution_count": null,
      "outputs": [
        {
          "output_type": "execute_result",
          "data": {
            "text/html": [
              "<div>\n",
              "<style scoped>\n",
              "    .dataframe tbody tr th:only-of-type {\n",
              "        vertical-align: middle;\n",
              "    }\n",
              "\n",
              "    .dataframe tbody tr th {\n",
              "        vertical-align: top;\n",
              "    }\n",
              "\n",
              "    .dataframe thead th {\n",
              "        text-align: right;\n",
              "    }\n",
              "</style>\n",
              "<table border=\"1\" class=\"dataframe\">\n",
              "  <thead>\n",
              "    <tr style=\"text-align: right;\">\n",
              "      <th></th>\n",
              "      <th>index</th>\n",
              "      <th>irony_label</th>\n",
              "      <th>tweet</th>\n",
              "      <th>all_caps</th>\n",
              "      <th>ellipsis</th>\n",
              "      <th>pol_change</th>\n",
              "      <th>laugh</th>\n",
              "      <th>emojis</th>\n",
              "      <th>interjection</th>\n",
              "      <th>exclamation</th>\n",
              "      <th>hard_exclamation</th>\n",
              "      <th>interrogative</th>\n",
              "      <th>hard_interr</th>\n",
              "      <th>user_tag</th>\n",
              "    </tr>\n",
              "  </thead>\n",
              "  <tbody>\n",
              "    <tr>\n",
              "      <th>1</th>\n",
              "      <td>2</td>\n",
              "      <td>1</td>\n",
              "      <td>@mrdahl87 We are rumored to have talked to Erv...</td>\n",
              "      <td>0</td>\n",
              "      <td>1</td>\n",
              "      <td>0</td>\n",
              "      <td>0</td>\n",
              "      <td>0</td>\n",
              "      <td>0</td>\n",
              "      <td>0</td>\n",
              "      <td>0</td>\n",
              "      <td>0</td>\n",
              "      <td>0</td>\n",
              "      <td>1</td>\n",
              "    </tr>\n",
              "    <tr>\n",
              "      <th>18</th>\n",
              "      <td>19</td>\n",
              "      <td>1</td>\n",
              "      <td>@YankeesWFAN @Ken_Rosenthal trading a SP for a...</td>\n",
              "      <td>0</td>\n",
              "      <td>0</td>\n",
              "      <td>0</td>\n",
              "      <td>0</td>\n",
              "      <td>0</td>\n",
              "      <td>0</td>\n",
              "      <td>0</td>\n",
              "      <td>0</td>\n",
              "      <td>1</td>\n",
              "      <td>0</td>\n",
              "      <td>1</td>\n",
              "    </tr>\n",
              "    <tr>\n",
              "      <th>19</th>\n",
              "      <td>20</td>\n",
              "      <td>1</td>\n",
              "      <td>But @DarklightDave was trying to find us, and ...</td>\n",
              "      <td>0</td>\n",
              "      <td>0</td>\n",
              "      <td>0</td>\n",
              "      <td>0</td>\n",
              "      <td>0</td>\n",
              "      <td>0</td>\n",
              "      <td>1</td>\n",
              "      <td>1</td>\n",
              "      <td>1</td>\n",
              "      <td>0</td>\n",
              "      <td>1</td>\n",
              "    </tr>\n",
              "    <tr>\n",
              "      <th>20</th>\n",
              "      <td>21</td>\n",
              "      <td>1</td>\n",
              "      <td>@deputymartinski please do..i need the second ...</td>\n",
              "      <td>0</td>\n",
              "      <td>0</td>\n",
              "      <td>0</td>\n",
              "      <td>0</td>\n",
              "      <td>0</td>\n",
              "      <td>0</td>\n",
              "      <td>0</td>\n",
              "      <td>0</td>\n",
              "      <td>0</td>\n",
              "      <td>0</td>\n",
              "      <td>1</td>\n",
              "    </tr>\n",
              "    <tr>\n",
              "      <th>22</th>\n",
              "      <td>23</td>\n",
              "      <td>1</td>\n",
              "      <td>@yWTorres9 time to hit the books then</td>\n",
              "      <td>0</td>\n",
              "      <td>0</td>\n",
              "      <td>0</td>\n",
              "      <td>0</td>\n",
              "      <td>0</td>\n",
              "      <td>0</td>\n",
              "      <td>0</td>\n",
              "      <td>0</td>\n",
              "      <td>0</td>\n",
              "      <td>0</td>\n",
              "      <td>1</td>\n",
              "    </tr>\n",
              "    <tr>\n",
              "      <th>...</th>\n",
              "      <td>...</td>\n",
              "      <td>...</td>\n",
              "      <td>...</td>\n",
              "      <td>...</td>\n",
              "      <td>...</td>\n",
              "      <td>...</td>\n",
              "      <td>...</td>\n",
              "      <td>...</td>\n",
              "      <td>...</td>\n",
              "      <td>...</td>\n",
              "      <td>...</td>\n",
              "      <td>...</td>\n",
              "      <td>...</td>\n",
              "      <td>...</td>\n",
              "    </tr>\n",
              "    <tr>\n",
              "      <th>3791</th>\n",
              "      <td>3792</td>\n",
              "      <td>1</td>\n",
              "      <td>China calls US hypocritical on #humanrights bu...</td>\n",
              "      <td>0</td>\n",
              "      <td>0</td>\n",
              "      <td>0</td>\n",
              "      <td>0</td>\n",
              "      <td>0</td>\n",
              "      <td>0</td>\n",
              "      <td>0</td>\n",
              "      <td>0</td>\n",
              "      <td>1</td>\n",
              "      <td>0</td>\n",
              "      <td>1</td>\n",
              "    </tr>\n",
              "    <tr>\n",
              "      <th>3793</th>\n",
              "      <td>3794</td>\n",
              "      <td>1</td>\n",
              "      <td>@SouthamptonFC So Monday it is ,tickets on gen...</td>\n",
              "      <td>0</td>\n",
              "      <td>0</td>\n",
              "      <td>0</td>\n",
              "      <td>0</td>\n",
              "      <td>0</td>\n",
              "      <td>0</td>\n",
              "      <td>0</td>\n",
              "      <td>0</td>\n",
              "      <td>0</td>\n",
              "      <td>0</td>\n",
              "      <td>1</td>\n",
              "    </tr>\n",
              "    <tr>\n",
              "      <th>3795</th>\n",
              "      <td>3796</td>\n",
              "      <td>1</td>\n",
              "      <td>@ClayTravisBGID One could hope.</td>\n",
              "      <td>0</td>\n",
              "      <td>0</td>\n",
              "      <td>0</td>\n",
              "      <td>0</td>\n",
              "      <td>0</td>\n",
              "      <td>0</td>\n",
              "      <td>0</td>\n",
              "      <td>0</td>\n",
              "      <td>0</td>\n",
              "      <td>0</td>\n",
              "      <td>1</td>\n",
              "    </tr>\n",
              "    <tr>\n",
              "      <th>3808</th>\n",
              "      <td>3809</td>\n",
              "      <td>1</td>\n",
              "      <td>@BBCRadMac @StuartMaconie years ago in M &amp;&amp; S ...</td>\n",
              "      <td>0</td>\n",
              "      <td>0</td>\n",
              "      <td>0</td>\n",
              "      <td>0</td>\n",
              "      <td>0</td>\n",
              "      <td>0</td>\n",
              "      <td>1</td>\n",
              "      <td>0</td>\n",
              "      <td>0</td>\n",
              "      <td>0</td>\n",
              "      <td>1</td>\n",
              "    </tr>\n",
              "    <tr>\n",
              "      <th>3827</th>\n",
              "      <td>3828</td>\n",
              "      <td>1</td>\n",
              "      <td>@flippysgardenia IKR?! don't you see? he's gon...</td>\n",
              "      <td>0</td>\n",
              "      <td>0</td>\n",
              "      <td>0</td>\n",
              "      <td>0</td>\n",
              "      <td>0</td>\n",
              "      <td>0</td>\n",
              "      <td>1</td>\n",
              "      <td>0</td>\n",
              "      <td>1</td>\n",
              "      <td>0</td>\n",
              "      <td>1</td>\n",
              "    </tr>\n",
              "  </tbody>\n",
              "</table>\n",
              "<p>643 rows × 14 columns</p>\n",
              "</div>"
            ],
            "text/plain": [
              "      index  irony_label  ... hard_interr  user_tag\n",
              "1         2            1  ...           0         1\n",
              "18       19            1  ...           0         1\n",
              "19       20            1  ...           0         1\n",
              "20       21            1  ...           0         1\n",
              "22       23            1  ...           0         1\n",
              "...     ...          ...  ...         ...       ...\n",
              "3791   3792            1  ...           0         1\n",
              "3793   3794            1  ...           0         1\n",
              "3795   3796            1  ...           0         1\n",
              "3808   3809            1  ...           0         1\n",
              "3827   3828            1  ...           0         1\n",
              "\n",
              "[643 rows x 14 columns]"
            ]
          },
          "metadata": {
            "tags": []
          },
          "execution_count": 120
        }
      ]
    },
    {
      "cell_type": "code",
      "metadata": {
        "colab": {
          "base_uri": "https://localhost:8080/"
        },
        "id": "1cAisSCvFujR",
        "outputId": "e10a7966-f759-49f5-a5e0-b175f4dc16ee"
      },
      "source": [
        "num_ironic_tweets_user_tag = len(df_feat.loc[(df_feat['user_tag'] == 1) & \n",
        "                                             (df_feat['irony_label'] == 1)])\n",
        "\n",
        "p_user_tag = round((num_ironic_tweets_user_tag / tot_ironic_tweets * 100), 2)\n",
        "\n",
        "print(\"Ironic tweets contain the feature <user_tag>\", p_user_tag, \"% of the times\")"
      ],
      "execution_count": null,
      "outputs": [
        {
          "output_type": "stream",
          "text": [
            "Ironic tweets contain the feature <user_tag> 33.65 % of the times\n"
          ],
          "name": "stdout"
        }
      ]
    },
    {
      "cell_type": "markdown",
      "metadata": {
        "id": "TjhneC7eSX9X"
      },
      "source": [
        "##Visualise"
      ]
    },
    {
      "cell_type": "code",
      "metadata": {
        "id": "y1lwd1BcR0RX"
      },
      "source": [
        "features = ['all_caps', 'ellipsis', 'pol_change', 'laugh', 'emojis', \n",
        "            'interjection', 'exclamation', 'hard_exclamation', 'interrogative', \n",
        "            'hard_interr', 'user_tag']"
      ],
      "execution_count": null,
      "outputs": []
    },
    {
      "cell_type": "code",
      "metadata": {
        "id": "ZVJ7wrBVTdn2"
      },
      "source": [
        "# Out of the tweets that contain <feature>, <p_ironic_feature>% are ironic\n",
        "p_ironic_feat = [p_ironic_all_caps, p_ironic_ellipsis, p_ironic_pol_change, \n",
        "                 p_ironic_laugh, p_ironic_emojis, p_ironic_interj, \n",
        "                 p_ironic_excl, p_ironic_hard_ex, p_ironic_interr, \n",
        "                 p_ironic_hard_interr, p_ironic_tag]"
      ],
      "execution_count": null,
      "outputs": []
    },
    {
      "cell_type": "code",
      "metadata": {
        "id": "VOaUxVxmUC_m"
      },
      "source": [
        "# Ironic tweets contain <feature> <p_feature>% of the times\n",
        "p_feat = [p_all_caps, p_ellipsis, p_pol_change, p_laugh, p_emojis, p_interj, \n",
        "          p_exclamation, p_hard_ex, p_interr, p_hard_interr, p_user_tag]"
      ],
      "execution_count": null,
      "outputs": []
    },
    {
      "cell_type": "code",
      "metadata": {
        "colab": {
          "base_uri": "https://localhost:8080/"
        },
        "id": "CY9q1jbRUYI2",
        "outputId": "b5d22cb1-dabb-4c36-8fea-62ecf58e01fe"
      },
      "source": [
        "len(p_ironic_feat) == len(p_feat)"
      ],
      "execution_count": null,
      "outputs": [
        {
          "output_type": "execute_result",
          "data": {
            "text/plain": [
              "True"
            ]
          },
          "metadata": {
            "tags": []
          },
          "execution_count": 125
        }
      ]
    },
    {
      "cell_type": "code",
      "metadata": {
        "id": "3YoLHl6XVAH0"
      },
      "source": [
        "my_dict = {'features': features, \n",
        "           '% tweets with feature (base ironic tweet)': p_feat, \n",
        "           '% of tweets with feature (base whole dataset)': p_ironic_feat}"
      ],
      "execution_count": null,
      "outputs": []
    },
    {
      "cell_type": "code",
      "metadata": {
        "colab": {
          "base_uri": "https://localhost:8080/",
          "height": 390
        },
        "id": "Bjl6l72gSSiE",
        "outputId": "d1d939be-ac02-4e10-e427-d07da3f854ec"
      },
      "source": [
        "pd.DataFrame(my_dict)"
      ],
      "execution_count": null,
      "outputs": [
        {
          "output_type": "execute_result",
          "data": {
            "text/html": [
              "<div>\n",
              "<style scoped>\n",
              "    .dataframe tbody tr th:only-of-type {\n",
              "        vertical-align: middle;\n",
              "    }\n",
              "\n",
              "    .dataframe tbody tr th {\n",
              "        vertical-align: top;\n",
              "    }\n",
              "\n",
              "    .dataframe thead th {\n",
              "        text-align: right;\n",
              "    }\n",
              "</style>\n",
              "<table border=\"1\" class=\"dataframe\">\n",
              "  <thead>\n",
              "    <tr style=\"text-align: right;\">\n",
              "      <th></th>\n",
              "      <th>features</th>\n",
              "      <th>% of ironic tweets with feature</th>\n",
              "      <th>% of tweets with feature that are ironic</th>\n",
              "    </tr>\n",
              "  </thead>\n",
              "  <tbody>\n",
              "    <tr>\n",
              "      <th>0</th>\n",
              "      <td>all_caps</td>\n",
              "      <td>0.63</td>\n",
              "      <td>23.08</td>\n",
              "    </tr>\n",
              "    <tr>\n",
              "      <th>1</th>\n",
              "      <td>ellipsis</td>\n",
              "      <td>11.88</td>\n",
              "      <td>46.90</td>\n",
              "    </tr>\n",
              "    <tr>\n",
              "      <th>2</th>\n",
              "      <td>pol_change</td>\n",
              "      <td>14.02</td>\n",
              "      <td>55.03</td>\n",
              "    </tr>\n",
              "    <tr>\n",
              "      <th>3</th>\n",
              "      <td>laugh</td>\n",
              "      <td>3.77</td>\n",
              "      <td>53.73</td>\n",
              "    </tr>\n",
              "    <tr>\n",
              "      <th>4</th>\n",
              "      <td>emojis</td>\n",
              "      <td>9.00</td>\n",
              "      <td>42.89</td>\n",
              "    </tr>\n",
              "    <tr>\n",
              "      <th>5</th>\n",
              "      <td>interjection</td>\n",
              "      <td>1.10</td>\n",
              "      <td>63.64</td>\n",
              "    </tr>\n",
              "    <tr>\n",
              "      <th>6</th>\n",
              "      <td>exclamation</td>\n",
              "      <td>17.27</td>\n",
              "      <td>51.56</td>\n",
              "    </tr>\n",
              "    <tr>\n",
              "      <th>7</th>\n",
              "      <td>hard_exclamation</td>\n",
              "      <td>4.34</td>\n",
              "      <td>54.97</td>\n",
              "    </tr>\n",
              "    <tr>\n",
              "      <th>8</th>\n",
              "      <td>interrogative</td>\n",
              "      <td>9.16</td>\n",
              "      <td>42.48</td>\n",
              "    </tr>\n",
              "    <tr>\n",
              "      <th>9</th>\n",
              "      <td>hard_interr</td>\n",
              "      <td>0.26</td>\n",
              "      <td>45.45</td>\n",
              "    </tr>\n",
              "    <tr>\n",
              "      <th>10</th>\n",
              "      <td>user_tag</td>\n",
              "      <td>33.65</td>\n",
              "      <td>42.27</td>\n",
              "    </tr>\n",
              "  </tbody>\n",
              "</table>\n",
              "</div>"
            ],
            "text/plain": [
              "            features  ...  % of tweets with feature that are ironic\n",
              "0           all_caps  ...                                     23.08\n",
              "1           ellipsis  ...                                     46.90\n",
              "2         pol_change  ...                                     55.03\n",
              "3              laugh  ...                                     53.73\n",
              "4             emojis  ...                                     42.89\n",
              "5       interjection  ...                                     63.64\n",
              "6        exclamation  ...                                     51.56\n",
              "7   hard_exclamation  ...                                     54.97\n",
              "8      interrogative  ...                                     42.48\n",
              "9        hard_interr  ...                                     45.45\n",
              "10          user_tag  ...                                     42.27\n",
              "\n",
              "[11 rows x 3 columns]"
            ]
          },
          "metadata": {
            "tags": []
          },
          "execution_count": 127
        }
      ]
    },
    {
      "cell_type": "code",
      "metadata": {
        "colab": {
          "base_uri": "https://localhost:8080/",
          "height": 472
        },
        "id": "2UKHSzpYmaG5",
        "outputId": "c60e3a10-9324-4472-fb81-fb173cdf73f2"
      },
      "source": [
        "df_feat.corr()"
      ],
      "execution_count": null,
      "outputs": [
        {
          "output_type": "execute_result",
          "data": {
            "text/html": [
              "<div>\n",
              "<style scoped>\n",
              "    .dataframe tbody tr th:only-of-type {\n",
              "        vertical-align: middle;\n",
              "    }\n",
              "\n",
              "    .dataframe tbody tr th {\n",
              "        vertical-align: top;\n",
              "    }\n",
              "\n",
              "    .dataframe thead th {\n",
              "        text-align: right;\n",
              "    }\n",
              "</style>\n",
              "<table border=\"1\" class=\"dataframe\">\n",
              "  <thead>\n",
              "    <tr style=\"text-align: right;\">\n",
              "      <th></th>\n",
              "      <th>index</th>\n",
              "      <th>irony_label</th>\n",
              "      <th>all_caps</th>\n",
              "      <th>ellipsis</th>\n",
              "      <th>pol_change</th>\n",
              "      <th>laugh</th>\n",
              "      <th>emojis</th>\n",
              "      <th>interjection</th>\n",
              "      <th>exclamation</th>\n",
              "      <th>hard_exclamation</th>\n",
              "      <th>interrogative</th>\n",
              "      <th>hard_interr</th>\n",
              "      <th>user_tag</th>\n",
              "    </tr>\n",
              "  </thead>\n",
              "  <tbody>\n",
              "    <tr>\n",
              "      <th>index</th>\n",
              "      <td>1.000000</td>\n",
              "      <td>-0.015885</td>\n",
              "      <td>0.007127</td>\n",
              "      <td>-0.024508</td>\n",
              "      <td>0.005332</td>\n",
              "      <td>-0.002799</td>\n",
              "      <td>-0.005960</td>\n",
              "      <td>-0.017272</td>\n",
              "      <td>-0.011223</td>\n",
              "      <td>-0.011823</td>\n",
              "      <td>-0.007604</td>\n",
              "      <td>0.021420</td>\n",
              "      <td>0.029168</td>\n",
              "    </tr>\n",
              "    <tr>\n",
              "      <th>irony_label</th>\n",
              "      <td>-0.015885</td>\n",
              "      <td>1.000000</td>\n",
              "      <td>-0.062772</td>\n",
              "      <td>-0.022370</td>\n",
              "      <td>0.039574</td>\n",
              "      <td>0.014798</td>\n",
              "      <td>-0.047511</td>\n",
              "      <td>0.025704</td>\n",
              "      <td>0.015390</td>\n",
              "      <td>0.020748</td>\n",
              "      <td>-0.051130</td>\n",
              "      <td>-0.004709</td>\n",
              "      <td>-0.122752</td>\n",
              "    </tr>\n",
              "    <tr>\n",
              "      <th>all_caps</th>\n",
              "      <td>0.007127</td>\n",
              "      <td>-0.062772</td>\n",
              "      <td>1.000000</td>\n",
              "      <td>0.057274</td>\n",
              "      <td>-0.031184</td>\n",
              "      <td>-0.010037</td>\n",
              "      <td>-0.025338</td>\n",
              "      <td>0.013485</td>\n",
              "      <td>-0.016207</td>\n",
              "      <td>-0.000556</td>\n",
              "      <td>-0.018843</td>\n",
              "      <td>0.078028</td>\n",
              "      <td>-0.039774</td>\n",
              "    </tr>\n",
              "    <tr>\n",
              "      <th>ellipsis</th>\n",
              "      <td>-0.024508</td>\n",
              "      <td>-0.022370</td>\n",
              "      <td>0.057274</td>\n",
              "      <td>1.000000</td>\n",
              "      <td>-0.008203</td>\n",
              "      <td>0.017464</td>\n",
              "      <td>0.021500</td>\n",
              "      <td>-0.001410</td>\n",
              "      <td>-0.031153</td>\n",
              "      <td>0.011862</td>\n",
              "      <td>-0.002562</td>\n",
              "      <td>-0.005706</td>\n",
              "      <td>-0.052990</td>\n",
              "    </tr>\n",
              "    <tr>\n",
              "      <th>pol_change</th>\n",
              "      <td>0.005332</td>\n",
              "      <td>0.039574</td>\n",
              "      <td>-0.031184</td>\n",
              "      <td>-0.008203</td>\n",
              "      <td>1.000000</td>\n",
              "      <td>0.046825</td>\n",
              "      <td>0.020641</td>\n",
              "      <td>-0.027063</td>\n",
              "      <td>0.016186</td>\n",
              "      <td>0.007328</td>\n",
              "      <td>0.016862</td>\n",
              "      <td>-0.005817</td>\n",
              "      <td>-0.059559</td>\n",
              "    </tr>\n",
              "    <tr>\n",
              "      <th>laugh</th>\n",
              "      <td>-0.002799</td>\n",
              "      <td>0.014798</td>\n",
              "      <td>-0.010037</td>\n",
              "      <td>0.017464</td>\n",
              "      <td>0.046825</td>\n",
              "      <td>1.000000</td>\n",
              "      <td>0.041697</td>\n",
              "      <td>-0.002358</td>\n",
              "      <td>0.032873</td>\n",
              "      <td>0.063687</td>\n",
              "      <td>-0.001832</td>\n",
              "      <td>-0.010208</td>\n",
              "      <td>0.054694</td>\n",
              "    </tr>\n",
              "    <tr>\n",
              "      <th>emojis</th>\n",
              "      <td>-0.005960</td>\n",
              "      <td>-0.047511</td>\n",
              "      <td>-0.025338</td>\n",
              "      <td>0.021500</td>\n",
              "      <td>0.020641</td>\n",
              "      <td>0.041697</td>\n",
              "      <td>1.000000</td>\n",
              "      <td>0.005061</td>\n",
              "      <td>0.000142</td>\n",
              "      <td>0.040343</td>\n",
              "      <td>-0.063548</td>\n",
              "      <td>-0.002398</td>\n",
              "      <td>-0.068088</td>\n",
              "    </tr>\n",
              "    <tr>\n",
              "      <th>interjection</th>\n",
              "      <td>-0.017272</td>\n",
              "      <td>0.025704</td>\n",
              "      <td>0.013485</td>\n",
              "      <td>-0.001410</td>\n",
              "      <td>-0.027063</td>\n",
              "      <td>-0.002358</td>\n",
              "      <td>0.005061</td>\n",
              "      <td>1.000000</td>\n",
              "      <td>0.026435</td>\n",
              "      <td>-0.004350</td>\n",
              "      <td>-0.004979</td>\n",
              "      <td>-0.004998</td>\n",
              "      <td>0.028329</td>\n",
              "    </tr>\n",
              "    <tr>\n",
              "      <th>exclamation</th>\n",
              "      <td>-0.011223</td>\n",
              "      <td>0.015390</td>\n",
              "      <td>-0.016207</td>\n",
              "      <td>-0.031153</td>\n",
              "      <td>0.016186</td>\n",
              "      <td>0.032873</td>\n",
              "      <td>0.000142</td>\n",
              "      <td>0.026435</td>\n",
              "      <td>1.000000</td>\n",
              "      <td>0.452340</td>\n",
              "      <td>0.005027</td>\n",
              "      <td>0.041372</td>\n",
              "      <td>0.073062</td>\n",
              "    </tr>\n",
              "    <tr>\n",
              "      <th>hard_exclamation</th>\n",
              "      <td>-0.011823</td>\n",
              "      <td>0.020748</td>\n",
              "      <td>-0.000556</td>\n",
              "      <td>0.011862</td>\n",
              "      <td>0.007328</td>\n",
              "      <td>0.063687</td>\n",
              "      <td>0.040343</td>\n",
              "      <td>-0.004350</td>\n",
              "      <td>0.452340</td>\n",
              "      <td>1.000000</td>\n",
              "      <td>-0.009640</td>\n",
              "      <td>0.114492</td>\n",
              "      <td>0.013969</td>\n",
              "    </tr>\n",
              "    <tr>\n",
              "      <th>interrogative</th>\n",
              "      <td>-0.007604</td>\n",
              "      <td>-0.051130</td>\n",
              "      <td>-0.018843</td>\n",
              "      <td>-0.002562</td>\n",
              "      <td>0.016862</td>\n",
              "      <td>-0.001832</td>\n",
              "      <td>-0.063548</td>\n",
              "      <td>-0.004979</td>\n",
              "      <td>0.005027</td>\n",
              "      <td>-0.009640</td>\n",
              "      <td>1.000000</td>\n",
              "      <td>0.154591</td>\n",
              "      <td>0.135232</td>\n",
              "    </tr>\n",
              "    <tr>\n",
              "      <th>hard_interr</th>\n",
              "      <td>0.021420</td>\n",
              "      <td>-0.004709</td>\n",
              "      <td>0.078028</td>\n",
              "      <td>-0.005706</td>\n",
              "      <td>-0.005817</td>\n",
              "      <td>-0.010208</td>\n",
              "      <td>-0.002398</td>\n",
              "      <td>-0.004998</td>\n",
              "      <td>0.041372</td>\n",
              "      <td>0.114492</td>\n",
              "      <td>0.154591</td>\n",
              "      <td>1.000000</td>\n",
              "      <td>-0.003627</td>\n",
              "    </tr>\n",
              "    <tr>\n",
              "      <th>user_tag</th>\n",
              "      <td>0.029168</td>\n",
              "      <td>-0.122752</td>\n",
              "      <td>-0.039774</td>\n",
              "      <td>-0.052990</td>\n",
              "      <td>-0.059559</td>\n",
              "      <td>0.054694</td>\n",
              "      <td>-0.068088</td>\n",
              "      <td>0.028329</td>\n",
              "      <td>0.073062</td>\n",
              "      <td>0.013969</td>\n",
              "      <td>0.135232</td>\n",
              "      <td>-0.003627</td>\n",
              "      <td>1.000000</td>\n",
              "    </tr>\n",
              "  </tbody>\n",
              "</table>\n",
              "</div>"
            ],
            "text/plain": [
              "                     index  irony_label  ...  hard_interr  user_tag\n",
              "index             1.000000    -0.015885  ...     0.021420  0.029168\n",
              "irony_label      -0.015885     1.000000  ...    -0.004709 -0.122752\n",
              "all_caps          0.007127    -0.062772  ...     0.078028 -0.039774\n",
              "ellipsis         -0.024508    -0.022370  ...    -0.005706 -0.052990\n",
              "pol_change        0.005332     0.039574  ...    -0.005817 -0.059559\n",
              "laugh            -0.002799     0.014798  ...    -0.010208  0.054694\n",
              "emojis           -0.005960    -0.047511  ...    -0.002398 -0.068088\n",
              "interjection     -0.017272     0.025704  ...    -0.004998  0.028329\n",
              "exclamation      -0.011223     0.015390  ...     0.041372  0.073062\n",
              "hard_exclamation -0.011823     0.020748  ...     0.114492  0.013969\n",
              "interrogative    -0.007604    -0.051130  ...     0.154591  0.135232\n",
              "hard_interr       0.021420    -0.004709  ...     1.000000 -0.003627\n",
              "user_tag          0.029168    -0.122752  ...    -0.003627  1.000000\n",
              "\n",
              "[13 rows x 13 columns]"
            ]
          },
          "metadata": {
            "tags": []
          },
          "execution_count": 129
        }
      ]
    }
  ]
}